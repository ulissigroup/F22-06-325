{
 "cells": [
  {
   "cell_type": "markdown",
   "id": "adc196e5",
   "metadata": {
    "id": "dzeHYa5GCxN7"
   },
   "source": [
    "`````{note}\n",
    "This project was adapted from a tutorial on Open Catalyst Project Models as part of a ClimateChangeAI tutorial available here:\n",
    "https://colab.research.google.com/drive/1oGZcrakB4Pbj8Xq74lSvcRDUHw9L-Dh5?usp=sharing#scrollTo=FIiwpALzBKaH\n",
    "\n",
    "Prof. Ulissi was one of the authors of that tutorial, and the tutorial was released openly under an MIT license. This modified content is released under the CC-by-4 license in the main repository.\n",
    "\n",
    "Full list of contributing authors to the original tutorial:\n",
    "* [Muhammed Shuaibi](https://mshuaibii.github.io/), CMU, mshuaibi@andrew.cmu.edu\n",
    "* [Abhishek Das](https://abhishekdas.com/), FAIR, abhshkdz@fb.com \n",
    "* [Adeesh Kolluru](https://adeeshkolluru.github.io/), CMU, akolluru@andrew.cmu.edu\n",
    "* [Brandon Wood](https://wood-b.github.io/), NERSC, bwood@lbl.gov \n",
    "* [Janice Lan](https://www.linkedin.com/in/janice-lan), FAIR, janlan@fb.com\n",
    "* [Anuroop Sriram](https://www.linkedin.com/in/anuroopsriram), FAIR, anuroops@fb.com\n",
    "* [Zachary Ulissi](https://ulissigroup.cheme.cmu.edu/), CMU, zulissi@andrew.cmu.edu\n",
    "* [Larry Zitnick](http://larryzitnick.org/), FAIR, zitnick@fb.com\n",
    "`````"
   ]
  },
  {
   "cell_type": "markdown",
   "id": "4e13b752",
   "metadata": {},
   "source": [
    "![OC20 ask](./oc20_tasks.png)"
   ]
  },
  {
   "cell_type": "markdown",
   "id": "a8b1bd9c",
   "metadata": {
    "tags": []
   },
   "source": [
    "# Using ML to Predict Catalyst Properties\n",
    "\n",
    "Prof. Ulissi works on building computational datasets and machine learning models to predict the activity and selectivity of catalysts for various types of reactions. Many of these reactions are for renewable energy applications like hydrogen production, turning CO$_2$ into more valuable products, etc. The underlying simulations use quantum mechanical calculations (like you're learning about in your molecular foundations of ChE course), each of which is very slow. There are now many machine learning models (mostly graph neural networks) that can directly predict properties of these simulations. However, these models work much better for some catalyst surfaces and adsorbates than others, and we want your help in finding out how and when to trust these predictions!\n",
    "\n",
    "\n",
    "`````{note}\n",
    "**Catalyst dataset summary:**\n",
    "* 2 CSV files (val_ID_compositions.csv, val_OOD_cat_compositions.csv)\n",
    "    * val_ID_compositions.csv contains ~25,000 chemical compositions and energies from the OC20 validation split most similar to the training data set. This is probably what you should use for your train/validation splits)\n",
    "    * val_OOD_cat_Compositions.csv contains ~25,000 compositions and energies from a different distribution of catalysts with similar adsorbates but different chemical composition combinations from the above file. For example, CuPt and CuPd combinations might exist in val_id_compositions.csv, but don't exist in val_OOD_cat_compositions.csv. \n",
    "* Each data point contains input features like chemical composition and other information about the surface and adsorbates. It also contains outputs for the actual DFT (simulation) energy, as well as predictions from two different machine learning models. \n",
    "`````\n",
    "\n",
    "## Suggested challenges\n",
    "* Given the bulk composition (chemical elements and their ratios) and the adsorbate composition (number of each type of atoms), predict the the DFT energies\n",
    "* Given the bulk composition (chemical elements and their ratios) and the adsorbate composition (number of each type of atoms), predict the difference between one of ML models and the DFT energies. \n",
    "* Analyze the most important features from above to figure out which elements are hardest or eastiest to fit. \n",
    "\n",
    "````{note}\n",
    "In each case, you should think critically about the question how you want to set up your train/validation/test splits to simulate the challenge. \n",
    "* What do you expect to be correlated?\n",
    "* How would you know if your model is helpful?\n",
    "* Is there any way to cheat at the task? \n",
    "````\n",
    "\n",
    "## Dataset/file format details\n",
    "\n",
    "Two csv files (`val_*.csv`) that together contain ~60,000 DFT energies and predictions using two different types of graph neural networks:       \n",
    "* `arbitrary number` (disregard the first column)\n",
    "* `random_id`: a unique identifier for each simulation structure, useful in the mappings below\n",
    "* `output_DFT_energy`: the ground truth label,  units of [eV]\n",
    "* `output_gemnet_direct`: energies from a fast direct graph neural network model, units of [eV]\n",
    "* `output_gemnet_relaxation`: energies from a slower relaxation graph neural network model, units of [eV]\n",
    "* `input_bulk_mpid` : Materials Project ID of the bulk system used corresponding the the catalyst surface\n",
    "* `input_bulk_symbols`  Chemical composition of the bulk counterpart\n",
    "* `input_ads_symbols`  Chemical composition of the adsorbate counterpart\n",
    "* `input_miller_index`: 3-tuple of integers indicating the Miller indices of the surface\n",
    "* `input_shift`: c-direction shift used to determine cutoff for the surface (c-direction is following the nomenclature from Pymatgen)\n",
    "* `input_top`: boolean indicating whether the chosen surface was at the top or bottom of the originally enumerated surface\n",
    "* `input_class`: integer indicating the class of materials the system's slab is part of, where:\n",
    "    * 0 - intermetallics\n",
    "    * 1 - metalloids\n",
    "    * 2 - non-metals\n",
    "    * 3 - halides\n",
    "* `input_anomaly`: integer indicating possible anomalies (based off general heuristics, not to be taken as perfect classifications), where:\n",
    "    * 0 - no anomaly\n",
    "    * 1 - adsorbate dissociation\n",
    "    * 2 - adsorbate desorption\n",
    "    * 3 - surface reconstruction\n",
    "    * 4 - incorrect CHCOH placement, appears to be CHCO with a lone, uninteracting, H far off in the unit cell\n",
    "\n",
    "## Data availability\n",
    "\n",
    "https://github.com/ulissigroup/F22-06-325/tree/main/f22-06-325/projects/catalysts/data"
   ]
  },
  {
   "cell_type": "markdown",
   "id": "be46fb92",
   "metadata": {
    "id": "13i7KQ9t-CV8"
   },
   "source": [
    "## Background:"
   ]
  },
  {
   "cell_type": "markdown",
   "id": "77513c07",
   "metadata": {
    "id": "JkjKcVJ47hSN",
    "tags": []
   },
   "source": [
    "Scalable and cost-effective solutions to renewable energy storage are essential to addressing the world’s rising energy needs while reducing climate change. As illustrated in the figure below, as we increase our reliance on renewable energy sources such as wind and solar, which produce intermittent power, storage is needed to transfer power from times of peak generation to peak demand. This may require the storage of power for hours, days, or months. One solution that offers the potential of scaling to nation-sized grids is the conversion of renewable energy to other fuels, such as hydrogen. To be widely adopted, this process requires cost-effective solutions to running chemical reactions.\n",
    "\n",
    "An open challenge is finding low-cost catalysts to drive these reactions at high rates. Through the use of quantum mechanical simulations (Density Functional Theory, DFT), new catalyst structures can be tested and evaluated. Unfortunately, the high computational cost of these simulations limits the number of structures that may be tested. The use of AI or machine learning may provide a method to efficiently approximate these calculations; reducing the time required from 24} hours to a second. This capability would transform the search for new catalysts from the present day practice of evaluating O(1,000) of handpicked candidates to the brute force search over millions or even billions of candidates.\n",
    "\n",
    "As part of OCP, we publicly released the world's largest quantum mechanical simulation dataset -- [OC20](https://github.com/Open-Catalyst-Project/ocp/blob/master/DATASET.md) -- in the Fall of 2020 along with a suite of baselines and evaluation metrics. The creation of the dataset required over 70 million hours of compute. This dataset enables the exploration of techniques that will generalize across different catalyst materials and adsorbates. If successful, models trained on the dataset could enable the computational testing of millions of catalyst materials for a wide variety of chemical reactions. However, techniques that achieve the accuracies required** for practical impact are still beyond reach and remain an open area for research, thus encouraging research in this important area to help in meeting the world's energy needs in the decades ahead.\n",
    "\n",
    "** The computational catalysis community often aims for an adsorption energy MAE of 0.1-0.2 eV for practical relevance.\n",
    "\n",
    "![California energy demand](./california_demand.jpg)\n",
    "\n",
    "The discovery of efficient and economic catalysts (materials) are needed to enable the widespread use of renewable energy technologies. A common approach in discovering high performance catalysts is using molecular simulations. Specifically, each simulation models the interaction of a catalyst surface with molecules that are commonly seen in electrochemical reactions. By predicting these interactions accurately, the catalyst's impact on the overall rate of a chemical reaction may be estimated.\n",
    "\n",
    "An important quantity in screening catalysts is their adsorption energy for the molecules, referred to as `adsorbates', involved in the reaction of interest. The adsorption energy may be found by simulating the interaction of the adsorbate molecule on the surface of the catalyst to find their resting or relaxed energy, i.e., how tightly the adsorbate binds to the catalyst's surface (visualized below). The rate of the chemical reaction, a value of high practical importance, is then commonly approximated using simple functions of the adsorption energy. The goal of this tutorial specifically and the project overall is to encourage research and benchmark progress towards training ML models to approximate this relaxation.\n",
    "\n",
    "Specifically, during the course of a relaxation, given an initial set of atoms and their positions, the task is to iteratively estimate atomic forces and update atomic positions until a relaxed state is reached. The energy corresponding to the relaxed state is the structure's 'relaxed energy'. The relaxed energy is very useful for predicting the activity of a catalyst surface!\n",
    "\n",
    "`````{seealso}\n",
    "To gain an even better understanding of the Open Catalyst Project and the problems it seeks to address, you can read the following resources:\n",
    "* Open Catalyst codebase: https://github.com/Open-Catalyst-Project/ocp/\n",
    "* Open Catalyst webpage: https://opencatalystproject.org/\n",
    "* [Electrocatalysis white paper](https://arxiv.org/pdf/2010.09435.pdf): C. Lawrence Zitnick, Lowik Chanussot, Abhishek Das, Siddharth Goyal, Javier Heras-Domingo, Caleb Ho, Weihua Hu, Thibaut Lavril, Aini Palizhati, Morgane Riviere, Muhammed Shuaibi, Anuroop Sriram, Kevin Tran, Brandon Wood, Junwoong Yoon, Devi Parikh, Zachary Ulissi: “An Introduction to Electrocatalyst Design using Machine Learning for Renewable Energy Storage”, 2020; arXiv:2010.09435.\n",
    "* [OC20 dataset paper](https://arxiv.org/pdf/2010.09990.pdf): L. Chanussot, A. Das, S. Goyal, T. Lavril, M. Shuaibi, M. Riviere, K. Tran, J. Heras-Domingo, C. Ho, W. Hu, A. Palizhati, A. Sriram, B. Wood, J. Yoon, D. Parikh, C. L. Zitnick, and Z. Ulissi. The Open Catalyst 2020 (oc20) dataset and community challenges. ACS Catalysis, 2021.\n",
    "* [Gemnet model:](https://arxiv.org/abs/2106.08903) Johannes Klicpera, Florian Becker, and Stephan Günnemann. Gemnet: Universal directional graph neural networks for molecules, 2021.\n",
    "`````"
   ]
  },
  {
   "cell_type": "markdown",
   "id": "ab87cfcc",
   "metadata": {},
   "source": [
    "## Hints and possible approaches"
   ]
  },
  {
   "cell_type": "markdown",
   "id": "393e35e2",
   "metadata": {},
   "source": [
    "## Example Model"
   ]
  },
  {
   "cell_type": "markdown",
   "id": "43be3211",
   "metadata": {},
   "source": [
    "First, let's load the data using pandas and see what's in it!"
   ]
  },
  {
   "cell_type": "code",
   "execution_count": 1,
   "id": "7b2059f4",
   "metadata": {},
   "outputs": [
    {
     "data": {
      "text/html": [
       "<div>\n",
       "<style scoped>\n",
       "    .dataframe tbody tr th:only-of-type {\n",
       "        vertical-align: middle;\n",
       "    }\n",
       "\n",
       "    .dataframe tbody tr th {\n",
       "        vertical-align: top;\n",
       "    }\n",
       "\n",
       "    .dataframe thead th {\n",
       "        text-align: right;\n",
       "    }\n",
       "</style>\n",
       "<table border=\"1\" class=\"dataframe\">\n",
       "  <thead>\n",
       "    <tr style=\"text-align: right;\">\n",
       "      <th></th>\n",
       "      <th>Unnamed: 0</th>\n",
       "      <th>random_id</th>\n",
       "      <th>DFT_energy</th>\n",
       "      <th>output_gemnet_direct</th>\n",
       "      <th>output_gemnet_relaxation</th>\n",
       "      <th>input_bulk_mpid</th>\n",
       "      <th>input_bulk_symbols</th>\n",
       "      <th>input_ads_symbols</th>\n",
       "      <th>input_miller_index</th>\n",
       "      <th>input_shift</th>\n",
       "      <th>input_top</th>\n",
       "      <th>input_class</th>\n",
       "      <th>input_anomaly</th>\n",
       "    </tr>\n",
       "  </thead>\n",
       "  <tbody>\n",
       "    <tr>\n",
       "      <th>0</th>\n",
       "      <td>0</td>\n",
       "      <td>random1700380</td>\n",
       "      <td>-0.401909</td>\n",
       "      <td>-0.752441</td>\n",
       "      <td>-0.288818</td>\n",
       "      <td>mp-990232</td>\n",
       "      <td>MnAu4</td>\n",
       "      <td>*NHNH</td>\n",
       "      <td>(1, 0, 0)</td>\n",
       "      <td>0.051</td>\n",
       "      <td>True</td>\n",
       "      <td>0</td>\n",
       "      <td>0</td>\n",
       "    </tr>\n",
       "    <tr>\n",
       "      <th>1</th>\n",
       "      <td>1</td>\n",
       "      <td>random2320054</td>\n",
       "      <td>-3.992470</td>\n",
       "      <td>-4.183594</td>\n",
       "      <td>-4.175781</td>\n",
       "      <td>mp-1215213</td>\n",
       "      <td>ZrTaCr4</td>\n",
       "      <td>*CH2CH3</td>\n",
       "      <td>(1, 1, 0)</td>\n",
       "      <td>0.063</td>\n",
       "      <td>False</td>\n",
       "      <td>0</td>\n",
       "      <td>0</td>\n",
       "    </tr>\n",
       "    <tr>\n",
       "      <th>2</th>\n",
       "      <td>2</td>\n",
       "      <td>random662687</td>\n",
       "      <td>0.920258</td>\n",
       "      <td>0.885742</td>\n",
       "      <td>-4.375000</td>\n",
       "      <td>mp-1216946</td>\n",
       "      <td>Ti4Mn4Cr4</td>\n",
       "      <td>*OHNH2</td>\n",
       "      <td>(1, 0, 0)</td>\n",
       "      <td>0.123</td>\n",
       "      <td>True</td>\n",
       "      <td>0</td>\n",
       "      <td>0</td>\n",
       "    </tr>\n",
       "    <tr>\n",
       "      <th>4</th>\n",
       "      <td>4</td>\n",
       "      <td>random1507405</td>\n",
       "      <td>-0.051427</td>\n",
       "      <td>-0.170898</td>\n",
       "      <td>-0.117676</td>\n",
       "      <td>mp-1215529</td>\n",
       "      <td>ZnCu3</td>\n",
       "      <td>*OH</td>\n",
       "      <td>(2, 1, -2)</td>\n",
       "      <td>0.084</td>\n",
       "      <td>True</td>\n",
       "      <td>0</td>\n",
       "      <td>0</td>\n",
       "    </tr>\n",
       "    <tr>\n",
       "      <th>5</th>\n",
       "      <td>5</td>\n",
       "      <td>random886089</td>\n",
       "      <td>-0.449791</td>\n",
       "      <td>-0.464844</td>\n",
       "      <td>-0.573242</td>\n",
       "      <td>mp-1094140</td>\n",
       "      <td>Mn2Ge4</td>\n",
       "      <td>*COHCH2OH</td>\n",
       "      <td>(2, 1, 0)</td>\n",
       "      <td>0.020</td>\n",
       "      <td>False</td>\n",
       "      <td>1</td>\n",
       "      <td>0</td>\n",
       "    </tr>\n",
       "    <tr>\n",
       "      <th>...</th>\n",
       "      <td>...</td>\n",
       "      <td>...</td>\n",
       "      <td>...</td>\n",
       "      <td>...</td>\n",
       "      <td>...</td>\n",
       "      <td>...</td>\n",
       "      <td>...</td>\n",
       "      <td>...</td>\n",
       "      <td>...</td>\n",
       "      <td>...</td>\n",
       "      <td>...</td>\n",
       "      <td>...</td>\n",
       "      <td>...</td>\n",
       "    </tr>\n",
       "    <tr>\n",
       "      <th>24932</th>\n",
       "      <td>24932</td>\n",
       "      <td>random1517480</td>\n",
       "      <td>-0.281488</td>\n",
       "      <td>-0.250977</td>\n",
       "      <td>-0.283447</td>\n",
       "      <td>mp-11445</td>\n",
       "      <td>Ti2Ga4Y</td>\n",
       "      <td>*N2</td>\n",
       "      <td>(2, 1, 0)</td>\n",
       "      <td>0.048</td>\n",
       "      <td>False</td>\n",
       "      <td>0</td>\n",
       "      <td>0</td>\n",
       "    </tr>\n",
       "    <tr>\n",
       "      <th>24933</th>\n",
       "      <td>24933</td>\n",
       "      <td>random2249470</td>\n",
       "      <td>-4.604939</td>\n",
       "      <td>-4.667969</td>\n",
       "      <td>-4.585938</td>\n",
       "      <td>mp-30572</td>\n",
       "      <td>Ga2Hf4</td>\n",
       "      <td>*COCH2O</td>\n",
       "      <td>(1, 1, 2)</td>\n",
       "      <td>0.000</td>\n",
       "      <td>True</td>\n",
       "      <td>0</td>\n",
       "      <td>0</td>\n",
       "    </tr>\n",
       "    <tr>\n",
       "      <th>24936</th>\n",
       "      <td>24936</td>\n",
       "      <td>random1460094</td>\n",
       "      <td>-3.683650</td>\n",
       "      <td>-3.271484</td>\n",
       "      <td>-3.548828</td>\n",
       "      <td>mp-607138</td>\n",
       "      <td>Sc20Bi12</td>\n",
       "      <td>*O</td>\n",
       "      <td>(0, 2, 1)</td>\n",
       "      <td>0.010</td>\n",
       "      <td>True</td>\n",
       "      <td>0</td>\n",
       "      <td>0</td>\n",
       "    </tr>\n",
       "    <tr>\n",
       "      <th>24939</th>\n",
       "      <td>24939</td>\n",
       "      <td>random1471951</td>\n",
       "      <td>-1.612726</td>\n",
       "      <td>-1.057617</td>\n",
       "      <td>-1.650391</td>\n",
       "      <td>mp-1017531</td>\n",
       "      <td>V2Pt2</td>\n",
       "      <td>*CH2*O</td>\n",
       "      <td>(2, 1, 1)</td>\n",
       "      <td>0.500</td>\n",
       "      <td>True</td>\n",
       "      <td>0</td>\n",
       "      <td>0</td>\n",
       "    </tr>\n",
       "    <tr>\n",
       "      <th>24940</th>\n",
       "      <td>24940</td>\n",
       "      <td>random471031</td>\n",
       "      <td>1.814543</td>\n",
       "      <td>1.827148</td>\n",
       "      <td>1.822266</td>\n",
       "      <td>mp-2363</td>\n",
       "      <td>Mo4Hf2</td>\n",
       "      <td>*ONNH2</td>\n",
       "      <td>(1, 1, 1)</td>\n",
       "      <td>0.021</td>\n",
       "      <td>True</td>\n",
       "      <td>0</td>\n",
       "      <td>0</td>\n",
       "    </tr>\n",
       "  </tbody>\n",
       "</table>\n",
       "<p>16848 rows × 13 columns</p>\n",
       "</div>"
      ],
      "text/plain": [
       "       Unnamed: 0      random_id  DFT_energy  output_gemnet_direct  \\\n",
       "0               0  random1700380   -0.401909             -0.752441   \n",
       "1               1  random2320054   -3.992470             -4.183594   \n",
       "2               2   random662687    0.920258              0.885742   \n",
       "4               4  random1507405   -0.051427             -0.170898   \n",
       "5               5   random886089   -0.449791             -0.464844   \n",
       "...           ...            ...         ...                   ...   \n",
       "24932       24932  random1517480   -0.281488             -0.250977   \n",
       "24933       24933  random2249470   -4.604939             -4.667969   \n",
       "24936       24936  random1460094   -3.683650             -3.271484   \n",
       "24939       24939  random1471951   -1.612726             -1.057617   \n",
       "24940       24940   random471031    1.814543              1.827148   \n",
       "\n",
       "       output_gemnet_relaxation input_bulk_mpid input_bulk_symbols  \\\n",
       "0                     -0.288818       mp-990232              MnAu4   \n",
       "1                     -4.175781      mp-1215213            ZrTaCr4   \n",
       "2                     -4.375000      mp-1216946          Ti4Mn4Cr4   \n",
       "4                     -0.117676      mp-1215529              ZnCu3   \n",
       "5                     -0.573242      mp-1094140             Mn2Ge4   \n",
       "...                         ...             ...                ...   \n",
       "24932                 -0.283447        mp-11445            Ti2Ga4Y   \n",
       "24933                 -4.585938        mp-30572             Ga2Hf4   \n",
       "24936                 -3.548828       mp-607138           Sc20Bi12   \n",
       "24939                 -1.650391      mp-1017531              V2Pt2   \n",
       "24940                  1.822266         mp-2363             Mo4Hf2   \n",
       "\n",
       "      input_ads_symbols input_miller_index  input_shift  input_top  \\\n",
       "0                 *NHNH          (1, 0, 0)        0.051       True   \n",
       "1               *CH2CH3          (1, 1, 0)        0.063      False   \n",
       "2                *OHNH2          (1, 0, 0)        0.123       True   \n",
       "4                   *OH         (2, 1, -2)        0.084       True   \n",
       "5             *COHCH2OH          (2, 1, 0)        0.020      False   \n",
       "...                 ...                ...          ...        ...   \n",
       "24932               *N2          (2, 1, 0)        0.048      False   \n",
       "24933           *COCH2O          (1, 1, 2)        0.000       True   \n",
       "24936                *O          (0, 2, 1)        0.010       True   \n",
       "24939            *CH2*O          (2, 1, 1)        0.500       True   \n",
       "24940            *ONNH2          (1, 1, 1)        0.021       True   \n",
       "\n",
       "       input_class  input_anomaly  \n",
       "0                0              0  \n",
       "1                0              0  \n",
       "2                0              0  \n",
       "4                0              0  \n",
       "5                1              0  \n",
       "...            ...            ...  \n",
       "24932            0              0  \n",
       "24933            0              0  \n",
       "24936            0              0  \n",
       "24939            0              0  \n",
       "24940            0              0  \n",
       "\n",
       "[16848 rows x 13 columns]"
      ]
     },
     "execution_count": 1,
     "metadata": {},
     "output_type": "execute_result"
    }
   ],
   "source": [
    "import pandas as pd\n",
    "\n",
    "df = pd.read_csv(\"data/val_ID_compositions.csv\").dropna()\n",
    "df"
   ]
  },
  {
   "cell_type": "markdown",
   "id": "7b161106",
   "metadata": {},
   "source": [
    "These formats are not very helpful. Let's try calculating the ratio of each element (one column for each unique element in the dataset)"
   ]
  },
  {
   "cell_type": "code",
   "execution_count": 2,
   "id": "afb9bc55",
   "metadata": {},
   "outputs": [
    {
     "data": {
      "text/html": [
       "<div>\n",
       "<style scoped>\n",
       "    .dataframe tbody tr th:only-of-type {\n",
       "        vertical-align: middle;\n",
       "    }\n",
       "\n",
       "    .dataframe tbody tr th {\n",
       "        vertical-align: top;\n",
       "    }\n",
       "\n",
       "    .dataframe thead th {\n",
       "        text-align: right;\n",
       "    }\n",
       "</style>\n",
       "<table border=\"1\" class=\"dataframe\">\n",
       "  <thead>\n",
       "    <tr style=\"text-align: right;\">\n",
       "      <th></th>\n",
       "      <th>Mn</th>\n",
       "      <th>Au</th>\n",
       "      <th>Zr</th>\n",
       "      <th>Ta</th>\n",
       "      <th>Cr</th>\n",
       "      <th>Ti</th>\n",
       "      <th>Zn</th>\n",
       "      <th>Cu</th>\n",
       "      <th>Ge</th>\n",
       "      <th>Sn</th>\n",
       "      <th>...</th>\n",
       "      <th>N</th>\n",
       "      <th>Sb</th>\n",
       "      <th>Rb</th>\n",
       "      <th>Bi</th>\n",
       "      <th>C</th>\n",
       "      <th>Hg</th>\n",
       "      <th>Re</th>\n",
       "      <th>H</th>\n",
       "      <th>Cs</th>\n",
       "      <th>B</th>\n",
       "    </tr>\n",
       "  </thead>\n",
       "  <tbody>\n",
       "    <tr>\n",
       "      <th>0</th>\n",
       "      <td>0.200000</td>\n",
       "      <td>0.8</td>\n",
       "      <td>0.000000</td>\n",
       "      <td>0.000000</td>\n",
       "      <td>0.000000</td>\n",
       "      <td>0.000000</td>\n",
       "      <td>0.00</td>\n",
       "      <td>0.00</td>\n",
       "      <td>0.000000</td>\n",
       "      <td>0.0</td>\n",
       "      <td>...</td>\n",
       "      <td>0.0</td>\n",
       "      <td>0.0</td>\n",
       "      <td>0.0</td>\n",
       "      <td>0.000</td>\n",
       "      <td>0.0</td>\n",
       "      <td>0.0</td>\n",
       "      <td>0.0</td>\n",
       "      <td>0.0</td>\n",
       "      <td>0.0</td>\n",
       "      <td>0.0</td>\n",
       "    </tr>\n",
       "    <tr>\n",
       "      <th>1</th>\n",
       "      <td>0.000000</td>\n",
       "      <td>0.0</td>\n",
       "      <td>0.166667</td>\n",
       "      <td>0.166667</td>\n",
       "      <td>0.666667</td>\n",
       "      <td>0.000000</td>\n",
       "      <td>0.00</td>\n",
       "      <td>0.00</td>\n",
       "      <td>0.000000</td>\n",
       "      <td>0.0</td>\n",
       "      <td>...</td>\n",
       "      <td>0.0</td>\n",
       "      <td>0.0</td>\n",
       "      <td>0.0</td>\n",
       "      <td>0.000</td>\n",
       "      <td>0.0</td>\n",
       "      <td>0.0</td>\n",
       "      <td>0.0</td>\n",
       "      <td>0.0</td>\n",
       "      <td>0.0</td>\n",
       "      <td>0.0</td>\n",
       "    </tr>\n",
       "    <tr>\n",
       "      <th>2</th>\n",
       "      <td>0.333333</td>\n",
       "      <td>0.0</td>\n",
       "      <td>0.000000</td>\n",
       "      <td>0.000000</td>\n",
       "      <td>0.333333</td>\n",
       "      <td>0.333333</td>\n",
       "      <td>0.00</td>\n",
       "      <td>0.00</td>\n",
       "      <td>0.000000</td>\n",
       "      <td>0.0</td>\n",
       "      <td>...</td>\n",
       "      <td>0.0</td>\n",
       "      <td>0.0</td>\n",
       "      <td>0.0</td>\n",
       "      <td>0.000</td>\n",
       "      <td>0.0</td>\n",
       "      <td>0.0</td>\n",
       "      <td>0.0</td>\n",
       "      <td>0.0</td>\n",
       "      <td>0.0</td>\n",
       "      <td>0.0</td>\n",
       "    </tr>\n",
       "    <tr>\n",
       "      <th>4</th>\n",
       "      <td>0.000000</td>\n",
       "      <td>0.0</td>\n",
       "      <td>0.000000</td>\n",
       "      <td>0.000000</td>\n",
       "      <td>0.000000</td>\n",
       "      <td>0.000000</td>\n",
       "      <td>0.25</td>\n",
       "      <td>0.75</td>\n",
       "      <td>0.000000</td>\n",
       "      <td>0.0</td>\n",
       "      <td>...</td>\n",
       "      <td>0.0</td>\n",
       "      <td>0.0</td>\n",
       "      <td>0.0</td>\n",
       "      <td>0.000</td>\n",
       "      <td>0.0</td>\n",
       "      <td>0.0</td>\n",
       "      <td>0.0</td>\n",
       "      <td>0.0</td>\n",
       "      <td>0.0</td>\n",
       "      <td>0.0</td>\n",
       "    </tr>\n",
       "    <tr>\n",
       "      <th>5</th>\n",
       "      <td>0.333333</td>\n",
       "      <td>0.0</td>\n",
       "      <td>0.000000</td>\n",
       "      <td>0.000000</td>\n",
       "      <td>0.000000</td>\n",
       "      <td>0.000000</td>\n",
       "      <td>0.00</td>\n",
       "      <td>0.00</td>\n",
       "      <td>0.666667</td>\n",
       "      <td>0.0</td>\n",
       "      <td>...</td>\n",
       "      <td>0.0</td>\n",
       "      <td>0.0</td>\n",
       "      <td>0.0</td>\n",
       "      <td>0.000</td>\n",
       "      <td>0.0</td>\n",
       "      <td>0.0</td>\n",
       "      <td>0.0</td>\n",
       "      <td>0.0</td>\n",
       "      <td>0.0</td>\n",
       "      <td>0.0</td>\n",
       "    </tr>\n",
       "    <tr>\n",
       "      <th>...</th>\n",
       "      <td>...</td>\n",
       "      <td>...</td>\n",
       "      <td>...</td>\n",
       "      <td>...</td>\n",
       "      <td>...</td>\n",
       "      <td>...</td>\n",
       "      <td>...</td>\n",
       "      <td>...</td>\n",
       "      <td>...</td>\n",
       "      <td>...</td>\n",
       "      <td>...</td>\n",
       "      <td>...</td>\n",
       "      <td>...</td>\n",
       "      <td>...</td>\n",
       "      <td>...</td>\n",
       "      <td>...</td>\n",
       "      <td>...</td>\n",
       "      <td>...</td>\n",
       "      <td>...</td>\n",
       "      <td>...</td>\n",
       "      <td>...</td>\n",
       "    </tr>\n",
       "    <tr>\n",
       "      <th>24932</th>\n",
       "      <td>0.000000</td>\n",
       "      <td>0.0</td>\n",
       "      <td>0.000000</td>\n",
       "      <td>0.000000</td>\n",
       "      <td>0.000000</td>\n",
       "      <td>0.285714</td>\n",
       "      <td>0.00</td>\n",
       "      <td>0.00</td>\n",
       "      <td>0.000000</td>\n",
       "      <td>0.0</td>\n",
       "      <td>...</td>\n",
       "      <td>0.0</td>\n",
       "      <td>0.0</td>\n",
       "      <td>0.0</td>\n",
       "      <td>0.000</td>\n",
       "      <td>0.0</td>\n",
       "      <td>0.0</td>\n",
       "      <td>0.0</td>\n",
       "      <td>0.0</td>\n",
       "      <td>0.0</td>\n",
       "      <td>0.0</td>\n",
       "    </tr>\n",
       "    <tr>\n",
       "      <th>24933</th>\n",
       "      <td>0.000000</td>\n",
       "      <td>0.0</td>\n",
       "      <td>0.000000</td>\n",
       "      <td>0.000000</td>\n",
       "      <td>0.000000</td>\n",
       "      <td>0.000000</td>\n",
       "      <td>0.00</td>\n",
       "      <td>0.00</td>\n",
       "      <td>0.000000</td>\n",
       "      <td>0.0</td>\n",
       "      <td>...</td>\n",
       "      <td>0.0</td>\n",
       "      <td>0.0</td>\n",
       "      <td>0.0</td>\n",
       "      <td>0.000</td>\n",
       "      <td>0.0</td>\n",
       "      <td>0.0</td>\n",
       "      <td>0.0</td>\n",
       "      <td>0.0</td>\n",
       "      <td>0.0</td>\n",
       "      <td>0.0</td>\n",
       "    </tr>\n",
       "    <tr>\n",
       "      <th>24936</th>\n",
       "      <td>0.000000</td>\n",
       "      <td>0.0</td>\n",
       "      <td>0.000000</td>\n",
       "      <td>0.000000</td>\n",
       "      <td>0.000000</td>\n",
       "      <td>0.000000</td>\n",
       "      <td>0.00</td>\n",
       "      <td>0.00</td>\n",
       "      <td>0.000000</td>\n",
       "      <td>0.0</td>\n",
       "      <td>...</td>\n",
       "      <td>0.0</td>\n",
       "      <td>0.0</td>\n",
       "      <td>0.0</td>\n",
       "      <td>0.375</td>\n",
       "      <td>0.0</td>\n",
       "      <td>0.0</td>\n",
       "      <td>0.0</td>\n",
       "      <td>0.0</td>\n",
       "      <td>0.0</td>\n",
       "      <td>0.0</td>\n",
       "    </tr>\n",
       "    <tr>\n",
       "      <th>24939</th>\n",
       "      <td>0.000000</td>\n",
       "      <td>0.0</td>\n",
       "      <td>0.000000</td>\n",
       "      <td>0.000000</td>\n",
       "      <td>0.000000</td>\n",
       "      <td>0.000000</td>\n",
       "      <td>0.00</td>\n",
       "      <td>0.00</td>\n",
       "      <td>0.000000</td>\n",
       "      <td>0.0</td>\n",
       "      <td>...</td>\n",
       "      <td>0.0</td>\n",
       "      <td>0.0</td>\n",
       "      <td>0.0</td>\n",
       "      <td>0.000</td>\n",
       "      <td>0.0</td>\n",
       "      <td>0.0</td>\n",
       "      <td>0.0</td>\n",
       "      <td>0.0</td>\n",
       "      <td>0.0</td>\n",
       "      <td>0.0</td>\n",
       "    </tr>\n",
       "    <tr>\n",
       "      <th>24940</th>\n",
       "      <td>0.000000</td>\n",
       "      <td>0.0</td>\n",
       "      <td>0.000000</td>\n",
       "      <td>0.000000</td>\n",
       "      <td>0.000000</td>\n",
       "      <td>0.000000</td>\n",
       "      <td>0.00</td>\n",
       "      <td>0.00</td>\n",
       "      <td>0.000000</td>\n",
       "      <td>0.0</td>\n",
       "      <td>...</td>\n",
       "      <td>0.0</td>\n",
       "      <td>0.0</td>\n",
       "      <td>0.0</td>\n",
       "      <td>0.000</td>\n",
       "      <td>0.0</td>\n",
       "      <td>0.0</td>\n",
       "      <td>0.0</td>\n",
       "      <td>0.0</td>\n",
       "      <td>0.0</td>\n",
       "      <td>0.0</td>\n",
       "    </tr>\n",
       "  </tbody>\n",
       "</table>\n",
       "<p>16848 rows × 55 columns</p>\n",
       "</div>"
      ],
      "text/plain": [
       "             Mn   Au        Zr        Ta        Cr        Ti    Zn    Cu  \\\n",
       "0      0.200000  0.8  0.000000  0.000000  0.000000  0.000000  0.00  0.00   \n",
       "1      0.000000  0.0  0.166667  0.166667  0.666667  0.000000  0.00  0.00   \n",
       "2      0.333333  0.0  0.000000  0.000000  0.333333  0.333333  0.00  0.00   \n",
       "4      0.000000  0.0  0.000000  0.000000  0.000000  0.000000  0.25  0.75   \n",
       "5      0.333333  0.0  0.000000  0.000000  0.000000  0.000000  0.00  0.00   \n",
       "...         ...  ...       ...       ...       ...       ...   ...   ...   \n",
       "24932  0.000000  0.0  0.000000  0.000000  0.000000  0.285714  0.00  0.00   \n",
       "24933  0.000000  0.0  0.000000  0.000000  0.000000  0.000000  0.00  0.00   \n",
       "24936  0.000000  0.0  0.000000  0.000000  0.000000  0.000000  0.00  0.00   \n",
       "24939  0.000000  0.0  0.000000  0.000000  0.000000  0.000000  0.00  0.00   \n",
       "24940  0.000000  0.0  0.000000  0.000000  0.000000  0.000000  0.00  0.00   \n",
       "\n",
       "             Ge   Sn  ...    N   Sb   Rb     Bi    C   Hg   Re    H   Cs    B  \n",
       "0      0.000000  0.0  ...  0.0  0.0  0.0  0.000  0.0  0.0  0.0  0.0  0.0  0.0  \n",
       "1      0.000000  0.0  ...  0.0  0.0  0.0  0.000  0.0  0.0  0.0  0.0  0.0  0.0  \n",
       "2      0.000000  0.0  ...  0.0  0.0  0.0  0.000  0.0  0.0  0.0  0.0  0.0  0.0  \n",
       "4      0.000000  0.0  ...  0.0  0.0  0.0  0.000  0.0  0.0  0.0  0.0  0.0  0.0  \n",
       "5      0.666667  0.0  ...  0.0  0.0  0.0  0.000  0.0  0.0  0.0  0.0  0.0  0.0  \n",
       "...         ...  ...  ...  ...  ...  ...    ...  ...  ...  ...  ...  ...  ...  \n",
       "24932  0.000000  0.0  ...  0.0  0.0  0.0  0.000  0.0  0.0  0.0  0.0  0.0  0.0  \n",
       "24933  0.000000  0.0  ...  0.0  0.0  0.0  0.000  0.0  0.0  0.0  0.0  0.0  0.0  \n",
       "24936  0.000000  0.0  ...  0.0  0.0  0.0  0.375  0.0  0.0  0.0  0.0  0.0  0.0  \n",
       "24939  0.000000  0.0  ...  0.0  0.0  0.0  0.000  0.0  0.0  0.0  0.0  0.0  0.0  \n",
       "24940  0.000000  0.0  ...  0.0  0.0  0.0  0.000  0.0  0.0  0.0  0.0  0.0  0.0  \n",
       "\n",
       "[16848 rows x 55 columns]"
      ]
     },
     "execution_count": 2,
     "metadata": {},
     "output_type": "execute_result"
    }
   ],
   "source": [
    "import re\n",
    "\n",
    "\n",
    "def composition_to_elements(composition):\n",
    "    # Helper function to convert a composition like MnAu4 to a\n",
    "    # dictionary like {'Mn': 1, 'Au': 4}\n",
    "    elements = {}\n",
    "    for k, v in re.findall(r\"([A-Z][a-z]*)(\\d*)\", composition):\n",
    "        if v == \"\":\n",
    "            v = 1\n",
    "        if k in elements:\n",
    "            elements[k] += int(v)\n",
    "        else:\n",
    "            elements[k] = int(v)\n",
    "    return elements\n",
    "\n",
    "\n",
    "bulk_element_counts = (\n",
    "    df[\"input_bulk_symbols\"].apply(composition_to_elements).apply(pd.Series).fillna(0)\n",
    ")\n",
    "bulk_element_ratios = bulk_element_counts.div(bulk_element_counts.sum(axis=1), axis=0)\n",
    "bulk_element_ratios"
   ]
  },
  {
   "cell_type": "markdown",
   "id": "bf5b8fb9",
   "metadata": {},
   "source": [
    "Let's do the same thing for the elements in the adsorbate (the small molecule sitting on the surface"
   ]
  },
  {
   "cell_type": "code",
   "execution_count": 3,
   "id": "7e670381",
   "metadata": {},
   "outputs": [
    {
     "data": {
      "text/html": [
       "<div>\n",
       "<style scoped>\n",
       "    .dataframe tbody tr th:only-of-type {\n",
       "        vertical-align: middle;\n",
       "    }\n",
       "\n",
       "    .dataframe tbody tr th {\n",
       "        vertical-align: top;\n",
       "    }\n",
       "\n",
       "    .dataframe thead th {\n",
       "        text-align: right;\n",
       "    }\n",
       "</style>\n",
       "<table border=\"1\" class=\"dataframe\">\n",
       "  <thead>\n",
       "    <tr style=\"text-align: right;\">\n",
       "      <th></th>\n",
       "      <th>N</th>\n",
       "      <th>H</th>\n",
       "      <th>C</th>\n",
       "      <th>O</th>\n",
       "    </tr>\n",
       "  </thead>\n",
       "  <tbody>\n",
       "    <tr>\n",
       "      <th>0</th>\n",
       "      <td>2.0</td>\n",
       "      <td>2.0</td>\n",
       "      <td>0.0</td>\n",
       "      <td>0.0</td>\n",
       "    </tr>\n",
       "    <tr>\n",
       "      <th>1</th>\n",
       "      <td>0.0</td>\n",
       "      <td>5.0</td>\n",
       "      <td>2.0</td>\n",
       "      <td>0.0</td>\n",
       "    </tr>\n",
       "    <tr>\n",
       "      <th>2</th>\n",
       "      <td>1.0</td>\n",
       "      <td>3.0</td>\n",
       "      <td>0.0</td>\n",
       "      <td>1.0</td>\n",
       "    </tr>\n",
       "    <tr>\n",
       "      <th>4</th>\n",
       "      <td>0.0</td>\n",
       "      <td>1.0</td>\n",
       "      <td>0.0</td>\n",
       "      <td>1.0</td>\n",
       "    </tr>\n",
       "    <tr>\n",
       "      <th>5</th>\n",
       "      <td>0.0</td>\n",
       "      <td>4.0</td>\n",
       "      <td>2.0</td>\n",
       "      <td>2.0</td>\n",
       "    </tr>\n",
       "    <tr>\n",
       "      <th>...</th>\n",
       "      <td>...</td>\n",
       "      <td>...</td>\n",
       "      <td>...</td>\n",
       "      <td>...</td>\n",
       "    </tr>\n",
       "    <tr>\n",
       "      <th>24932</th>\n",
       "      <td>2.0</td>\n",
       "      <td>0.0</td>\n",
       "      <td>0.0</td>\n",
       "      <td>0.0</td>\n",
       "    </tr>\n",
       "    <tr>\n",
       "      <th>24933</th>\n",
       "      <td>0.0</td>\n",
       "      <td>2.0</td>\n",
       "      <td>2.0</td>\n",
       "      <td>2.0</td>\n",
       "    </tr>\n",
       "    <tr>\n",
       "      <th>24936</th>\n",
       "      <td>0.0</td>\n",
       "      <td>0.0</td>\n",
       "      <td>0.0</td>\n",
       "      <td>1.0</td>\n",
       "    </tr>\n",
       "    <tr>\n",
       "      <th>24939</th>\n",
       "      <td>0.0</td>\n",
       "      <td>2.0</td>\n",
       "      <td>1.0</td>\n",
       "      <td>1.0</td>\n",
       "    </tr>\n",
       "    <tr>\n",
       "      <th>24940</th>\n",
       "      <td>2.0</td>\n",
       "      <td>2.0</td>\n",
       "      <td>0.0</td>\n",
       "      <td>1.0</td>\n",
       "    </tr>\n",
       "  </tbody>\n",
       "</table>\n",
       "<p>16848 rows × 4 columns</p>\n",
       "</div>"
      ],
      "text/plain": [
       "         N    H    C    O\n",
       "0      2.0  2.0  0.0  0.0\n",
       "1      0.0  5.0  2.0  0.0\n",
       "2      1.0  3.0  0.0  1.0\n",
       "4      0.0  1.0  0.0  1.0\n",
       "5      0.0  4.0  2.0  2.0\n",
       "...    ...  ...  ...  ...\n",
       "24932  2.0  0.0  0.0  0.0\n",
       "24933  0.0  2.0  2.0  2.0\n",
       "24936  0.0  0.0  0.0  1.0\n",
       "24939  0.0  2.0  1.0  1.0\n",
       "24940  2.0  2.0  0.0  1.0\n",
       "\n",
       "[16848 rows x 4 columns]"
      ]
     },
     "execution_count": 3,
     "metadata": {},
     "output_type": "execute_result"
    }
   ],
   "source": [
    "adsorbate_element_counts = (\n",
    "    df[\"input_ads_symbols\"].apply(composition_to_elements).apply(pd.Series).fillna(0)\n",
    ")\n",
    "adsorbate_element_counts"
   ]
  },
  {
   "cell_type": "markdown",
   "id": "de031302",
   "metadata": {},
   "source": [
    "As an example, let's construct a full feature matrix by stacking the bulk element ratios and the adsorbate elements counts into one big vector. For the regression target, we'll choose the absolute error between the relaxation machine learning model and the DFT energies. \n",
    "\n",
    "Basically, we're trying to see if we can build a model that can predict when the complicated (gemnet) model will fail based on the composition of the adsorbate and the bulk material!"
   ]
  },
  {
   "cell_type": "code",
   "execution_count": 4,
   "id": "536a0636",
   "metadata": {},
   "outputs": [],
   "source": [
    "from sklearn.model_selection import train_test_split\n",
    "import numpy as np\n",
    "\n",
    "X_train, X_val, y_train, y_val = train_test_split(\n",
    "    np.hstack((bulk_element_ratios.values, adsorbate_element_counts.values)),\n",
    "    df[\"DFT_energy\"].values,\n",
    ")"
   ]
  },
  {
   "cell_type": "markdown",
   "id": "9df75c28",
   "metadata": {},
   "source": [
    "Finally, let's try a random forest model (one of many many possible models that we could try!). We'll fit it and plot the predictions for the validation data."
   ]
  },
  {
   "cell_type": "code",
   "execution_count": 5,
   "id": "5c09d021",
   "metadata": {
    "tags": []
   },
   "outputs": [
    {
     "name": "stderr",
     "output_type": "stream",
     "text": [
      "/opt/conda/lib/python3.9/site-packages/seaborn/_decorators.py:36: FutureWarning: Pass the following variable as a keyword arg: y. From version 0.12, the only valid positional argument will be `data`, and passing other arguments without an explicit keyword will result in an error or misinterpretation.\n",
      "  warnings.warn(\n"
     ]
    },
    {
     "data": {
      "image/png": "[encoded data removed]",
      "text/plain": [
       "<Figure size 432x288 with 1 Axes>"
      ]
     },
     "metadata": {
      "filenames": {
       "image/png": "/__w/F22-06-325/F22-06-325/f22-06-325/_build/jupyter_execute/projects/catalysts/catalyst_simulation_16_1.png"
      },
      "needs_background": "light"
     },
     "output_type": "display_data"
    },
    {
     "name": "stdout",
     "output_type": "stream",
     "text": [
      "The mean absolute error is 0.96 eV\n"
     ]
    }
   ],
   "source": [
    "import matplotlib.pyplot as plt\n",
    "import numpy as np\n",
    "import seaborn as sns\n",
    "from sklearn.ensemble import RandomForestRegressor\n",
    "\n",
    "# Build a random forest regressor and fit it to the training data\n",
    "regr = RandomForestRegressor(max_depth=20, random_state=0)\n",
    "regr.fit(X_train, y_train)\n",
    "\n",
    "# Plot predictions for val as a kdeplot\n",
    "sns.kdeplot(\n",
    "    y_val,\n",
    "    regr.predict(X_val),\n",
    "    fill=True,\n",
    ")\n",
    "\n",
    "# Add a parity line and x/y axis labels\n",
    "plt.plot([np.min(y_val), np.max(y_val)], [np.min(y_val), np.max(y_val)], \"k--\")\n",
    "plt.axis(\"square\")\n",
    "plt.xlabel(\"Actual DFT Energy [eV]\")\n",
    "plt.ylabel(\"Predicted DFT Energy [eV]\")\n",
    "plt.show()\n",
    "\n",
    "from sklearn.metrics import mean_absolute_error\n",
    "print(f'The mean absolute error is {mean_absolute_error(y_val, regr.predict(X_val)):.2f} eV')"
   ]
  },
  {
   "cell_type": "markdown",
   "id": "3f4fcbb1",
   "metadata": {},
   "source": [
    "This model works ok for predicting the DFT energies. There are many things you could try:\n",
    "* Different models\n",
    "* Predicting the difference between the expensive ML models and the DFT values (see challenges above)\n",
    "* Other ways of featurizing the data (especially the bulk compositions)\n",
    "* Building separate models for each adsorbate type\n",
    "* ..."
   ]
  },
  {
   "cell_type": "markdown",
   "id": "4b8e15e2",
   "metadata": {
    "id": "jXoiLncsU3pe",
    "jp-MarkdownHeadingCollapsed": true,
    "tags": []
   },
   "source": [
    "````{note}\n",
    "The below information is not necessary for the project, but helps to explain the original dataset and the type of simulations and energies that are being calculated\n",
    "\n",
    "````\n",
    "\n",
    "## Dataset Overview and Details about Calculations\n",
    "\n",
    "\n",
    "\n",
    "The Open Catalyst 2020 Dataset (OC20) will be used throughout this tutorial. More details can be found [here](https://github.com/Open-Catalyst-Project/ocp/blob/master/DATASET.md) and the corresponding [paper](https://arxiv.org/abs/2010.09990). Data is stored in PyTorch Geometric [Data](https://pytorch-geometric.readthedocs.io/en/latest/modules/data.html) objects and stored in LMDB files. For each task we include several sized training splits. Validation/Test splits are broken into several subsplits: In Domain (ID), Out of Domain Adsorbate (OOD-Ads), Out of Domain Catalyast (OOD-Cat) and Out of Domain Adsorbate and Catalyst (OOD-Both). Split sizes are summarized below:\n",
    "\n",
    "Train\n",
    "* S2EF - 200k, 2M, 20M, 134M(All)\n",
    "* IS2RE/IS2RS - 10k, 100k, 460k(All)\n",
    "\n",
    "Val/Test\n",
    "* S2EF - ~1M across all subsplits\n",
    "* IS2RE/IS2RS - ~25k across all splits\n",
    "\n",
    "\n",
    "![OC20](./OC20.jpg)"
   ]
  },
  {
   "cell_type": "markdown",
   "id": "37d504f3",
   "metadata": {
    "id": "bSt6h_Q-oqjK"
   },
   "source": [
    "## Data Visualization <a name=\"visual\"></a>"
   ]
  },
  {
   "cell_type": "code",
   "execution_count": 6,
   "id": "6ca21bbc",
   "metadata": {
    "id": "HodnfJpE8D0u"
   },
   "outputs": [],
   "source": [
    "import matplotlib\n",
    "\n",
    "matplotlib.use(\"Agg\")\n",
    "\n",
    "import os\n",
    "\n",
    "import matplotlib.pyplot as plt\n",
    "import numpy as np\n",
    "\n",
    "%matplotlib inline\n",
    "\n",
    "params = {\n",
    "    \"axes.labelsize\": 14,\n",
    "    \"font.size\": 14,\n",
    "    \"font.family\": \" DejaVu Sans\",\n",
    "    \"legend.fontsize\": 20,\n",
    "    \"xtick.labelsize\": 20,\n",
    "    \"ytick.labelsize\": 20,\n",
    "    \"axes.labelsize\": 25,\n",
    "    \"axes.titlesize\": 25,\n",
    "    \"text.usetex\": False,\n",
    "    \"figure.figsize\": [12, 12],\n",
    "}\n",
    "matplotlib.rcParams.update(params)\n",
    "\n",
    "\n",
    "import ase.io\n",
    "from ase import Atoms\n",
    "from ase.build import add_adsorbate, fcc100, molecule\n",
    "from ase.calculators.emt import EMT\n",
    "from ase.constraints import FixAtoms\n",
    "from ase.io import extxyz\n",
    "from ase.io.trajectory import Trajectory\n",
    "from ase.optimize import LBFGS\n",
    "from ase.visualize.plot import plot_atoms\n",
    "from IPython.display import Image"
   ]
  },
  {
   "cell_type": "markdown",
   "id": "aa419c36",
   "metadata": {
    "id": "VRR5C88U8mH1"
   },
   "source": [
    "### Understanding the data\n",
    "We use the Atomic Simulation Environment (ASE) library to interact with our data. This notebook will provide you with some intuition on how atomic data is generated, how the data is structured, how to visualize the data, and the specific properties that are passed on to our models."
   ]
  },
  {
   "cell_type": "markdown",
   "id": "c1bcefe4",
   "metadata": {
    "id": "hEDcCSGD86Hg"
   },
   "source": [
    "### Generating sample data\n",
    "\n",
    "The OC20 dataset was generated using density functional theory (DFT), a quantum chemistry method for modeling atomistic environments. For more details, please see our dataset paper.  In this notebook, we generate sample data in the same format as the OC20 dataset; however, we use a faster method that is less accurate called effective-medium theory (EMT) because our DFT calculations are too computationally expensive to run here. EMT is great for demonstration purposes but not accurate enough for our actual catalysis applications. Below is a structural relaxation of a catalyst system, a propane (C3H8) adsorbate on a copper (Cu) surface. Throughout this tutorial a surface may be referred to as a slab and the combination of an adsorbate and a surface as an adslab."
   ]
  },
  {
   "cell_type": "markdown",
   "id": "d24fe9b9",
   "metadata": {
    "id": "y6Hx8JtXEbW-"
   },
   "source": [
    "### Structural relaxations\n",
    "\n",
    "A structural relaxation or structure optimization is the process of iteratively updating atom positions to find the atom positions that minimize the energy of the structure. Standard optimization methods are used in structural relaxations — below we use the Limited-Memory Broyden–Fletcher–Goldfarb–Shanno (LBFGS) algorithm. The step number, time, energy, and force max are printed at each optimization step. Each step is considered one example because it provides all the information we need to train models for the S2EF task and the entire set of steps is referred to as a trajectory. Visualizing intermediate structures or viewing the entire trajectory can be illuminating to understand what is physically happening and to look for problems in the simulation, especially when we run ML-driven relaxations. Common problems one may look out for - atoms excessively overlapping/colliding with each other and atoms flying off into random directions."
   ]
  },
  {
   "cell_type": "code",
   "execution_count": 7,
   "id": "2ef23ef5",
   "metadata": {
    "colab": {
     "base_uri": "https://localhost:8080/"
    },
    "id": "GEpQz9In9GrX",
    "outputId": "96cd7bc8-2877-4b35-e133-80a10ad81b61"
   },
   "outputs": [
    {
     "name": "stdout",
     "output_type": "stream",
     "text": [
      "       Step     Time          Energy         fmax\n",
      "*Force-consistent energies used in optimization.\n",
      "LBFGS:    0 11:32:35       15.804700*       6.7764\n"
     ]
    },
    {
     "name": "stdout",
     "output_type": "stream",
     "text": [
      "LBFGS:    1 11:32:35       12.190607*       4.3232\n"
     ]
    },
    {
     "name": "stdout",
     "output_type": "stream",
     "text": [
      "LBFGS:    2 11:32:35       10.240169*       2.2655\n"
     ]
    },
    {
     "name": "stdout",
     "output_type": "stream",
     "text": [
      "LBFGS:    3 11:32:35        9.779223*       0.9372\n"
     ]
    },
    {
     "name": "stdout",
     "output_type": "stream",
     "text": [
      "LBFGS:    4 11:32:35        9.671525*       0.7702\n"
     ]
    },
    {
     "name": "stdout",
     "output_type": "stream",
     "text": [
      "LBFGS:    5 11:32:35        9.574461*       0.6635\n"
     ]
    },
    {
     "name": "stdout",
     "output_type": "stream",
     "text": [
      "LBFGS:    6 11:32:35        9.537502*       0.5718\n"
     ]
    },
    {
     "name": "stdout",
     "output_type": "stream",
     "text": [
      "LBFGS:    7 11:32:35        9.516673*       0.4466\n"
     ]
    },
    {
     "name": "stdout",
     "output_type": "stream",
     "text": [
      "LBFGS:    8 11:32:35        9.481330*       0.4611\n"
     ]
    },
    {
     "name": "stdout",
     "output_type": "stream",
     "text": [
      "LBFGS:    9 11:32:35        9.462255*       0.2931\n"
     ]
    },
    {
     "name": "stdout",
     "output_type": "stream",
     "text": [
      "LBFGS:   10 11:32:35        9.448937*       0.2490\n"
     ]
    },
    {
     "name": "stdout",
     "output_type": "stream",
     "text": [
      "LBFGS:   11 11:32:35        9.433813*       0.2371\n"
     ]
    },
    {
     "name": "stdout",
     "output_type": "stream",
     "text": [
      "LBFGS:   12 11:32:35        9.418884*       0.2602\n"
     ]
    },
    {
     "name": "stdout",
     "output_type": "stream",
     "text": [
      "LBFGS:   13 11:32:35        9.409649*       0.2532\n"
     ]
    },
    {
     "name": "stdout",
     "output_type": "stream",
     "text": [
      "LBFGS:   14 11:32:35        9.404838*       0.1624\n"
     ]
    },
    {
     "name": "stdout",
     "output_type": "stream",
     "text": [
      "LBFGS:   15 11:32:35        9.401753*       0.1823\n"
     ]
    },
    {
     "name": "stdout",
     "output_type": "stream",
     "text": [
      "LBFGS:   16 11:32:35        9.397314*       0.2592\n"
     ]
    },
    {
     "name": "stdout",
     "output_type": "stream",
     "text": [
      "LBFGS:   17 11:32:35        9.387947*       0.3450\n"
     ]
    },
    {
     "name": "stdout",
     "output_type": "stream",
     "text": [
      "LBFGS:   18 11:32:35        9.370825*       0.4070\n"
     ]
    },
    {
     "name": "stdout",
     "output_type": "stream",
     "text": [
      "LBFGS:   19 11:32:35        9.342222*       0.4333\n"
     ]
    },
    {
     "name": "stdout",
     "output_type": "stream",
     "text": [
      "LBFGS:   20 11:32:35        9.286822*       0.5002\n"
     ]
    },
    {
     "name": "stdout",
     "output_type": "stream",
     "text": [
      "LBFGS:   21 11:32:36        9.249910*       0.5241\n"
     ]
    },
    {
     "name": "stdout",
     "output_type": "stream",
     "text": [
      "LBFGS:   22 11:32:36        9.187179*       0.5120\n"
     ]
    },
    {
     "name": "stdout",
     "output_type": "stream",
     "text": [
      "LBFGS:   23 11:32:36        9.124811*       0.5718\n"
     ]
    },
    {
     "name": "stdout",
     "output_type": "stream",
     "text": [
      "LBFGS:   24 11:32:36        9.066185*       0.5409\n"
     ]
    },
    {
     "name": "stdout",
     "output_type": "stream",
     "text": [
      "LBFGS:   25 11:32:36        9.000116*       1.0798\n"
     ]
    },
    {
     "name": "stdout",
     "output_type": "stream",
     "text": [
      "LBFGS:   26 11:32:36        8.893632*       0.7528\n"
     ]
    },
    {
     "name": "stdout",
     "output_type": "stream",
     "text": [
      "LBFGS:   27 11:32:36        8.845939*       0.3321\n"
     ]
    },
    {
     "name": "stdout",
     "output_type": "stream",
     "text": [
      "LBFGS:   28 11:32:36        8.815173*       0.2512\n"
     ]
    },
    {
     "name": "stdout",
     "output_type": "stream",
     "text": [
      "LBFGS:   29 11:32:36        8.808721*       0.2143\n"
     ]
    },
    {
     "name": "stdout",
     "output_type": "stream",
     "text": [
      "LBFGS:   30 11:32:36        8.794643*       0.1546\n"
     ]
    },
    {
     "name": "stdout",
     "output_type": "stream",
     "text": [
      "LBFGS:   31 11:32:36        8.789162*       0.2014\n"
     ]
    },
    {
     "name": "stdout",
     "output_type": "stream",
     "text": [
      "LBFGS:   32 11:32:36        8.782320*       0.1755\n"
     ]
    },
    {
     "name": "stdout",
     "output_type": "stream",
     "text": [
      "LBFGS:   33 11:32:36        8.780394*       0.1037\n"
     ]
    },
    {
     "name": "stdout",
     "output_type": "stream",
     "text": [
      "LBFGS:   34 11:32:36        8.778410*       0.1076\n"
     ]
    },
    {
     "name": "stdout",
     "output_type": "stream",
     "text": [
      "LBFGS:   35 11:32:36        8.775079*       0.1797\n"
     ]
    },
    {
     "name": "stdout",
     "output_type": "stream",
     "text": [
      "LBFGS:   36 11:32:36        8.766987*       0.3334\n"
     ]
    },
    {
     "name": "stdout",
     "output_type": "stream",
     "text": [
      "LBFGS:   37 11:32:36        8.750249*       0.5307\n"
     ]
    },
    {
     "name": "stdout",
     "output_type": "stream",
     "text": [
      "LBFGS:   38 11:32:36        8.725928*       0.6851\n"
     ]
    },
    {
     "name": "stdout",
     "output_type": "stream",
     "text": [
      "LBFGS:   39 11:32:36        8.702312*       0.5823\n"
     ]
    },
    {
     "name": "stdout",
     "output_type": "stream",
     "text": [
      "LBFGS:   40 11:32:36        8.661515*       0.3996\n"
     ]
    },
    {
     "name": "stdout",
     "output_type": "stream",
     "text": [
      "LBFGS:   41 11:32:37        8.643432*       0.5585\n"
     ]
    },
    {
     "name": "stdout",
     "output_type": "stream",
     "text": [
      "LBFGS:   42 11:32:37        8.621201*       0.3673\n"
     ]
    },
    {
     "name": "stdout",
     "output_type": "stream",
     "text": [
      "LBFGS:   43 11:32:37        8.614414*       0.1394\n"
     ]
    },
    {
     "name": "stdout",
     "output_type": "stream",
     "text": [
      "LBFGS:   44 11:32:37        8.610785*       0.1372\n"
     ]
    },
    {
     "name": "stdout",
     "output_type": "stream",
     "text": [
      "LBFGS:   45 11:32:37        8.608134*       0.1464\n"
     ]
    },
    {
     "name": "stdout",
     "output_type": "stream",
     "text": [
      "LBFGS:   46 11:32:37        8.604928*       0.1196\n"
     ]
    },
    {
     "name": "stdout",
     "output_type": "stream",
     "text": [
      "LBFGS:   47 11:32:37        8.599151*       0.1354\n"
     ]
    },
    {
     "name": "stdout",
     "output_type": "stream",
     "text": [
      "LBFGS:   48 11:32:37        8.594063*       0.1479\n"
     ]
    },
    {
     "name": "stdout",
     "output_type": "stream",
     "text": [
      "LBFGS:   49 11:32:37        8.589493*       0.1538\n"
     ]
    },
    {
     "name": "stdout",
     "output_type": "stream",
     "text": [
      "LBFGS:   50 11:32:37        8.587274*       0.0885\n"
     ]
    },
    {
     "name": "stdout",
     "output_type": "stream",
     "text": [
      "LBFGS:   51 11:32:37        8.584633*       0.0938\n"
     ]
    },
    {
     "name": "stdout",
     "output_type": "stream",
     "text": [
      "LBFGS:   52 11:32:37        8.580239*       0.1409\n"
     ]
    },
    {
     "name": "stdout",
     "output_type": "stream",
     "text": [
      "LBFGS:   53 11:32:37        8.572938*       0.2543\n"
     ]
    },
    {
     "name": "stdout",
     "output_type": "stream",
     "text": [
      "LBFGS:   54 11:32:37        8.563343*       0.2919\n"
     ]
    },
    {
     "name": "stdout",
     "output_type": "stream",
     "text": [
      "LBFGS:   55 11:32:37        8.554117*       0.1966\n"
     ]
    },
    {
     "name": "stdout",
     "output_type": "stream",
     "text": [
      "LBFGS:   56 11:32:37        8.547597*       0.1291\n"
     ]
    },
    {
     "name": "stdout",
     "output_type": "stream",
     "text": [
      "LBFGS:   57 11:32:37        8.542086*       0.1280\n"
     ]
    },
    {
     "name": "stdout",
     "output_type": "stream",
     "text": [
      "LBFGS:   58 11:32:37        8.535432*       0.0982\n"
     ]
    },
    {
     "name": "stdout",
     "output_type": "stream",
     "text": [
      "LBFGS:   59 11:32:37        8.533622*       0.1277\n"
     ]
    },
    {
     "name": "stdout",
     "output_type": "stream",
     "text": [
      "LBFGS:   60 11:32:37        8.527487*       0.1167\n"
     ]
    },
    {
     "name": "stdout",
     "output_type": "stream",
     "text": [
      "LBFGS:   61 11:32:38        8.523863*       0.1218\n"
     ]
    },
    {
     "name": "stdout",
     "output_type": "stream",
     "text": [
      "LBFGS:   62 11:32:38        8.519229*       0.1305\n"
     ]
    },
    {
     "name": "stdout",
     "output_type": "stream",
     "text": [
      "LBFGS:   63 11:32:38        8.515424*       0.1019\n"
     ]
    },
    {
     "name": "stdout",
     "output_type": "stream",
     "text": [
      "LBFGS:   64 11:32:38        8.511240*       0.2122\n"
     ]
    },
    {
     "name": "stdout",
     "output_type": "stream",
     "text": [
      "LBFGS:   65 11:32:38        8.507967*       0.2666\n"
     ]
    },
    {
     "name": "stdout",
     "output_type": "stream",
     "text": [
      "LBFGS:   66 11:32:38        8.503903*       0.2377\n"
     ]
    },
    {
     "name": "stdout",
     "output_type": "stream",
     "text": [
      "LBFGS:   67 11:32:38        8.497575*       0.1623\n"
     ]
    },
    {
     "name": "stdout",
     "output_type": "stream",
     "text": [
      "LBFGS:   68 11:32:38        8.485434*       0.2022\n"
     ]
    },
    {
     "name": "stdout",
     "output_type": "stream",
     "text": [
      "LBFGS:   69 11:32:38        8.466738*       0.2159\n"
     ]
    },
    {
     "name": "stdout",
     "output_type": "stream",
     "text": [
      "LBFGS:   70 11:32:38        8.467607*       0.3348\n"
     ]
    },
    {
     "name": "stdout",
     "output_type": "stream",
     "text": [
      "LBFGS:   71 11:32:38        8.454037*       0.1063\n"
     ]
    },
    {
     "name": "stdout",
     "output_type": "stream",
     "text": [
      "LBFGS:   72 11:32:38        8.448980*       0.1197\n"
     ]
    },
    {
     "name": "stdout",
     "output_type": "stream",
     "text": [
      "LBFGS:   73 11:32:38        8.446550*       0.0992\n"
     ]
    },
    {
     "name": "stdout",
     "output_type": "stream",
     "text": [
      "LBFGS:   74 11:32:38        8.444705*       0.0562\n"
     ]
    },
    {
     "name": "stdout",
     "output_type": "stream",
     "text": [
      "LBFGS:   75 11:32:38        8.443403*       0.0388\n"
     ]
    },
    {
     "name": "stdout",
     "output_type": "stream",
     "text": [
      "LBFGS:   76 11:32:38        8.442646*       0.0548\n"
     ]
    },
    {
     "name": "stdout",
     "output_type": "stream",
     "text": [
      "LBFGS:   77 11:32:38        8.442114*       0.0614\n"
     ]
    },
    {
     "name": "stdout",
     "output_type": "stream",
     "text": [
      "LBFGS:   78 11:32:38        8.440960*       0.0588\n"
     ]
    },
    {
     "name": "stdout",
     "output_type": "stream",
     "text": [
      "LBFGS:   79 11:32:38        8.439820*       0.0482\n"
     ]
    },
    {
     "name": "stdout",
     "output_type": "stream",
     "text": [
      "LBFGS:   80 11:32:38        8.438600*       0.0513\n"
     ]
    },
    {
     "name": "stdout",
     "output_type": "stream",
     "text": [
      "LBFGS:   81 11:32:39        8.437429*       0.0541\n"
     ]
    },
    {
     "name": "stdout",
     "output_type": "stream",
     "text": [
      "LBFGS:   82 11:32:39        8.435695*       0.0672\n"
     ]
    },
    {
     "name": "stdout",
     "output_type": "stream",
     "text": [
      "LBFGS:   83 11:32:39        8.431957*       0.0857\n"
     ]
    },
    {
     "name": "stdout",
     "output_type": "stream",
     "text": [
      "LBFGS:   84 11:32:39        8.423485*       0.1332\n"
     ]
    },
    {
     "name": "stdout",
     "output_type": "stream",
     "text": [
      "LBFGS:   85 11:32:39        8.413846*       0.2078\n"
     ]
    },
    {
     "name": "stdout",
     "output_type": "stream",
     "text": [
      "LBFGS:   86 11:32:39        8.404849*       0.1787\n"
     ]
    },
    {
     "name": "stdout",
     "output_type": "stream",
     "text": [
      "LBFGS:   87 11:32:39        8.385339*       0.1690\n"
     ]
    },
    {
     "name": "stdout",
     "output_type": "stream",
     "text": [
      "LBFGS:   88 11:32:39        8.386849*       0.1876\n"
     ]
    },
    {
     "name": "stdout",
     "output_type": "stream",
     "text": [
      "LBFGS:   89 11:32:39        8.371078*       0.1181\n"
     ]
    },
    {
     "name": "stdout",
     "output_type": "stream",
     "text": [
      "LBFGS:   90 11:32:39        8.368801*       0.0942\n"
     ]
    },
    {
     "name": "stdout",
     "output_type": "stream",
     "text": [
      "LBFGS:   91 11:32:39        8.366226*       0.0670\n"
     ]
    },
    {
     "name": "stdout",
     "output_type": "stream",
     "text": [
      "LBFGS:   92 11:32:39        8.361680*       0.0550\n"
     ]
    },
    {
     "name": "stdout",
     "output_type": "stream",
     "text": [
      "LBFGS:   93 11:32:39        8.360631*       0.0473\n"
     ]
    },
    {
     "name": "stdout",
     "output_type": "stream",
     "text": [
      "LBFGS:   94 11:32:39        8.359692*       0.0242\n"
     ]
    },
    {
     "name": "stdout",
     "output_type": "stream",
     "text": [
      "LBFGS:   95 11:32:39        8.359361*       0.0155\n"
     ]
    },
    {
     "name": "stdout",
     "output_type": "stream",
     "text": [
      "LBFGS:   96 11:32:39        8.359163*       0.0143\n"
     ]
    },
    {
     "name": "stdout",
     "output_type": "stream",
     "text": [
      "LBFGS:   97 11:32:39        8.359102*       0.0156\n"
     ]
    },
    {
     "name": "stdout",
     "output_type": "stream",
     "text": [
      "LBFGS:   98 11:32:39        8.359048*       0.0155\n"
     ]
    },
    {
     "name": "stdout",
     "output_type": "stream",
     "text": [
      "LBFGS:   99 11:32:39        8.358986*       0.0142\n"
     ]
    },
    {
     "name": "stdout",
     "output_type": "stream",
     "text": [
      "LBFGS:  100 11:32:40        8.358921*       0.0132\n"
     ]
    },
    {
     "name": "stderr",
     "output_type": "stream",
     "text": [
      "/opt/conda/lib/python3.9/site-packages/ase/io/extxyz.py:302: UserWarning: Skipping unhashable information adsorbate_info\n",
      "  warnings.warn('Skipping unhashable information '\n"
     ]
    }
   ],
   "source": [
    "###DATA GENERATION - FEEL FREE TO SKIP###\n",
    "\n",
    "# This cell sets up and runs a structural relaxation\n",
    "# of a propane (C3H8) adsorbate on a copper (Cu) surface\n",
    "\n",
    "adslab = fcc100(\"Cu\", size=(3, 3, 3))\n",
    "adsorbate = molecule(\"C3H8\")\n",
    "add_adsorbate(adslab, adsorbate, 3, offset=(1, 1))  # adslab = adsorbate + slab\n",
    "\n",
    "# tag all slab atoms below surface as 0, surface as 1, adsorbate as 2\n",
    "tags = np.zeros(len(adslab))\n",
    "tags[18:27] = 1\n",
    "tags[27:] = 2\n",
    "\n",
    "adslab.set_tags(tags)\n",
    "\n",
    "# Fixed atoms are prevented from moving during a structure relaxation.\n",
    "# We fix all slab atoms beneath the surface.\n",
    "cons = FixAtoms(indices=[atom.index for atom in adslab if (atom.tag == 0)])\n",
    "adslab.set_constraint(cons)\n",
    "adslab.center(vacuum=13.0, axis=2)\n",
    "adslab.set_pbc(True)\n",
    "adslab.set_calculator(EMT())\n",
    "\n",
    "os.makedirs(\"data\", exist_ok=True)\n",
    "\n",
    "# Define structure optimizer - LBFGS. Run for 100 steps,\n",
    "# or if the max force on all atoms (fmax) is below 0 ev/A.\n",
    "# fmax is typically set to 0.01-0.05 eV/A,\n",
    "# for this demo however we run for the full 100 steps.\n",
    "\n",
    "dyn = LBFGS(adslab, trajectory=\"data/toy_c3h8_relax.traj\")\n",
    "dyn.run(fmax=0, steps=100)\n",
    "\n",
    "traj = ase.io.read(\"data/toy_c3h8_relax.traj\", \":\")\n",
    "\n",
    "# convert traj format to extxyz format (used by OC20 dataset)\n",
    "columns = [\"symbols\", \"positions\", \"move_mask\", \"tags\"]\n",
    "with open(\"data/toy_c3h8_relax.extxyz\", \"w\") as f:\n",
    "    extxyz.write_xyz(f, traj, columns=columns)"
   ]
  },
  {
   "cell_type": "markdown",
   "id": "55fafa30",
   "metadata": {
    "id": "Kb77jRtz9fws"
   },
   "source": [
    "### Reading a trajectory"
   ]
  },
  {
   "cell_type": "code",
   "execution_count": 8,
   "id": "bd04382c",
   "metadata": {
    "id": "mUbvcij59d6I"
   },
   "outputs": [],
   "source": [
    "identifier = \"toy_c3h8_relax.extxyz\"\n",
    "\n",
    "# the `index` argument corresponds to what frame of the trajectory to read in, specifiying \":\" reads in the full trajectory.\n",
    "traj = ase.io.read(f\"data/{identifier}\", index=\":\")"
   ]
  },
  {
   "cell_type": "markdown",
   "id": "443434e0",
   "metadata": {
    "id": "b_e6zDVx9pTC"
   },
   "source": [
    "### Viewing a trajectory\n",
    "\n",
    "Below we visualize the initial, middle, and final steps in the structural relaxation trajectory from above. Copper atoms in the surface are colored orange, the propane adsorbate on the surface has grey colored carbon atoms and white colored hydrogen atoms. The adsorbate’s structure changes during the simulation and you can see how it relaxes on the surface. In this case, the relaxation looks normal; however, there can be instances where the adsorbate flies away (desorbs) from the surface or the adsorbate can break apart (dissociation), which are hard to detect without visualization. Additionally, visualizations can be used as a quick sanity check to ensure the initial system is set up correctly and there are no major issues with the simulation."
   ]
  },
  {
   "cell_type": "code",
   "execution_count": 9,
   "id": "5316c278",
   "metadata": {
    "colab": {
     "base_uri": "https://localhost:8080/",
     "height": 680
    },
    "id": "CV5qe6IP9vZg",
    "outputId": "256f97d6-daa7-40fa-ef50-7ba0ca005f9d"
   },
   "outputs": [
    {
     "data": {
      "text/plain": [
       "<AxesSubplot:title={'center':'final'}>"
      ]
     },
     "execution_count": 9,
     "metadata": {},
     "output_type": "execute_result"
    },
    {
     "data": {
      "image/png": "[encoded data removed]",
      "text/plain": [
       "<Figure size 864x864 with 3 Axes>"
      ]
     },
     "metadata": {
      "filenames": {
       "image/png": "/__w/F22-06-325/F22-06-325/f22-06-325/_build/jupyter_execute/projects/catalysts/catalyst_simulation_28_1.png"
      },
      "needs_background": "light"
     },
     "output_type": "display_data"
    }
   ],
   "source": [
    "fig, ax = plt.subplots(1, 3)\n",
    "labels = [\"initial\", \"middle\", \"final\"]\n",
    "for i in range(3):\n",
    "    ax[i].axis(\"off\")\n",
    "    ax[i].set_title(labels[i])\n",
    "ase.visualize.plot.plot_atoms(traj[0], ax[0], radii=0.8, rotation=(\"-75x, 45y, 10z\"))\n",
    "ase.visualize.plot.plot_atoms(traj[50], ax[1], radii=0.8, rotation=(\"-75x, 45y, 10z\"))\n",
    "ase.visualize.plot.plot_atoms(traj[-1], ax[2], radii=0.8, rotation=(\"-75x, 45y, 10z\"))"
   ]
  },
  {
   "cell_type": "markdown",
   "id": "122c9fcc",
   "metadata": {
    "id": "SSR1vQZ1_Ojq"
   },
   "source": [
    "### Data contents <a name=\"contents\"></a>\n",
    "\n",
    "Here we take a closer look at what information is contained within these trajectories."
   ]
  },
  {
   "cell_type": "code",
   "execution_count": 10,
   "id": "910c0d4b",
   "metadata": {
    "colab": {
     "base_uri": "https://localhost:8080/"
    },
    "id": "9x8w3o17_May",
    "outputId": "a6ed3414-774f-4e9c-f211-73379999f6a0"
   },
   "outputs": [
    {
     "data": {
      "text/plain": [
       "Atoms(symbols='Cu27C3H8', pbc=True, cell=[7.65796644025031, 7.65796644025031, 33.266996999999996], energies=..., forces=..., tags=..., constraint=FixAtoms(indices=[0, 1, 2, 3, 4, 5, 6, 7, 8, 9, 10, 11, 12, 13, 14, 15, 16, 17]), calculator=SinglePointCalculator(...))"
      ]
     },
     "execution_count": 10,
     "metadata": {},
     "output_type": "execute_result"
    }
   ],
   "source": [
    "i_structure = traj[0]\n",
    "i_structure"
   ]
  },
  {
   "cell_type": "markdown",
   "id": "d73ccaa1",
   "metadata": {
    "id": "4CgeShkN_bdJ"
   },
   "source": [
    "#### Atomic numbers"
   ]
  },
  {
   "cell_type": "code",
   "execution_count": 11,
   "id": "add08830",
   "metadata": {
    "colab": {
     "base_uri": "https://localhost:8080/"
    },
    "id": "cMGTQRIz_f2c",
    "outputId": "20442973-b999-4723-ec66-ac169203dfbe"
   },
   "outputs": [
    {
     "name": "stdout",
     "output_type": "stream",
     "text": [
      "[29 29 29 29 29 29 29 29 29 29 29 29 29 29 29 29 29 29 29 29 29 29 29 29\n",
      " 29 29 29  6  6  6  1  1  1  1  1  1  1  1]\n"
     ]
    }
   ],
   "source": [
    "numbers = i_structure.get_atomic_numbers()\n",
    "print(numbers)"
   ]
  },
  {
   "cell_type": "markdown",
   "id": "5997106a",
   "metadata": {
    "id": "ol4Zi2Gh_qU_"
   },
   "source": [
    "#### Atomic symbols"
   ]
  },
  {
   "cell_type": "code",
   "execution_count": 12,
   "id": "ad1ef1f4",
   "metadata": {
    "colab": {
     "base_uri": "https://localhost:8080/"
    },
    "id": "cwbxks-i_uVq",
    "outputId": "4960d233-b6c8-42bb-979d-879b6a20cfd4"
   },
   "outputs": [
    {
     "name": "stdout",
     "output_type": "stream",
     "text": [
      "['Cu' 'Cu' 'Cu' 'Cu' 'Cu' 'Cu' 'Cu' 'Cu' 'Cu' 'Cu' 'Cu' 'Cu' 'Cu' 'Cu'\n",
      " 'Cu' 'Cu' 'Cu' 'Cu' 'Cu' 'Cu' 'Cu' 'Cu' 'Cu' 'Cu' 'Cu' 'Cu' 'Cu' 'C' 'C'\n",
      " 'C' 'H' 'H' 'H' 'H' 'H' 'H' 'H' 'H']\n"
     ]
    }
   ],
   "source": [
    "symbols = np.array(i_structure.get_chemical_symbols())\n",
    "print(symbols)"
   ]
  },
  {
   "cell_type": "markdown",
   "id": "1b764ac5",
   "metadata": {
    "id": "x57XplOw_yNw"
   },
   "source": [
    "#### Unit cell\n",
    "\n",
    "The unit cell is the volume containing our system of interest. Express as a 3x3 array representing the directional vectors that make up the volume. Illustrated as the dashed box in the above visuals."
   ]
  },
  {
   "cell_type": "code",
   "execution_count": 13,
   "id": "da9d783b",
   "metadata": {
    "colab": {
     "base_uri": "https://localhost:8080/"
    },
    "id": "VWMMzn_i_0vM",
    "outputId": "9fd0343a-9599-4fcb-911d-87ac48974bc0"
   },
   "outputs": [
    {
     "name": "stdout",
     "output_type": "stream",
     "text": [
      "[[ 7.65796644  0.          0.        ]\n",
      " [ 0.          7.65796644  0.        ]\n",
      " [ 0.          0.         33.266997  ]]\n"
     ]
    }
   ],
   "source": [
    "cell = np.array(i_structure.cell)\n",
    "print(cell)"
   ]
  },
  {
   "cell_type": "markdown",
   "id": "046f210a",
   "metadata": {
    "id": "XHRbOyaA_97r"
   },
   "source": [
    "#### Periodic boundary conditions (PBC)\n",
    "\n",
    "x,y,z boolean representing whether a unit cell repeats in the corresponding directions. The OC20 dataset sets this to [True, True, True], with a large enough vacuum layer above the surface such that a unit cell does not see itself in the z direction. Although the original structure shown above is what get's passed into our models, the presence of PBC allows it to effectively repeat infinitely in the x and y directions. Below we visualize the same structure with a periodicity of 2 in all directions, what the model may effectively see."
   ]
  },
  {
   "cell_type": "code",
   "execution_count": 14,
   "id": "74dc4803",
   "metadata": {
    "colab": {
     "base_uri": "https://localhost:8080/"
    },
    "id": "htvwgCuFAOSB",
    "outputId": "578202d3-f9c5-4857-c2c1-86ee6aaf5aa0"
   },
   "outputs": [
    {
     "name": "stdout",
     "output_type": "stream",
     "text": [
      "[ True  True  True]\n"
     ]
    }
   ],
   "source": [
    "pbc = i_structure.pbc\n",
    "print(pbc)"
   ]
  },
  {
   "cell_type": "code",
   "execution_count": 15,
   "id": "90671966",
   "metadata": {
    "colab": {
     "base_uri": "https://localhost:8080/",
     "height": 400
    },
    "id": "Flzo7aO-RgyA",
    "outputId": "36835a5f-cc91-48d1-ee8b-8fc5112c0cb6"
   },
   "outputs": [
    {
     "data": {
      "text/plain": [
       "<AxesSubplot:title={'center':'final'}>"
      ]
     },
     "execution_count": 15,
     "metadata": {},
     "output_type": "execute_result"
    },
    {
     "data": {
      "image/png": "[encoded data removed]",
      "text/plain": [
       "<Figure size 864x864 with 3 Axes>"
      ]
     },
     "metadata": {
      "filenames": {
       "image/png": "/__w/F22-06-325/F22-06-325/f22-06-325/_build/jupyter_execute/projects/catalysts/catalyst_simulation_39_1.png"
      },
      "needs_background": "light"
     },
     "output_type": "display_data"
    }
   ],
   "source": [
    "fig, ax = plt.subplots(1, 3)\n",
    "labels = [\"initial\", \"middle\", \"final\"]\n",
    "for i in range(3):\n",
    "    ax[i].axis(\"off\")\n",
    "    ax[i].set_title(labels[i])\n",
    "\n",
    "ase.visualize.plot.plot_atoms(\n",
    "    traj[0].repeat((2, 2, 1)), ax[0], radii=0.8, rotation=(\"-75x, 45y, 10z\")\n",
    ")\n",
    "ase.visualize.plot.plot_atoms(\n",
    "    traj[50].repeat((2, 2, 1)), ax[1], radii=0.8, rotation=(\"-75x, 45y, 10z\")\n",
    ")\n",
    "ase.visualize.plot.plot_atoms(\n",
    "    traj[-1].repeat((2, 2, 1)), ax[2], radii=0.8, rotation=(\"-75x, 45y, 10z\")\n",
    ")"
   ]
  },
  {
   "cell_type": "markdown",
   "id": "3b753d00",
   "metadata": {
    "id": "TWGXcH7AARpy"
   },
   "source": [
    "#### Tags\n",
    "\n",
    "The OC20 dataset consists of systems with several different types of atoms. To help with identifying the index of certain atoms, we tag each atom according to where it is found in the system. There are three categories of atoms: \n",
    "- *sub-surface slab atoms*: these are atoms in the bottom layers of the catalyst, furthest away from the adsorbate\n",
    "- *surface slab atoms*: these are atoms in the top layers of the catalyst, close to where the adsorbate will be placed   \n",
    "- *adsorbate atoms*: atoms that make up the adsorbate molecule on top of the catalyst.\n",
    "\n",
    "Tag:\n",
    "\n",
    "0 - Sub-surface slab atoms\n",
    "\n",
    "1 - Surface slab atoms\n",
    "\n",
    "2 - Adsorbate atoms"
   ]
  },
  {
   "cell_type": "code",
   "execution_count": 16,
   "id": "c689ebc4",
   "metadata": {
    "colab": {
     "base_uri": "https://localhost:8080/"
    },
    "id": "SGZzFhsrB5A2",
    "outputId": "3b2e4e3e-b82f-4e1a-ed88-e53e3040240b"
   },
   "outputs": [
    {
     "name": "stdout",
     "output_type": "stream",
     "text": [
      "[0 0 0 0 0 0 0 0 0 0 0 0 0 0 0 0 0 0 1 1 1 1 1 1 1 1 1 2 2 2 2 2 2 2 2 2 2\n",
      " 2]\n"
     ]
    }
   ],
   "source": [
    "tags = i_structure.get_tags()\n",
    "print(tags)"
   ]
  },
  {
   "cell_type": "markdown",
   "id": "627d8638",
   "metadata": {
    "id": "0zVhbDL2B8cd"
   },
   "source": [
    "#### Fixed atoms constraint\n",
    "\n",
    "In reality, surfaces contain many, many more atoms beneath what we've illustrated as the surface. At an infinite depth, these subsurface atoms would look just like the bulk structure. We approximate a true surface by fixing the subsurface atoms into their “bulk” locations. This ensures that they cannot move at the “bottom” of the surface. If they could, this would throw off our calculations. Consistent with the above, we fix all atoms with tags=0, and denote them as \"fixed\". All other atoms are considered \"free\"."
   ]
  },
  {
   "cell_type": "code",
   "execution_count": 17,
   "id": "97696458",
   "metadata": {
    "colab": {
     "base_uri": "https://localhost:8080/"
    },
    "id": "FBMUmGrrCD_h",
    "outputId": "4d0aad44-f6bd-491b-d734-5edf5be04031"
   },
   "outputs": [
    {
     "name": "stdout",
     "output_type": "stream",
     "text": [
      "FixAtoms(indices=[0, 1, 2, 3, 4, 5, 6, 7, 8, 9, 10, 11, 12, 13, 14, 15, 16, 17]) \n",
      "\n",
      "[ 0  1  2  3  4  5  6  7  8  9 10 11 12 13 14 15 16 17] \n",
      "\n",
      "[0 0 0 0 0 0 0 0 0 0 0 0 0 0 0 0 0 0]\n"
     ]
    }
   ],
   "source": [
    "cons = i_structure.constraints[0]\n",
    "print(cons, \"\\n\")\n",
    "\n",
    "# indices of fixed atoms\n",
    "indices = cons.index\n",
    "print(indices, \"\\n\")\n",
    "\n",
    "# fixed atoms correspond to tags = 0\n",
    "print(tags[indices])"
   ]
  },
  {
   "cell_type": "markdown",
   "id": "f03b099b",
   "metadata": {
    "id": "_DHAYeBUCHbN"
   },
   "source": [
    "#### Adsorption energy\n",
    "\n",
    "The energy of the system is one of the properties of interest in the OC20 dataset. It's important to note that absolute energies provide little value to researchers and must be referenced properly to be useful. The OC20 dataset references all it's energies to the bare slab + gas references to arrive at adsorption energies. Adsorption energies are important in studying catalysts and their corresponding reaction rates. In addition to the structure relaxations of the OC20 dataset, bare slab and gas (N2, H2, H2O, CO) relaxations were carried out with DFT in order to calculate adsorption energies."
   ]
  },
  {
   "cell_type": "code",
   "execution_count": 18,
   "id": "1c082c53",
   "metadata": {
    "colab": {
     "base_uri": "https://localhost:8080/"
    },
    "id": "5XxYqdM7CMdd",
    "outputId": "c2f5ea9c-1614-42ef-fbc0-75fddd7c976f"
   },
   "outputs": [
    {
     "name": "stdout",
     "output_type": "stream",
     "text": [
      "Relaxed absolute energy = 8.358921451406472 eV\n",
      "Raw slab energy = 8.127167122751231 eV\n",
      "Adsorbate reference energy = 3.4499999999999993 eV\n",
      "\n",
      "Adsorption energy: -3.218245671344759 eV\n"
     ]
    }
   ],
   "source": [
    "final_structure = traj[-1]\n",
    "relaxed_energy = final_structure.get_potential_energy()\n",
    "print(f\"Relaxed absolute energy = {relaxed_energy} eV\")\n",
    "\n",
    "# Corresponding raw slab used in original adslab (adsorbate+slab) system.\n",
    "raw_slab = fcc100(\"Cu\", size=(3, 3, 3))\n",
    "raw_slab.set_calculator(EMT())\n",
    "raw_slab_energy = raw_slab.get_potential_energy()\n",
    "print(f\"Raw slab energy = {raw_slab_energy} eV\")\n",
    "\n",
    "\n",
    "adsorbate = Atoms(\"C3H8\").get_chemical_symbols()\n",
    "# For clarity, we define arbitrary gas reference energies here.\n",
    "# A more detailed discussion of these calculations can be found in the corresponding paper's SI.\n",
    "gas_reference_energies = {\"H\": 0.3, \"O\": 0.45, \"C\": 0.35, \"N\": 0.50}\n",
    "\n",
    "adsorbate_reference_energy = 0\n",
    "for ads in adsorbate:\n",
    "    adsorbate_reference_energy += gas_reference_energies[ads]\n",
    "\n",
    "print(f\"Adsorbate reference energy = {adsorbate_reference_energy} eV\\n\")\n",
    "\n",
    "adsorption_energy = relaxed_energy - raw_slab_energy - adsorbate_reference_energy\n",
    "print(f\"Adsorption energy: {adsorption_energy} eV\")"
   ]
  },
  {
   "cell_type": "markdown",
   "id": "95f1918e",
   "metadata": {
    "id": "EchgyYxXCUit"
   },
   "source": [
    "#### Plot energy profile of toy trajectory\n",
    "\n",
    "Plotting the energy profile of our trajectory is a good way to ensure nothing strange has occured. We expect to see a decreasing monotonic function. If the energy is consistently increasing or there's multiple large spikes this could be a sign of some issues in the optimization. This is particularly useful for when analyzing ML-driven relaxations and whether they make general physical sense."
   ]
  },
  {
   "cell_type": "code",
   "execution_count": 19,
   "id": "5d974008",
   "metadata": {
    "colab": {
     "base_uri": "https://localhost:8080/",
     "height": 482
    },
    "id": "WffoTL5pCSrg",
    "outputId": "86e7a0fb-7a34-42ee-db58-edd30323eb54"
   },
   "outputs": [
    {
     "data": {
      "text/plain": [
       "Text(0, 0.5, 'Energy, eV')"
      ]
     },
     "execution_count": 19,
     "metadata": {},
     "output_type": "execute_result"
    },
    {
     "data": {
      "image/png": "[encoded data removed]",
      "text/plain": [
       "<Figure size 504x504 with 1 Axes>"
      ]
     },
     "metadata": {
      "filenames": {
       "image/png": "/__w/F22-06-325/F22-06-325/f22-06-325/_build/jupyter_execute/projects/catalysts/catalyst_simulation_47_1.png"
      },
      "needs_background": "light"
     },
     "output_type": "display_data"
    }
   ],
   "source": [
    "energies = [\n",
    "    image.get_potential_energy() - raw_slab_energy - adsorbate_reference_energy\n",
    "    for image in traj\n",
    "]\n",
    "\n",
    "plt.figure(figsize=(7, 7))\n",
    "plt.plot(range(len(energies)), energies, lw=3)\n",
    "plt.xlabel(\"Step\", fontsize=24)\n",
    "plt.ylabel(\"Energy, eV\", fontsize=24)"
   ]
  },
  {
   "cell_type": "markdown",
   "id": "80ce4a70",
   "metadata": {
    "id": "erpOSowgCeuS"
   },
   "source": [
    "#### Force\n",
    "\n",
    "Forces are another important property of the OC20 dataset. Unlike datasets like QM9 which contain only ground state properties, the OC20 dataset contains per-atom forces necessary to carry out atomistic simulations. Physically, forces are the negative gradient of energy w.r.t atomic positions: $F = -\\frac{dE}{dx}$. Although not mandatory (depending on the application), maintaining this energy-force consistency is important for models that seek to make predictions on both properties.\n",
    "\n",
    "The \"apply_constraint\" argument controls whether to apply system constraints to the forces. In the OC20 dataset, this controls whether to return forces for fixed atoms (apply_constraint=False) or return 0s (apply_constraint=True)."
   ]
  },
  {
   "cell_type": "code",
   "execution_count": 20,
   "id": "598560d8",
   "metadata": {
    "colab": {
     "base_uri": "https://localhost:8080/"
    },
    "id": "NtgLDiT2Cmff",
    "outputId": "61a720bd-4117-4403-eb07-4d49fd5ddc22"
   },
   "outputs": [
    {
     "data": {
      "text/plain": [
       "array([[-1.07900000e-05, -3.80000000e-06,  1.13560540e-01],\n",
       "       [-0.00000000e+00, -4.29200000e-05,  1.13302410e-01],\n",
       "       [ 1.07900000e-05, -3.80000000e-06,  1.13560540e-01],\n",
       "       [-1.84600000e-05,  0.00000000e+00,  1.13543430e-01],\n",
       "       [ 0.00000000e+00,  0.00000000e+00,  1.13047800e-01],\n",
       "       [ 1.84600000e-05,  0.00000000e+00,  1.13543430e-01],\n",
       "       [-1.07900000e-05,  3.80000000e-06,  1.13560540e-01],\n",
       "       [-0.00000000e+00,  4.29200000e-05,  1.13302410e-01],\n",
       "       [ 1.07900000e-05,  3.80000000e-06,  1.13560540e-01],\n",
       "       [-1.10430500e-02, -2.53094000e-03, -4.84573700e-02],\n",
       "       [ 1.10430500e-02, -2.53094000e-03, -4.84573700e-02],\n",
       "       [ 0.00000000e+00, -2.20890000e-04, -2.07827000e-03],\n",
       "       [-1.10430500e-02,  2.53094000e-03, -4.84573700e-02],\n",
       "       [ 1.10430500e-02,  2.53094000e-03, -4.84573700e-02],\n",
       "       [-0.00000000e+00,  2.20890000e-04, -2.07827000e-03],\n",
       "       [-3.49808000e-03, -0.00000000e+00, -7.85544000e-03],\n",
       "       [ 3.49808000e-03, -0.00000000e+00, -7.85544000e-03],\n",
       "       [-0.00000000e+00, -0.00000000e+00, -5.97640000e-04],\n",
       "       [-3.18144370e-01, -2.36420450e-01, -3.97089230e-01],\n",
       "       [ 0.00000000e+00, -2.18895316e+00, -2.74768262e+00],\n",
       "       [ 3.18144370e-01, -2.36420450e-01, -3.97089230e-01],\n",
       "       [-5.65980520e-01,  0.00000000e+00, -6.16046990e-01],\n",
       "       [ 0.00000000e+00,  0.00000000e+00, -4.47152822e+00],\n",
       "       [ 5.65980520e-01, -0.00000000e+00, -6.16046990e-01],\n",
       "       [-3.18144370e-01,  2.36420450e-01, -3.97089230e-01],\n",
       "       [ 0.00000000e+00,  2.18895316e+00, -2.74768262e+00],\n",
       "       [ 3.18144370e-01,  2.36420450e-01, -3.97089230e-01],\n",
       "       [-0.00000000e+00, -0.00000000e+00, -3.96835355e+00],\n",
       "       [-0.00000000e+00, -3.64190926e+00,  5.71458646e+00],\n",
       "       [ 0.00000000e+00,  3.64190926e+00,  5.71458646e+00],\n",
       "       [-2.18178516e+00,  0.00000000e+00,  1.67589182e+00],\n",
       "       [ 2.18178516e+00,  0.00000000e+00,  1.67589182e+00],\n",
       "       [-0.00000000e+00,  2.46333681e+00,  1.78299828e+00],\n",
       "       [ 0.00000000e+00, -2.46333681e+00,  1.78299828e+00],\n",
       "       [ 6.18714050e+00,  2.26336330e-01, -5.99485570e-01],\n",
       "       [-6.18714050e+00,  2.26336330e-01, -5.99485570e-01],\n",
       "       [-6.18714050e+00, -2.26336330e-01, -5.99485570e-01],\n",
       "       [ 6.18714050e+00, -2.26336330e-01, -5.99485570e-01]])"
      ]
     },
     "execution_count": 20,
     "metadata": {},
     "output_type": "execute_result"
    }
   ],
   "source": [
    "# Returning forces for all atoms - regardless of whether \"fixed\" or \"free\"\n",
    "i_structure.get_forces(apply_constraint=False)"
   ]
  },
  {
   "cell_type": "code",
   "execution_count": 21,
   "id": "474d21d7",
   "metadata": {
    "colab": {
     "base_uri": "https://localhost:8080/"
    },
    "id": "QVgvU-OgCqzx",
    "outputId": "1a4bed0b-3554-4b42-b41e-7ca84741d66e"
   },
   "outputs": [
    {
     "data": {
      "text/plain": [
       "array([[ 0.        ,  0.        ,  0.        ],\n",
       "       [ 0.        ,  0.        ,  0.        ],\n",
       "       [ 0.        ,  0.        ,  0.        ],\n",
       "       [ 0.        ,  0.        ,  0.        ],\n",
       "       [ 0.        ,  0.        ,  0.        ],\n",
       "       [ 0.        ,  0.        ,  0.        ],\n",
       "       [ 0.        ,  0.        ,  0.        ],\n",
       "       [ 0.        ,  0.        ,  0.        ],\n",
       "       [ 0.        ,  0.        ,  0.        ],\n",
       "       [ 0.        ,  0.        ,  0.        ],\n",
       "       [ 0.        ,  0.        ,  0.        ],\n",
       "       [ 0.        ,  0.        ,  0.        ],\n",
       "       [ 0.        ,  0.        ,  0.        ],\n",
       "       [ 0.        ,  0.        ,  0.        ],\n",
       "       [ 0.        ,  0.        ,  0.        ],\n",
       "       [ 0.        ,  0.        ,  0.        ],\n",
       "       [ 0.        ,  0.        ,  0.        ],\n",
       "       [ 0.        ,  0.        ,  0.        ],\n",
       "       [-0.31814437, -0.23642045, -0.39708923],\n",
       "       [ 0.        , -2.18895316, -2.74768262],\n",
       "       [ 0.31814437, -0.23642045, -0.39708923],\n",
       "       [-0.56598052,  0.        , -0.61604699],\n",
       "       [ 0.        ,  0.        , -4.47152822],\n",
       "       [ 0.56598052, -0.        , -0.61604699],\n",
       "       [-0.31814437,  0.23642045, -0.39708923],\n",
       "       [ 0.        ,  2.18895316, -2.74768262],\n",
       "       [ 0.31814437,  0.23642045, -0.39708923],\n",
       "       [-0.        , -0.        , -3.96835355],\n",
       "       [-0.        , -3.64190926,  5.71458646],\n",
       "       [ 0.        ,  3.64190926,  5.71458646],\n",
       "       [-2.18178516,  0.        ,  1.67589182],\n",
       "       [ 2.18178516,  0.        ,  1.67589182],\n",
       "       [-0.        ,  2.46333681,  1.78299828],\n",
       "       [ 0.        , -2.46333681,  1.78299828],\n",
       "       [ 6.1871405 ,  0.22633633, -0.59948557],\n",
       "       [-6.1871405 ,  0.22633633, -0.59948557],\n",
       "       [-6.1871405 , -0.22633633, -0.59948557],\n",
       "       [ 6.1871405 , -0.22633633, -0.59948557]])"
      ]
     },
     "execution_count": 21,
     "metadata": {},
     "output_type": "execute_result"
    }
   ],
   "source": [
    "# Applying the fixed atoms constraint to the forces\n",
    "i_structure.get_forces(apply_constraint=True)"
   ]
  },
  {
   "cell_type": "markdown",
   "id": "d876855a",
   "metadata": {
    "id": "oHIjM6eMwlXY"
   },
   "source": [
    "###  Limitations\n",
    "The OpenCatalyst project is motivated by the problems we face due to climate change, many of which require innovative solutions to reduce energy usage and replace traditional chemical feedstocks with renewable alternatives. For example, one of the most energy intensive chemical processes is the development of new electrochemical catalysts for ammonia fertilizer production that helped to feed the world’s growing population during the 20th century. This is also an illustrative example of possible unintended consequences as advancements in chemistry and materials may be used for numerous purposes. As ammonia fertilization increased in use, its overuse in today’s farming has led to ocean “dead zones” and its production is very carbon intensive. Knowledge and techniques used to create ammonia were also transferred to the creation of explosives during wartime. We hope to steer the use of ML for atomic simulations to societally-beneficial uses by training and testing our approaches on datasets, such as OC20, that were specifically designed to address chemical reactions useful for addressing climate change.4\n",
    "\n",
    "### Next Steps for State of the Art in Catalyst Simulation Modeling\n",
    "\n",
    "While progress has been well underway - https://opencatalystproject.org/leaderboard.html, a considerable gap still exists between state-of-the-art models and our target goals. We offer some some general thoughts as to next steps for the readers to ponder on or explore:\n",
    "\n",
    "* GNN depth has consistenly improved model performance. What limitations to depth are there? How far can we push deeper models for OC20? \n",
    "* Our best performing models have little to no physical biases encoded. Can we incorporate such biases to improve our models? Experiments with physically inspired embeddings have had no advantage vs. random initializations, are there better ways to incorporate this information into the models?\n",
    "* Uncertainty estimation will play an important role in later stages of the project when it comes to large scale screening. How can we get reliable uncertainty estimates from large scale GNNs?\n",
    "* Are we limited to message-passing GNNs? Can we leverage alternative architectures for similiar or better performance?\n",
    "* Trajectories are nothing more than sequential data points. How can we use sequential modeling techniques to model the full trajectory?\n",
    "\n",
    "OC20 is a large and diverse dataset with many splits. For those with limited resources but unsure where to start, we provide some general recommendations:\n",
    "\n",
    "* The IS2RE-direct task is a great place to start. With the largest training set containing ~460k data points, this task is easily accesible for those with even just a single GPU.\n",
    "* Those interested in the more general S2EF task don't need to train on the All set to get meaningful performance.\n",
    "    * Results on the 2M dataset are often sufficient to highlight model improvements.\n",
    "    * For a fixed compute budget (e.g. fixed number of steps), training on the All set often leads to better performance.\n",
    "* The S2EF 200k dataset is fairly noisy, trying to find meaningful trends using this dataset can be difficult."
   ]
  }
 ],
 "metadata": {
  "jupytext": {
   "formats": "md:myst,ipynb",
   "text_representation": {
    "extension": ".md",
    "format_name": "myst",
    "format_version": 0.13,
    "jupytext_version": "1.14.0"
   }
  },
  "kernelspec": {
   "display_name": "Python 3 (ipykernel)",
   "language": "python",
   "name": "python3"
  },
  "language_info": {
   "codemirror_mode": {
    "name": "ipython",
    "version": 3
   },
   "file_extension": ".py",
   "mimetype": "text/x-python",
   "name": "python",
   "nbconvert_exporter": "python",
   "pygments_lexer": "ipython3",
   "version": "3.9.13"
  },
  "source_map": [
   15,
   34,
   38,
   95,
   99,
   126,
   130,
   134,
   138,
   143,
   147,
   170,
   174,
   179,
   185,
   193,
   197,
   225,
   234,
   258,
   262,
   303,
   308,
   314,
   320,
   369,
   373,
   382,
   388,
   406,
   412,
   423,
   427,
   438,
   442,
   453,
   459,
   470,
   476,
   487,
   512,
   529,
   540,
   546,
   564,
   570,
   603,
   609,
   628,
   636,
   647,
   658
  ]
 },
 "nbformat": 4,
 "nbformat_minor": 5
}