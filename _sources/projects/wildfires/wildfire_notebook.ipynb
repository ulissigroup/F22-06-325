{
 "cells": [
  {
   "cell_type": "markdown",
   "source": "# Predicting Wildfire Smoke Composition",
   "metadata": {
    "cell_id": "6ae0589709ce484c9b344c3f878956d2",
    "tags": [],
    "deepnote_cell_type": "markdown",
    "deepnote_cell_height": 134
   }
  },
  {
   "cell_type": "markdown",
   "source": "![wildfire](./prescribed_burn_public_domain.jpg)",
   "metadata": {
    "cell_id": "818942f6207b41c6a03a214d187c8b6c",
    "tags": [],
    "deepnote_cell_type": "markdown",
    "deepnote_cell_height": 403.3125
   }
  },
  {
   "cell_type": "markdown",
   "source": "Prof. Jen is a world-expert at understanding the composition and wildfire smokes. In 2017, she was part of an experimental campaign to map the composition of smokes for controlled wildfire burns for several specific plots of forest at the Blodgett Forest Research Station in Georgetown, CA. \n\nProf. Jen and her collaborators exposed filters to the burns at either ground level or at elevation using remote-controlled drones (each drone had three filters). They then took those filters and used a special analytic technique (GCxGC/MS, which you probably learned about in analytical chem) to identify unique spectral signatures of compounds present in the filters. In a few cases they know the compounds that generate specific signatures, but in many cases it's unclear exactly which compound led to a specific GCxGC/MS signature. \n",
   "metadata": {
    "cell_id": "4deab5331cc1420eadaa6cfcf073fa4d",
    "tags": [],
    "deepnote_cell_type": "markdown",
    "deepnote_cell_height": 312.796875
   }
  },
  {
   "cell_type": "markdown",
   "source": "`````{note}\n**Wildfire dataset summary:**\n* 3 different plots of land (with labels 60, 340, 400) were burned. One unburned plot was also included as a control (0).\n* Each plot was sampled multiple times at varying times. \n    * Plots were sampled at the ground level in triplicate (3 filters)\n    * Plots were sampled with drones at elevation in triplicate (3 filters)\n* All filters were collected and analyzed with GCxGC/MS. The unique ID of blobs present and the associated concentration on the filter were recorded. \n* The prevalent plants and foliage present in each plot is also known based on a previous survey of the regions. \n`````",
   "metadata": {
    "cell_id": "170940d891804bd1abcf100f8d16ac26",
    "tags": [],
    "deepnote_cell_type": "markdown",
    "deepnote_cell_height": 363.59375
   }
  },
  {
   "cell_type": "markdown",
   "source": "`````{seealso}\nYou can read more about how one of Prof. Jen's collaborators analyzed this data [here](https://www.climatechange.ai/papers/neurips2020/82). That same site includes both a paper and a short video by a collaborator on the specific analysis tried.\n`````",
   "metadata": {
    "cell_id": "cf2f11e9906f47f58e1643b2d596739f",
    "tags": [],
    "deepnote_cell_type": "markdown",
    "deepnote_cell_height": 162
   }
  },
  {
   "cell_type": "markdown",
   "source": "## Suggested challenges\n\n* Given a filter and a set of observed blobs, predict whether that filter was exposed at ground level or at elevation (with a drone)\n* Given the filter of a filter at elevation (drone, easy to collect data), predict the blobs and their concentrations for the ground level measurements (harder to collect data)\n* [much harder] Given the filter and a set of observed blobs, predict the types of plants present in the plot of land\n\n````{note}\nIn each case, you should think critically about the question how you want to set up your train/validation/test splits to simulate the challenge. \n* What do you expect to be correlated?\n* How would you know if your model is helpful?\n* Is there any way to cheat at the task? \n````",
   "metadata": {
    "cell_id": "a771dcd307e2411c86ae6987575ad3a1",
    "tags": [],
    "deepnote_cell_type": "markdown",
    "deepnote_cell_height": 417.1875
   }
  },
  {
   "cell_type": "markdown",
   "source": "## Dataset download/availability instructions\nhttps://github.com/ulissigroup/F22-06-325/tree/main/f22-06-325/projects/wildfires/data \n ",
   "metadata": {
    "cell_id": "c3c57d043a0942d1a64a8484de2cfd8c",
    "tags": [],
    "deepnote_cell_type": "markdown",
    "deepnote_cell_height": 170.796875
   }
  },
  {
   "cell_type": "markdown",
   "source": "## Dataset/file format details\n1. BlodgettCombinedBlobMass.csv is a spreadsheet that gives the electron ionization mass spectrum for each compound detected during the Blodgett field campaign. \n    * The mass spectrum (each element) is written as mass, signal; mass, signal; etc.\n    * The row number corresponds to the compound of the same row number found in BlodgettCombinedBlobTable.csv\n2. BlodgettCombinedBlobTable.cvs contains all compound 2 dimension gas chromatography data from all samples collected from Blodgett 2017. The column headings are:\n    1. Unused tag\n    2. BlobID_1\n    3. Unused Tag\n    4. 1D retention time (min)\n    5. 2D retention time (sec)\n    6. Peak height\n    7. Peak volume\n    8. Peak volume divided by nearest internal standard peak volume\n    9. Calculated d-alkane retention index\n    10. matched retention index (this number should be super close to the retention index in column 9)\n    11. Unused tag\n    12. Unused tag\n    13. Unused tag\n    14. BlobID_2\n    15. Filter number. This is the filter number that can be linked to where and when the sample was collected\n    16. Unused tag\n    17. Mass concentration of this compound (ng/m3)\n    * BlobID_1 and BlobID_2 (column 2 and 14) define the unique ID of a blob that can be tracked across the different burns. In other words, a compound (blob) with an ID of 1,176 is the same compound in filter 201 and filter 202. \n    * The d-alkane retention index (column 10) and 2nd dimension retention time (column 5) define the unique x,y position the compound sits in the chromatogram. No two compounds will have the same x,y coordinate. \n    * Mass concentration defines the amount of compound that exists in the smoke. \n3. Run Log.xlsx details where each filter was collected in Blodgett by GPS location and forest plot that burned. Tab “Flight Log” provides the details of filters collected from the drone. Tab “ground Station” provides details of filters collected at ground level.\n4. All_Shrubcovony_01_16.xlsx displays the types of shrubs that grew at Blodgett. The sheet of interest is “16” which stands for 2016 when they conducted a plant inventory. Focus on Unit (1st column) 60, 340, and 400 which stand for the plots that we burned at Blodgett. Species column lists the shorthand for the shrub/grass that they observed growing in the plot. BFRSPlantCodes.xlsx translate the shorthand plant code to a real plant.",
   "metadata": {
    "cell_id": "da4f2990ffd24db580566bc3e8e15646",
    "tags": [],
    "deepnote_cell_type": "markdown",
    "deepnote_cell_height": 1305.59375
   }
  },
  {
   "cell_type": "markdown",
   "source": "## Hints and possible approaches",
   "metadata": {
    "cell_id": "99716a9ba4384fc988cc538a56ab9d2f",
    "tags": [],
    "deepnote_cell_type": "markdown",
    "deepnote_cell_height": 70
   }
  },
  {
   "cell_type": "markdown",
   "source": "## Example Model\n\n### Loading in Data\nLet's start by uploading the data. We'll start with BlodgettCombinedBlobTable.csv. \n\n#### BlodgettCombinedBlobTable.csv",
   "metadata": {
    "cell_id": "97f6b279d8c147cea2587cdd8b8fe8ce",
    "tags": [],
    "deepnote_cell_type": "markdown",
    "deepnote_cell_height": 216.796875
   }
  },
  {
   "cell_type": "code",
   "metadata": {
    "cell_id": "43c7a1249fcc4edb878c0d0f8a3ec3d1",
    "tags": [],
    "deepnote_to_be_reexecuted": false,
    "source_hash": "5317872d",
    "execution_start": 1663335188724,
    "execution_millis": 1081,
    "deepnote_cell_type": "code",
    "deepnote_cell_height": 865.4375
   },
   "source": "import pandas as pd\n\n# define column names\ncol_names = [\"Unused tags 1\", \"BlobID1\", \"Unused tags 2\", \n            \"1D Retention Time (min)\", \"2D Retention Time (sec)\", \n            \"Peak Height\", \"Peak Volume\", \"Peak volume/nearest internal standard peak volume\", \n            \"Calculated d-alkane retention index\", \"matched retention index\", \n            \"Unused tags 3\", \"Unused tags 4\", \"Unused tags 5\", \n            \"BlobID_2\", \"Filter number\", \"Unused tags 6\", \n            \"Mass concentration of compound (ng/m3)\"]\n\n# import csv file\ndf_blobtable = pd.read_csv(\"data/BlodgettCombinedBlobTable.csv\", names=col_names)\n\ndf_blobtable",
   "outputs": [
    {
     "output_type": "execute_result",
     "execution_count": 100,
     "data": {
      "application/vnd.deepnote.dataframe.v3+json": {
       "column_count": 17,
       "row_count": 44640,
       "columns": [
        {
         "name": "Unused tags 1",
         "dtype": "int64",
         "stats": {
          "unique_count": 2933,
          "nan_count": 0,
          "min": "1",
          "max": "4702",
          "histogram": [
           {
            "bin_start": 1,
            "bin_end": 471.1,
            "count": 2475
           },
           {
            "bin_start": 471.1,
            "bin_end": 941.2,
            "count": 17032
           },
           {
            "bin_start": 941.2,
            "bin_end": 1411.3000000000002,
            "count": 15201
           },
           {
            "bin_start": 1411.3000000000002,
            "bin_end": 1881.4,
            "count": 6457
           },
           {
            "bin_start": 1881.4,
            "bin_end": 2351.5,
            "count": 2304
           },
           {
            "bin_start": 2351.5,
            "bin_end": 2821.6000000000004,
            "count": 179
           },
           {
            "bin_start": 2821.6000000000004,
            "bin_end": 3291.7000000000003,
            "count": 56
           },
           {
            "bin_start": 3291.7000000000003,
            "bin_end": 3761.8,
            "count": 67
           },
           {
            "bin_start": 3761.8,
            "bin_end": 4231.900000000001,
            "count": 177
           },
           {
            "bin_start": 4231.900000000001,
            "bin_end": 4702,
            "count": 692
           }
          ]
         }
        },
        {
         "name": "BlobID1",
         "dtype": "int64",
         "stats": {
          "unique_count": 1755,
          "nan_count": 0,
          "min": "1",
          "max": "4686",
          "histogram": [
           {
            "bin_start": 1,
            "bin_end": 469.5,
            "count": 21077
           },
           {
            "bin_start": 469.5,
            "bin_end": 938,
            "count": 9432
           },
           {
            "bin_start": 938,
            "bin_end": 1406.5,
            "count": 7278
           },
           {
            "bin_start": 1406.5,
            "bin_end": 1875,
            "count": 3756
           },
           {
            "bin_start": 1875,
            "bin_end": 2343.5,
            "count": 1187
           },
           {
            "bin_start": 2343.5,
            "bin_end": 2812,
            "count": 1118
           },
           {
            "bin_start": 2812,
            "bin_end": 3280.5,
            "count": 633
           },
           {
            "bin_start": 3280.5,
            "bin_end": 3749,
            "count": 46
           },
           {
            "bin_start": 3749,
            "bin_end": 4217.5,
            "count": 16
           },
           {
            "bin_start": 4217.5,
            "bin_end": 4686,
            "count": 97
           }
          ]
         }
        },
        {
         "name": "Unused tags 2",
         "dtype": "int64"
        },
        {
         "name": "1D Retention Time (min)",
         "dtype": "float64"
        },
        {
         "name": "2D Retention Time (sec)",
         "dtype": "float64"
        },
        {
         "name": "Peak Height",
         "dtype": "float64"
        },
        {
         "name": "Peak Volume",
         "dtype": "float64"
        },
        {
         "name": "Peak volume/nearest internal standard peak volume",
         "dtype": "float64"
        },
        {
         "name": "Calculated d-alkane retention index",
         "dtype": "float64"
        },
        {
         "name": "matched retention index",
         "dtype": "float64"
        },
        {
         "name": "Unused tags 3",
         "dtype": "int64"
        },
        {
         "name": "Unused tags 4",
         "dtype": "int64"
        },
        {
         "name": "Unused tags 5",
         "dtype": "int64"
        },
        {
         "name": "BlobID_2",
         "dtype": "int64"
        },
        {
         "name": "Filter number",
         "dtype": "int64"
        },
        {
         "name": "Unused tags 6",
         "dtype": "float64"
        },
        {
         "name": "Mass concentration of compound (ng/m3)",
         "dtype": "float64"
        },
        {
         "name": "_deepnote_index_column",
         "dtype": "int64"
        }
       ],
       "rows": [
        {
         "Unused tags 1": "541",
         "BlobID1": "181",
         "Unused tags 2": "541",
         "1D Retention Time (min)": "40.6082043062008",
         "2D Retention Time (sec)": "1.02633011037114",
         "Peak Height": "105.022468632786",
         "Peak Volume": "1263.34731671286",
         "Peak volume/nearest internal standard peak volume": "1.0",
         "Calculated d-alkane retention index": "1652.43902439024",
         "matched retention index": "1653.0",
         "Unused tags 3": "866",
         "Unused tags 4": "868",
         "Unused tags 5": "39",
         "BlobID_2": "0",
         "Filter number": "201",
         "Unused tags 6": "0.0",
         "Mass concentration of compound (ng/m3)": "0.0",
         "_deepnote_index_column": "0"
        },
        {
         "Unused tags 1": "598",
         "BlobID1": "1553",
         "Unused tags 2": "598",
         "1D Retention Time (min)": "40.0377441234945",
         "2D Retention Time (sec)": "1.41494054051167",
         "Peak Height": "31.0524827050976",
         "Peak Volume": "479.394946729955",
         "Peak volume/nearest internal standard peak volume": "1.0",
         "Calculated d-alkane retention index": "1634.14634146341",
         "matched retention index": "1633.0",
         "Unused tags 3": "775",
         "Unused tags 4": "782",
         "Unused tags 5": "32",
         "BlobID_2": "0",
         "Filter number": "201",
         "Unused tags 6": "0.0",
         "Mass concentration of compound (ng/m3)": "0.0",
         "_deepnote_index_column": "1"
        },
        {
         "Unused tags 1": "766",
         "BlobID1": "62",
         "Unused tags 2": "766",
         "1D Retention Time (min)": "63.5026729721466",
         "2D Retention Time (sec)": "1.13593818041078",
         "Peak Height": "8.1240819869563",
         "Peak Volume": "135.140906789423",
         "Peak volume/nearest internal standard peak volume": "1.0",
         "Calculated d-alkane retention index": "2524.56140350877",
         "matched retention index": "2520.0",
         "Unused tags 3": "871",
         "Unused tags 4": "877",
         "Unused tags 5": "35",
         "BlobID_2": "0",
         "Filter number": "201",
         "Unused tags 6": "0.0",
         "Mass concentration of compound (ng/m3)": "0.0",
         "_deepnote_index_column": "2"
        },
        {
         "Unused tags 1": "530",
         "BlobID1": "776",
         "Unused tags 2": "530",
         "1D Retention Time (min)": "27.2594360308736",
         "2D Retention Time (sec)": "1.35515432049005",
         "Peak Height": "281.546460010868",
         "Peak Volume": "3376.61947217999",
         "Peak volume/nearest internal standard peak volume": "1.0",
         "Calculated d-alkane retention index": "1263.38797814208",
         "matched retention index": "1277.0",
         "Unused tags 3": "842",
         "Unused tags 4": "883",
         "Unused tags 5": "40",
         "BlobID_2": "0",
         "Filter number": "201",
         "Unused tags 6": "0.0",
         "Mass concentration of compound (ng/m3)": "0.0",
         "_deepnote_index_column": "3"
        },
        {
         "Unused tags 1": "540",
         "BlobID1": "61",
         "Unused tags 2": "540",
         "1D Retention Time (min)": "32.0132708867594",
         "2D Retention Time (sec)": "0.328824210118909",
         "Peak Height": "118.679093179293",
         "Peak Volume": "946.665803761669",
         "Peak volume/nearest internal standard peak volume": "1.0",
         "Calculated d-alkane retention index": "1400.0",
         "matched retention index": "1800.0",
         "Unused tags 3": "0",
         "Unused tags 4": "830",
         "Unused tags 5": "20",
         "BlobID_2": "0",
         "Filter number": "201",
         "Unused tags 6": "0.0",
         "Mass concentration of compound (ng/m3)": "0.0",
         "_deepnote_index_column": "4"
        },
        {
         "Unused tags 1": "538",
         "BlobID1": "491",
         "Unused tags 2": "538",
         "1D Retention Time (min)": "38.9728851157761",
         "2D Retention Time (sec)": "0.338788580122513",
         "Peak Height": "115.878221069695",
         "Peak Volume": "1449.76757443357",
         "Peak volume/nearest internal standard peak volume": "1.0",
         "Calculated d-alkane retention index": "1600.0",
         "matched retention index": "1600.0",
         "Unused tags 3": "463",
         "Unused tags 4": "480",
         "Unused tags 5": "27",
         "BlobID_2": "0",
         "Filter number": "201",
         "Unused tags 6": "0.0",
         "Mass concentration of compound (ng/m3)": "0.0",
         "_deepnote_index_column": "5"
        },
        {
         "Unused tags 1": "544",
         "BlobID1": "61",
         "Unused tags 2": "544",
         "1D Retention Time (min)": "45.2099164466982",
         "2D Retention Time (sec)": "0.338788580122513",
         "Peak Height": "93.0407222784124",
         "Peak Volume": "995.719229407367",
         "Peak volume/nearest internal standard peak volume": "1.0",
         "Calculated d-alkane retention index": "1800.0",
         "matched retention index": "1800.0",
         "Unused tags 3": "872",
         "Unused tags 4": "872",
         "Unused tags 5": "20",
         "BlobID_2": "0",
         "Filter number": "201",
         "Unused tags 6": "0.0",
         "Mass concentration of compound (ng/m3)": "0.0",
         "_deepnote_index_column": "6"
        },
        {
         "Unused tags 1": "559",
         "BlobID1": "72",
         "Unused tags 2": "559",
         "1D Retention Time (min)": "50.876487594914",
         "2D Retention Time (sec)": "0.348752950126116",
         "Peak Height": "47.7304761803825",
         "Peak Volume": "444.674421792982",
         "Peak volume/nearest internal standard peak volume": "1.0",
         "Calculated d-alkane retention index": "2000.0",
         "matched retention index": "2000.0",
         "Unused tags 3": "871",
         "Unused tags 4": "873",
         "Unused tags 5": "21",
         "BlobID_2": "0",
         "Filter number": "201",
         "Unused tags 6": "0.0",
         "Mass concentration of compound (ng/m3)": "0.0",
         "_deepnote_index_column": "7"
        },
        {
         "Unused tags 1": "550",
         "BlobID1": "94",
         "Unused tags 2": "550",
         "1D Retention Time (min)": "56.0486599181177",
         "2D Retention Time (sec)": "0.368681690133323",
         "Peak Height": "61.8770665642805",
         "Peak Volume": "467.28931958156",
         "Peak volume/nearest internal standard peak volume": "1.0",
         "Calculated d-alkane retention index": "2200.0",
         "matched retention index": "2200.0",
         "Unused tags 3": "840",
         "Unused tags 4": "849",
         "Unused tags 5": "22",
         "BlobID_2": "0",
         "Filter number": "201",
         "Unused tags 6": "0.0",
         "Mass concentration of compound (ng/m3)": "0.0",
         "_deepnote_index_column": "8"
        },
        {
         "Unused tags 1": "599",
         "BlobID1": "86",
         "Unused tags 2": "599",
         "1D Retention Time (min)": "60.8024947740035",
         "2D Retention Time (sec)": "0.378646060136926",
         "Peak Height": "32.6075175146107",
         "Peak Volume": "299.144644874046",
         "Peak volume/nearest internal standard peak volume": "1.0",
         "Calculated d-alkane retention index": "2400.0",
         "matched retention index": "2400.0",
         "Unused tags 3": "855",
         "Unused tags 4": "868",
         "Unused tags 5": "23",
         "BlobID_2": "0",
         "Filter number": "201",
         "Unused tags 6": "0.0",
         "Mass concentration of compound (ng/m3)": "0.0",
         "_deepnote_index_column": "9"
        }
       ]
      },
      "text/plain": "       Unused tags 1  BlobID1  Unused tags 2  1D Retention Time (min)  \\\n0                541      181            541                40.608204   \n1                598     1553            598                40.037744   \n2                766       62            766                63.502673   \n3                530      776            530                27.259436   \n4                540       61            540                32.013271   \n...              ...      ...            ...                      ...   \n44635            970     2811            522                40.312724   \n44636            529     2812            522                40.274506   \n44637            524     2813            522                40.045199   \n44638            783     2818            530                45.892543   \n44639            755     2838            548                46.389376   \n\n       2D Retention Time (sec)  Peak Height  Peak Volume  \\\n0                     1.026330   105.022469  1263.347317   \n1                     1.414941    31.052483   479.394947   \n2                     1.135938     8.124082   135.140907   \n3                     1.355154   281.546460  3376.619472   \n4                     0.328824   118.679093   946.665804   \n...                        ...          ...          ...   \n44635                 0.981316     4.096229    57.013969   \n44636                 1.131518   155.203347  1839.028248   \n44637                 0.891195   201.872901  2958.995344   \n44638                 0.931249     6.134070   124.792845   \n44639                 0.540725     7.531315   125.108783   \n\n       Peak volume/nearest internal standard peak volume  \\\n0                                               1.000000   \n1                                               1.000000   \n2                                               1.000000   \n3                                               1.000000   \n4                                               1.000000   \n...                                                  ...   \n44635                                           0.019236   \n44636                                           0.620461   \n44637                                           0.998322   \n44638                                           0.043840   \n44639                                           0.157806   \n\n       Calculated d-alkane retention index  matched retention index  \\\n0                              1652.439024                   1653.0   \n1                              1634.146341                   1633.0   \n2                              2524.561404                   2520.0   \n3                              1263.387978                   1277.0   \n4                              1400.000000                   1800.0   \n...                                    ...                      ...   \n44635                          1644.171779                   1646.0   \n44636                          1642.944785                   1642.0   \n44637                          1635.582822                   1637.0   \n44638                          1825.675676                   1824.0   \n44639                          1843.243243                   1844.0   \n\n       Unused tags 3  Unused tags 4  Unused tags 5  BlobID_2  Filter number  \\\n0                866            868             39         0            201   \n1                775            782             32         0            201   \n2                871            877             35         0            201   \n3                842            883             40         0            201   \n4                  0            830             20         0            201   \n...              ...            ...            ...       ...            ...   \n44635            713            755              6       176              9   \n44636            837            845            824       176              9   \n44637            883            885              8       176              9   \n44638            681            689            722       176              9   \n44639            810            828            801       176              9   \n\n       Unused tags 6  Mass concentration of compound (ng/m3)  \n0           0.000000                                0.000000  \n1           0.000000                                0.000000  \n2           0.000000                                0.000000  \n3           0.000000                                0.000000  \n4           0.000000                                0.000000  \n...              ...                                     ...  \n44635       0.022829                                0.783983  \n44636       4.682465                              160.803335  \n44637       0.712658                               24.473803  \n44638       0.038751                                1.330786  \n44639       0.200291                                6.878302  \n\n[44640 rows x 17 columns]",
      "text/html": "<div>\n<style scoped>\n    .dataframe tbody tr th:only-of-type {\n        vertical-align: middle;\n    }\n\n    .dataframe tbody tr th {\n        vertical-align: top;\n    }\n\n    .dataframe thead th {\n        text-align: right;\n    }\n</style>\n<table border=\"1\" class=\"dataframe\">\n  <thead>\n    <tr style=\"text-align: right;\">\n      <th></th>\n      <th>Unused tags 1</th>\n      <th>BlobID1</th>\n      <th>Unused tags 2</th>\n      <th>1D Retention Time (min)</th>\n      <th>2D Retention Time (sec)</th>\n      <th>Peak Height</th>\n      <th>Peak Volume</th>\n      <th>Peak volume/nearest internal standard peak volume</th>\n      <th>Calculated d-alkane retention index</th>\n      <th>matched retention index</th>\n      <th>Unused tags 3</th>\n      <th>Unused tags 4</th>\n      <th>Unused tags 5</th>\n      <th>BlobID_2</th>\n      <th>Filter number</th>\n      <th>Unused tags 6</th>\n      <th>Mass concentration of compound (ng/m3)</th>\n    </tr>\n  </thead>\n  <tbody>\n    <tr>\n      <th>0</th>\n      <td>541</td>\n      <td>181</td>\n      <td>541</td>\n      <td>40.608204</td>\n      <td>1.026330</td>\n      <td>105.022469</td>\n      <td>1263.347317</td>\n      <td>1.000000</td>\n      <td>1652.439024</td>\n      <td>1653.0</td>\n      <td>866</td>\n      <td>868</td>\n      <td>39</td>\n      <td>0</td>\n      <td>201</td>\n      <td>0.000000</td>\n      <td>0.000000</td>\n    </tr>\n    <tr>\n      <th>1</th>\n      <td>598</td>\n      <td>1553</td>\n      <td>598</td>\n      <td>40.037744</td>\n      <td>1.414941</td>\n      <td>31.052483</td>\n      <td>479.394947</td>\n      <td>1.000000</td>\n      <td>1634.146341</td>\n      <td>1633.0</td>\n      <td>775</td>\n      <td>782</td>\n      <td>32</td>\n      <td>0</td>\n      <td>201</td>\n      <td>0.000000</td>\n      <td>0.000000</td>\n    </tr>\n    <tr>\n      <th>2</th>\n      <td>766</td>\n      <td>62</td>\n      <td>766</td>\n      <td>63.502673</td>\n      <td>1.135938</td>\n      <td>8.124082</td>\n      <td>135.140907</td>\n      <td>1.000000</td>\n      <td>2524.561404</td>\n      <td>2520.0</td>\n      <td>871</td>\n      <td>877</td>\n      <td>35</td>\n      <td>0</td>\n      <td>201</td>\n      <td>0.000000</td>\n      <td>0.000000</td>\n    </tr>\n    <tr>\n      <th>3</th>\n      <td>530</td>\n      <td>776</td>\n      <td>530</td>\n      <td>27.259436</td>\n      <td>1.355154</td>\n      <td>281.546460</td>\n      <td>3376.619472</td>\n      <td>1.000000</td>\n      <td>1263.387978</td>\n      <td>1277.0</td>\n      <td>842</td>\n      <td>883</td>\n      <td>40</td>\n      <td>0</td>\n      <td>201</td>\n      <td>0.000000</td>\n      <td>0.000000</td>\n    </tr>\n    <tr>\n      <th>4</th>\n      <td>540</td>\n      <td>61</td>\n      <td>540</td>\n      <td>32.013271</td>\n      <td>0.328824</td>\n      <td>118.679093</td>\n      <td>946.665804</td>\n      <td>1.000000</td>\n      <td>1400.000000</td>\n      <td>1800.0</td>\n      <td>0</td>\n      <td>830</td>\n      <td>20</td>\n      <td>0</td>\n      <td>201</td>\n      <td>0.000000</td>\n      <td>0.000000</td>\n    </tr>\n    <tr>\n      <th>...</th>\n      <td>...</td>\n      <td>...</td>\n      <td>...</td>\n      <td>...</td>\n      <td>...</td>\n      <td>...</td>\n      <td>...</td>\n      <td>...</td>\n      <td>...</td>\n      <td>...</td>\n      <td>...</td>\n      <td>...</td>\n      <td>...</td>\n      <td>...</td>\n      <td>...</td>\n      <td>...</td>\n      <td>...</td>\n    </tr>\n    <tr>\n      <th>44635</th>\n      <td>970</td>\n      <td>2811</td>\n      <td>522</td>\n      <td>40.312724</td>\n      <td>0.981316</td>\n      <td>4.096229</td>\n      <td>57.013969</td>\n      <td>0.019236</td>\n      <td>1644.171779</td>\n      <td>1646.0</td>\n      <td>713</td>\n      <td>755</td>\n      <td>6</td>\n      <td>176</td>\n      <td>9</td>\n      <td>0.022829</td>\n      <td>0.783983</td>\n    </tr>\n    <tr>\n      <th>44636</th>\n      <td>529</td>\n      <td>2812</td>\n      <td>522</td>\n      <td>40.274506</td>\n      <td>1.131518</td>\n      <td>155.203347</td>\n      <td>1839.028248</td>\n      <td>0.620461</td>\n      <td>1642.944785</td>\n      <td>1642.0</td>\n      <td>837</td>\n      <td>845</td>\n      <td>824</td>\n      <td>176</td>\n      <td>9</td>\n      <td>4.682465</td>\n      <td>160.803335</td>\n    </tr>\n    <tr>\n      <th>44637</th>\n      <td>524</td>\n      <td>2813</td>\n      <td>522</td>\n      <td>40.045199</td>\n      <td>0.891195</td>\n      <td>201.872901</td>\n      <td>2958.995344</td>\n      <td>0.998322</td>\n      <td>1635.582822</td>\n      <td>1637.0</td>\n      <td>883</td>\n      <td>885</td>\n      <td>8</td>\n      <td>176</td>\n      <td>9</td>\n      <td>0.712658</td>\n      <td>24.473803</td>\n    </tr>\n    <tr>\n      <th>44638</th>\n      <td>783</td>\n      <td>2818</td>\n      <td>530</td>\n      <td>45.892543</td>\n      <td>0.931249</td>\n      <td>6.134070</td>\n      <td>124.792845</td>\n      <td>0.043840</td>\n      <td>1825.675676</td>\n      <td>1824.0</td>\n      <td>681</td>\n      <td>689</td>\n      <td>722</td>\n      <td>176</td>\n      <td>9</td>\n      <td>0.038751</td>\n      <td>1.330786</td>\n    </tr>\n    <tr>\n      <th>44639</th>\n      <td>755</td>\n      <td>2838</td>\n      <td>548</td>\n      <td>46.389376</td>\n      <td>0.540725</td>\n      <td>7.531315</td>\n      <td>125.108783</td>\n      <td>0.157806</td>\n      <td>1843.243243</td>\n      <td>1844.0</td>\n      <td>810</td>\n      <td>828</td>\n      <td>801</td>\n      <td>176</td>\n      <td>9</td>\n      <td>0.200291</td>\n      <td>6.878302</td>\n    </tr>\n  </tbody>\n</table>\n<p>44640 rows × 17 columns</p>\n</div>"
     },
     "metadata": {}
    }
   ],
   "execution_count": null
  },
  {
   "cell_type": "markdown",
   "source": "We can remove all of the columns with the unused tags and drop the NaN's.",
   "metadata": {
    "cell_id": "886778f90dc24892a37babf5569d51fe",
    "tags": [],
    "deepnote_cell_type": "markdown",
    "deepnote_cell_height": 74.796875
   }
  },
  {
   "cell_type": "code",
   "source": "unusedtags = [\"Unused tags 1\", \"Unused tags 2\", \"Unused tags 3\", \n                \"Unused tags 4\", \"Unused tags 5\", \"Unused tags 6\"]\n\n#import numpy as np \n\n#df_blobtable.replace(np.inf, np.nan, inplace=True)\n\npd.set_option('use_inf_as_na',True)\n\ndf_blobtable = df_blobtable.drop(labels=unusedtags, axis=1)\ndf_blobtable = df_blobtable.dropna()",
   "metadata": {
    "cell_id": "06c89930d3f04ab4b05da8b424e4adb8",
    "tags": [],
    "deepnote_to_be_reexecuted": false,
    "source_hash": "f277ebbc",
    "execution_start": 1663335190815,
    "execution_millis": 10,
    "deepnote_table_state": {
     "pageSize": 10,
     "pageIndex": 4458,
     "filters": [],
     "sortBy": []
    },
    "deepnote_table_loading": false,
    "deepnote_cell_type": "code",
    "deepnote_cell_height": 261
   },
   "outputs": [],
   "execution_count": null
  },
  {
   "cell_type": "code",
   "source": "df_blobtable",
   "metadata": {
    "cell_id": "0e581776b67543a2944079b8a2e6906b",
    "tags": [],
    "deepnote_to_be_reexecuted": false,
    "source_hash": "e7e9b9d1",
    "execution_start": 1663335183694,
    "execution_millis": 130,
    "deepnote_table_state": {
     "pageSize": 10,
     "pageIndex": 18,
     "filters": [],
     "sortBy": []
    },
    "deepnote_table_loading": false,
    "deepnote_cell_type": "code",
    "deepnote_cell_height": 608.4375
   },
   "outputs": [
    {
     "output_type": "execute_result",
     "execution_count": 99,
     "data": {
      "application/vnd.deepnote.dataframe.v3+json": {
       "column_count": 11,
       "row_count": 43394,
       "columns": [
        {
         "name": "BlobID1",
         "dtype": "int64",
         "stats": {
          "unique_count": 1745,
          "nan_count": 0,
          "min": "1",
          "max": "4686",
          "histogram": [
           {
            "bin_start": 1,
            "bin_end": 469.5,
            "count": 20443
           },
           {
            "bin_start": 469.5,
            "bin_end": 938,
            "count": 9180
           },
           {
            "bin_start": 938,
            "bin_end": 1406.5,
            "count": 7093
           },
           {
            "bin_start": 1406.5,
            "bin_end": 1875,
            "count": 3664
           },
           {
            "bin_start": 1875,
            "bin_end": 2343.5,
            "count": 1151
           },
           {
            "bin_start": 2343.5,
            "bin_end": 2812,
            "count": 1095
           },
           {
            "bin_start": 2812,
            "bin_end": 3280.5,
            "count": 616
           },
           {
            "bin_start": 3280.5,
            "bin_end": 3749,
            "count": 45
           },
           {
            "bin_start": 3749,
            "bin_end": 4217.5,
            "count": 14
           },
           {
            "bin_start": 4217.5,
            "bin_end": 4686,
            "count": 93
           }
          ]
         }
        },
        {
         "name": "1D Retention Time (min)",
         "dtype": "float64",
         "stats": {
          "unique_count": 29790,
          "nan_count": 0,
          "min": "23.1521227153883",
          "max": "84.3918533037574",
          "histogram": [
           {
            "bin_start": 23.1521227153883,
            "bin_end": 29.276095774225208,
            "count": 907
           },
           {
            "bin_start": 29.276095774225208,
            "bin_end": 35.40006883306212,
            "count": 2430
           },
           {
            "bin_start": 35.40006883306212,
            "bin_end": 41.52404189189903,
            "count": 8200
           },
           {
            "bin_start": 41.52404189189903,
            "bin_end": 47.64801495073594,
            "count": 10266
           },
           {
            "bin_start": 47.64801495073594,
            "bin_end": 53.77198800957285,
            "count": 6823
           },
           {
            "bin_start": 53.77198800957285,
            "bin_end": 59.89596106840976,
            "count": 5821
           },
           {
            "bin_start": 59.89596106840976,
            "bin_end": 66.01993412724667,
            "count": 4167
           },
           {
            "bin_start": 66.01993412724667,
            "bin_end": 72.14390718608358,
            "count": 2519
           },
           {
            "bin_start": 72.14390718608358,
            "bin_end": 78.26788024492049,
            "count": 1714
           },
           {
            "bin_start": 78.26788024492049,
            "bin_end": 84.3918533037574,
            "count": 547
           }
          ]
         }
        },
        {
         "name": "2D Retention Time (sec)",
         "dtype": "float64"
        },
        {
         "name": "Peak Height",
         "dtype": "float64"
        },
        {
         "name": "Peak Volume",
         "dtype": "float64"
        },
        {
         "name": "Peak volume/nearest internal standard peak volume",
         "dtype": "float64"
        },
        {
         "name": "Calculated d-alkane retention index",
         "dtype": "float64"
        },
        {
         "name": "matched retention index",
         "dtype": "float64"
        },
        {
         "name": "BlobID_2",
         "dtype": "int64"
        },
        {
         "name": "Filter number",
         "dtype": "int64"
        },
        {
         "name": "Mass concentration of compound (ng/m3)",
         "dtype": "float64"
        },
        {
         "name": "_deepnote_index_column",
         "dtype": "int64"
        }
       ],
       "rows": [
        {
         "BlobID1": "27",
         "1D Retention Time (min)": "57.2878014714675",
         "2D Retention Time (sec)": "0.518482329633636",
         "Peak Height": "54.9607268575346",
         "Peak Volume": "379.659634647327",
         "Peak volume/nearest internal standard peak volume": "1.0",
         "Calculated d-alkane retention index": "2251.2",
         "matched retention index": "2252.0",
         "BlobID_2": "0",
         "Filter number": "202",
         "Mass concentration of compound (ng/m3)": "0.0",
         "_deepnote_index_column": "180"
        },
        {
         "BlobID1": "117",
         "1D Retention Time (min)": "66.1546802093719",
         "2D Retention Time (sec)": "0.528453143665052",
         "Peak Height": "11.6551731911313",
         "Peak Volume": "124.483308047034",
         "Peak volume/nearest internal standard peak volume": "1.0",
         "Calculated d-alkane retention index": "2646.72897196262",
         "matched retention index": "2648.0",
         "BlobID_2": "0",
         "Filter number": "202",
         "Mass concentration of compound (ng/m3)": "0.0",
         "_deepnote_index_column": "181"
        },
        {
         "BlobID1": "1485",
         "1D Retention Time (min)": "36.3193457436333",
         "2D Retention Time (sec)": "0.827577564607535",
         "Peak Height": "52.8754366021603",
         "Peak Volume": "547.325786615524",
         "Peak volume/nearest internal standard peak volume": "1.0",
         "Calculated d-alkane retention index": "1524.59016393443",
         "matched retention index": "1525.0",
         "BlobID_2": "0",
         "Filter number": "202",
         "Mass concentration of compound (ng/m3)": "0.0",
         "_deepnote_index_column": "182"
        },
        {
         "BlobID1": "166",
         "1D Retention Time (min)": "71.4063079597188",
         "2D Retention Time (sec)": "0.658073726073461",
         "Peak Height": "17.6685782852583",
         "Peak Volume": "205.09643542477",
         "Peak volume/nearest internal standard peak volume": "1.0",
         "Calculated d-alkane retention index": "2913.13131313131",
         "matched retention index": "2912.0",
         "BlobID_2": "0",
         "Filter number": "202",
         "Mass concentration of compound (ng/m3)": "0.0",
         "_deepnote_index_column": "183"
        },
        {
         "BlobID1": "130",
         "1D Retention Time (min)": "76.6198804365124",
         "2D Retention Time (sec)": "0.668044540104877",
         "Peak Height": "12.8494224182214",
         "Peak Volume": "182.230434105124",
         "Peak volume/nearest internal standard peak volume": "1.0",
         "Calculated d-alkane retention index": "3202.24719101124",
         "matched retention index": "3200.0",
         "BlobID_2": "0",
         "Filter number": "202",
         "Mass concentration of compound (ng/m3)": "0.0",
         "_deepnote_index_column": "184"
        },
        {
         "BlobID1": "1484",
         "1D Retention Time (min)": "26.6533062611109",
         "2D Retention Time (sec)": "0.727869424293374",
         "Peak Height": "4.02919630671386",
         "Peak Volume": "47.5408944310111",
         "Peak volume/nearest internal standard peak volume": "1.0",
         "Calculated d-alkane retention index": "1246.99453551913",
         "matched retention index": "1256.0",
         "BlobID_2": "0",
         "Filter number": "202",
         "Mass concentration of compound (ng/m3)": "0.0",
         "_deepnote_index_column": "185"
        },
        {
         "BlobID1": "30",
         "1D Retention Time (min)": "47.1650987063062",
         "2D Retention Time (sec)": "0.368920119162395",
         "Peak Height": "150.421477324795",
         "Peak Volume": "1406.94726460337",
         "Peak volume/nearest internal standard peak volume": "1.0",
         "Calculated d-alkane retention index": "1868.45637583893",
         "matched retention index": "1869.0",
         "BlobID_2": "0",
         "Filter number": "202",
         "Mass concentration of compound (ng/m3)": "0.0",
         "_deepnote_index_column": "186"
        },
        {
         "BlobID1": "138",
         "1D Retention Time (min)": "36.3193457436333",
         "2D Retention Time (sec)": "0.348978491099563",
         "Peak Height": "221.697874902748",
         "Peak Volume": "1680.97520739136",
         "Peak volume/nearest internal standard peak volume": "1.0",
         "Calculated d-alkane retention index": "1524.59016393443",
         "matched retention index": "1526.0",
         "BlobID_2": "0",
         "Filter number": "202",
         "Mass concentration of compound (ng/m3)": "0.0",
         "_deepnote_index_column": "187"
        },
        {
         "BlobID1": "1583",
         "1D Retention Time (min)": "34.036029330439",
         "2D Retention Time (sec)": "0.947227332984528",
         "Peak Height": "67.860799452872",
         "Peak Volume": "677.14363333747",
         "Peak volume/nearest internal standard peak volume": "1.0",
         "Calculated d-alkane retention index": "1459.01639344262",
         "matched retention index": "1458.0",
         "BlobID_2": "0",
         "Filter number": "202",
         "Mass concentration of compound (ng/m3)": "0.0",
         "_deepnote_index_column": "188"
        },
        {
         "BlobID1": "1456",
         "1D Retention Time (min)": "31.7527129172448",
         "2D Retention Time (sec)": "1.20646849780135",
         "Peak Height": "18.0014858171926",
         "Peak Volume": "235.080936450891",
         "Peak volume/nearest internal standard peak volume": "1.0",
         "Calculated d-alkane retention index": "1393.44262295082",
         "matched retention index": "1392.0",
         "BlobID_2": "0",
         "Filter number": "202",
         "Mass concentration of compound (ng/m3)": "0.0",
         "_deepnote_index_column": "189"
        }
       ]
      },
      "text/plain": "       BlobID1  1D Retention Time (min)  2D Retention Time (sec)  Peak Height  \\\n0          181                40.608204                 1.026330   105.022469   \n1         1553                40.037744                 1.414941    31.052483   \n2           62                63.502673                 1.135938     8.124082   \n3          776                27.259436                 1.355154   281.546460   \n4           61                32.013271                 0.328824   118.679093   \n...        ...                      ...                      ...          ...   \n44635     2811                40.312724                 0.981316     4.096229   \n44636     2812                40.274506                 1.131518   155.203347   \n44637     2813                40.045199                 0.891195   201.872901   \n44638     2818                45.892543                 0.931249     6.134070   \n44639     2838                46.389376                 0.540725     7.531315   \n\n       Peak Volume  Peak volume/nearest internal standard peak volume  \\\n0      1263.347317                                           1.000000   \n1       479.394947                                           1.000000   \n2       135.140907                                           1.000000   \n3      3376.619472                                           1.000000   \n4       946.665804                                           1.000000   \n...            ...                                                ...   \n44635    57.013969                                           0.019236   \n44636  1839.028248                                           0.620461   \n44637  2958.995344                                           0.998322   \n44638   124.792845                                           0.043840   \n44639   125.108783                                           0.157806   \n\n       Calculated d-alkane retention index  matched retention index  BlobID_2  \\\n0                              1652.439024                   1653.0         0   \n1                              1634.146341                   1633.0         0   \n2                              2524.561404                   2520.0         0   \n3                              1263.387978                   1277.0         0   \n4                              1400.000000                   1800.0         0   \n...                                    ...                      ...       ...   \n44635                          1644.171779                   1646.0       176   \n44636                          1642.944785                   1642.0       176   \n44637                          1635.582822                   1637.0       176   \n44638                          1825.675676                   1824.0       176   \n44639                          1843.243243                   1844.0       176   \n\n       Filter number  Mass concentration of compound (ng/m3)  \n0                201                                0.000000  \n1                201                                0.000000  \n2                201                                0.000000  \n3                201                                0.000000  \n4                201                                0.000000  \n...              ...                                     ...  \n44635              9                                0.783983  \n44636              9                              160.803335  \n44637              9                               24.473803  \n44638              9                                1.330786  \n44639              9                                6.878302  \n\n[43394 rows x 11 columns]",
      "text/html": "<div>\n<style scoped>\n    .dataframe tbody tr th:only-of-type {\n        vertical-align: middle;\n    }\n\n    .dataframe tbody tr th {\n        vertical-align: top;\n    }\n\n    .dataframe thead th {\n        text-align: right;\n    }\n</style>\n<table border=\"1\" class=\"dataframe\">\n  <thead>\n    <tr style=\"text-align: right;\">\n      <th></th>\n      <th>BlobID1</th>\n      <th>1D Retention Time (min)</th>\n      <th>2D Retention Time (sec)</th>\n      <th>Peak Height</th>\n      <th>Peak Volume</th>\n      <th>Peak volume/nearest internal standard peak volume</th>\n      <th>Calculated d-alkane retention index</th>\n      <th>matched retention index</th>\n      <th>BlobID_2</th>\n      <th>Filter number</th>\n      <th>Mass concentration of compound (ng/m3)</th>\n    </tr>\n  </thead>\n  <tbody>\n    <tr>\n      <th>0</th>\n      <td>181</td>\n      <td>40.608204</td>\n      <td>1.026330</td>\n      <td>105.022469</td>\n      <td>1263.347317</td>\n      <td>1.000000</td>\n      <td>1652.439024</td>\n      <td>1653.0</td>\n      <td>0</td>\n      <td>201</td>\n      <td>0.000000</td>\n    </tr>\n    <tr>\n      <th>1</th>\n      <td>1553</td>\n      <td>40.037744</td>\n      <td>1.414941</td>\n      <td>31.052483</td>\n      <td>479.394947</td>\n      <td>1.000000</td>\n      <td>1634.146341</td>\n      <td>1633.0</td>\n      <td>0</td>\n      <td>201</td>\n      <td>0.000000</td>\n    </tr>\n    <tr>\n      <th>2</th>\n      <td>62</td>\n      <td>63.502673</td>\n      <td>1.135938</td>\n      <td>8.124082</td>\n      <td>135.140907</td>\n      <td>1.000000</td>\n      <td>2524.561404</td>\n      <td>2520.0</td>\n      <td>0</td>\n      <td>201</td>\n      <td>0.000000</td>\n    </tr>\n    <tr>\n      <th>3</th>\n      <td>776</td>\n      <td>27.259436</td>\n      <td>1.355154</td>\n      <td>281.546460</td>\n      <td>3376.619472</td>\n      <td>1.000000</td>\n      <td>1263.387978</td>\n      <td>1277.0</td>\n      <td>0</td>\n      <td>201</td>\n      <td>0.000000</td>\n    </tr>\n    <tr>\n      <th>4</th>\n      <td>61</td>\n      <td>32.013271</td>\n      <td>0.328824</td>\n      <td>118.679093</td>\n      <td>946.665804</td>\n      <td>1.000000</td>\n      <td>1400.000000</td>\n      <td>1800.0</td>\n      <td>0</td>\n      <td>201</td>\n      <td>0.000000</td>\n    </tr>\n    <tr>\n      <th>...</th>\n      <td>...</td>\n      <td>...</td>\n      <td>...</td>\n      <td>...</td>\n      <td>...</td>\n      <td>...</td>\n      <td>...</td>\n      <td>...</td>\n      <td>...</td>\n      <td>...</td>\n      <td>...</td>\n    </tr>\n    <tr>\n      <th>44635</th>\n      <td>2811</td>\n      <td>40.312724</td>\n      <td>0.981316</td>\n      <td>4.096229</td>\n      <td>57.013969</td>\n      <td>0.019236</td>\n      <td>1644.171779</td>\n      <td>1646.0</td>\n      <td>176</td>\n      <td>9</td>\n      <td>0.783983</td>\n    </tr>\n    <tr>\n      <th>44636</th>\n      <td>2812</td>\n      <td>40.274506</td>\n      <td>1.131518</td>\n      <td>155.203347</td>\n      <td>1839.028248</td>\n      <td>0.620461</td>\n      <td>1642.944785</td>\n      <td>1642.0</td>\n      <td>176</td>\n      <td>9</td>\n      <td>160.803335</td>\n    </tr>\n    <tr>\n      <th>44637</th>\n      <td>2813</td>\n      <td>40.045199</td>\n      <td>0.891195</td>\n      <td>201.872901</td>\n      <td>2958.995344</td>\n      <td>0.998322</td>\n      <td>1635.582822</td>\n      <td>1637.0</td>\n      <td>176</td>\n      <td>9</td>\n      <td>24.473803</td>\n    </tr>\n    <tr>\n      <th>44638</th>\n      <td>2818</td>\n      <td>45.892543</td>\n      <td>0.931249</td>\n      <td>6.134070</td>\n      <td>124.792845</td>\n      <td>0.043840</td>\n      <td>1825.675676</td>\n      <td>1824.0</td>\n      <td>176</td>\n      <td>9</td>\n      <td>1.330786</td>\n    </tr>\n    <tr>\n      <th>44639</th>\n      <td>2838</td>\n      <td>46.389376</td>\n      <td>0.540725</td>\n      <td>7.531315</td>\n      <td>125.108783</td>\n      <td>0.157806</td>\n      <td>1843.243243</td>\n      <td>1844.0</td>\n      <td>176</td>\n      <td>9</td>\n      <td>6.878302</td>\n    </tr>\n  </tbody>\n</table>\n<p>43394 rows × 11 columns</p>\n</div>"
     },
     "metadata": {}
    }
   ],
   "execution_count": null
  },
  {
   "cell_type": "markdown",
   "source": "#### All_ShrubCovOnly_01_16.xlsx\n\nWe can also load in the data from All_ShrubCovOnly_01_16.xlsx to get information about what plants are present at certain sites. ",
   "metadata": {
    "cell_id": "7cba32a595d64d6480e89e4109a72c54",
    "tags": [],
    "deepnote_cell_type": "markdown",
    "deepnote_cell_height": 110.796875
   }
  },
  {
   "cell_type": "code",
   "metadata": {
    "cell_id": "5344093c415545ee8916480614c88458",
    "tags": [],
    "deepnote_to_be_reexecuted": false,
    "source_hash": "d4bd4cbb",
    "execution_start": 1663335209099,
    "execution_millis": 479,
    "deepnote_table_state": {
     "pageSize": 10,
     "pageIndex": 0,
     "filters": [],
     "sortBy": []
    },
    "deepnote_table_loading": false,
    "deepnote_cell_type": "code",
    "deepnote_cell_height": 649.4375
   },
   "source": "df_shrub = pd.read_excel(\"data/All_ShrubCovOnly_01_16.xlsx\", sheet_name=\"16\")\n\ndf_shrub",
   "outputs": [
    {
     "output_type": "execute_result",
     "execution_count": 102,
     "data": {
      "application/vnd.deepnote.dataframe.v3+json": {
       "column_count": 12,
       "row_count": 776,
       "columns": [
        {
         "name": "Unit",
         "dtype": "int64",
         "stats": {
          "unique_count": 12,
          "nan_count": 0,
          "min": "40",
          "max": "590",
          "histogram": [
           {
            "bin_start": 40,
            "bin_end": 95,
            "count": 85
           },
           {
            "bin_start": 95,
            "bin_end": 150,
            "count": 0
           },
           {
            "bin_start": 150,
            "bin_end": 205,
            "count": 168
           },
           {
            "bin_start": 205,
            "bin_end": 260,
            "count": 54
           },
           {
            "bin_start": 260,
            "bin_end": 315,
            "count": 0
           },
           {
            "bin_start": 315,
            "bin_end": 370,
            "count": 110
           },
           {
            "bin_start": 370,
            "bin_end": 425,
            "count": 170
           },
           {
            "bin_start": 425,
            "bin_end": 480,
            "count": 0
           },
           {
            "bin_start": 480,
            "bin_end": 535,
            "count": 63
           },
           {
            "bin_start": 535,
            "bin_end": 590,
            "count": 126
           }
          ]
         }
        },
        {
         "name": "Plot",
         "dtype": "int64",
         "stats": {
          "unique_count": 55,
          "nan_count": 0,
          "min": "2",
          "max": "130",
          "histogram": [
           {
            "bin_start": 2,
            "bin_end": 14.8,
            "count": 117
           },
           {
            "bin_start": 14.8,
            "bin_end": 27.6,
            "count": 89
           },
           {
            "bin_start": 27.6,
            "bin_end": 40.400000000000006,
            "count": 9
           },
           {
            "bin_start": 40.400000000000006,
            "bin_end": 53.2,
            "count": 8
           },
           {
            "bin_start": 53.2,
            "bin_end": 66,
            "count": 0
           },
           {
            "bin_start": 66,
            "bin_end": 78.80000000000001,
            "count": 0
           },
           {
            "bin_start": 78.80000000000001,
            "bin_end": 91.60000000000001,
            "count": 0
           },
           {
            "bin_start": 91.60000000000001,
            "bin_end": 104.4,
            "count": 121
           },
           {
            "bin_start": 104.4,
            "bin_end": 117.2,
            "count": 334
           },
           {
            "bin_start": 117.2,
            "bin_end": 130,
            "count": 98
           }
          ]
         }
        },
        {
         "name": "StandID",
         "dtype": "int64",
         "stats": {
          "unique_count": 229,
          "nan_count": 0,
          "min": "402",
          "max": "590118",
          "histogram": [
           {
            "bin_start": 402,
            "bin_end": 59373.6,
            "count": 245
           },
           {
            "bin_start": 59373.6,
            "bin_end": 118345.2,
            "count": 51
           },
           {
            "bin_start": 118345.2,
            "bin_end": 177316.8,
            "count": 0
           },
           {
            "bin_start": 177316.8,
            "bin_end": 236288.4,
            "count": 107
           },
           {
            "bin_start": 236288.4,
            "bin_end": 295260,
            "count": 33
           },
           {
            "bin_start": 295260,
            "bin_end": 354231.6,
            "count": 90
           },
           {
            "bin_start": 354231.6,
            "bin_end": 413203.2,
            "count": 124
           },
           {
            "bin_start": 413203.2,
            "bin_end": 472174.8,
            "count": 0
           },
           {
            "bin_start": 472174.8,
            "bin_end": 531146.4,
            "count": 34
           },
           {
            "bin_start": 531146.4,
            "bin_end": 590118,
            "count": 92
           }
          ]
         }
        },
        {
         "name": "Year",
         "dtype": "int64",
         "stats": {
          "unique_count": 1,
          "nan_count": 0,
          "min": "2016",
          "max": "2016",
          "histogram": [
           {
            "bin_start": 2015.5,
            "bin_end": 2015.6,
            "count": 0
           },
           {
            "bin_start": 2015.6,
            "bin_end": 2015.7,
            "count": 0
           },
           {
            "bin_start": 2015.7,
            "bin_end": 2015.8,
            "count": 0
           },
           {
            "bin_start": 2015.8,
            "bin_end": 2015.9,
            "count": 0
           },
           {
            "bin_start": 2015.9,
            "bin_end": 2016,
            "count": 0
           },
           {
            "bin_start": 2016,
            "bin_end": 2016.1,
            "count": 776
           },
           {
            "bin_start": 2016.1,
            "bin_end": 2016.2,
            "count": 0
           },
           {
            "bin_start": 2016.2,
            "bin_end": 2016.3,
            "count": 0
           },
           {
            "bin_start": 2016.3,
            "bin_end": 2016.4,
            "count": 0
           },
           {
            "bin_start": 2016.4,
            "bin_end": 2016.5,
            "count": 0
           }
          ]
         }
        },
        {
         "name": "Species",
         "dtype": "object",
         "stats": {
          "unique_count": 12,
          "nan_count": 0,
          "categories": [
           {
            "name": "CEIN",
            "count": 166
           },
           {
            "name": "RIRO",
            "count": 160
           },
           {
            "name": "10 others",
            "count": 450
           }
          ]
         }
        },
        {
         "name": "Stature",
         "dtype": "object",
         "stats": {
          "unique_count": 2,
          "nan_count": 0,
          "categories": [
           {
            "name": "Tall",
            "count": 409
           },
           {
            "name": "Short",
            "count": 367
           }
          ]
         }
        },
        {
         "name": "Pcover",
         "dtype": "int64",
         "stats": {
          "unique_count": 37,
          "nan_count": 0,
          "min": "0",
          "max": "94",
          "histogram": [
           {
            "bin_start": 0,
            "bin_end": 9.4,
            "count": 619
           },
           {
            "bin_start": 9.4,
            "bin_end": 18.8,
            "count": 70
           },
           {
            "bin_start": 18.8,
            "bin_end": 28.200000000000003,
            "count": 25
           },
           {
            "bin_start": 28.200000000000003,
            "bin_end": 37.6,
            "count": 20
           },
           {
            "bin_start": 37.6,
            "bin_end": 47,
            "count": 11
           },
           {
            "bin_start": 47,
            "bin_end": 56.400000000000006,
            "count": 11
           },
           {
            "bin_start": 56.400000000000006,
            "bin_end": 65.8,
            "count": 5
           },
           {
            "bin_start": 65.8,
            "bin_end": 75.2,
            "count": 8
           },
           {
            "bin_start": 75.2,
            "bin_end": 84.60000000000001,
            "count": 3
           },
           {
            "bin_start": 84.60000000000001,
            "bin_end": 94,
            "count": 4
           }
          ]
         }
        },
        {
         "name": "Aveht",
         "dtype": "float64",
         "stats": {
          "unique_count": 20,
          "nan_count": 0,
          "min": "0.0",
          "max": "15.0",
          "histogram": [
           {
            "bin_start": 0,
            "bin_end": 1.5,
            "count": 405
           },
           {
            "bin_start": 1.5,
            "bin_end": 3,
            "count": 90
           },
           {
            "bin_start": 3,
            "bin_end": 4.5,
            "count": 125
           },
           {
            "bin_start": 4.5,
            "bin_end": 6,
            "count": 67
           },
           {
            "bin_start": 6,
            "bin_end": 7.5,
            "count": 70
           },
           {
            "bin_start": 7.5,
            "bin_end": 9,
            "count": 9
           },
           {
            "bin_start": 9,
            "bin_end": 10.5,
            "count": 8
           },
           {
            "bin_start": 10.5,
            "bin_end": 12,
            "count": 0
           },
           {
            "bin_start": 12,
            "bin_end": 13.5,
            "count": 1
           },
           {
            "bin_start": 13.5,
            "bin_end": 15,
            "count": 1
           }
          ]
         }
        },
        {
         "name": "Unnamed: 8",
         "dtype": "float64",
         "stats": {
          "unique_count": 0,
          "nan_count": 776,
          "min": null,
          "max": null,
          "histogram": [
           {
            "bin_start": 0,
            "bin_end": 0.1,
            "count": 0
           },
           {
            "bin_start": 0.1,
            "bin_end": 0.2,
            "count": 0
           },
           {
            "bin_start": 0.2,
            "bin_end": 0.30000000000000004,
            "count": 0
           },
           {
            "bin_start": 0.30000000000000004,
            "bin_end": 0.4,
            "count": 0
           },
           {
            "bin_start": 0.4,
            "bin_end": 0.5,
            "count": 0
           },
           {
            "bin_start": 0.5,
            "bin_end": 0.6000000000000001,
            "count": 0
           },
           {
            "bin_start": 0.6000000000000001,
            "bin_end": 0.7000000000000001,
            "count": 0
           },
           {
            "bin_start": 0.7000000000000001,
            "bin_end": 0.8,
            "count": 0
           },
           {
            "bin_start": 0.8,
            "bin_end": 0.9,
            "count": 0
           },
           {
            "bin_start": 0.9,
            "bin_end": 1,
            "count": 0
           }
          ]
         }
        },
        {
         "name": "Unnamed: 9",
         "dtype": "object",
         "stats": {
          "unique_count": 231,
          "nan_count": 545,
          "categories": [
           {
            "name": "Sum of Pcover",
            "count": 1
           },
           {
            "name": "230 others",
            "count": 230
           },
           {
            "name": "Missing",
            "count": 545
           }
          ]
         }
        },
        {
         "name": "Unnamed: 10",
         "dtype": "object",
         "stats": {
          "unique_count": 21,
          "nan_count": 576,
          "categories": [
           {
            "name": "0",
            "count": 111
           },
           {
            "name": "20 others",
            "count": 89
           },
           {
            "name": "Missing",
            "count": 576
           }
          ]
         }
        },
        {
         "name": "Unnamed: 11",
         "dtype": "object",
         "stats": {
          "unique_count": 55,
          "nan_count": 557,
          "categories": [
           {
            "name": "0",
            "count": 30
           },
           {
            "name": "54 others",
            "count": 189
           },
           {
            "name": "Missing",
            "count": 557
           }
          ]
         }
        },
        {
         "name": "_deepnote_index_column",
         "dtype": "int64"
        }
       ],
       "rows": [
        {
         "Unit": "40",
         "Plot": "2",
         "StandID": "402",
         "Year": "2016",
         "Species": "LIDE",
         "Stature": "Tall",
         "Pcover": "2",
         "Aveht": "6.0",
         "Unnamed: 8": "nan",
         "Unnamed: 9": "Sum of Pcover",
         "Unnamed: 10": "Column Labels",
         "Unnamed: 11": "nan",
         "_deepnote_index_column": "0"
        },
        {
         "Unit": "40",
         "Plot": "3",
         "StandID": "403",
         "Year": "2016",
         "Species": "LIDE",
         "Stature": "Tall",
         "Pcover": "4",
         "Aveht": "3.0",
         "Unnamed: 8": "nan",
         "Unnamed: 9": "Row Labels",
         "Unnamed: 10": "Short",
         "Unnamed: 11": "Tall",
         "_deepnote_index_column": "1"
        },
        {
         "Unit": "40",
         "Plot": "3",
         "StandID": "403",
         "Year": "2016",
         "Species": "SYMO",
         "Stature": "Short",
         "Pcover": "2",
         "Aveht": "0.5",
         "Unnamed: 8": "nan",
         "Unnamed: 9": "18010",
         "Unnamed: 10": "2",
         "Unnamed: 11": "35",
         "_deepnote_index_column": "2"
        },
        {
         "Unit": "40",
         "Plot": "7",
         "StandID": "407",
         "Year": "2016",
         "Species": "LIDE",
         "Stature": "Tall",
         "Pcover": "8",
         "Aveht": "4.0",
         "Unnamed: 8": "nan",
         "Unnamed: 9": "180101",
         "Unnamed: 10": "4",
         "Unnamed: 11": "90",
         "_deepnote_index_column": "3"
        },
        {
         "Unit": "40",
         "Plot": "12",
         "StandID": "4012",
         "Year": "2016",
         "Species": "LIDE",
         "Stature": "Tall",
         "Pcover": "30",
         "Aveht": "3.0",
         "Unnamed: 8": "nan",
         "Unnamed: 9": "180102",
         "Unnamed: 10": "0",
         "Unnamed: 11": "60",
         "_deepnote_index_column": "4"
        },
        {
         "Unit": "40",
         "Plot": "101",
         "StandID": "40101",
         "Year": "2016",
         "Species": "LIDE",
         "Stature": "Tall",
         "Pcover": "2",
         "Aveht": "5.0",
         "Unnamed: 8": "nan",
         "Unnamed: 9": "180106",
         "Unnamed: 10": "9",
         "Unnamed: 11": "44",
         "_deepnote_index_column": "5"
        },
        {
         "Unit": "40",
         "Plot": "103",
         "StandID": "40103",
         "Year": "2016",
         "Species": "LIDE",
         "Stature": "Tall",
         "Pcover": "10",
         "Aveht": "5.0",
         "Unnamed: 8": "nan",
         "Unnamed: 9": "180107",
         "Unnamed: 10": "5",
         "Unnamed: 11": "80",
         "_deepnote_index_column": "6"
        },
        {
         "Unit": "40",
         "Plot": "104",
         "StandID": "40104",
         "Year": "2016",
         "Species": "RIRO",
         "Stature": "Short",
         "Pcover": "0",
         "Aveht": "0.0",
         "Unnamed: 8": "nan",
         "Unnamed: 9": "180108",
         "Unnamed: 10": "26",
         "Unnamed: 11": "34",
         "_deepnote_index_column": "7"
        },
        {
         "Unit": "40",
         "Plot": "105",
         "StandID": "40105",
         "Year": "2016",
         "Species": "CEIN",
         "Stature": "Tall",
         "Pcover": "15",
         "Aveht": "8.0",
         "Unnamed: 8": "nan",
         "Unnamed: 9": "180109",
         "Unnamed: 10": "22",
         "Unnamed: 11": "21",
         "_deepnote_index_column": "8"
        },
        {
         "Unit": "40",
         "Plot": "105",
         "StandID": "40105",
         "Year": "2016",
         "Species": "LIDE",
         "Stature": "Tall",
         "Pcover": "15",
         "Aveht": "4.0",
         "Unnamed: 8": "nan",
         "Unnamed: 9": "180110",
         "Unnamed: 10": "6",
         "Unnamed: 11": "76",
         "_deepnote_index_column": "9"
        }
       ]
      },
      "text/plain": "     Unit  Plot  StandID  Year Species Stature  Pcover  Aveht  Unnamed: 8  \\\n0      40     2      402  2016    LIDE    Tall       2    6.0         NaN   \n1      40     3      403  2016    LIDE    Tall       4    3.0         NaN   \n2      40     3      403  2016    SYMO   Short       2    0.5         NaN   \n3      40     7      407  2016    LIDE    Tall       8    4.0         NaN   \n4      40    12     4012  2016    LIDE    Tall      30    3.0         NaN   \n..    ...   ...      ...   ...     ...     ...     ...    ...         ...   \n771   590   117   590117  2016    ROGY   Short       2    0.5         NaN   \n772   590   118   590118  2016    ARPA    Tall       2    1.5         NaN   \n773   590   118   590118  2016    CEIN    Tall      10    5.0         NaN   \n774   590   118   590118  2016    CHFO   Short       2    0.0         NaN   \n775   590   118   590118  2016    ROGY   Short       2    0.5         NaN   \n\n        Unnamed: 9    Unnamed: 10 Unnamed: 11  \n0    Sum of Pcover  Column Labels         NaN  \n1       Row Labels          Short        Tall  \n2            18010              2          35  \n3           180101              4          90  \n4           180102              0          60  \n..             ...            ...         ...  \n771            NaN            NaN         NaN  \n772            NaN            NaN         NaN  \n773            NaN            NaN         NaN  \n774            NaN            NaN         NaN  \n775            NaN            NaN         NaN  \n\n[776 rows x 12 columns]",
      "text/html": "<div>\n<style scoped>\n    .dataframe tbody tr th:only-of-type {\n        vertical-align: middle;\n    }\n\n    .dataframe tbody tr th {\n        vertical-align: top;\n    }\n\n    .dataframe thead th {\n        text-align: right;\n    }\n</style>\n<table border=\"1\" class=\"dataframe\">\n  <thead>\n    <tr style=\"text-align: right;\">\n      <th></th>\n      <th>Unit</th>\n      <th>Plot</th>\n      <th>StandID</th>\n      <th>Year</th>\n      <th>Species</th>\n      <th>Stature</th>\n      <th>Pcover</th>\n      <th>Aveht</th>\n      <th>Unnamed: 8</th>\n      <th>Unnamed: 9</th>\n      <th>Unnamed: 10</th>\n      <th>Unnamed: 11</th>\n    </tr>\n  </thead>\n  <tbody>\n    <tr>\n      <th>0</th>\n      <td>40</td>\n      <td>2</td>\n      <td>402</td>\n      <td>2016</td>\n      <td>LIDE</td>\n      <td>Tall</td>\n      <td>2</td>\n      <td>6.0</td>\n      <td>NaN</td>\n      <td>Sum of Pcover</td>\n      <td>Column Labels</td>\n      <td>NaN</td>\n    </tr>\n    <tr>\n      <th>1</th>\n      <td>40</td>\n      <td>3</td>\n      <td>403</td>\n      <td>2016</td>\n      <td>LIDE</td>\n      <td>Tall</td>\n      <td>4</td>\n      <td>3.0</td>\n      <td>NaN</td>\n      <td>Row Labels</td>\n      <td>Short</td>\n      <td>Tall</td>\n    </tr>\n    <tr>\n      <th>2</th>\n      <td>40</td>\n      <td>3</td>\n      <td>403</td>\n      <td>2016</td>\n      <td>SYMO</td>\n      <td>Short</td>\n      <td>2</td>\n      <td>0.5</td>\n      <td>NaN</td>\n      <td>18010</td>\n      <td>2</td>\n      <td>35</td>\n    </tr>\n    <tr>\n      <th>3</th>\n      <td>40</td>\n      <td>7</td>\n      <td>407</td>\n      <td>2016</td>\n      <td>LIDE</td>\n      <td>Tall</td>\n      <td>8</td>\n      <td>4.0</td>\n      <td>NaN</td>\n      <td>180101</td>\n      <td>4</td>\n      <td>90</td>\n    </tr>\n    <tr>\n      <th>4</th>\n      <td>40</td>\n      <td>12</td>\n      <td>4012</td>\n      <td>2016</td>\n      <td>LIDE</td>\n      <td>Tall</td>\n      <td>30</td>\n      <td>3.0</td>\n      <td>NaN</td>\n      <td>180102</td>\n      <td>0</td>\n      <td>60</td>\n    </tr>\n    <tr>\n      <th>...</th>\n      <td>...</td>\n      <td>...</td>\n      <td>...</td>\n      <td>...</td>\n      <td>...</td>\n      <td>...</td>\n      <td>...</td>\n      <td>...</td>\n      <td>...</td>\n      <td>...</td>\n      <td>...</td>\n      <td>...</td>\n    </tr>\n    <tr>\n      <th>771</th>\n      <td>590</td>\n      <td>117</td>\n      <td>590117</td>\n      <td>2016</td>\n      <td>ROGY</td>\n      <td>Short</td>\n      <td>2</td>\n      <td>0.5</td>\n      <td>NaN</td>\n      <td>NaN</td>\n      <td>NaN</td>\n      <td>NaN</td>\n    </tr>\n    <tr>\n      <th>772</th>\n      <td>590</td>\n      <td>118</td>\n      <td>590118</td>\n      <td>2016</td>\n      <td>ARPA</td>\n      <td>Tall</td>\n      <td>2</td>\n      <td>1.5</td>\n      <td>NaN</td>\n      <td>NaN</td>\n      <td>NaN</td>\n      <td>NaN</td>\n    </tr>\n    <tr>\n      <th>773</th>\n      <td>590</td>\n      <td>118</td>\n      <td>590118</td>\n      <td>2016</td>\n      <td>CEIN</td>\n      <td>Tall</td>\n      <td>10</td>\n      <td>5.0</td>\n      <td>NaN</td>\n      <td>NaN</td>\n      <td>NaN</td>\n      <td>NaN</td>\n    </tr>\n    <tr>\n      <th>774</th>\n      <td>590</td>\n      <td>118</td>\n      <td>590118</td>\n      <td>2016</td>\n      <td>CHFO</td>\n      <td>Short</td>\n      <td>2</td>\n      <td>0.0</td>\n      <td>NaN</td>\n      <td>NaN</td>\n      <td>NaN</td>\n      <td>NaN</td>\n    </tr>\n    <tr>\n      <th>775</th>\n      <td>590</td>\n      <td>118</td>\n      <td>590118</td>\n      <td>2016</td>\n      <td>ROGY</td>\n      <td>Short</td>\n      <td>2</td>\n      <td>0.5</td>\n      <td>NaN</td>\n      <td>NaN</td>\n      <td>NaN</td>\n      <td>NaN</td>\n    </tr>\n  </tbody>\n</table>\n<p>776 rows × 12 columns</p>\n</div>"
     },
     "metadata": {}
    }
   ],
   "execution_count": null
  },
  {
   "cell_type": "markdown",
   "source": "#### BFRSPlantCodes.xlsx\n\nNow the data from BFRSPlantCodes.xlsx is read in to get information that links the shorthand code name to the real plant name.",
   "metadata": {
    "cell_id": "10f840ac5c0c458e8ac9fca54774eebe",
    "tags": [],
    "deepnote_cell_type": "markdown",
    "deepnote_cell_height": 110.796875
   }
  },
  {
   "cell_type": "code",
   "metadata": {
    "cell_id": "089756cbcc94428db284832a717a0ad8",
    "tags": [],
    "deepnote_to_be_reexecuted": false,
    "source_hash": "cf2da5c7",
    "execution_start": 1663335211474,
    "execution_millis": 114,
    "deepnote_cell_type": "code",
    "deepnote_cell_height": 644.4375
   },
   "source": "df_plantnames = pd.read_excel(\"data/BFRSPlantCodes.xlsx\")\n\ndf_plantnames",
   "outputs": [
    {
     "output_type": "execute_result",
     "execution_count": 103,
     "data": {
      "application/vnd.deepnote.dataframe.v3+json": {
       "column_count": 7,
       "row_count": 337,
       "columns": [
        {
         "name": "Sp-Code",
         "dtype": "object",
         "stats": {
          "unique_count": 303,
          "nan_count": 33,
          "categories": [
           {
            "name": "RUHIP",
            "count": 2
           },
           {
            "name": "302 others",
            "count": 302
           },
           {
            "name": "Missing",
            "count": 33
           }
          ]
         }
        },
        {
         "name": "Name",
         "dtype": "object",
         "stats": {
          "unique_count": 336,
          "nan_count": 0,
          "categories": [
           {
            "name": "Rudbeckia hirta var pulcherrima",
            "count": 2
           },
           {
            "name": "Galium",
            "count": 1
           },
           {
            "name": "334 others",
            "count": 334
           }
          ]
         }
        },
        {
         "name": "Common",
         "dtype": "object",
         "stats": {
          "unique_count": 181,
          "nan_count": 142,
          "categories": [
           {
            "name": "Cinquefoil",
            "count": 4
           },
           {
            "name": "180 others",
            "count": 191
           },
           {
            "name": "Missing",
            "count": 142
           }
          ]
         }
        },
        {
         "name": "Family",
         "dtype": "object",
         "stats": {
          "unique_count": 74,
          "nan_count": 6,
          "categories": [
           {
            "name": "Asteraceae (Compositae)",
            "count": 37
           },
           {
            "name": "73 others",
            "count": 294
           },
           {
            "name": "Missing",
            "count": 6
           }
          ]
         }
        },
        {
         "name": "Sp-Notes",
         "dtype": "object",
         "stats": {
          "unique_count": 69,
          "nan_count": 245,
          "categories": [
           {
            "name": "Name change, Jepson '93.",
            "count": 12
           },
           {
            "name": "68 others",
            "count": 80
           },
           {
            "name": "Missing",
            "count": 245
           }
          ]
         }
        },
        {
         "name": "BFRSCode",
         "dtype": "object",
         "stats": {
          "unique_count": 326,
          "nan_count": 3,
          "categories": [
           {
            "name": "CAM-",
            "count": 2
           },
           {
            "name": "325 others",
            "count": 332
           },
           {
            "name": "Missing",
            "count": 3
           }
          ]
         }
        },
        {
         "name": "Unnamed: 6",
         "dtype": "float64",
         "stats": {
          "unique_count": 0,
          "nan_count": 337,
          "min": null,
          "max": null,
          "histogram": [
           {
            "bin_start": 0,
            "bin_end": 0.1,
            "count": 0
           },
           {
            "bin_start": 0.1,
            "bin_end": 0.2,
            "count": 0
           },
           {
            "bin_start": 0.2,
            "bin_end": 0.30000000000000004,
            "count": 0
           },
           {
            "bin_start": 0.30000000000000004,
            "bin_end": 0.4,
            "count": 0
           },
           {
            "bin_start": 0.4,
            "bin_end": 0.5,
            "count": 0
           },
           {
            "bin_start": 0.5,
            "bin_end": 0.6000000000000001,
            "count": 0
           },
           {
            "bin_start": 0.6000000000000001,
            "bin_end": 0.7000000000000001,
            "count": 0
           },
           {
            "bin_start": 0.7000000000000001,
            "bin_end": 0.8,
            "count": 0
           },
           {
            "bin_start": 0.8,
            "bin_end": 0.9,
            "count": 0
           },
           {
            "bin_start": 0.9,
            "bin_end": 1,
            "count": 0
           }
          ]
         }
        },
        {
         "name": "_deepnote_index_column",
         "dtype": "int64"
        }
       ],
       "rows": [
        {
         "Sp-Code": "GAL-1",
         "Name": "Galium",
         "Common": "Bedstraw",
         "Family": "Rubiaceae",
         "Sp-Notes": "??????????????",
         "BFRSCode": "nan",
         "Unnamed: 6": "nan",
         "_deepnote_index_column": "0"
        },
        {
         "Sp-Code": "CRUCIF",
         "Name": "Brassicaceae (Cruciferae)",
         "Common": "Mustard Family",
         "Family": "Brassicaceae (Cruciferae)",
         "Sp-Notes": "nan",
         "BFRSCode": "nan",
         "Unnamed: 6": "nan",
         "_deepnote_index_column": "1"
        },
        {
         "Sp-Code": "CHGR-1",
         "Name": "Cheilanthes gracillima",
         "Common": "nan",
         "Family": "Pteridaceae (fern)",
         "Sp-Notes": "nan",
         "BFRSCode": "nan",
         "Unnamed: 6": "nan",
         "_deepnote_index_column": "2"
        },
        {
         "Sp-Code": "STLE-1",
         "Name": "Achnatherum lemmonii (Stipa l.)",
         "Common": "nan",
         "Family": "Poaceae (Gramineae)(Stipeae)",
         "Sp-Notes": "Name change, Jepson '93.",
         "BFRSCode": "ACLE (STLE)",
         "Unnamed: 6": "nan",
         "_deepnote_index_column": "3"
        },
        {
         "Sp-Code": "ACMA",
         "Name": "Acer macrophyllum",
         "Common": "Bigleaf Maple",
         "Family": "Aceraceae",
         "Sp-Notes": "nan",
         "BFRSCode": "ACMA",
         "Unnamed: 6": "nan",
         "_deepnote_index_column": "4"
        },
        {
         "Sp-Code": "ACH-1",
         "Name": "Achillea millefolium",
         "Common": "Yarrow",
         "Family": "Asteraceae (Compositae)",
         "Sp-Notes": "Single species recognized in California by Jepson '93.",
         "BFRSCode": "ACMI",
         "Unnamed: 6": "nan",
         "_deepnote_index_column": "5"
        },
        {
         "Sp-Code": "STCA-1",
         "Name": "Achnatherum occidentalis (Stipa californica)",
         "Common": "nan",
         "Family": "Poaceae (Gramineae)(Stipeae)",
         "Sp-Notes": "Name change, Jepson '93.",
         "BFRSCode": "ACOC (STCA)",
         "Unnamed: 6": "nan",
         "_deepnote_index_column": "6"
        },
        {
         "Sp-Code": "ADBI",
         "Name": "Adenocaulon bicolor",
         "Common": "Trail Plant, Trail marker, path finder",
         "Family": "Asteraceae (Compositae)",
         "Sp-Notes": "nan",
         "BFRSCode": "ADBI",
         "Unnamed: 6": "nan",
         "_deepnote_index_column": "7"
        },
        {
         "Sp-Code": "AGEX-1",
         "Name": "Agrostis exarata",
         "Common": "nan",
         "Family": "Poaceae (Gramineae)(Agrostideae)",
         "Sp-Notes": "nan",
         "BFRSCode": "AGEX",
         "Unnamed: 6": "nan",
         "_deepnote_index_column": "8"
        },
        {
         "Sp-Code": "AGRE-2",
         "Name": "Agoseris retrorsa",
         "Common": "Mountain dandelion",
         "Family": "Asteraceae (Compositae)",
         "Sp-Notes": "nan",
         "BFRSCode": "AGRE",
         "Unnamed: 6": "nan",
         "_deepnote_index_column": "9"
        }
       ]
      },
      "text/plain": "    Sp-Code                                             Name  \\\n0     GAL-1                                           Galium   \n1    CRUCIF                        Brassicaceae (Cruciferae)   \n2    CHGR-1                           Cheilanthes gracillima   \n3    STLE-1                  Achnatherum lemmonii (Stipa l.)   \n4      ACMA                                Acer macrophyllum   \n..      ...                                              ...   \n332   VIO-1                                       Viola spp.   \n333  VIOLAC                                        Violaceae   \n334    VIPU  Viola purpurea  (some subspecies = new species)   \n335    WHDE                                Whitneya dealbata   \n336    WOFI                             Woodwardia fimbriata   \n\n               Common                        Family  \\\n0            Bedstraw                     Rubiaceae   \n1      Mustard Family     Brassicaceae (Cruciferae)   \n2                 NaN            Pteridaceae (fern)   \n3                 NaN  Poaceae (Gramineae)(Stipeae)   \n4       Bigleaf Maple                     Aceraceae   \n..                ...                           ...   \n332            Violet                     Violaceae   \n333     Violet Family                     Violaceae   \n334               NaN                     Violaceae   \n335               NaN       Asteraceae (Compositae)   \n336  Giant Chain Fern            Blechnaceae (fern)   \n\n                                              Sp-Notes     BFRSCode  \\\n0                                       ??????????????          NaN   \n1                                                  NaN          NaN   \n2                                                  NaN          NaN   \n3                             Name change, Jepson '93.  ACLE (STLE)   \n4                                                  NaN         ACMA   \n..                                                 ...          ...   \n332                                                NaN         VIO-   \n333                                                NaN         VIOZ   \n334  Several new species described from this specie...         VIPU   \n335                                                NaN         WHDE   \n336                                                NaN         WOFI   \n\n     Unnamed: 6  \n0           NaN  \n1           NaN  \n2           NaN  \n3           NaN  \n4           NaN  \n..          ...  \n332         NaN  \n333         NaN  \n334         NaN  \n335         NaN  \n336         NaN  \n\n[337 rows x 7 columns]",
      "text/html": "<div>\n<style scoped>\n    .dataframe tbody tr th:only-of-type {\n        vertical-align: middle;\n    }\n\n    .dataframe tbody tr th {\n        vertical-align: top;\n    }\n\n    .dataframe thead th {\n        text-align: right;\n    }\n</style>\n<table border=\"1\" class=\"dataframe\">\n  <thead>\n    <tr style=\"text-align: right;\">\n      <th></th>\n      <th>Sp-Code</th>\n      <th>Name</th>\n      <th>Common</th>\n      <th>Family</th>\n      <th>Sp-Notes</th>\n      <th>BFRSCode</th>\n      <th>Unnamed: 6</th>\n    </tr>\n  </thead>\n  <tbody>\n    <tr>\n      <th>0</th>\n      <td>GAL-1</td>\n      <td>Galium</td>\n      <td>Bedstraw</td>\n      <td>Rubiaceae</td>\n      <td>??????????????</td>\n      <td>NaN</td>\n      <td>NaN</td>\n    </tr>\n    <tr>\n      <th>1</th>\n      <td>CRUCIF</td>\n      <td>Brassicaceae (Cruciferae)</td>\n      <td>Mustard Family</td>\n      <td>Brassicaceae (Cruciferae)</td>\n      <td>NaN</td>\n      <td>NaN</td>\n      <td>NaN</td>\n    </tr>\n    <tr>\n      <th>2</th>\n      <td>CHGR-1</td>\n      <td>Cheilanthes gracillima</td>\n      <td>NaN</td>\n      <td>Pteridaceae (fern)</td>\n      <td>NaN</td>\n      <td>NaN</td>\n      <td>NaN</td>\n    </tr>\n    <tr>\n      <th>3</th>\n      <td>STLE-1</td>\n      <td>Achnatherum lemmonii (Stipa l.)</td>\n      <td>NaN</td>\n      <td>Poaceae (Gramineae)(Stipeae)</td>\n      <td>Name change, Jepson '93.</td>\n      <td>ACLE (STLE)</td>\n      <td>NaN</td>\n    </tr>\n    <tr>\n      <th>4</th>\n      <td>ACMA</td>\n      <td>Acer macrophyllum</td>\n      <td>Bigleaf Maple</td>\n      <td>Aceraceae</td>\n      <td>NaN</td>\n      <td>ACMA</td>\n      <td>NaN</td>\n    </tr>\n    <tr>\n      <th>...</th>\n      <td>...</td>\n      <td>...</td>\n      <td>...</td>\n      <td>...</td>\n      <td>...</td>\n      <td>...</td>\n      <td>...</td>\n    </tr>\n    <tr>\n      <th>332</th>\n      <td>VIO-1</td>\n      <td>Viola spp.</td>\n      <td>Violet</td>\n      <td>Violaceae</td>\n      <td>NaN</td>\n      <td>VIO-</td>\n      <td>NaN</td>\n    </tr>\n    <tr>\n      <th>333</th>\n      <td>VIOLAC</td>\n      <td>Violaceae</td>\n      <td>Violet Family</td>\n      <td>Violaceae</td>\n      <td>NaN</td>\n      <td>VIOZ</td>\n      <td>NaN</td>\n    </tr>\n    <tr>\n      <th>334</th>\n      <td>VIPU</td>\n      <td>Viola purpurea  (some subspecies = new species)</td>\n      <td>NaN</td>\n      <td>Violaceae</td>\n      <td>Several new species described from this specie...</td>\n      <td>VIPU</td>\n      <td>NaN</td>\n    </tr>\n    <tr>\n      <th>335</th>\n      <td>WHDE</td>\n      <td>Whitneya dealbata</td>\n      <td>NaN</td>\n      <td>Asteraceae (Compositae)</td>\n      <td>NaN</td>\n      <td>WHDE</td>\n      <td>NaN</td>\n    </tr>\n    <tr>\n      <th>336</th>\n      <td>WOFI</td>\n      <td>Woodwardia fimbriata</td>\n      <td>Giant Chain Fern</td>\n      <td>Blechnaceae (fern)</td>\n      <td>NaN</td>\n      <td>WOFI</td>\n      <td>NaN</td>\n    </tr>\n  </tbody>\n</table>\n<p>337 rows × 7 columns</p>\n</div>"
     },
     "metadata": {}
    }
   ],
   "execution_count": null
  },
  {
   "cell_type": "markdown",
   "source": "#### Run_Log.xlsx\n\nWe can also load in the data from Run_Log.xlsx for data collected during the flight and ground collections. ",
   "metadata": {
    "cell_id": "8718541663b246c3b501f05f15cac257",
    "tags": [],
    "deepnote_cell_type": "markdown",
    "deepnote_cell_height": 110.796875
   }
  },
  {
   "cell_type": "code",
   "source": "df_filter_flight = pd.read_excel(\"data/Run_Log.xlsx\", sheet_name=\"Flight Log\")\n\ndf_filter_flight",
   "metadata": {
    "cell_id": "6932fa7c283c4b5ca263657f92149bdd",
    "tags": [],
    "deepnote_to_be_reexecuted": false,
    "source_hash": "671c102c",
    "execution_start": 1663335214133,
    "execution_millis": 304,
    "deepnote_table_state": {
     "pageSize": 10,
     "pageIndex": 0,
     "filters": [],
     "sortBy": []
    },
    "deepnote_table_loading": false,
    "deepnote_cell_type": "code",
    "deepnote_cell_height": 649.4375
   },
   "outputs": [
    {
     "output_type": "execute_result",
     "execution_count": 104,
     "data": {
      "application/vnd.deepnote.dataframe.v3+json": {
       "column_count": 27,
       "row_count": 48,
       "columns": [
        {
         "name": "Date",
         "dtype": "object",
         "stats": {
          "unique_count": 4,
          "nan_count": 3,
          "categories": [
           {
            "name": "2017-10-31 00:00:00",
            "count": 18
           },
           {
            "name": "3 others",
            "count": 27
           },
           {
            "name": "Missing",
            "count": 3
           }
          ]
         }
        },
        {
         "name": "Plot Number",
         "dtype": "float64",
         "stats": {
          "unique_count": 4,
          "nan_count": 4,
          "min": "0.0",
          "max": "400.0",
          "histogram": [
           {
            "bin_start": 0,
            "bin_end": 40,
            "count": 2
           },
           {
            "bin_start": 40,
            "bin_end": 80,
            "count": 16
           },
           {
            "bin_start": 80,
            "bin_end": 120,
            "count": 0
           },
           {
            "bin_start": 120,
            "bin_end": 160,
            "count": 0
           },
           {
            "bin_start": 160,
            "bin_end": 200,
            "count": 0
           },
           {
            "bin_start": 200,
            "bin_end": 240,
            "count": 0
           },
           {
            "bin_start": 240,
            "bin_end": 280,
            "count": 0
           },
           {
            "bin_start": 280,
            "bin_end": 320,
            "count": 0
           },
           {
            "bin_start": 320,
            "bin_end": 360,
            "count": 8
           },
           {
            "bin_start": 360,
            "bin_end": 400,
            "count": 18
           }
          ]
         }
        },
        {
         "name": "Flight #",
         "dtype": "float64",
         "stats": {
          "unique_count": 22,
          "nan_count": 4,
          "min": "1.0",
          "max": "22.0",
          "histogram": [
           {
            "bin_start": 1,
            "bin_end": 3.1,
            "count": 6
           },
           {
            "bin_start": 3.1,
            "bin_end": 5.2,
            "count": 4
           },
           {
            "bin_start": 5.2,
            "bin_end": 7.300000000000001,
            "count": 4
           },
           {
            "bin_start": 7.300000000000001,
            "bin_end": 9.4,
            "count": 4
           },
           {
            "bin_start": 9.4,
            "bin_end": 11.5,
            "count": 4
           },
           {
            "bin_start": 11.5,
            "bin_end": 13.600000000000001,
            "count": 4
           },
           {
            "bin_start": 13.600000000000001,
            "bin_end": 15.700000000000001,
            "count": 4
           },
           {
            "bin_start": 15.700000000000001,
            "bin_end": 17.8,
            "count": 4
           },
           {
            "bin_start": 17.8,
            "bin_end": 19.900000000000002,
            "count": 4
           },
           {
            "bin_start": 19.900000000000002,
            "bin_end": 22,
            "count": 6
           }
          ]
         }
        },
        {
         "name": "Pump on",
         "dtype": "object",
         "stats": {
          "unique_count": 34,
          "nan_count": 4,
          "categories": [
           {
            "name": "18:08:00",
            "count": 2
           },
           {
            "name": "33 others",
            "count": 42
           },
           {
            "name": "Missing",
            "count": 4
           }
          ]
         }
        },
        {
         "name": "take off time",
         "dtype": "object",
         "stats": {
          "unique_count": 32,
          "nan_count": 16,
          "categories": [
           {
            "name": "11:55:00",
            "count": 1
           },
           {
            "name": "31 others",
            "count": 31
           },
           {
            "name": "Missing",
            "count": 16
           }
          ]
         }
        },
        {
         "name": "In Plume",
         "dtype": "object",
         "stats": {
          "unique_count": 33,
          "nan_count": 15,
          "categories": [
           {
            "name": "13:03:00",
            "count": 1
           },
           {
            "name": "32 others",
            "count": 32
           },
           {
            "name": "Missing",
            "count": 15
           }
          ]
         }
        },
        {
         "name": "Out of plume",
         "dtype": "object",
         "stats": {
          "unique_count": 37,
          "nan_count": 11,
          "categories": [
           {
            "name": "13:14:00",
            "count": 1
           },
           {
            "name": "36 others",
            "count": 36
           },
           {
            "name": "Missing",
            "count": 11
           }
          ]
         }
        },
        {
         "name": "Land time",
         "dtype": "object",
         "stats": {
          "unique_count": 32,
          "nan_count": 16,
          "categories": [
           {
            "name": "15:25:00",
            "count": 1
           },
           {
            "name": "31 others",
            "count": 31
           },
           {
            "name": "Missing",
            "count": 16
           }
          ]
         }
        },
        {
         "name": "Pump off",
         "dtype": "object",
         "stats": {
          "unique_count": 36,
          "nan_count": 4,
          "categories": [
           {
            "name": "50",
            "count": 3
           },
           {
            "name": "35 others",
            "count": 41
           },
           {
            "name": "Missing",
            "count": 4
           }
          ]
         }
        },
        {
         "name": "Filter #",
         "dtype": "object",
         "stats": {
          "unique_count": 23,
          "nan_count": 25,
          "categories": [
           {
            "name": "A1",
            "count": 1
           },
           {
            "name": "22 others",
            "count": 22
           },
           {
            "name": "Missing",
            "count": 25
           }
          ]
         }
        },
        {
         "name": "Filter #.1",
         "dtype": "object",
         "stats": {
          "unique_count": 22,
          "nan_count": 26,
          "categories": [
           {
            "name": "B1",
            "count": 1
           },
           {
            "name": "21 others",
            "count": 21
           },
           {
            "name": "Missing",
            "count": 26
           }
          ]
         }
        },
        {
         "name": "Filter #.2",
         "dtype": "object",
         "stats": {
          "unique_count": 22,
          "nan_count": 26,
          "categories": [
           {
            "name": "P1",
            "count": 1
           },
           {
            "name": "21 others",
            "count": 21
           },
           {
            "name": "Missing",
            "count": 26
           }
          ]
         }
        },
        {
         "name": "Tube #",
         "dtype": "float64",
         "stats": {
          "unique_count": 22,
          "nan_count": 26,
          "min": "101343.0",
          "max": "1101488.0",
          "histogram": [
           {
            "bin_start": 101343,
            "bin_end": 201357.5,
            "count": 1
           },
           {
            "bin_start": 201357.5,
            "bin_end": 301372,
            "count": 0
           },
           {
            "bin_start": 301372,
            "bin_end": 401386.5,
            "count": 0
           },
           {
            "bin_start": 401386.5,
            "bin_end": 501401,
            "count": 0
           },
           {
            "bin_start": 501401,
            "bin_end": 601415.5,
            "count": 0
           },
           {
            "bin_start": 601415.5,
            "bin_end": 701430,
            "count": 0
           },
           {
            "bin_start": 701430,
            "bin_end": 801444.5,
            "count": 0
           },
           {
            "bin_start": 801444.5,
            "bin_end": 901459,
            "count": 0
           },
           {
            "bin_start": 901459,
            "bin_end": 1001473.5,
            "count": 0
           },
           {
            "bin_start": 1001473.5,
            "bin_end": 1101488,
            "count": 21
           }
          ]
         }
        },
        {
         "name": "GPS",
         "dtype": "object",
         "stats": {
          "unique_count": 10,
          "nan_count": 26,
          "categories": [
           {
            "name": "38.914519, -120.663181",
            "count": 5
           },
           {
            "name": "9 others",
            "count": 17
           },
           {
            "name": "Missing",
            "count": 26
           }
          ]
         }
        },
        {
         "name": "Altitude (m)",
         "dtype": "float64",
         "stats": {
          "unique_count": 14,
          "nan_count": 26,
          "min": "14.0",
          "max": "100.0",
          "histogram": [
           {
            "bin_start": 14,
            "bin_end": 22.6,
            "count": 3
           },
           {
            "bin_start": 22.6,
            "bin_end": 31.2,
            "count": 1
           },
           {
            "bin_start": 31.2,
            "bin_end": 39.8,
            "count": 3
           },
           {
            "bin_start": 39.8,
            "bin_end": 48.4,
            "count": 2
           },
           {
            "bin_start": 48.4,
            "bin_end": 57,
            "count": 4
           },
           {
            "bin_start": 57,
            "bin_end": 65.6,
            "count": 3
           },
           {
            "bin_start": 65.6,
            "bin_end": 74.19999999999999,
            "count": 3
           },
           {
            "bin_start": 74.19999999999999,
            "bin_end": 82.8,
            "count": 0
           },
           {
            "bin_start": 82.8,
            "bin_end": 91.39999999999999,
            "count": 0
           },
           {
            "bin_start": 91.39999999999999,
            "bin_end": 100,
            "count": 3
           }
          ]
         }
        },
        {
         "name": "Unnamed: 15",
         "dtype": "object",
         "stats": {
          "unique_count": 1,
          "nan_count": 47,
          "categories": [
           {
            "name": "bad",
            "count": 1
           },
           {
            "name": "Missing",
            "count": 47
           }
          ]
         }
        },
        {
         "name": "Unnamed: 16",
         "dtype": "datetime64[ns]",
         "stats": {
          "unique_count": 3,
          "nan_count": 26,
          "min": "2017-10-30 00:00:00",
          "max": "2017-11-01 00:00:00",
          "histogram": [
           {
            "bin_start": 1509321600000000000,
            "bin_end": 1509338880000000000,
            "count": 4
           },
           {
            "bin_start": 1509338880000000000,
            "bin_end": 1509356160000000000,
            "count": 0
           },
           {
            "bin_start": 1509356160000000000,
            "bin_end": 1509373440000000000,
            "count": 0
           },
           {
            "bin_start": 1509373440000000000,
            "bin_end": 1509390720000000000,
            "count": 0
           },
           {
            "bin_start": 1509390720000000000,
            "bin_end": 1509408000000000000,
            "count": 0
           },
           {
            "bin_start": 1509408000000000000,
            "bin_end": 1509425280000000000,
            "count": 9
           },
           {
            "bin_start": 1509425280000000000,
            "bin_end": 1509442560000000000,
            "count": 0
           },
           {
            "bin_start": 1509442560000000000,
            "bin_end": 1509459840000000000,
            "count": 0
           },
           {
            "bin_start": 1509459840000000000,
            "bin_end": 1509477120000000000,
            "count": 0
           },
           {
            "bin_start": 1509477120000000000,
            "bin_end": 1509494400000000000,
            "count": 9
           }
          ]
         }
        },
        {
         "name": "Unnamed: 17",
         "dtype": "float64",
         "stats": {
          "unique_count": 4,
          "nan_count": 26,
          "min": "0.0",
          "max": "400.0",
          "histogram": [
           {
            "bin_start": 0,
            "bin_end": 40,
            "count": 1
           },
           {
            "bin_start": 40,
            "bin_end": 80,
            "count": 8
           },
           {
            "bin_start": 80,
            "bin_end": 120,
            "count": 0
           },
           {
            "bin_start": 120,
            "bin_end": 160,
            "count": 0
           },
           {
            "bin_start": 160,
            "bin_end": 200,
            "count": 0
           },
           {
            "bin_start": 200,
            "bin_end": 240,
            "count": 0
           },
           {
            "bin_start": 240,
            "bin_end": 280,
            "count": 0
           },
           {
            "bin_start": 280,
            "bin_end": 320,
            "count": 0
           },
           {
            "bin_start": 320,
            "bin_end": 360,
            "count": 4
           },
           {
            "bin_start": 360,
            "bin_end": 400,
            "count": 9
           }
          ]
         }
        },
        {
         "name": "flight display times",
         "dtype": "float64",
         "stats": {
          "unique_count": 22,
          "nan_count": 26,
          "min": "1.0",
          "max": "22.0",
          "histogram": [
           {
            "bin_start": 1,
            "bin_end": 3.1,
            "count": 3
           },
           {
            "bin_start": 3.1,
            "bin_end": 5.2,
            "count": 2
           },
           {
            "bin_start": 5.2,
            "bin_end": 7.300000000000001,
            "count": 2
           },
           {
            "bin_start": 7.300000000000001,
            "bin_end": 9.4,
            "count": 2
           },
           {
            "bin_start": 9.4,
            "bin_end": 11.5,
            "count": 2
           },
           {
            "bin_start": 11.5,
            "bin_end": 13.600000000000001,
            "count": 2
           },
           {
            "bin_start": 13.600000000000001,
            "bin_end": 15.700000000000001,
            "count": 2
           },
           {
            "bin_start": 15.700000000000001,
            "bin_end": 17.8,
            "count": 2
           },
           {
            "bin_start": 17.8,
            "bin_end": 19.900000000000002,
            "count": 2
           },
           {
            "bin_start": 19.900000000000002,
            "bin_end": 22,
            "count": 3
           }
          ]
         }
        },
        {
         "name": "Unnamed: 19",
         "dtype": "object",
         "stats": {
          "unique_count": 22,
          "nan_count": 26,
          "categories": [
           {
            "name": "11:57:00",
            "count": 1
           },
           {
            "name": "21 others",
            "count": 21
           },
           {
            "name": "Missing",
            "count": 26
           }
          ]
         }
        },
        {
         "name": "Unnamed: 20",
         "dtype": "object",
         "stats": {
          "unique_count": 22,
          "nan_count": 26,
          "categories": [
           {
            "name": "12:16:00",
            "count": 1
           },
           {
            "name": "21 others",
            "count": 21
           },
           {
            "name": "Missing",
            "count": 26
           }
          ]
         }
        },
        {
         "name": "Unnamed: 21",
         "dtype": "object",
         "stats": {
          "unique_count": 22,
          "nan_count": 26,
          "categories": [
           {
            "name": "A1",
            "count": 1
           },
           {
            "name": "21 others",
            "count": 21
           },
           {
            "name": "Missing",
            "count": 26
           }
          ]
         }
        },
        {
         "name": "Unnamed: 22",
         "dtype": "object",
         "stats": {
          "unique_count": 22,
          "nan_count": 26,
          "categories": [
           {
            "name": "B1",
            "count": 1
           },
           {
            "name": "21 others",
            "count": 21
           },
           {
            "name": "Missing",
            "count": 26
           }
          ]
         }
        },
        {
         "name": "Unnamed: 23",
         "dtype": "object",
         "stats": {
          "unique_count": 22,
          "nan_count": 26,
          "categories": [
           {
            "name": "P1",
            "count": 1
           },
           {
            "name": "21 others",
            "count": 21
           },
           {
            "name": "Missing",
            "count": 26
           }
          ]
         }
        },
        {
         "name": "Unnamed: 24",
         "dtype": "float64",
         "stats": {
          "unique_count": 14,
          "nan_count": 26,
          "min": "14.0",
          "max": "100.0",
          "histogram": [
           {
            "bin_start": 14,
            "bin_end": 22.6,
            "count": 3
           },
           {
            "bin_start": 22.6,
            "bin_end": 31.2,
            "count": 1
           },
           {
            "bin_start": 31.2,
            "bin_end": 39.8,
            "count": 3
           },
           {
            "bin_start": 39.8,
            "bin_end": 48.4,
            "count": 2
           },
           {
            "bin_start": 48.4,
            "bin_end": 57,
            "count": 4
           },
           {
            "bin_start": 57,
            "bin_end": 65.6,
            "count": 3
           },
           {
            "bin_start": 65.6,
            "bin_end": 74.19999999999999,
            "count": 3
           },
           {
            "bin_start": 74.19999999999999,
            "bin_end": 82.8,
            "count": 0
           },
           {
            "bin_start": 82.8,
            "bin_end": 91.39999999999999,
            "count": 0
           },
           {
            "bin_start": 91.39999999999999,
            "bin_end": 100,
            "count": 3
           }
          ]
         }
        },
        {
         "name": "Unnamed: 25",
         "dtype": "float64",
         "stats": {
          "unique_count": 0,
          "nan_count": 48,
          "min": null,
          "max": null,
          "histogram": [
           {
            "bin_start": 0,
            "bin_end": 0.1,
            "count": 0
           },
           {
            "bin_start": 0.1,
            "bin_end": 0.2,
            "count": 0
           },
           {
            "bin_start": 0.2,
            "bin_end": 0.30000000000000004,
            "count": 0
           },
           {
            "bin_start": 0.30000000000000004,
            "bin_end": 0.4,
            "count": 0
           },
           {
            "bin_start": 0.4,
            "bin_end": 0.5,
            "count": 0
           },
           {
            "bin_start": 0.5,
            "bin_end": 0.6000000000000001,
            "count": 0
           },
           {
            "bin_start": 0.6000000000000001,
            "bin_end": 0.7000000000000001,
            "count": 0
           },
           {
            "bin_start": 0.7000000000000001,
            "bin_end": 0.8,
            "count": 0
           },
           {
            "bin_start": 0.8,
            "bin_end": 0.9,
            "count": 0
           },
           {
            "bin_start": 0.9,
            "bin_end": 1,
            "count": 0
           }
          ]
         }
        },
        {
         "name": "Unnamed: 26",
         "dtype": "datetime64[ns]",
         "stats": {
          "unique_count": 1,
          "nan_count": 47,
          "min": "1900-01-03 11:57:00",
          "max": "1900-01-03 11:57:00",
          "histogram": null
         }
        },
        {
         "name": "_deepnote_index_column",
         "dtype": "int64"
        }
       ],
       "rows": [
        {
         "Date": "2017-10-30 00:00:00",
         "Plot Number": "340.0",
         "Flight #": "1.0",
         "Pump on": "11:54:00",
         "take off time": "11:55:00",
         "In Plume": "nan",
         "Out of plume": "nan",
         "Land time": "nan",
         "Pump off": "12:13:00",
         "Filter #": "A1",
         "Filter #.1": "B1",
         "Filter #.2": "P1",
         "Tube #": "1079961.0",
         "GPS": "38.89749, -120.65708",
         "Altitude (m)": "50.0",
         "Unnamed: 15": "nan",
         "Unnamed: 16": "2017-10-30 00:00:00",
         "Unnamed: 17": "340.0",
         "flight display times": "1.0",
         "Unnamed: 19": "11:57:00",
         "Unnamed: 20": "12:16:00",
         "Unnamed: 21": "A1",
         "Unnamed: 22": "B1",
         "Unnamed: 23": "P1",
         "Unnamed: 24": "50.0",
         "Unnamed: 25": "nan",
         "Unnamed: 26": "1900-01-03 11:57:00",
         "_deepnote_index_column": "0"
        },
        {
         "Date": "2017-10-30 00:00:00",
         "Plot Number": "340.0",
         "Flight #": "2.0",
         "Pump on": "12:59:00",
         "take off time": "13:00:00",
         "In Plume": "13:03:00",
         "Out of plume": "13:14:00",
         "Land time": "nan",
         "Pump off": "13:16:00",
         "Filter #": "A2",
         "Filter #.1": "B2",
         "Filter #.2": "P2",
         "Tube #": "1101480.0",
         "GPS": "38.89749, -120.65708",
         "Altitude (m)": "53.0",
         "Unnamed: 15": "nan",
         "Unnamed: 16": "2017-10-30 00:00:00",
         "Unnamed: 17": "340.0",
         "flight display times": "2.0",
         "Unnamed: 19": "13:02:00",
         "Unnamed: 20": "13:19:00",
         "Unnamed: 21": "A2",
         "Unnamed: 22": "B2",
         "Unnamed: 23": "P2",
         "Unnamed: 24": "53.0",
         "Unnamed: 25": "nan",
         "Unnamed: 26": "NaT",
         "_deepnote_index_column": "1"
        },
        {
         "Date": "2017-10-30 00:00:00",
         "Plot Number": "340.0",
         "Flight #": "3.0",
         "Pump on": "16:50:00",
         "take off time": "nan",
         "In Plume": "nan",
         "Out of plume": "17:03:00",
         "Land time": "nan",
         "Pump off": "17:05:00",
         "Filter #": "A3",
         "Filter #.1": "B3",
         "Filter #.2": "P3",
         "Tube #": "1100919.0",
         "GPS": "38.89749, -120.65708",
         "Altitude (m)": "41.0",
         "Unnamed: 15": "nan",
         "Unnamed: 16": "2017-10-30 00:00:00",
         "Unnamed: 17": "340.0",
         "flight display times": "3.0",
         "Unnamed: 19": "16:58:00",
         "Unnamed: 20": "17:12:00",
         "Unnamed: 21": "A3",
         "Unnamed: 22": "B3",
         "Unnamed: 23": "P3",
         "Unnamed: 24": "41.0",
         "Unnamed: 25": "nan",
         "Unnamed: 26": "NaT",
         "_deepnote_index_column": "2"
        },
        {
         "Date": "2017-10-30 00:00:00",
         "Plot Number": "340.0",
         "Flight #": "4.0",
         "Pump on": "18:08:00",
         "take off time": "nan",
         "In Plume": "18:10:00",
         "Out of plume": "18:22:00",
         "Land time": "nan",
         "Pump off": "18:24:00",
         "Filter #": "A4",
         "Filter #.1": "B4",
         "Filter #.2": "P4",
         "Tube #": "1101167.0",
         "GPS": "38.89749, -120.65708",
         "Altitude (m)": "14.0",
         "Unnamed: 15": "nan",
         "Unnamed: 16": "2017-10-30 00:00:00",
         "Unnamed: 17": "340.0",
         "flight display times": "4.0",
         "Unnamed: 19": "18:23:00",
         "Unnamed: 20": "18:39:00",
         "Unnamed: 21": "A4",
         "Unnamed: 22": "B4",
         "Unnamed: 23": "P4",
         "Unnamed: 24": "14.0",
         "Unnamed: 25": "nan",
         "Unnamed: 26": "NaT",
         "_deepnote_index_column": "3"
        },
        {
         "Date": "2017-10-31 00:00:00",
         "Plot Number": "60.0",
         "Flight #": "5.0",
         "Pump on": "11:32:00",
         "take off time": "nan",
         "In Plume": "11:35:00",
         "Out of plume": "11:49:00",
         "Land time": "nan",
         "Pump off": "11:51:00",
         "Filter #": "A5",
         "Filter #.1": "B5",
         "Filter #.2": "P5",
         "Tube #": "1101098.0",
         "GPS": "38.914519, -120.663181",
         "Altitude (m)": "50.0",
         "Unnamed: 15": "nan",
         "Unnamed: 16": "2017-10-31 00:00:00",
         "Unnamed: 17": "60.0",
         "flight display times": "5.0",
         "Unnamed: 19": "11:32:00",
         "Unnamed: 20": "11:51:00",
         "Unnamed: 21": "A5",
         "Unnamed: 22": "B5",
         "Unnamed: 23": "P5",
         "Unnamed: 24": "50.0",
         "Unnamed: 25": "nan",
         "Unnamed: 26": "NaT",
         "_deepnote_index_column": "4"
        },
        {
         "Date": "2017-10-31 00:00:00",
         "Plot Number": "60.0",
         "Flight #": "6.0",
         "Pump on": "12:10:00",
         "take off time": "nan",
         "In Plume": "12:11:00",
         "Out of plume": "12:24:00",
         "Land time": "nan",
         "Pump off": "12:25:00",
         "Filter #": "A6",
         "Filter #.1": "B6",
         "Filter #.2": "P6",
         "Tube #": "1100990.0",
         "GPS": "38.914519, -120.663181",
         "Altitude (m)": "40.0",
         "Unnamed: 15": "nan",
         "Unnamed: 16": "2017-10-31 00:00:00",
         "Unnamed: 17": "60.0",
         "flight display times": "6.0",
         "Unnamed: 19": "12:10:00",
         "Unnamed: 20": "12:25:00",
         "Unnamed: 21": "A6",
         "Unnamed: 22": "B6",
         "Unnamed: 23": "P6",
         "Unnamed: 24": "40.0",
         "Unnamed: 25": "nan",
         "Unnamed: 26": "NaT",
         "_deepnote_index_column": "5"
        },
        {
         "Date": "2017-10-31 00:00:00",
         "Plot Number": "60.0",
         "Flight #": "7.0",
         "Pump on": "12:45:00",
         "take off time": "nan",
         "In Plume": "12:45:00",
         "Out of plume": "12:55:00",
         "Land time": "nan",
         "Pump off": "12:58:00",
         "Filter #": "A7",
         "Filter #.1": "B7",
         "Filter #.2": "P7",
         "Tube #": "1100881.0",
         "GPS": "38.914519, -120.663181",
         "Altitude (m)": "32.0",
         "Unnamed: 15": "nan",
         "Unnamed: 16": "2017-10-31 00:00:00",
         "Unnamed: 17": "60.0",
         "flight display times": "7.0",
         "Unnamed: 19": "12:45:00",
         "Unnamed: 20": "12:58:00",
         "Unnamed: 21": "A7",
         "Unnamed: 22": "B7",
         "Unnamed: 23": "P7",
         "Unnamed: 24": "32.0",
         "Unnamed: 25": "nan",
         "Unnamed: 26": "NaT",
         "_deepnote_index_column": "6"
        },
        {
         "Date": "2017-10-31 00:00:00",
         "Plot Number": "60.0",
         "Flight #": "8.0",
         "Pump on": "13:25:00",
         "take off time": "nan",
         "In Plume": "13:25:00",
         "Out of plume": "nan",
         "Land time": "nan",
         "Pump off": "13:35:00",
         "Filter #": "A8",
         "Filter #.1": "B8",
         "Filter #.2": "P8",
         "Tube #": "1101140.0",
         "GPS": "38.914519, -120.663181",
         "Altitude (m)": "35.0",
         "Unnamed: 15": "nan",
         "Unnamed: 16": "2017-10-31 00:00:00",
         "Unnamed: 17": "60.0",
         "flight display times": "8.0",
         "Unnamed: 19": "13:25:00",
         "Unnamed: 20": "13:35:00",
         "Unnamed: 21": "A8",
         "Unnamed: 22": "B8",
         "Unnamed: 23": "P8",
         "Unnamed: 24": "35.0",
         "Unnamed: 25": "nan",
         "Unnamed: 26": "NaT",
         "_deepnote_index_column": "7"
        },
        {
         "Date": "2017-10-31 00:00:00",
         "Plot Number": "0.0",
         "Flight #": "9.0",
         "Pump on": "15:12:00",
         "take off time": "15:15:00",
         "In Plume": "nan",
         "Out of plume": "nan",
         "Land time": "15:25:00",
         "Pump off": "15:28:00",
         "Filter #": "A9",
         "Filter #.1": "B9",
         "Filter #.2": "P9",
         "Tube #": "1048723.0",
         "GPS": "38.912620, -120.667136",
         "Altitude (m)": "50.0",
         "Unnamed: 15": "nan",
         "Unnamed: 16": "2017-10-31 00:00:00",
         "Unnamed: 17": "0.0",
         "flight display times": "9.0",
         "Unnamed: 19": "15:12:00",
         "Unnamed: 20": "15:28:00",
         "Unnamed: 21": "A9",
         "Unnamed: 22": "B9",
         "Unnamed: 23": "P9",
         "Unnamed: 24": "50.0",
         "Unnamed: 25": "nan",
         "Unnamed: 26": "NaT",
         "_deepnote_index_column": "8"
        },
        {
         "Date": "2017-10-31 00:00:00",
         "Plot Number": "60.0",
         "Flight #": "10.0",
         "Pump on": "16:06:00",
         "take off time": "16:08:00",
         "In Plume": "nan",
         "Out of plume": "nan",
         "Land time": "16:29:00",
         "Pump off": "16:30:00",
         "Filter #": "A10",
         "Filter #.1": "B10",
         "Filter #.2": "P10",
         "Tube #": "1101488.0",
         "GPS": "38.914519, -120.663181",
         "Altitude (m)": "20.0",
         "Unnamed: 15": "nan",
         "Unnamed: 16": "2017-10-31 00:00:00",
         "Unnamed: 17": "60.0",
         "flight display times": "10.0",
         "Unnamed: 19": "16:06:00",
         "Unnamed: 20": "16:30:00",
         "Unnamed: 21": "A10",
         "Unnamed: 22": "B10",
         "Unnamed: 23": "P10",
         "Unnamed: 24": "20.0",
         "Unnamed: 25": "nan",
         "Unnamed: 26": "NaT",
         "_deepnote_index_column": "9"
        }
       ]
      },
      "text/plain": "                          Date  Plot Number  Flight #   Pump on take off time  \\\n0          2017-10-30 00:00:00        340.0       1.0  11:54:00      11:55:00   \n1          2017-10-30 00:00:00        340.0       2.0  12:59:00      13:00:00   \n2          2017-10-30 00:00:00        340.0       3.0  16:50:00           NaN   \n3          2017-10-30 00:00:00        340.0       4.0  18:08:00           NaN   \n4          2017-10-31 00:00:00         60.0       5.0  11:32:00           NaN   \n5          2017-10-31 00:00:00         60.0       6.0  12:10:00           NaN   \n6          2017-10-31 00:00:00         60.0       7.0  12:45:00           NaN   \n7          2017-10-31 00:00:00         60.0       8.0  13:25:00           NaN   \n8          2017-10-31 00:00:00          0.0       9.0  15:12:00      15:15:00   \n9          2017-10-31 00:00:00         60.0      10.0  16:06:00      16:08:00   \n10         2017-10-31 00:00:00         60.0      11.0  16:42:00           NaN   \n11         2017-10-31 00:00:00         60.0      12.0  21:53:00           NaN   \n12         2017-10-31 00:00:00         60.0      13.0  22:20:00           NaN   \n13         2017-11-01 00:00:00        400.0      14.0  11:26:00           NaN   \n14         2017-11-01 00:00:00        400.0      15.0  12:14:00           NaN   \n15         2017-11-01 00:00:00        400.0      16.0  12:57:00      13:02:00   \n16         2017-11-01 00:00:00        400.0      17.0  13:29:00      13:34:00   \n17         2017-11-01 00:00:00        400.0      18.0  15:10:00           NaN   \n18         2017-11-01 00:00:00        400.0      19.0  15:37:00      15:40:00   \n19         2017-11-01 00:00:00        400.0      20.0  16:56:00      17:01:00   \n20         2017-11-01 00:00:00        400.0      21.0  17:45:00      17:49:00   \n21         2017-11-01 00:00:00        400.0      22.0  18:08:00      18:12:00   \n22                         NaN          NaN       NaN       NaN           NaN   \n23                         NaN          NaN       NaN       NaN           NaN   \n24                         NaN          NaN       NaN       NaN           NaN   \n25  for integrating flow rates          NaN       NaN       NaN           NaN   \n26         2017-10-30 00:00:00        340.0       1.0  11:57:00      12:16:00   \n27         2017-10-30 00:00:00        340.0       2.0  13:05:00      13:16:00   \n28         2017-10-30 00:00:00        340.0       3.0  16:58:30      17:11:00   \n29         2017-10-30 00:00:00        340.0       4.0  18:25:30      18:37:00   \n30         2017-10-31 00:00:00         60.0       5.0  11:32:00      11:51:00   \n31         2017-10-31 00:00:00         60.0       6.0  12:11:00      12:25:00   \n32         2017-10-31 00:00:00         60.0       7.0  12:45:00      12:58:30   \n33         2017-10-31 00:00:00         60.0       8.0  13:25:00      13:35:00   \n34         2017-10-31 00:00:00          0.0       9.0  15:12:00      15:28:00   \n35         2017-10-31 00:00:00         60.0      10.0  16:10:00      16:21:00   \n36         2017-10-31 00:00:00         60.0      11.0  16:44:00      16:54:30   \n37         2017-10-31 00:00:00         60.0      12.0  21:53:00      10:07:00   \n38         2017-10-31 00:00:00         60.0      13.0  22:20:00      22:34:00   \n39         2017-11-01 00:00:00        400.0      14.0  11:27:00      11:41:00   \n40         2017-11-01 00:00:00        400.0      15.0  12:18:00      12:31:00   \n41         2017-11-01 00:00:00        400.0      16.0  13:01:00      13:20:00   \n42         2017-11-01 00:00:00        400.0      17.0  13:29:00      13:50:00   \n43         2017-11-01 00:00:00        400.0      18.0  15:10:00      15:23:00   \n44         2017-11-01 00:00:00        400.0      19.0  15:39:30      15:55:00   \n45         2017-11-01 00:00:00        400.0      20.0  16:56:00      05:18:00   \n46         2017-11-01 00:00:00        400.0      21.0  17:51:00      18:04:00   \n47         2017-11-01 00:00:00        400.0      22.0  18:11:00      18:26:00   \n\n    In Plume Out of plume Land time  Pump off      Filter #  ... Unnamed: 17  \\\n0        NaN          NaN       NaN  12:13:00            A1  ...       340.0   \n1   13:03:00     13:14:00       NaN  13:16:00            A2  ...       340.0   \n2        NaN     17:03:00       NaN  17:05:00            A3  ...       340.0   \n3   18:10:00     18:22:00       NaN  18:24:00            A4  ...       340.0   \n4   11:35:00     11:49:00       NaN  11:51:00            A5  ...        60.0   \n5   12:11:00     12:24:00       NaN  12:25:00            A6  ...        60.0   \n6   12:45:00     12:55:00       NaN  12:58:00            A7  ...        60.0   \n7   13:25:00          NaN       NaN  13:35:00            A8  ...        60.0   \n8        NaN          NaN  15:25:00  15:28:00            A9  ...         0.0   \n9        NaN          NaN  16:29:00  16:30:00           A10  ...        60.0   \n10       NaN     16:52:00       NaN  16:54:00           A11  ...        60.0   \n11  21:54:00     22:05:00       NaN  22:07:00           A12  ...        60.0   \n12       NaN          NaN       NaN  22:34:00           A13  ...        60.0   \n13       NaN     11:38:00       NaN  11:41:00           A32  ...       400.0   \n14       NaN          NaN  12:29:00  12:37:00           A33  ...       400.0   \n15       NaN     13:15:00  13:17:00  13:22:00           A14  ...       400.0   \n16  13:36:00     13:47:00  13:49:00  13:50:00           A15  ...       400.0   \n17       NaN     15:20:00  15:22:00  15:23:00           A16  ...       400.0   \n18  15:41:00     15:50:00  15:51:00  15:55:00           A17  ...       400.0   \n19  17:02:00     17:13:00  17:15:00  05:18:00           A18  ...       400.0   \n20       NaN          NaN  18:02:00  18:04:00           A19  ...       400.0   \n21  18:13:00     18:21:00  18:23:00  18:29:00           A20  ...       400.0   \n22       NaN          NaN       NaN       NaN           NaN  ...         NaN   \n23       NaN          NaN       NaN       NaN  assumed time  ...         NaN   \n24       NaN          NaN       NaN       NaN           NaN  ...         NaN   \n25       NaN          NaN       NaN       NaN           NaN  ...         NaN   \n26        A1           B1        P1        50           NaN  ...         NaN   \n27        A2           B2        P2        53           NaN  ...         NaN   \n28        A3           B3        P3        41           NaN  ...         NaN   \n29        A4           B4        P4        14           NaN  ...         NaN   \n30        A5           B5        P5        50           NaN  ...         NaN   \n31        A6           B6        P6        40           NaN  ...         NaN   \n32        A7           B7        P7        32           NaN  ...         NaN   \n33        A8           B8        P8        35           NaN  ...         NaN   \n34        A9           B9        P9        50           NaN  ...         NaN   \n35       A10          B10       P10        20           NaN  ...         NaN   \n36       A11          B11       P11        35           NaN  ...         NaN   \n37       A12          B12       P12        30           NaN  ...         NaN   \n38       A13          B13       P13        20           NaN  ...         NaN   \n39       A32          B32       P32        70           NaN  ...         NaN   \n40       A33          B33       P33        95           NaN  ...         NaN   \n41       A14          B14       P14       100           NaN  ...         NaN   \n42       A15          B15       P15       100           NaN  ...         NaN   \n43       A16          B16       P16        72           NaN  ...         NaN   \n44       A17          B17       P17        70           NaN  ...         NaN   \n45       A18          B18       P18        60           NaN  ...         NaN   \n46       A19          B19       P19        60           NaN  ...         NaN   \n47       A20          B20       P20        60           NaN  ...         NaN   \n\n   flight display times  Unnamed: 19 Unnamed: 20  Unnamed: 21 Unnamed: 22  \\\n0                   1.0     11:57:00    12:16:00           A1          B1   \n1                   2.0     13:02:00    13:19:00           A2          B2   \n2                   3.0     16:58:00    17:12:00           A3          B3   \n3                   4.0     18:23:00    18:39:00           A4          B4   \n4                   5.0     11:32:00    11:51:00           A5          B5   \n5                   6.0     12:10:00    12:25:00           A6          B6   \n6                   7.0     12:45:00    12:58:00           A7          B7   \n7                   8.0     13:25:00    13:35:00           A8          B8   \n8                   9.0     15:12:00    15:28:00           A9          B9   \n9                  10.0     16:06:00    16:30:00          A10         B10   \n10                 11.0     16:42:00    16:54:00          A11         B11   \n11                 12.0     21:53:00    10:07:00          A12         B12   \n12                 13.0     22:20:00    22:34:00          A13         B13   \n13                 14.0     11:26:00    11:41:00          A32         B32   \n14                 15.0     12:14:00    12:37:00          A33         B33   \n15                 16.0     12:57:00    13:22:00          A14         B14   \n16                 17.0     13:29:00    13:50:00          A15         B15   \n17                 18.0     15:10:00    15:23:00          A16         B16   \n18                 19.0     15:37:00    15:55:00          A17         B17   \n19                 20.0     16:56:00    05:18:00          A18         B18   \n20                 21.0     17:45:00    18:04:00          A19         B19   \n21                 22.0     18:08:00    18:29:00          A20         B20   \n22                  NaN          NaN         NaN          NaN         NaN   \n23                  NaN          NaN         NaN          NaN         NaN   \n24                  NaN          NaN         NaN          NaN         NaN   \n25                  NaN          NaN         NaN          NaN         NaN   \n26                  NaN          NaN         NaN          NaN         NaN   \n27                  NaN          NaN         NaN          NaN         NaN   \n28                  NaN          NaN         NaN          NaN         NaN   \n29                  NaN          NaN         NaN          NaN         NaN   \n30                  NaN          NaN         NaN          NaN         NaN   \n31                  NaN          NaN         NaN          NaN         NaN   \n32                  NaN          NaN         NaN          NaN         NaN   \n33                  NaN          NaN         NaN          NaN         NaN   \n34                  NaN          NaN         NaN          NaN         NaN   \n35                  NaN          NaN         NaN          NaN         NaN   \n36                  NaN          NaN         NaN          NaN         NaN   \n37                  NaN          NaN         NaN          NaN         NaN   \n38                  NaN          NaN         NaN          NaN         NaN   \n39                  NaN          NaN         NaN          NaN         NaN   \n40                  NaN          NaN         NaN          NaN         NaN   \n41                  NaN          NaN         NaN          NaN         NaN   \n42                  NaN          NaN         NaN          NaN         NaN   \n43                  NaN          NaN         NaN          NaN         NaN   \n44                  NaN          NaN         NaN          NaN         NaN   \n45                  NaN          NaN         NaN          NaN         NaN   \n46                  NaN          NaN         NaN          NaN         NaN   \n47                  NaN          NaN         NaN          NaN         NaN   \n\n   Unnamed: 23  Unnamed: 24  Unnamed: 25         Unnamed: 26  \n0           P1         50.0          NaN 1900-01-03 11:57:00  \n1           P2         53.0          NaN                 NaT  \n2           P3         41.0          NaN                 NaT  \n3           P4         14.0          NaN                 NaT  \n4           P5         50.0          NaN                 NaT  \n5           P6         40.0          NaN                 NaT  \n6           P7         32.0          NaN                 NaT  \n7           P8         35.0          NaN                 NaT  \n8           P9         50.0          NaN                 NaT  \n9          P10         20.0          NaN                 NaT  \n10         P11         35.0          NaN                 NaT  \n11         P12         30.0          NaN                 NaT  \n12         P13         20.0          NaN                 NaT  \n13         P32         70.0          NaN                 NaT  \n14         P33         95.0          NaN                 NaT  \n15         P14        100.0          NaN                 NaT  \n16         P15        100.0          NaN                 NaT  \n17         P16         72.0          NaN                 NaT  \n18         P17         70.0          NaN                 NaT  \n19         P18         60.0          NaN                 NaT  \n20         P19         60.0          NaN                 NaT  \n21         P20         60.0          NaN                 NaT  \n22         NaN          NaN          NaN                 NaT  \n23         NaN          NaN          NaN                 NaT  \n24         NaN          NaN          NaN                 NaT  \n25         NaN          NaN          NaN                 NaT  \n26         NaN          NaN          NaN                 NaT  \n27         NaN          NaN          NaN                 NaT  \n28         NaN          NaN          NaN                 NaT  \n29         NaN          NaN          NaN                 NaT  \n30         NaN          NaN          NaN                 NaT  \n31         NaN          NaN          NaN                 NaT  \n32         NaN          NaN          NaN                 NaT  \n33         NaN          NaN          NaN                 NaT  \n34         NaN          NaN          NaN                 NaT  \n35         NaN          NaN          NaN                 NaT  \n36         NaN          NaN          NaN                 NaT  \n37         NaN          NaN          NaN                 NaT  \n38         NaN          NaN          NaN                 NaT  \n39         NaN          NaN          NaN                 NaT  \n40         NaN          NaN          NaN                 NaT  \n41         NaN          NaN          NaN                 NaT  \n42         NaN          NaN          NaN                 NaT  \n43         NaN          NaN          NaN                 NaT  \n44         NaN          NaN          NaN                 NaT  \n45         NaN          NaN          NaN                 NaT  \n46         NaN          NaN          NaN                 NaT  \n47         NaN          NaN          NaN                 NaT  \n\n[48 rows x 27 columns]",
      "text/html": "<div>\n<style scoped>\n    .dataframe tbody tr th:only-of-type {\n        vertical-align: middle;\n    }\n\n    .dataframe tbody tr th {\n        vertical-align: top;\n    }\n\n    .dataframe thead th {\n        text-align: right;\n    }\n</style>\n<table border=\"1\" class=\"dataframe\">\n  <thead>\n    <tr style=\"text-align: right;\">\n      <th></th>\n      <th>Date</th>\n      <th>Plot Number</th>\n      <th>Flight #</th>\n      <th>Pump on</th>\n      <th>take off time</th>\n      <th>In Plume</th>\n      <th>Out of plume</th>\n      <th>Land time</th>\n      <th>Pump off</th>\n      <th>Filter #</th>\n      <th>...</th>\n      <th>Unnamed: 17</th>\n      <th>flight display times</th>\n      <th>Unnamed: 19</th>\n      <th>Unnamed: 20</th>\n      <th>Unnamed: 21</th>\n      <th>Unnamed: 22</th>\n      <th>Unnamed: 23</th>\n      <th>Unnamed: 24</th>\n      <th>Unnamed: 25</th>\n      <th>Unnamed: 26</th>\n    </tr>\n  </thead>\n  <tbody>\n    <tr>\n      <th>0</th>\n      <td>2017-10-30 00:00:00</td>\n      <td>340.0</td>\n      <td>1.0</td>\n      <td>11:54:00</td>\n      <td>11:55:00</td>\n      <td>NaN</td>\n      <td>NaN</td>\n      <td>NaN</td>\n      <td>12:13:00</td>\n      <td>A1</td>\n      <td>...</td>\n      <td>340.0</td>\n      <td>1.0</td>\n      <td>11:57:00</td>\n      <td>12:16:00</td>\n      <td>A1</td>\n      <td>B1</td>\n      <td>P1</td>\n      <td>50.0</td>\n      <td>NaN</td>\n      <td>1900-01-03 11:57:00</td>\n    </tr>\n    <tr>\n      <th>1</th>\n      <td>2017-10-30 00:00:00</td>\n      <td>340.0</td>\n      <td>2.0</td>\n      <td>12:59:00</td>\n      <td>13:00:00</td>\n      <td>13:03:00</td>\n      <td>13:14:00</td>\n      <td>NaN</td>\n      <td>13:16:00</td>\n      <td>A2</td>\n      <td>...</td>\n      <td>340.0</td>\n      <td>2.0</td>\n      <td>13:02:00</td>\n      <td>13:19:00</td>\n      <td>A2</td>\n      <td>B2</td>\n      <td>P2</td>\n      <td>53.0</td>\n      <td>NaN</td>\n      <td>NaT</td>\n    </tr>\n    <tr>\n      <th>2</th>\n      <td>2017-10-30 00:00:00</td>\n      <td>340.0</td>\n      <td>3.0</td>\n      <td>16:50:00</td>\n      <td>NaN</td>\n      <td>NaN</td>\n      <td>17:03:00</td>\n      <td>NaN</td>\n      <td>17:05:00</td>\n      <td>A3</td>\n      <td>...</td>\n      <td>340.0</td>\n      <td>3.0</td>\n      <td>16:58:00</td>\n      <td>17:12:00</td>\n      <td>A3</td>\n      <td>B3</td>\n      <td>P3</td>\n      <td>41.0</td>\n      <td>NaN</td>\n      <td>NaT</td>\n    </tr>\n    <tr>\n      <th>3</th>\n      <td>2017-10-30 00:00:00</td>\n      <td>340.0</td>\n      <td>4.0</td>\n      <td>18:08:00</td>\n      <td>NaN</td>\n      <td>18:10:00</td>\n      <td>18:22:00</td>\n      <td>NaN</td>\n      <td>18:24:00</td>\n      <td>A4</td>\n      <td>...</td>\n      <td>340.0</td>\n      <td>4.0</td>\n      <td>18:23:00</td>\n      <td>18:39:00</td>\n      <td>A4</td>\n      <td>B4</td>\n      <td>P4</td>\n      <td>14.0</td>\n      <td>NaN</td>\n      <td>NaT</td>\n    </tr>\n    <tr>\n      <th>4</th>\n      <td>2017-10-31 00:00:00</td>\n      <td>60.0</td>\n      <td>5.0</td>\n      <td>11:32:00</td>\n      <td>NaN</td>\n      <td>11:35:00</td>\n      <td>11:49:00</td>\n      <td>NaN</td>\n      <td>11:51:00</td>\n      <td>A5</td>\n      <td>...</td>\n      <td>60.0</td>\n      <td>5.0</td>\n      <td>11:32:00</td>\n      <td>11:51:00</td>\n      <td>A5</td>\n      <td>B5</td>\n      <td>P5</td>\n      <td>50.0</td>\n      <td>NaN</td>\n      <td>NaT</td>\n    </tr>\n    <tr>\n      <th>5</th>\n      <td>2017-10-31 00:00:00</td>\n      <td>60.0</td>\n      <td>6.0</td>\n      <td>12:10:00</td>\n      <td>NaN</td>\n      <td>12:11:00</td>\n      <td>12:24:00</td>\n      <td>NaN</td>\n      <td>12:25:00</td>\n      <td>A6</td>\n      <td>...</td>\n      <td>60.0</td>\n      <td>6.0</td>\n      <td>12:10:00</td>\n      <td>12:25:00</td>\n      <td>A6</td>\n      <td>B6</td>\n      <td>P6</td>\n      <td>40.0</td>\n      <td>NaN</td>\n      <td>NaT</td>\n    </tr>\n    <tr>\n      <th>6</th>\n      <td>2017-10-31 00:00:00</td>\n      <td>60.0</td>\n      <td>7.0</td>\n      <td>12:45:00</td>\n      <td>NaN</td>\n      <td>12:45:00</td>\n      <td>12:55:00</td>\n      <td>NaN</td>\n      <td>12:58:00</td>\n      <td>A7</td>\n      <td>...</td>\n      <td>60.0</td>\n      <td>7.0</td>\n      <td>12:45:00</td>\n      <td>12:58:00</td>\n      <td>A7</td>\n      <td>B7</td>\n      <td>P7</td>\n      <td>32.0</td>\n      <td>NaN</td>\n      <td>NaT</td>\n    </tr>\n    <tr>\n      <th>7</th>\n      <td>2017-10-31 00:00:00</td>\n      <td>60.0</td>\n      <td>8.0</td>\n      <td>13:25:00</td>\n      <td>NaN</td>\n      <td>13:25:00</td>\n      <td>NaN</td>\n      <td>NaN</td>\n      <td>13:35:00</td>\n      <td>A8</td>\n      <td>...</td>\n      <td>60.0</td>\n      <td>8.0</td>\n      <td>13:25:00</td>\n      <td>13:35:00</td>\n      <td>A8</td>\n      <td>B8</td>\n      <td>P8</td>\n      <td>35.0</td>\n      <td>NaN</td>\n      <td>NaT</td>\n    </tr>\n    <tr>\n      <th>8</th>\n      <td>2017-10-31 00:00:00</td>\n      <td>0.0</td>\n      <td>9.0</td>\n      <td>15:12:00</td>\n      <td>15:15:00</td>\n      <td>NaN</td>\n      <td>NaN</td>\n      <td>15:25:00</td>\n      <td>15:28:00</td>\n      <td>A9</td>\n      <td>...</td>\n      <td>0.0</td>\n      <td>9.0</td>\n      <td>15:12:00</td>\n      <td>15:28:00</td>\n      <td>A9</td>\n      <td>B9</td>\n      <td>P9</td>\n      <td>50.0</td>\n      <td>NaN</td>\n      <td>NaT</td>\n    </tr>\n    <tr>\n      <th>9</th>\n      <td>2017-10-31 00:00:00</td>\n      <td>60.0</td>\n      <td>10.0</td>\n      <td>16:06:00</td>\n      <td>16:08:00</td>\n      <td>NaN</td>\n      <td>NaN</td>\n      <td>16:29:00</td>\n      <td>16:30:00</td>\n      <td>A10</td>\n      <td>...</td>\n      <td>60.0</td>\n      <td>10.0</td>\n      <td>16:06:00</td>\n      <td>16:30:00</td>\n      <td>A10</td>\n      <td>B10</td>\n      <td>P10</td>\n      <td>20.0</td>\n      <td>NaN</td>\n      <td>NaT</td>\n    </tr>\n    <tr>\n      <th>10</th>\n      <td>2017-10-31 00:00:00</td>\n      <td>60.0</td>\n      <td>11.0</td>\n      <td>16:42:00</td>\n      <td>NaN</td>\n      <td>NaN</td>\n      <td>16:52:00</td>\n      <td>NaN</td>\n      <td>16:54:00</td>\n      <td>A11</td>\n      <td>...</td>\n      <td>60.0</td>\n      <td>11.0</td>\n      <td>16:42:00</td>\n      <td>16:54:00</td>\n      <td>A11</td>\n      <td>B11</td>\n      <td>P11</td>\n      <td>35.0</td>\n      <td>NaN</td>\n      <td>NaT</td>\n    </tr>\n    <tr>\n      <th>11</th>\n      <td>2017-10-31 00:00:00</td>\n      <td>60.0</td>\n      <td>12.0</td>\n      <td>21:53:00</td>\n      <td>NaN</td>\n      <td>21:54:00</td>\n      <td>22:05:00</td>\n      <td>NaN</td>\n      <td>22:07:00</td>\n      <td>A12</td>\n      <td>...</td>\n      <td>60.0</td>\n      <td>12.0</td>\n      <td>21:53:00</td>\n      <td>10:07:00</td>\n      <td>A12</td>\n      <td>B12</td>\n      <td>P12</td>\n      <td>30.0</td>\n      <td>NaN</td>\n      <td>NaT</td>\n    </tr>\n    <tr>\n      <th>12</th>\n      <td>2017-10-31 00:00:00</td>\n      <td>60.0</td>\n      <td>13.0</td>\n      <td>22:20:00</td>\n      <td>NaN</td>\n      <td>NaN</td>\n      <td>NaN</td>\n      <td>NaN</td>\n      <td>22:34:00</td>\n      <td>A13</td>\n      <td>...</td>\n      <td>60.0</td>\n      <td>13.0</td>\n      <td>22:20:00</td>\n      <td>22:34:00</td>\n      <td>A13</td>\n      <td>B13</td>\n      <td>P13</td>\n      <td>20.0</td>\n      <td>NaN</td>\n      <td>NaT</td>\n    </tr>\n    <tr>\n      <th>13</th>\n      <td>2017-11-01 00:00:00</td>\n      <td>400.0</td>\n      <td>14.0</td>\n      <td>11:26:00</td>\n      <td>NaN</td>\n      <td>NaN</td>\n      <td>11:38:00</td>\n      <td>NaN</td>\n      <td>11:41:00</td>\n      <td>A32</td>\n      <td>...</td>\n      <td>400.0</td>\n      <td>14.0</td>\n      <td>11:26:00</td>\n      <td>11:41:00</td>\n      <td>A32</td>\n      <td>B32</td>\n      <td>P32</td>\n      <td>70.0</td>\n      <td>NaN</td>\n      <td>NaT</td>\n    </tr>\n    <tr>\n      <th>14</th>\n      <td>2017-11-01 00:00:00</td>\n      <td>400.0</td>\n      <td>15.0</td>\n      <td>12:14:00</td>\n      <td>NaN</td>\n      <td>NaN</td>\n      <td>NaN</td>\n      <td>12:29:00</td>\n      <td>12:37:00</td>\n      <td>A33</td>\n      <td>...</td>\n      <td>400.0</td>\n      <td>15.0</td>\n      <td>12:14:00</td>\n      <td>12:37:00</td>\n      <td>A33</td>\n      <td>B33</td>\n      <td>P33</td>\n      <td>95.0</td>\n      <td>NaN</td>\n      <td>NaT</td>\n    </tr>\n    <tr>\n      <th>15</th>\n      <td>2017-11-01 00:00:00</td>\n      <td>400.0</td>\n      <td>16.0</td>\n      <td>12:57:00</td>\n      <td>13:02:00</td>\n      <td>NaN</td>\n      <td>13:15:00</td>\n      <td>13:17:00</td>\n      <td>13:22:00</td>\n      <td>A14</td>\n      <td>...</td>\n      <td>400.0</td>\n      <td>16.0</td>\n      <td>12:57:00</td>\n      <td>13:22:00</td>\n      <td>A14</td>\n      <td>B14</td>\n      <td>P14</td>\n      <td>100.0</td>\n      <td>NaN</td>\n      <td>NaT</td>\n    </tr>\n    <tr>\n      <th>16</th>\n      <td>2017-11-01 00:00:00</td>\n      <td>400.0</td>\n      <td>17.0</td>\n      <td>13:29:00</td>\n      <td>13:34:00</td>\n      <td>13:36:00</td>\n      <td>13:47:00</td>\n      <td>13:49:00</td>\n      <td>13:50:00</td>\n      <td>A15</td>\n      <td>...</td>\n      <td>400.0</td>\n      <td>17.0</td>\n      <td>13:29:00</td>\n      <td>13:50:00</td>\n      <td>A15</td>\n      <td>B15</td>\n      <td>P15</td>\n      <td>100.0</td>\n      <td>NaN</td>\n      <td>NaT</td>\n    </tr>\n    <tr>\n      <th>17</th>\n      <td>2017-11-01 00:00:00</td>\n      <td>400.0</td>\n      <td>18.0</td>\n      <td>15:10:00</td>\n      <td>NaN</td>\n      <td>NaN</td>\n      <td>15:20:00</td>\n      <td>15:22:00</td>\n      <td>15:23:00</td>\n      <td>A16</td>\n      <td>...</td>\n      <td>400.0</td>\n      <td>18.0</td>\n      <td>15:10:00</td>\n      <td>15:23:00</td>\n      <td>A16</td>\n      <td>B16</td>\n      <td>P16</td>\n      <td>72.0</td>\n      <td>NaN</td>\n      <td>NaT</td>\n    </tr>\n    <tr>\n      <th>18</th>\n      <td>2017-11-01 00:00:00</td>\n      <td>400.0</td>\n      <td>19.0</td>\n      <td>15:37:00</td>\n      <td>15:40:00</td>\n      <td>15:41:00</td>\n      <td>15:50:00</td>\n      <td>15:51:00</td>\n      <td>15:55:00</td>\n      <td>A17</td>\n      <td>...</td>\n      <td>400.0</td>\n      <td>19.0</td>\n      <td>15:37:00</td>\n      <td>15:55:00</td>\n      <td>A17</td>\n      <td>B17</td>\n      <td>P17</td>\n      <td>70.0</td>\n      <td>NaN</td>\n      <td>NaT</td>\n    </tr>\n    <tr>\n      <th>19</th>\n      <td>2017-11-01 00:00:00</td>\n      <td>400.0</td>\n      <td>20.0</td>\n      <td>16:56:00</td>\n      <td>17:01:00</td>\n      <td>17:02:00</td>\n      <td>17:13:00</td>\n      <td>17:15:00</td>\n      <td>05:18:00</td>\n      <td>A18</td>\n      <td>...</td>\n      <td>400.0</td>\n      <td>20.0</td>\n      <td>16:56:00</td>\n      <td>05:18:00</td>\n      <td>A18</td>\n      <td>B18</td>\n      <td>P18</td>\n      <td>60.0</td>\n      <td>NaN</td>\n      <td>NaT</td>\n    </tr>\n    <tr>\n      <th>20</th>\n      <td>2017-11-01 00:00:00</td>\n      <td>400.0</td>\n      <td>21.0</td>\n      <td>17:45:00</td>\n      <td>17:49:00</td>\n      <td>NaN</td>\n      <td>NaN</td>\n      <td>18:02:00</td>\n      <td>18:04:00</td>\n      <td>A19</td>\n      <td>...</td>\n      <td>400.0</td>\n      <td>21.0</td>\n      <td>17:45:00</td>\n      <td>18:04:00</td>\n      <td>A19</td>\n      <td>B19</td>\n      <td>P19</td>\n      <td>60.0</td>\n      <td>NaN</td>\n      <td>NaT</td>\n    </tr>\n    <tr>\n      <th>21</th>\n      <td>2017-11-01 00:00:00</td>\n      <td>400.0</td>\n      <td>22.0</td>\n      <td>18:08:00</td>\n      <td>18:12:00</td>\n      <td>18:13:00</td>\n      <td>18:21:00</td>\n      <td>18:23:00</td>\n      <td>18:29:00</td>\n      <td>A20</td>\n      <td>...</td>\n      <td>400.0</td>\n      <td>22.0</td>\n      <td>18:08:00</td>\n      <td>18:29:00</td>\n      <td>A20</td>\n      <td>B20</td>\n      <td>P20</td>\n      <td>60.0</td>\n      <td>NaN</td>\n      <td>NaT</td>\n    </tr>\n    <tr>\n      <th>22</th>\n      <td>NaN</td>\n      <td>NaN</td>\n      <td>NaN</td>\n      <td>NaN</td>\n      <td>NaN</td>\n      <td>NaN</td>\n      <td>NaN</td>\n      <td>NaN</td>\n      <td>NaN</td>\n      <td>NaN</td>\n      <td>...</td>\n      <td>NaN</td>\n      <td>NaN</td>\n      <td>NaN</td>\n      <td>NaN</td>\n      <td>NaN</td>\n      <td>NaN</td>\n      <td>NaN</td>\n      <td>NaN</td>\n      <td>NaN</td>\n      <td>NaT</td>\n    </tr>\n    <tr>\n      <th>23</th>\n      <td>NaN</td>\n      <td>NaN</td>\n      <td>NaN</td>\n      <td>NaN</td>\n      <td>NaN</td>\n      <td>NaN</td>\n      <td>NaN</td>\n      <td>NaN</td>\n      <td>NaN</td>\n      <td>assumed time</td>\n      <td>...</td>\n      <td>NaN</td>\n      <td>NaN</td>\n      <td>NaN</td>\n      <td>NaN</td>\n      <td>NaN</td>\n      <td>NaN</td>\n      <td>NaN</td>\n      <td>NaN</td>\n      <td>NaN</td>\n      <td>NaT</td>\n    </tr>\n    <tr>\n      <th>24</th>\n      <td>NaN</td>\n      <td>NaN</td>\n      <td>NaN</td>\n      <td>NaN</td>\n      <td>NaN</td>\n      <td>NaN</td>\n      <td>NaN</td>\n      <td>NaN</td>\n      <td>NaN</td>\n      <td>NaN</td>\n      <td>...</td>\n      <td>NaN</td>\n      <td>NaN</td>\n      <td>NaN</td>\n      <td>NaN</td>\n      <td>NaN</td>\n      <td>NaN</td>\n      <td>NaN</td>\n      <td>NaN</td>\n      <td>NaN</td>\n      <td>NaT</td>\n    </tr>\n    <tr>\n      <th>25</th>\n      <td>for integrating flow rates</td>\n      <td>NaN</td>\n      <td>NaN</td>\n      <td>NaN</td>\n      <td>NaN</td>\n      <td>NaN</td>\n      <td>NaN</td>\n      <td>NaN</td>\n      <td>NaN</td>\n      <td>NaN</td>\n      <td>...</td>\n      <td>NaN</td>\n      <td>NaN</td>\n      <td>NaN</td>\n      <td>NaN</td>\n      <td>NaN</td>\n      <td>NaN</td>\n      <td>NaN</td>\n      <td>NaN</td>\n      <td>NaN</td>\n      <td>NaT</td>\n    </tr>\n    <tr>\n      <th>26</th>\n      <td>2017-10-30 00:00:00</td>\n      <td>340.0</td>\n      <td>1.0</td>\n      <td>11:57:00</td>\n      <td>12:16:00</td>\n      <td>A1</td>\n      <td>B1</td>\n      <td>P1</td>\n      <td>50</td>\n      <td>NaN</td>\n      <td>...</td>\n      <td>NaN</td>\n      <td>NaN</td>\n      <td>NaN</td>\n      <td>NaN</td>\n      <td>NaN</td>\n      <td>NaN</td>\n      <td>NaN</td>\n      <td>NaN</td>\n      <td>NaN</td>\n      <td>NaT</td>\n    </tr>\n    <tr>\n      <th>27</th>\n      <td>2017-10-30 00:00:00</td>\n      <td>340.0</td>\n      <td>2.0</td>\n      <td>13:05:00</td>\n      <td>13:16:00</td>\n      <td>A2</td>\n      <td>B2</td>\n      <td>P2</td>\n      <td>53</td>\n      <td>NaN</td>\n      <td>...</td>\n      <td>NaN</td>\n      <td>NaN</td>\n      <td>NaN</td>\n      <td>NaN</td>\n      <td>NaN</td>\n      <td>NaN</td>\n      <td>NaN</td>\n      <td>NaN</td>\n      <td>NaN</td>\n      <td>NaT</td>\n    </tr>\n    <tr>\n      <th>28</th>\n      <td>2017-10-30 00:00:00</td>\n      <td>340.0</td>\n      <td>3.0</td>\n      <td>16:58:30</td>\n      <td>17:11:00</td>\n      <td>A3</td>\n      <td>B3</td>\n      <td>P3</td>\n      <td>41</td>\n      <td>NaN</td>\n      <td>...</td>\n      <td>NaN</td>\n      <td>NaN</td>\n      <td>NaN</td>\n      <td>NaN</td>\n      <td>NaN</td>\n      <td>NaN</td>\n      <td>NaN</td>\n      <td>NaN</td>\n      <td>NaN</td>\n      <td>NaT</td>\n    </tr>\n    <tr>\n      <th>29</th>\n      <td>2017-10-30 00:00:00</td>\n      <td>340.0</td>\n      <td>4.0</td>\n      <td>18:25:30</td>\n      <td>18:37:00</td>\n      <td>A4</td>\n      <td>B4</td>\n      <td>P4</td>\n      <td>14</td>\n      <td>NaN</td>\n      <td>...</td>\n      <td>NaN</td>\n      <td>NaN</td>\n      <td>NaN</td>\n      <td>NaN</td>\n      <td>NaN</td>\n      <td>NaN</td>\n      <td>NaN</td>\n      <td>NaN</td>\n      <td>NaN</td>\n      <td>NaT</td>\n    </tr>\n    <tr>\n      <th>30</th>\n      <td>2017-10-31 00:00:00</td>\n      <td>60.0</td>\n      <td>5.0</td>\n      <td>11:32:00</td>\n      <td>11:51:00</td>\n      <td>A5</td>\n      <td>B5</td>\n      <td>P5</td>\n      <td>50</td>\n      <td>NaN</td>\n      <td>...</td>\n      <td>NaN</td>\n      <td>NaN</td>\n      <td>NaN</td>\n      <td>NaN</td>\n      <td>NaN</td>\n      <td>NaN</td>\n      <td>NaN</td>\n      <td>NaN</td>\n      <td>NaN</td>\n      <td>NaT</td>\n    </tr>\n    <tr>\n      <th>31</th>\n      <td>2017-10-31 00:00:00</td>\n      <td>60.0</td>\n      <td>6.0</td>\n      <td>12:11:00</td>\n      <td>12:25:00</td>\n      <td>A6</td>\n      <td>B6</td>\n      <td>P6</td>\n      <td>40</td>\n      <td>NaN</td>\n      <td>...</td>\n      <td>NaN</td>\n      <td>NaN</td>\n      <td>NaN</td>\n      <td>NaN</td>\n      <td>NaN</td>\n      <td>NaN</td>\n      <td>NaN</td>\n      <td>NaN</td>\n      <td>NaN</td>\n      <td>NaT</td>\n    </tr>\n    <tr>\n      <th>32</th>\n      <td>2017-10-31 00:00:00</td>\n      <td>60.0</td>\n      <td>7.0</td>\n      <td>12:45:00</td>\n      <td>12:58:30</td>\n      <td>A7</td>\n      <td>B7</td>\n      <td>P7</td>\n      <td>32</td>\n      <td>NaN</td>\n      <td>...</td>\n      <td>NaN</td>\n      <td>NaN</td>\n      <td>NaN</td>\n      <td>NaN</td>\n      <td>NaN</td>\n      <td>NaN</td>\n      <td>NaN</td>\n      <td>NaN</td>\n      <td>NaN</td>\n      <td>NaT</td>\n    </tr>\n    <tr>\n      <th>33</th>\n      <td>2017-10-31 00:00:00</td>\n      <td>60.0</td>\n      <td>8.0</td>\n      <td>13:25:00</td>\n      <td>13:35:00</td>\n      <td>A8</td>\n      <td>B8</td>\n      <td>P8</td>\n      <td>35</td>\n      <td>NaN</td>\n      <td>...</td>\n      <td>NaN</td>\n      <td>NaN</td>\n      <td>NaN</td>\n      <td>NaN</td>\n      <td>NaN</td>\n      <td>NaN</td>\n      <td>NaN</td>\n      <td>NaN</td>\n      <td>NaN</td>\n      <td>NaT</td>\n    </tr>\n    <tr>\n      <th>34</th>\n      <td>2017-10-31 00:00:00</td>\n      <td>0.0</td>\n      <td>9.0</td>\n      <td>15:12:00</td>\n      <td>15:28:00</td>\n      <td>A9</td>\n      <td>B9</td>\n      <td>P9</td>\n      <td>50</td>\n      <td>NaN</td>\n      <td>...</td>\n      <td>NaN</td>\n      <td>NaN</td>\n      <td>NaN</td>\n      <td>NaN</td>\n      <td>NaN</td>\n      <td>NaN</td>\n      <td>NaN</td>\n      <td>NaN</td>\n      <td>NaN</td>\n      <td>NaT</td>\n    </tr>\n    <tr>\n      <th>35</th>\n      <td>2017-10-31 00:00:00</td>\n      <td>60.0</td>\n      <td>10.0</td>\n      <td>16:10:00</td>\n      <td>16:21:00</td>\n      <td>A10</td>\n      <td>B10</td>\n      <td>P10</td>\n      <td>20</td>\n      <td>NaN</td>\n      <td>...</td>\n      <td>NaN</td>\n      <td>NaN</td>\n      <td>NaN</td>\n      <td>NaN</td>\n      <td>NaN</td>\n      <td>NaN</td>\n      <td>NaN</td>\n      <td>NaN</td>\n      <td>NaN</td>\n      <td>NaT</td>\n    </tr>\n    <tr>\n      <th>36</th>\n      <td>2017-10-31 00:00:00</td>\n      <td>60.0</td>\n      <td>11.0</td>\n      <td>16:44:00</td>\n      <td>16:54:30</td>\n      <td>A11</td>\n      <td>B11</td>\n      <td>P11</td>\n      <td>35</td>\n      <td>NaN</td>\n      <td>...</td>\n      <td>NaN</td>\n      <td>NaN</td>\n      <td>NaN</td>\n      <td>NaN</td>\n      <td>NaN</td>\n      <td>NaN</td>\n      <td>NaN</td>\n      <td>NaN</td>\n      <td>NaN</td>\n      <td>NaT</td>\n    </tr>\n    <tr>\n      <th>37</th>\n      <td>2017-10-31 00:00:00</td>\n      <td>60.0</td>\n      <td>12.0</td>\n      <td>21:53:00</td>\n      <td>10:07:00</td>\n      <td>A12</td>\n      <td>B12</td>\n      <td>P12</td>\n      <td>30</td>\n      <td>NaN</td>\n      <td>...</td>\n      <td>NaN</td>\n      <td>NaN</td>\n      <td>NaN</td>\n      <td>NaN</td>\n      <td>NaN</td>\n      <td>NaN</td>\n      <td>NaN</td>\n      <td>NaN</td>\n      <td>NaN</td>\n      <td>NaT</td>\n    </tr>\n    <tr>\n      <th>38</th>\n      <td>2017-10-31 00:00:00</td>\n      <td>60.0</td>\n      <td>13.0</td>\n      <td>22:20:00</td>\n      <td>22:34:00</td>\n      <td>A13</td>\n      <td>B13</td>\n      <td>P13</td>\n      <td>20</td>\n      <td>NaN</td>\n      <td>...</td>\n      <td>NaN</td>\n      <td>NaN</td>\n      <td>NaN</td>\n      <td>NaN</td>\n      <td>NaN</td>\n      <td>NaN</td>\n      <td>NaN</td>\n      <td>NaN</td>\n      <td>NaN</td>\n      <td>NaT</td>\n    </tr>\n    <tr>\n      <th>39</th>\n      <td>2017-11-01 00:00:00</td>\n      <td>400.0</td>\n      <td>14.0</td>\n      <td>11:27:00</td>\n      <td>11:41:00</td>\n      <td>A32</td>\n      <td>B32</td>\n      <td>P32</td>\n      <td>70</td>\n      <td>NaN</td>\n      <td>...</td>\n      <td>NaN</td>\n      <td>NaN</td>\n      <td>NaN</td>\n      <td>NaN</td>\n      <td>NaN</td>\n      <td>NaN</td>\n      <td>NaN</td>\n      <td>NaN</td>\n      <td>NaN</td>\n      <td>NaT</td>\n    </tr>\n    <tr>\n      <th>40</th>\n      <td>2017-11-01 00:00:00</td>\n      <td>400.0</td>\n      <td>15.0</td>\n      <td>12:18:00</td>\n      <td>12:31:00</td>\n      <td>A33</td>\n      <td>B33</td>\n      <td>P33</td>\n      <td>95</td>\n      <td>NaN</td>\n      <td>...</td>\n      <td>NaN</td>\n      <td>NaN</td>\n      <td>NaN</td>\n      <td>NaN</td>\n      <td>NaN</td>\n      <td>NaN</td>\n      <td>NaN</td>\n      <td>NaN</td>\n      <td>NaN</td>\n      <td>NaT</td>\n    </tr>\n    <tr>\n      <th>41</th>\n      <td>2017-11-01 00:00:00</td>\n      <td>400.0</td>\n      <td>16.0</td>\n      <td>13:01:00</td>\n      <td>13:20:00</td>\n      <td>A14</td>\n      <td>B14</td>\n      <td>P14</td>\n      <td>100</td>\n      <td>NaN</td>\n      <td>...</td>\n      <td>NaN</td>\n      <td>NaN</td>\n      <td>NaN</td>\n      <td>NaN</td>\n      <td>NaN</td>\n      <td>NaN</td>\n      <td>NaN</td>\n      <td>NaN</td>\n      <td>NaN</td>\n      <td>NaT</td>\n    </tr>\n    <tr>\n      <th>42</th>\n      <td>2017-11-01 00:00:00</td>\n      <td>400.0</td>\n      <td>17.0</td>\n      <td>13:29:00</td>\n      <td>13:50:00</td>\n      <td>A15</td>\n      <td>B15</td>\n      <td>P15</td>\n      <td>100</td>\n      <td>NaN</td>\n      <td>...</td>\n      <td>NaN</td>\n      <td>NaN</td>\n      <td>NaN</td>\n      <td>NaN</td>\n      <td>NaN</td>\n      <td>NaN</td>\n      <td>NaN</td>\n      <td>NaN</td>\n      <td>NaN</td>\n      <td>NaT</td>\n    </tr>\n    <tr>\n      <th>43</th>\n      <td>2017-11-01 00:00:00</td>\n      <td>400.0</td>\n      <td>18.0</td>\n      <td>15:10:00</td>\n      <td>15:23:00</td>\n      <td>A16</td>\n      <td>B16</td>\n      <td>P16</td>\n      <td>72</td>\n      <td>NaN</td>\n      <td>...</td>\n      <td>NaN</td>\n      <td>NaN</td>\n      <td>NaN</td>\n      <td>NaN</td>\n      <td>NaN</td>\n      <td>NaN</td>\n      <td>NaN</td>\n      <td>NaN</td>\n      <td>NaN</td>\n      <td>NaT</td>\n    </tr>\n    <tr>\n      <th>44</th>\n      <td>2017-11-01 00:00:00</td>\n      <td>400.0</td>\n      <td>19.0</td>\n      <td>15:39:30</td>\n      <td>15:55:00</td>\n      <td>A17</td>\n      <td>B17</td>\n      <td>P17</td>\n      <td>70</td>\n      <td>NaN</td>\n      <td>...</td>\n      <td>NaN</td>\n      <td>NaN</td>\n      <td>NaN</td>\n      <td>NaN</td>\n      <td>NaN</td>\n      <td>NaN</td>\n      <td>NaN</td>\n      <td>NaN</td>\n      <td>NaN</td>\n      <td>NaT</td>\n    </tr>\n    <tr>\n      <th>45</th>\n      <td>2017-11-01 00:00:00</td>\n      <td>400.0</td>\n      <td>20.0</td>\n      <td>16:56:00</td>\n      <td>05:18:00</td>\n      <td>A18</td>\n      <td>B18</td>\n      <td>P18</td>\n      <td>60</td>\n      <td>NaN</td>\n      <td>...</td>\n      <td>NaN</td>\n      <td>NaN</td>\n      <td>NaN</td>\n      <td>NaN</td>\n      <td>NaN</td>\n      <td>NaN</td>\n      <td>NaN</td>\n      <td>NaN</td>\n      <td>NaN</td>\n      <td>NaT</td>\n    </tr>\n    <tr>\n      <th>46</th>\n      <td>2017-11-01 00:00:00</td>\n      <td>400.0</td>\n      <td>21.0</td>\n      <td>17:51:00</td>\n      <td>18:04:00</td>\n      <td>A19</td>\n      <td>B19</td>\n      <td>P19</td>\n      <td>60</td>\n      <td>NaN</td>\n      <td>...</td>\n      <td>NaN</td>\n      <td>NaN</td>\n      <td>NaN</td>\n      <td>NaN</td>\n      <td>NaN</td>\n      <td>NaN</td>\n      <td>NaN</td>\n      <td>NaN</td>\n      <td>NaN</td>\n      <td>NaT</td>\n    </tr>\n    <tr>\n      <th>47</th>\n      <td>2017-11-01 00:00:00</td>\n      <td>400.0</td>\n      <td>22.0</td>\n      <td>18:11:00</td>\n      <td>18:26:00</td>\n      <td>A20</td>\n      <td>B20</td>\n      <td>P20</td>\n      <td>60</td>\n      <td>NaN</td>\n      <td>...</td>\n      <td>NaN</td>\n      <td>NaN</td>\n      <td>NaN</td>\n      <td>NaN</td>\n      <td>NaN</td>\n      <td>NaN</td>\n      <td>NaN</td>\n      <td>NaN</td>\n      <td>NaN</td>\n      <td>NaT</td>\n    </tr>\n  </tbody>\n</table>\n<p>48 rows × 27 columns</p>\n</div>"
     },
     "metadata": {}
    }
   ],
   "execution_count": null
  },
  {
   "cell_type": "code",
   "source": "df_filter_ground = pd.read_excel(\"data/Run_Log.xlsx\", sheet_name=\"Ground Station\")\n\ndf_filter_ground",
   "metadata": {
    "cell_id": "b9db03a669514882a58fc223073a65e1",
    "tags": [],
    "deepnote_to_be_reexecuted": false,
    "source_hash": "8f7d122c",
    "execution_start": 1663332330474,
    "execution_millis": 1021,
    "deepnote_cell_type": "code",
    "deepnote_cell_height": 649.4375
   },
   "outputs": [
    {
     "output_type": "execute_result",
     "execution_count": 26,
     "data": {
      "application/vnd.deepnote.dataframe.v3+json": {
       "column_count": 11,
       "row_count": 46,
       "columns": [
        {
         "name": "start date",
         "dtype": "object",
         "stats": {
          "unique_count": 12,
          "nan_count": 3,
          "categories": [
           {
            "name": "2017-11-01 00:00:00",
            "count": 11
           },
           {
            "name": "11 others",
            "count": 32
           },
           {
            "name": "Missing",
            "count": 3
           }
          ]
         }
        },
        {
         "name": "Start time",
         "dtype": "object",
         "stats": {
          "unique_count": 38,
          "nan_count": 4,
          "categories": [
           {
            "name": "14:00:00",
            "count": 2
           },
           {
            "name": "37 others",
            "count": 40
           },
           {
            "name": "Missing",
            "count": 4
           }
          ]
         }
        },
        {
         "name": "Date end",
         "dtype": "datetime64[ns]",
         "stats": {
          "unique_count": 5,
          "nan_count": 11,
          "min": "2017-10-30 00:00:00",
          "max": "2017-11-11 00:00:00",
          "histogram": [
           {
            "bin_start": 1509321600000000000,
            "bin_end": 1509425280000000000,
            "count": 18
           },
           {
            "bin_start": 1509425280000000000,
            "bin_end": 1509528960000000000,
            "count": 11
           },
           {
            "bin_start": 1509528960000000000,
            "bin_end": 1509632640000000000,
            "count": 5
           },
           {
            "bin_start": 1509632640000000000,
            "bin_end": 1509736320000000000,
            "count": 0
           },
           {
            "bin_start": 1509736320000000000,
            "bin_end": 1509840000000000000,
            "count": 0
           },
           {
            "bin_start": 1509840000000000000,
            "bin_end": 1509943680000000000,
            "count": 0
           },
           {
            "bin_start": 1509943680000000000,
            "bin_end": 1510047360000000000,
            "count": 0
           },
           {
            "bin_start": 1510047360000000000,
            "bin_end": 1510151040000000000,
            "count": 0
           },
           {
            "bin_start": 1510151040000000000,
            "bin_end": 1510254720000000000,
            "count": 0
           },
           {
            "bin_start": 1510254720000000000,
            "bin_end": 1510358400000000000,
            "count": 1
           }
          ]
         }
        },
        {
         "name": "End Time",
         "dtype": "object",
         "stats": {
          "unique_count": 32,
          "nan_count": 11,
          "categories": [
           {
            "name": "14:30:00",
            "count": 2
           },
           {
            "name": "31 others",
            "count": 33
           },
           {
            "name": "Missing",
            "count": 11
           }
          ]
         }
        },
        {
         "name": "Combined Start",
         "dtype": "datetime64[ns]",
         "stats": {
          "unique_count": 35,
          "nan_count": 11,
          "min": "2017-10-30 12:33:40",
          "max": "2017-11-02 07:00:00",
          "histogram": [
           {
            "bin_start": 1509366820000000000,
            "bin_end": 1509390738000000000,
            "count": 5
           },
           {
            "bin_start": 1509390738000000000,
            "bin_end": 1509414656000000000,
            "count": 5
           },
           {
            "bin_start": 1509414656000000000,
            "bin_end": 1509438574000000000,
            "count": 0
           },
           {
            "bin_start": 1509438574000000000,
            "bin_end": 1509462492000000000,
            "count": 6
           },
           {
            "bin_start": 1509462492000000000,
            "bin_end": 1509486410000000000,
            "count": 1
           },
           {
            "bin_start": 1509486410000000000,
            "bin_end": 1509510328000000000,
            "count": 4
           },
           {
            "bin_start": 1509510328000000000,
            "bin_end": 1509534246000000000,
            "count": 2
           },
           {
            "bin_start": 1509534246000000000,
            "bin_end": 1509558164000000000,
            "count": 6
           },
           {
            "bin_start": 1509558164000000000,
            "bin_end": 1509582082000000000,
            "count": 2
           },
           {
            "bin_start": 1509582082000000000,
            "bin_end": 1509606000000000000,
            "count": 4
           }
          ]
         }
        },
        {
         "name": "Combined End",
         "dtype": "datetime64[ns]",
         "stats": {
          "unique_count": 35,
          "nan_count": 11,
          "min": "2017-10-30 13:33:40",
          "max": "2017-11-11 00:30:00",
          "histogram": [
           {
            "bin_start": 1509370420000000000,
            "bin_end": 1509469398000000000,
            "count": 17
           },
           {
            "bin_start": 1509469398000000000,
            "bin_end": 1509568376000000000,
            "count": 11
           },
           {
            "bin_start": 1509568376000000000,
            "bin_end": 1509667354000000000,
            "count": 6
           },
           {
            "bin_start": 1509667354000000000,
            "bin_end": 1509766332000000000,
            "count": 0
           },
           {
            "bin_start": 1509766332000000000,
            "bin_end": 1509865310000000000,
            "count": 0
           },
           {
            "bin_start": 1509865310000000000,
            "bin_end": 1509964288000000000,
            "count": 0
           },
           {
            "bin_start": 1509964288000000000,
            "bin_end": 1510063266000000000,
            "count": 0
           },
           {
            "bin_start": 1510063266000000000,
            "bin_end": 1510162244000000000,
            "count": 0
           },
           {
            "bin_start": 1510162244000000000,
            "bin_end": 1510261222000000000,
            "count": 0
           },
           {
            "bin_start": 1510261222000000000,
            "bin_end": 1510360200000000000,
            "count": 1
           }
          ]
         }
        },
        {
         "name": "Channel #",
         "dtype": "float64",
         "stats": {
          "unique_count": 6,
          "nan_count": 11,
          "min": "1.0",
          "max": "6.0",
          "histogram": [
           {
            "bin_start": 1,
            "bin_end": 1.5,
            "count": 7
           },
           {
            "bin_start": 1.5,
            "bin_end": 2,
            "count": 0
           },
           {
            "bin_start": 2,
            "bin_end": 2.5,
            "count": 6
           },
           {
            "bin_start": 2.5,
            "bin_end": 3,
            "count": 0
           },
           {
            "bin_start": 3,
            "bin_end": 3.5,
            "count": 6
           },
           {
            "bin_start": 3.5,
            "bin_end": 4,
            "count": 0
           },
           {
            "bin_start": 4,
            "bin_end": 4.5,
            "count": 6
           },
           {
            "bin_start": 4.5,
            "bin_end": 5,
            "count": 0
           },
           {
            "bin_start": 5,
            "bin_end": 5.5,
            "count": 6
           },
           {
            "bin_start": 5.5,
            "bin_end": 6,
            "count": 4
           }
          ]
         }
        },
        {
         "name": "Flow Rate (P)",
         "dtype": "float64",
         "stats": {
          "unique_count": 6,
          "nan_count": 11,
          "min": "19.93",
          "max": "21.22",
          "histogram": [
           {
            "bin_start": 19.93,
            "bin_end": 20.059,
            "count": 6
           },
           {
            "bin_start": 20.059,
            "bin_end": 20.188,
            "count": 6
           },
           {
            "bin_start": 20.188,
            "bin_end": 20.317,
            "count": 13
           },
           {
            "bin_start": 20.317,
            "bin_end": 20.445999999999998,
            "count": 0
           },
           {
            "bin_start": 20.445999999999998,
            "bin_end": 20.575,
            "count": 0
           },
           {
            "bin_start": 20.575,
            "bin_end": 20.704,
            "count": 6
           },
           {
            "bin_start": 20.704,
            "bin_end": 20.833,
            "count": 0
           },
           {
            "bin_start": 20.833,
            "bin_end": 20.962,
            "count": 0
           },
           {
            "bin_start": 20.962,
            "bin_end": 21.090999999999998,
            "count": 0
           },
           {
            "bin_start": 21.090999999999998,
            "bin_end": 21.22,
            "count": 4
           }
          ]
         }
        },
        {
         "name": "Flow Rate (G)",
         "dtype": "float64",
         "stats": {
          "unique_count": 5,
          "nan_count": 11,
          "min": "0.258",
          "max": "0.278",
          "histogram": [
           {
            "bin_start": 0.258,
            "bin_end": 0.26,
            "count": 10
           },
           {
            "bin_start": 0.26,
            "bin_end": 0.262,
            "count": 0
           },
           {
            "bin_start": 0.262,
            "bin_end": 0.264,
            "count": 0
           },
           {
            "bin_start": 0.264,
            "bin_end": 0.266,
            "count": 6
           },
           {
            "bin_start": 0.266,
            "bin_end": 0.268,
            "count": 0
           },
           {
            "bin_start": 0.268,
            "bin_end": 0.27,
            "count": 6
           },
           {
            "bin_start": 0.27,
            "bin_end": 0.272,
            "count": 0
           },
           {
            "bin_start": 0.272,
            "bin_end": 0.274,
            "count": 0
           },
           {
            "bin_start": 0.274,
            "bin_end": 0.276,
            "count": 0
           },
           {
            "bin_start": 0.276,
            "bin_end": 0.278,
            "count": 13
           }
          ]
         }
        },
        {
         "name": "Fliter (F)",
         "dtype": "float64",
         "stats": {
          "unique_count": 34,
          "nan_count": 11,
          "min": "201.0",
          "max": "237.0",
          "histogram": [
           {
            "bin_start": 201,
            "bin_end": 204.6,
            "count": 4
           },
           {
            "bin_start": 204.6,
            "bin_end": 208.2,
            "count": 3
           },
           {
            "bin_start": 208.2,
            "bin_end": 211.8,
            "count": 3
           },
           {
            "bin_start": 211.8,
            "bin_end": 215.4,
            "count": 4
           },
           {
            "bin_start": 215.4,
            "bin_end": 219,
            "count": 3
           },
           {
            "bin_start": 219,
            "bin_end": 222.6,
            "count": 4
           },
           {
            "bin_start": 222.6,
            "bin_end": 226.2,
            "count": 4
           },
           {
            "bin_start": 226.2,
            "bin_end": 229.8,
            "count": 2
           },
           {
            "bin_start": 229.8,
            "bin_end": 233.4,
            "count": 4
           },
           {
            "bin_start": 233.4,
            "bin_end": 237,
            "count": 4
           }
          ]
         }
        },
        {
         "name": "Tube",
         "dtype": "float64",
         "stats": {
          "unique_count": 34,
          "nan_count": 11,
          "min": "1048319.0",
          "max": "1101441.0",
          "histogram": [
           {
            "bin_start": 1048319,
            "bin_end": 1053631.2,
            "count": 9
           },
           {
            "bin_start": 1053631.2,
            "bin_end": 1058943.4,
            "count": 0
           },
           {
            "bin_start": 1058943.4,
            "bin_end": 1064255.6,
            "count": 0
           },
           {
            "bin_start": 1064255.6,
            "bin_end": 1069567.8,
            "count": 0
           },
           {
            "bin_start": 1069567.8,
            "bin_end": 1074880,
            "count": 0
           },
           {
            "bin_start": 1074880,
            "bin_end": 1080192.2,
            "count": 3
           },
           {
            "bin_start": 1080192.2,
            "bin_end": 1085504.4,
            "count": 0
           },
           {
            "bin_start": 1085504.4,
            "bin_end": 1090816.6,
            "count": 0
           },
           {
            "bin_start": 1090816.6,
            "bin_end": 1096128.8,
            "count": 0
           },
           {
            "bin_start": 1096128.8,
            "bin_end": 1101441,
            "count": 23
           }
          ]
         }
        },
        {
         "name": "_deepnote_index_column",
         "dtype": "int64"
        }
       ],
       "rows": [
        {
         "start date": "2017-10-30 00:00:00",
         "Start time": "12:33:40",
         "Date end": "2017-10-30 00:00:00",
         "End Time": "13:33:40",
         "Combined Start": "2017-10-30 12:33:40",
         "Combined End": "2017-10-30 13:33:40",
         "Channel #": "1.0",
         "Flow Rate (P)": "20.19",
         "Flow Rate (G)": "0.277",
         "Fliter (F)": "201.0",
         "Tube": "1101096.0",
         "_deepnote_index_column": "0"
        },
        {
         "start date": "2017-10-30 00:00:00",
         "Start time": "13:35:00",
         "Date end": "2017-10-30 00:00:00",
         "End Time": "14:35:00",
         "Combined Start": "2017-10-30 13:35:00",
         "Combined End": "2017-10-30 14:35:00",
         "Channel #": "2.0",
         "Flow Rate (P)": "20.17",
         "Flow Rate (G)": "0.268",
         "Fliter (F)": "202.0",
         "Tube": "1100926.0",
         "_deepnote_index_column": "1"
        },
        {
         "start date": "2017-10-30 00:00:00",
         "Start time": "14:36:44",
         "Date end": "2017-10-30 00:00:00",
         "End Time": "15:36:44",
         "Combined Start": "2017-10-30 14:36:44",
         "Combined End": "2017-10-30 15:36:44",
         "Channel #": "3.0",
         "Flow Rate (P)": "20.69",
         "Flow Rate (G)": "0.277",
         "Fliter (F)": "203.0",
         "Tube": "1101437.0",
         "_deepnote_index_column": "2"
        },
        {
         "start date": "2017-10-30 00:00:00",
         "Start time": "16:41:16",
         "Date end": "2017-10-30 00:00:00",
         "End Time": "17:44:00",
         "Combined Start": "2017-10-30 16:41:16",
         "Combined End": "2017-10-30 17:44:00",
         "Channel #": "4.0",
         "Flow Rate (P)": "19.93",
         "Flow Rate (G)": "0.265",
         "Fliter (F)": "204.0",
         "Tube": "1100936.0",
         "_deepnote_index_column": "3"
        },
        {
         "start date": "2017-10-30 00:00:00",
         "Start time": "17:45:00",
         "Date end": "2017-10-30 00:00:00",
         "End Time": "18:38:00",
         "Combined Start": "2017-10-30 17:45:00",
         "Combined End": "2017-10-30 18:38:00",
         "Channel #": "5.0",
         "Flow Rate (P)": "20.25",
         "Flow Rate (G)": "0.258",
         "Fliter (F)": "205.0",
         "Tube": "1048717.0",
         "_deepnote_index_column": "4"
        },
        {
         "start date": "2017-10-30 00:00:00",
         "Start time": "19:45:00",
         "Date end": "2017-10-30 00:00:00",
         "End Time": "20:15:00",
         "Combined Start": "2017-10-30 19:45:00",
         "Combined End": "2017-10-30 20:15:00",
         "Channel #": "1.0",
         "Flow Rate (P)": "20.19",
         "Flow Rate (G)": "0.277",
         "Fliter (F)": "207.0",
         "Tube": "1048371.0",
         "_deepnote_index_column": "5"
        },
        {
         "start date": "2017-10-30 00:00:00",
         "Start time": "20:15:00",
         "Date end": "2017-10-30 00:00:00",
         "End Time": "20:45:00",
         "Combined Start": "2017-10-30 20:15:00",
         "Combined End": "2017-10-30 20:45:00",
         "Channel #": "2.0",
         "Flow Rate (P)": "20.17",
         "Flow Rate (G)": "0.268",
         "Fliter (F)": "208.0",
         "Tube": "1101043.0",
         "_deepnote_index_column": "6"
        },
        {
         "start date": "2017-10-30 00:00:00",
         "Start time": "20:45:00",
         "Date end": "2017-10-30 00:00:00",
         "End Time": "21:15:00",
         "Combined Start": "2017-10-30 20:45:00",
         "Combined End": "2017-10-30 21:15:00",
         "Channel #": "3.0",
         "Flow Rate (P)": "20.69",
         "Flow Rate (G)": "0.258",
         "Fliter (F)": "209.0",
         "Tube": "1101022.0",
         "_deepnote_index_column": "7"
        },
        {
         "start date": "2017-10-30 00:00:00",
         "Start time": "21:15:00",
         "Date end": "2017-10-30 00:00:00",
         "End Time": "21:45:00",
         "Combined Start": "2017-10-30 21:15:00",
         "Combined End": "2017-10-30 21:45:00",
         "Channel #": "4.0",
         "Flow Rate (P)": "19.93",
         "Flow Rate (G)": "0.265",
         "Fliter (F)": "210.0",
         "Tube": "1079817.0",
         "_deepnote_index_column": "8"
        },
        {
         "start date": "2017-10-30 00:00:00",
         "Start time": "21:45:00",
         "Date end": "2017-10-30 00:00:00",
         "End Time": "22:15:00",
         "Combined Start": "2017-10-30 21:45:00",
         "Combined End": "2017-10-30 22:15:00",
         "Channel #": "5.0",
         "Flow Rate (P)": "20.25",
         "Flow Rate (G)": "0.258",
         "Fliter (F)": "211.0",
         "Tube": "1101103.0",
         "_deepnote_index_column": "9"
        }
       ]
      },
      "text/plain": "             start date Start time   Date end  End Time      Combined Start  \\\n0   2017-10-30 00:00:00   12:33:40 2017-10-30  13:33:40 2017-10-30 12:33:40   \n1   2017-10-30 00:00:00   13:35:00 2017-10-30  14:35:00 2017-10-30 13:35:00   \n2   2017-10-30 00:00:00   14:36:44 2017-10-30  15:36:44 2017-10-30 14:36:44   \n3   2017-10-30 00:00:00   16:41:16 2017-10-30  17:44:00 2017-10-30 16:41:16   \n4   2017-10-30 00:00:00   17:45:00 2017-10-30  18:38:00 2017-10-30 17:45:00   \n5   2017-10-30 00:00:00   19:45:00 2017-10-30  20:15:00 2017-10-30 19:45:00   \n6   2017-10-30 00:00:00   20:15:00 2017-10-30  20:45:00 2017-10-30 20:15:00   \n7   2017-10-30 00:00:00   20:45:00 2017-10-30  21:15:00 2017-10-30 20:45:00   \n8   2017-10-30 00:00:00   21:15:00 2017-10-30  21:45:00 2017-10-30 21:15:00   \n9   2017-10-30 00:00:00   21:45:00 2017-10-30  22:15:00 2017-10-30 21:45:00   \n10  2017-10-31 00:00:00   11:36:43 2017-10-31  12:06:43 2017-10-31 11:36:43   \n11  2017-10-31 00:00:00   12:11:44 2017-10-31  12:41:44 2017-10-31 12:11:44   \n12  2017-10-31 00:00:00   13:12:33 2017-10-31  13:42:33 2017-10-31 13:12:33   \n13  2017-10-31 00:00:00   14:00:00 2017-10-31  14:30:00 2017-10-31 14:00:00   \n14  2017-10-31 00:00:00   14:30:00 2017-10-31  15:00:00 2017-10-31 14:30:00   \n15  2017-10-31 00:00:00   15:00:00 2017-10-31  15:30:00 2017-10-31 15:00:00   \n16  2017-10-31 00:00:00   15:30:00 2017-10-31  16:00:00 2017-10-31 15:30:00   \n17  2017-10-31 00:00:00   22:00:00 2017-10-31  22:45:00 2017-10-31 22:00:00   \n18  2017-10-31 00:00:00   23:45:00 2017-11-11  00:30:00 2017-10-31 23:45:00   \n19  2017-11-01 00:00:00   01:30:00 2017-11-01  02:15:00 2017-11-01 01:30:00   \n20  2017-11-01 00:00:00   03:15:00 2017-11-01  04:00:00 2017-11-01 03:15:00   \n21  2017-11-01 00:00:00   05:00:00 2017-11-01  05:45:00 2017-11-01 05:00:00   \n22  2017-11-01 00:00:00   06:45:00 2017-11-01  07:21:54 2017-11-01 06:45:00   \n23  2017-11-01 00:00:00   11:15:35 2017-11-01  12:00:45 2017-11-01 11:15:35   \n24  2017-11-01 00:00:00   13:00:00 2017-11-01  13:30:00 2017-11-01 13:00:00   \n25  2017-11-01 00:00:00   13:30:00 2017-11-01  14:00:00 2017-11-01 13:30:00   \n26  2017-11-01 00:00:00   14:00:00 2017-11-01  14:30:00 2017-11-01 14:00:00   \n27  2017-11-01 00:00:00   14:30:00 2017-11-01  15:00:00 2017-11-01 14:30:00   \n28  2017-11-01 00:00:00   15:00:00 2017-11-01  15:30:00 2017-11-01 15:00:00   \n29  2017-11-01 00:00:00   22:15:00 2017-11-01  23:15:00 2017-11-01 22:15:00   \n30  2017-11-02 00:00:00   00:00:00 2017-11-02  01:00:00 2017-11-02 00:00:00   \n31  2017-11-02 00:00:00   01:45:00 2017-11-02  02:45:00 2017-11-02 01:45:00   \n32  2017-11-02 00:00:00   03:30:00 2017-11-02  04:30:00 2017-11-02 03:30:00   \n33  2017-11-02 00:00:00   05:15:00 2017-11-02  06:15:00 2017-11-02 05:15:00   \n34  2017-11-02 00:00:00   07:00:00 2017-11-02  07:52:34 2017-11-02 07:00:00   \n35                  NaN        NaN        NaT       NaN                 NaT   \n36                  NaN        NaN        NaT       NaN                 NaT   \n37                  NaN        NaN        NaT       NaN                 NaT   \n38           Flow rates        NaN        NaT       NaN                 NaT   \n39            Channel #  Gas (LPM)        NaT       NaN                 NaT   \n40                    1      0.277        NaT       NaN                 NaT   \n41                    2      0.268        NaT       NaN                 NaT   \n42                    3      0.258        NaT       NaN                 NaT   \n43                    4      0.265        NaT       NaN                 NaT   \n44                    5      0.258        NaT       NaN                 NaT   \n45                    6      0.278        NaT       NaN                 NaT   \n\n          Combined End  Channel #  Flow Rate (P)  Flow Rate (G)  Fliter (F)  \\\n0  2017-10-30 13:33:40        1.0          20.19          0.277       201.0   \n1  2017-10-30 14:35:00        2.0          20.17          0.268       202.0   \n2  2017-10-30 15:36:44        3.0          20.69          0.277       203.0   \n3  2017-10-30 17:44:00        4.0          19.93          0.265       204.0   \n4  2017-10-30 18:38:00        5.0          20.25          0.258       205.0   \n5  2017-10-30 20:15:00        1.0          20.19          0.277       207.0   \n6  2017-10-30 20:45:00        2.0          20.17          0.268       208.0   \n7  2017-10-30 21:15:00        3.0          20.69          0.258       209.0   \n8  2017-10-30 21:45:00        4.0          19.93          0.265       210.0   \n9  2017-10-30 22:15:00        5.0          20.25          0.258       211.0   \n10 2017-10-31 12:06:43        1.0          20.19          0.277       213.0   \n11 2017-10-31 12:41:44        2.0          20.17          0.268       214.0   \n12 2017-10-31 13:42:33        1.0          20.19          0.277       213.0   \n13 2017-10-31 14:30:00        3.0          20.69          0.277       215.0   \n14 2017-10-31 15:00:00        4.0          19.93          0.265       216.0   \n15 2017-10-31 15:30:00        5.0          20.25          0.258       217.0   \n16 2017-10-31 16:00:00        6.0          21.22          0.278       218.0   \n17 2017-10-31 22:45:00        1.0          20.19          0.277       219.0   \n18 2017-11-11 00:30:00        2.0          20.17          0.268       220.0   \n19 2017-11-01 02:15:00        3.0          20.69          0.258       221.0   \n20 2017-11-01 04:00:00        4.0          19.93          0.265       222.0   \n21 2017-11-01 05:45:00        5.0          20.25          0.258       223.0   \n22 2017-11-01 07:21:54        6.0          21.22          0.278       224.0   \n23 2017-11-01 12:00:45        1.0          20.19          0.277       225.0   \n24 2017-11-01 13:30:00        2.0          20.17          0.268       226.0   \n25 2017-11-01 14:00:00        3.0          20.69          0.258       227.0   \n26 2017-11-01 14:30:00        4.0          19.93          0.265       228.0   \n27 2017-11-01 15:00:00        5.0          20.25          0.258       230.0   \n28 2017-11-01 15:30:00        6.0          21.22          0.278       231.0   \n29 2017-11-01 23:15:00        1.0          20.19          0.277       232.0   \n30 2017-11-02 01:00:00        2.0          20.17          0.268       233.0   \n31 2017-11-02 02:45:00        3.0          20.69          0.258       234.0   \n32 2017-11-02 04:30:00        4.0          19.93          0.265       235.0   \n33 2017-11-02 06:15:00        5.0          20.25          0.258       236.0   \n34 2017-11-02 07:52:34        6.0          21.22          0.278       237.0   \n35                 NaT        NaN            NaN            NaN         NaN   \n36                 NaT        NaN            NaN            NaN         NaN   \n37                 NaT        NaN            NaN            NaN         NaN   \n38                 NaT        NaN            NaN            NaN         NaN   \n39                 NaT        NaN            NaN            NaN         NaN   \n40                 NaT        NaN            NaN            NaN         NaN   \n41                 NaT        NaN            NaN            NaN         NaN   \n42                 NaT        NaN            NaN            NaN         NaN   \n43                 NaT        NaN            NaN            NaN         NaN   \n44                 NaT        NaN            NaN            NaN         NaN   \n45                 NaT        NaN            NaN            NaN         NaN   \n\n         Tube  \n0   1101096.0  \n1   1100926.0  \n2   1101437.0  \n3   1100936.0  \n4   1048717.0  \n5   1048371.0  \n6   1101043.0  \n7   1101022.0  \n8   1079817.0  \n9   1101103.0  \n10  1100909.0  \n11  1101094.0  \n12  1100909.0  \n13  1079974.0  \n14  1101411.0  \n15  1101441.0  \n16  1100878.0  \n17  1048568.0  \n18  1099860.0  \n19  1100967.0  \n20  1101166.0  \n21  1048688.0  \n22  1048611.0  \n23  1101112.0  \n24  1101165.0  \n25  1048351.0  \n26  1100928.0  \n27  1048319.0  \n28  1100953.0  \n29  1101013.0  \n30  1048585.0  \n31  1101005.0  \n32  1048655.0  \n33  1100808.0  \n34  1079950.0  \n35        NaN  \n36        NaN  \n37        NaN  \n38        NaN  \n39        NaN  \n40        NaN  \n41        NaN  \n42        NaN  \n43        NaN  \n44        NaN  \n45        NaN  ",
      "text/html": "<div>\n<style scoped>\n    .dataframe tbody tr th:only-of-type {\n        vertical-align: middle;\n    }\n\n    .dataframe tbody tr th {\n        vertical-align: top;\n    }\n\n    .dataframe thead th {\n        text-align: right;\n    }\n</style>\n<table border=\"1\" class=\"dataframe\">\n  <thead>\n    <tr style=\"text-align: right;\">\n      <th></th>\n      <th>start date</th>\n      <th>Start time</th>\n      <th>Date end</th>\n      <th>End Time</th>\n      <th>Combined Start</th>\n      <th>Combined End</th>\n      <th>Channel #</th>\n      <th>Flow Rate (P)</th>\n      <th>Flow Rate (G)</th>\n      <th>Fliter (F)</th>\n      <th>Tube</th>\n    </tr>\n  </thead>\n  <tbody>\n    <tr>\n      <th>0</th>\n      <td>2017-10-30 00:00:00</td>\n      <td>12:33:40</td>\n      <td>2017-10-30</td>\n      <td>13:33:40</td>\n      <td>2017-10-30 12:33:40</td>\n      <td>2017-10-30 13:33:40</td>\n      <td>1.0</td>\n      <td>20.19</td>\n      <td>0.277</td>\n      <td>201.0</td>\n      <td>1101096.0</td>\n    </tr>\n    <tr>\n      <th>1</th>\n      <td>2017-10-30 00:00:00</td>\n      <td>13:35:00</td>\n      <td>2017-10-30</td>\n      <td>14:35:00</td>\n      <td>2017-10-30 13:35:00</td>\n      <td>2017-10-30 14:35:00</td>\n      <td>2.0</td>\n      <td>20.17</td>\n      <td>0.268</td>\n      <td>202.0</td>\n      <td>1100926.0</td>\n    </tr>\n    <tr>\n      <th>2</th>\n      <td>2017-10-30 00:00:00</td>\n      <td>14:36:44</td>\n      <td>2017-10-30</td>\n      <td>15:36:44</td>\n      <td>2017-10-30 14:36:44</td>\n      <td>2017-10-30 15:36:44</td>\n      <td>3.0</td>\n      <td>20.69</td>\n      <td>0.277</td>\n      <td>203.0</td>\n      <td>1101437.0</td>\n    </tr>\n    <tr>\n      <th>3</th>\n      <td>2017-10-30 00:00:00</td>\n      <td>16:41:16</td>\n      <td>2017-10-30</td>\n      <td>17:44:00</td>\n      <td>2017-10-30 16:41:16</td>\n      <td>2017-10-30 17:44:00</td>\n      <td>4.0</td>\n      <td>19.93</td>\n      <td>0.265</td>\n      <td>204.0</td>\n      <td>1100936.0</td>\n    </tr>\n    <tr>\n      <th>4</th>\n      <td>2017-10-30 00:00:00</td>\n      <td>17:45:00</td>\n      <td>2017-10-30</td>\n      <td>18:38:00</td>\n      <td>2017-10-30 17:45:00</td>\n      <td>2017-10-30 18:38:00</td>\n      <td>5.0</td>\n      <td>20.25</td>\n      <td>0.258</td>\n      <td>205.0</td>\n      <td>1048717.0</td>\n    </tr>\n    <tr>\n      <th>5</th>\n      <td>2017-10-30 00:00:00</td>\n      <td>19:45:00</td>\n      <td>2017-10-30</td>\n      <td>20:15:00</td>\n      <td>2017-10-30 19:45:00</td>\n      <td>2017-10-30 20:15:00</td>\n      <td>1.0</td>\n      <td>20.19</td>\n      <td>0.277</td>\n      <td>207.0</td>\n      <td>1048371.0</td>\n    </tr>\n    <tr>\n      <th>6</th>\n      <td>2017-10-30 00:00:00</td>\n      <td>20:15:00</td>\n      <td>2017-10-30</td>\n      <td>20:45:00</td>\n      <td>2017-10-30 20:15:00</td>\n      <td>2017-10-30 20:45:00</td>\n      <td>2.0</td>\n      <td>20.17</td>\n      <td>0.268</td>\n      <td>208.0</td>\n      <td>1101043.0</td>\n    </tr>\n    <tr>\n      <th>7</th>\n      <td>2017-10-30 00:00:00</td>\n      <td>20:45:00</td>\n      <td>2017-10-30</td>\n      <td>21:15:00</td>\n      <td>2017-10-30 20:45:00</td>\n      <td>2017-10-30 21:15:00</td>\n      <td>3.0</td>\n      <td>20.69</td>\n      <td>0.258</td>\n      <td>209.0</td>\n      <td>1101022.0</td>\n    </tr>\n    <tr>\n      <th>8</th>\n      <td>2017-10-30 00:00:00</td>\n      <td>21:15:00</td>\n      <td>2017-10-30</td>\n      <td>21:45:00</td>\n      <td>2017-10-30 21:15:00</td>\n      <td>2017-10-30 21:45:00</td>\n      <td>4.0</td>\n      <td>19.93</td>\n      <td>0.265</td>\n      <td>210.0</td>\n      <td>1079817.0</td>\n    </tr>\n    <tr>\n      <th>9</th>\n      <td>2017-10-30 00:00:00</td>\n      <td>21:45:00</td>\n      <td>2017-10-30</td>\n      <td>22:15:00</td>\n      <td>2017-10-30 21:45:00</td>\n      <td>2017-10-30 22:15:00</td>\n      <td>5.0</td>\n      <td>20.25</td>\n      <td>0.258</td>\n      <td>211.0</td>\n      <td>1101103.0</td>\n    </tr>\n    <tr>\n      <th>10</th>\n      <td>2017-10-31 00:00:00</td>\n      <td>11:36:43</td>\n      <td>2017-10-31</td>\n      <td>12:06:43</td>\n      <td>2017-10-31 11:36:43</td>\n      <td>2017-10-31 12:06:43</td>\n      <td>1.0</td>\n      <td>20.19</td>\n      <td>0.277</td>\n      <td>213.0</td>\n      <td>1100909.0</td>\n    </tr>\n    <tr>\n      <th>11</th>\n      <td>2017-10-31 00:00:00</td>\n      <td>12:11:44</td>\n      <td>2017-10-31</td>\n      <td>12:41:44</td>\n      <td>2017-10-31 12:11:44</td>\n      <td>2017-10-31 12:41:44</td>\n      <td>2.0</td>\n      <td>20.17</td>\n      <td>0.268</td>\n      <td>214.0</td>\n      <td>1101094.0</td>\n    </tr>\n    <tr>\n      <th>12</th>\n      <td>2017-10-31 00:00:00</td>\n      <td>13:12:33</td>\n      <td>2017-10-31</td>\n      <td>13:42:33</td>\n      <td>2017-10-31 13:12:33</td>\n      <td>2017-10-31 13:42:33</td>\n      <td>1.0</td>\n      <td>20.19</td>\n      <td>0.277</td>\n      <td>213.0</td>\n      <td>1100909.0</td>\n    </tr>\n    <tr>\n      <th>13</th>\n      <td>2017-10-31 00:00:00</td>\n      <td>14:00:00</td>\n      <td>2017-10-31</td>\n      <td>14:30:00</td>\n      <td>2017-10-31 14:00:00</td>\n      <td>2017-10-31 14:30:00</td>\n      <td>3.0</td>\n      <td>20.69</td>\n      <td>0.277</td>\n      <td>215.0</td>\n      <td>1079974.0</td>\n    </tr>\n    <tr>\n      <th>14</th>\n      <td>2017-10-31 00:00:00</td>\n      <td>14:30:00</td>\n      <td>2017-10-31</td>\n      <td>15:00:00</td>\n      <td>2017-10-31 14:30:00</td>\n      <td>2017-10-31 15:00:00</td>\n      <td>4.0</td>\n      <td>19.93</td>\n      <td>0.265</td>\n      <td>216.0</td>\n      <td>1101411.0</td>\n    </tr>\n    <tr>\n      <th>15</th>\n      <td>2017-10-31 00:00:00</td>\n      <td>15:00:00</td>\n      <td>2017-10-31</td>\n      <td>15:30:00</td>\n      <td>2017-10-31 15:00:00</td>\n      <td>2017-10-31 15:30:00</td>\n      <td>5.0</td>\n      <td>20.25</td>\n      <td>0.258</td>\n      <td>217.0</td>\n      <td>1101441.0</td>\n    </tr>\n    <tr>\n      <th>16</th>\n      <td>2017-10-31 00:00:00</td>\n      <td>15:30:00</td>\n      <td>2017-10-31</td>\n      <td>16:00:00</td>\n      <td>2017-10-31 15:30:00</td>\n      <td>2017-10-31 16:00:00</td>\n      <td>6.0</td>\n      <td>21.22</td>\n      <td>0.278</td>\n      <td>218.0</td>\n      <td>1100878.0</td>\n    </tr>\n    <tr>\n      <th>17</th>\n      <td>2017-10-31 00:00:00</td>\n      <td>22:00:00</td>\n      <td>2017-10-31</td>\n      <td>22:45:00</td>\n      <td>2017-10-31 22:00:00</td>\n      <td>2017-10-31 22:45:00</td>\n      <td>1.0</td>\n      <td>20.19</td>\n      <td>0.277</td>\n      <td>219.0</td>\n      <td>1048568.0</td>\n    </tr>\n    <tr>\n      <th>18</th>\n      <td>2017-10-31 00:00:00</td>\n      <td>23:45:00</td>\n      <td>2017-11-11</td>\n      <td>00:30:00</td>\n      <td>2017-10-31 23:45:00</td>\n      <td>2017-11-11 00:30:00</td>\n      <td>2.0</td>\n      <td>20.17</td>\n      <td>0.268</td>\n      <td>220.0</td>\n      <td>1099860.0</td>\n    </tr>\n    <tr>\n      <th>19</th>\n      <td>2017-11-01 00:00:00</td>\n      <td>01:30:00</td>\n      <td>2017-11-01</td>\n      <td>02:15:00</td>\n      <td>2017-11-01 01:30:00</td>\n      <td>2017-11-01 02:15:00</td>\n      <td>3.0</td>\n      <td>20.69</td>\n      <td>0.258</td>\n      <td>221.0</td>\n      <td>1100967.0</td>\n    </tr>\n    <tr>\n      <th>20</th>\n      <td>2017-11-01 00:00:00</td>\n      <td>03:15:00</td>\n      <td>2017-11-01</td>\n      <td>04:00:00</td>\n      <td>2017-11-01 03:15:00</td>\n      <td>2017-11-01 04:00:00</td>\n      <td>4.0</td>\n      <td>19.93</td>\n      <td>0.265</td>\n      <td>222.0</td>\n      <td>1101166.0</td>\n    </tr>\n    <tr>\n      <th>21</th>\n      <td>2017-11-01 00:00:00</td>\n      <td>05:00:00</td>\n      <td>2017-11-01</td>\n      <td>05:45:00</td>\n      <td>2017-11-01 05:00:00</td>\n      <td>2017-11-01 05:45:00</td>\n      <td>5.0</td>\n      <td>20.25</td>\n      <td>0.258</td>\n      <td>223.0</td>\n      <td>1048688.0</td>\n    </tr>\n    <tr>\n      <th>22</th>\n      <td>2017-11-01 00:00:00</td>\n      <td>06:45:00</td>\n      <td>2017-11-01</td>\n      <td>07:21:54</td>\n      <td>2017-11-01 06:45:00</td>\n      <td>2017-11-01 07:21:54</td>\n      <td>6.0</td>\n      <td>21.22</td>\n      <td>0.278</td>\n      <td>224.0</td>\n      <td>1048611.0</td>\n    </tr>\n    <tr>\n      <th>23</th>\n      <td>2017-11-01 00:00:00</td>\n      <td>11:15:35</td>\n      <td>2017-11-01</td>\n      <td>12:00:45</td>\n      <td>2017-11-01 11:15:35</td>\n      <td>2017-11-01 12:00:45</td>\n      <td>1.0</td>\n      <td>20.19</td>\n      <td>0.277</td>\n      <td>225.0</td>\n      <td>1101112.0</td>\n    </tr>\n    <tr>\n      <th>24</th>\n      <td>2017-11-01 00:00:00</td>\n      <td>13:00:00</td>\n      <td>2017-11-01</td>\n      <td>13:30:00</td>\n      <td>2017-11-01 13:00:00</td>\n      <td>2017-11-01 13:30:00</td>\n      <td>2.0</td>\n      <td>20.17</td>\n      <td>0.268</td>\n      <td>226.0</td>\n      <td>1101165.0</td>\n    </tr>\n    <tr>\n      <th>25</th>\n      <td>2017-11-01 00:00:00</td>\n      <td>13:30:00</td>\n      <td>2017-11-01</td>\n      <td>14:00:00</td>\n      <td>2017-11-01 13:30:00</td>\n      <td>2017-11-01 14:00:00</td>\n      <td>3.0</td>\n      <td>20.69</td>\n      <td>0.258</td>\n      <td>227.0</td>\n      <td>1048351.0</td>\n    </tr>\n    <tr>\n      <th>26</th>\n      <td>2017-11-01 00:00:00</td>\n      <td>14:00:00</td>\n      <td>2017-11-01</td>\n      <td>14:30:00</td>\n      <td>2017-11-01 14:00:00</td>\n      <td>2017-11-01 14:30:00</td>\n      <td>4.0</td>\n      <td>19.93</td>\n      <td>0.265</td>\n      <td>228.0</td>\n      <td>1100928.0</td>\n    </tr>\n    <tr>\n      <th>27</th>\n      <td>2017-11-01 00:00:00</td>\n      <td>14:30:00</td>\n      <td>2017-11-01</td>\n      <td>15:00:00</td>\n      <td>2017-11-01 14:30:00</td>\n      <td>2017-11-01 15:00:00</td>\n      <td>5.0</td>\n      <td>20.25</td>\n      <td>0.258</td>\n      <td>230.0</td>\n      <td>1048319.0</td>\n    </tr>\n    <tr>\n      <th>28</th>\n      <td>2017-11-01 00:00:00</td>\n      <td>15:00:00</td>\n      <td>2017-11-01</td>\n      <td>15:30:00</td>\n      <td>2017-11-01 15:00:00</td>\n      <td>2017-11-01 15:30:00</td>\n      <td>6.0</td>\n      <td>21.22</td>\n      <td>0.278</td>\n      <td>231.0</td>\n      <td>1100953.0</td>\n    </tr>\n    <tr>\n      <th>29</th>\n      <td>2017-11-01 00:00:00</td>\n      <td>22:15:00</td>\n      <td>2017-11-01</td>\n      <td>23:15:00</td>\n      <td>2017-11-01 22:15:00</td>\n      <td>2017-11-01 23:15:00</td>\n      <td>1.0</td>\n      <td>20.19</td>\n      <td>0.277</td>\n      <td>232.0</td>\n      <td>1101013.0</td>\n    </tr>\n    <tr>\n      <th>30</th>\n      <td>2017-11-02 00:00:00</td>\n      <td>00:00:00</td>\n      <td>2017-11-02</td>\n      <td>01:00:00</td>\n      <td>2017-11-02 00:00:00</td>\n      <td>2017-11-02 01:00:00</td>\n      <td>2.0</td>\n      <td>20.17</td>\n      <td>0.268</td>\n      <td>233.0</td>\n      <td>1048585.0</td>\n    </tr>\n    <tr>\n      <th>31</th>\n      <td>2017-11-02 00:00:00</td>\n      <td>01:45:00</td>\n      <td>2017-11-02</td>\n      <td>02:45:00</td>\n      <td>2017-11-02 01:45:00</td>\n      <td>2017-11-02 02:45:00</td>\n      <td>3.0</td>\n      <td>20.69</td>\n      <td>0.258</td>\n      <td>234.0</td>\n      <td>1101005.0</td>\n    </tr>\n    <tr>\n      <th>32</th>\n      <td>2017-11-02 00:00:00</td>\n      <td>03:30:00</td>\n      <td>2017-11-02</td>\n      <td>04:30:00</td>\n      <td>2017-11-02 03:30:00</td>\n      <td>2017-11-02 04:30:00</td>\n      <td>4.0</td>\n      <td>19.93</td>\n      <td>0.265</td>\n      <td>235.0</td>\n      <td>1048655.0</td>\n    </tr>\n    <tr>\n      <th>33</th>\n      <td>2017-11-02 00:00:00</td>\n      <td>05:15:00</td>\n      <td>2017-11-02</td>\n      <td>06:15:00</td>\n      <td>2017-11-02 05:15:00</td>\n      <td>2017-11-02 06:15:00</td>\n      <td>5.0</td>\n      <td>20.25</td>\n      <td>0.258</td>\n      <td>236.0</td>\n      <td>1100808.0</td>\n    </tr>\n    <tr>\n      <th>34</th>\n      <td>2017-11-02 00:00:00</td>\n      <td>07:00:00</td>\n      <td>2017-11-02</td>\n      <td>07:52:34</td>\n      <td>2017-11-02 07:00:00</td>\n      <td>2017-11-02 07:52:34</td>\n      <td>6.0</td>\n      <td>21.22</td>\n      <td>0.278</td>\n      <td>237.0</td>\n      <td>1079950.0</td>\n    </tr>\n    <tr>\n      <th>35</th>\n      <td>NaN</td>\n      <td>NaN</td>\n      <td>NaT</td>\n      <td>NaN</td>\n      <td>NaT</td>\n      <td>NaT</td>\n      <td>NaN</td>\n      <td>NaN</td>\n      <td>NaN</td>\n      <td>NaN</td>\n      <td>NaN</td>\n    </tr>\n    <tr>\n      <th>36</th>\n      <td>NaN</td>\n      <td>NaN</td>\n      <td>NaT</td>\n      <td>NaN</td>\n      <td>NaT</td>\n      <td>NaT</td>\n      <td>NaN</td>\n      <td>NaN</td>\n      <td>NaN</td>\n      <td>NaN</td>\n      <td>NaN</td>\n    </tr>\n    <tr>\n      <th>37</th>\n      <td>NaN</td>\n      <td>NaN</td>\n      <td>NaT</td>\n      <td>NaN</td>\n      <td>NaT</td>\n      <td>NaT</td>\n      <td>NaN</td>\n      <td>NaN</td>\n      <td>NaN</td>\n      <td>NaN</td>\n      <td>NaN</td>\n    </tr>\n    <tr>\n      <th>38</th>\n      <td>Flow rates</td>\n      <td>NaN</td>\n      <td>NaT</td>\n      <td>NaN</td>\n      <td>NaT</td>\n      <td>NaT</td>\n      <td>NaN</td>\n      <td>NaN</td>\n      <td>NaN</td>\n      <td>NaN</td>\n      <td>NaN</td>\n    </tr>\n    <tr>\n      <th>39</th>\n      <td>Channel #</td>\n      <td>Gas (LPM)</td>\n      <td>NaT</td>\n      <td>NaN</td>\n      <td>NaT</td>\n      <td>NaT</td>\n      <td>NaN</td>\n      <td>NaN</td>\n      <td>NaN</td>\n      <td>NaN</td>\n      <td>NaN</td>\n    </tr>\n    <tr>\n      <th>40</th>\n      <td>1</td>\n      <td>0.277</td>\n      <td>NaT</td>\n      <td>NaN</td>\n      <td>NaT</td>\n      <td>NaT</td>\n      <td>NaN</td>\n      <td>NaN</td>\n      <td>NaN</td>\n      <td>NaN</td>\n      <td>NaN</td>\n    </tr>\n    <tr>\n      <th>41</th>\n      <td>2</td>\n      <td>0.268</td>\n      <td>NaT</td>\n      <td>NaN</td>\n      <td>NaT</td>\n      <td>NaT</td>\n      <td>NaN</td>\n      <td>NaN</td>\n      <td>NaN</td>\n      <td>NaN</td>\n      <td>NaN</td>\n    </tr>\n    <tr>\n      <th>42</th>\n      <td>3</td>\n      <td>0.258</td>\n      <td>NaT</td>\n      <td>NaN</td>\n      <td>NaT</td>\n      <td>NaT</td>\n      <td>NaN</td>\n      <td>NaN</td>\n      <td>NaN</td>\n      <td>NaN</td>\n      <td>NaN</td>\n    </tr>\n    <tr>\n      <th>43</th>\n      <td>4</td>\n      <td>0.265</td>\n      <td>NaT</td>\n      <td>NaN</td>\n      <td>NaT</td>\n      <td>NaT</td>\n      <td>NaN</td>\n      <td>NaN</td>\n      <td>NaN</td>\n      <td>NaN</td>\n      <td>NaN</td>\n    </tr>\n    <tr>\n      <th>44</th>\n      <td>5</td>\n      <td>0.258</td>\n      <td>NaT</td>\n      <td>NaN</td>\n      <td>NaT</td>\n      <td>NaT</td>\n      <td>NaN</td>\n      <td>NaN</td>\n      <td>NaN</td>\n      <td>NaN</td>\n      <td>NaN</td>\n    </tr>\n    <tr>\n      <th>45</th>\n      <td>6</td>\n      <td>0.278</td>\n      <td>NaT</td>\n      <td>NaN</td>\n      <td>NaT</td>\n      <td>NaT</td>\n      <td>NaN</td>\n      <td>NaN</td>\n      <td>NaN</td>\n      <td>NaN</td>\n      <td>NaN</td>\n    </tr>\n  </tbody>\n</table>\n</div>"
     },
     "metadata": {}
    }
   ],
   "execution_count": null
  },
  {
   "cell_type": "markdown",
   "source": "### Predicting Mass Concentration from BloblID\n\nNow that some of the data has been read in, we can start to make our model. For this simple example model, we will try and predict a correlation between the BlobID, or the compound, and the amount of that compound in the smoke, given by the mass concentration. We will use RandomForestRegressor as part of sklearn. \n\nWe start with splittig our data into a train/test split. ",
   "metadata": {
    "cell_id": "36bdd980d21b4925bc725f039d0e0bfc",
    "tags": [],
    "deepnote_cell_type": "markdown",
    "deepnote_cell_height": 258.390625
   }
  },
  {
   "cell_type": "code",
   "source": "from sklearn.model_selection import train_test_split\n\nX_train, X_test, Y_train, Y_test = train_test_split(df_blobtable[\"BlobID1\"], df_blobtable[\"Mass concentration of compound (ng/m3)\"])\n",
   "metadata": {
    "cell_id": "76e6a9ef6fd64f138b7f4f7e9fed7c0c",
    "tags": [],
    "deepnote_to_be_reexecuted": false,
    "source_hash": "ecc91588",
    "execution_start": 1663335239668,
    "execution_millis": 5,
    "deepnote_cell_type": "code",
    "deepnote_cell_height": 135,
    "deepnote_output_heights": [
     20.1875
    ]
   },
   "outputs": [],
   "execution_count": null
  },
  {
   "cell_type": "markdown",
   "source": "We will now fit the correlation between the BlobID and mass flow of that compound in the smoke. We will then test it on the test data. ",
   "metadata": {
    "cell_id": "91f72a25e452461788fa612c7d648bbd",
    "tags": [],
    "deepnote_cell_type": "markdown",
    "deepnote_cell_height": 74.796875
   }
  },
  {
   "cell_type": "code",
   "source": "from sklearn.ensemble import RandomForestRegressor\n\nmodel = RandomForestRegressor()\nmodel.fit(X_train.values.reshape(-1, 1), Y_train.values.reshape(-1, 1))",
   "metadata": {
    "cell_id": "4c53d8173d284e1b90ae9bfab21f7a09",
    "tags": [],
    "deepnote_to_be_reexecuted": false,
    "source_hash": "9d80f09a",
    "execution_start": 1663335241993,
    "execution_millis": 3277,
    "deepnote_cell_type": "code",
    "deepnote_cell_height": 281,
    "deepnote_output_heights": [
     null,
     59.390625
    ]
   },
   "outputs": [
    {
     "name": "stderr",
     "text": "/tmp/ipykernel_91/1210977809.py:4: DataConversionWarning: A column-vector y was passed when a 1d array was expected. Please change the shape of y to (n_samples,), for example using ravel().\n  model.fit(X_train.values.reshape(-1, 1), Y_train.values.reshape(-1, 1))\n",
     "output_type": "stream"
    },
    {
     "output_type": "execute_result",
     "execution_count": 106,
     "data": {
      "text/plain": "RandomForestRegressor()",
      "text/html": "<style>#sk-container-id-2 {color: black;background-color: white;}#sk-container-id-2 pre{padding: 0;}#sk-container-id-2 div.sk-toggleable {background-color: white;}#sk-container-id-2 label.sk-toggleable__label {cursor: pointer;display: block;width: 100%;margin-bottom: 0;padding: 0.3em;box-sizing: border-box;text-align: center;}#sk-container-id-2 label.sk-toggleable__label-arrow:before {content: \"▸\";float: left;margin-right: 0.25em;color: #696969;}#sk-container-id-2 label.sk-toggleable__label-arrow:hover:before {color: black;}#sk-container-id-2 div.sk-estimator:hover label.sk-toggleable__label-arrow:before {color: black;}#sk-container-id-2 div.sk-toggleable__content {max-height: 0;max-width: 0;overflow: hidden;text-align: left;background-color: #f0f8ff;}#sk-container-id-2 div.sk-toggleable__content pre {margin: 0.2em;color: black;border-radius: 0.25em;background-color: #f0f8ff;}#sk-container-id-2 input.sk-toggleable__control:checked~div.sk-toggleable__content {max-height: 200px;max-width: 100%;overflow: auto;}#sk-container-id-2 input.sk-toggleable__control:checked~label.sk-toggleable__label-arrow:before {content: \"▾\";}#sk-container-id-2 div.sk-estimator input.sk-toggleable__control:checked~label.sk-toggleable__label {background-color: #d4ebff;}#sk-container-id-2 div.sk-label input.sk-toggleable__control:checked~label.sk-toggleable__label {background-color: #d4ebff;}#sk-container-id-2 input.sk-hidden--visually {border: 0;clip: rect(1px 1px 1px 1px);clip: rect(1px, 1px, 1px, 1px);height: 1px;margin: -1px;overflow: hidden;padding: 0;position: absolute;width: 1px;}#sk-container-id-2 div.sk-estimator {font-family: monospace;background-color: #f0f8ff;border: 1px dotted black;border-radius: 0.25em;box-sizing: border-box;margin-bottom: 0.5em;}#sk-container-id-2 div.sk-estimator:hover {background-color: #d4ebff;}#sk-container-id-2 div.sk-parallel-item::after {content: \"\";width: 100%;border-bottom: 1px solid gray;flex-grow: 1;}#sk-container-id-2 div.sk-label:hover label.sk-toggleable__label {background-color: #d4ebff;}#sk-container-id-2 div.sk-serial::before {content: \"\";position: absolute;border-left: 1px solid gray;box-sizing: border-box;top: 0;bottom: 0;left: 50%;z-index: 0;}#sk-container-id-2 div.sk-serial {display: flex;flex-direction: column;align-items: center;background-color: white;padding-right: 0.2em;padding-left: 0.2em;position: relative;}#sk-container-id-2 div.sk-item {position: relative;z-index: 1;}#sk-container-id-2 div.sk-parallel {display: flex;align-items: stretch;justify-content: center;background-color: white;position: relative;}#sk-container-id-2 div.sk-item::before, #sk-container-id-2 div.sk-parallel-item::before {content: \"\";position: absolute;border-left: 1px solid gray;box-sizing: border-box;top: 0;bottom: 0;left: 50%;z-index: -1;}#sk-container-id-2 div.sk-parallel-item {display: flex;flex-direction: column;z-index: 1;position: relative;background-color: white;}#sk-container-id-2 div.sk-parallel-item:first-child::after {align-self: flex-end;width: 50%;}#sk-container-id-2 div.sk-parallel-item:last-child::after {align-self: flex-start;width: 50%;}#sk-container-id-2 div.sk-parallel-item:only-child::after {width: 0;}#sk-container-id-2 div.sk-dashed-wrapped {border: 1px dashed gray;margin: 0 0.4em 0.5em 0.4em;box-sizing: border-box;padding-bottom: 0.4em;background-color: white;}#sk-container-id-2 div.sk-label label {font-family: monospace;font-weight: bold;display: inline-block;line-height: 1.2em;}#sk-container-id-2 div.sk-label-container {text-align: center;}#sk-container-id-2 div.sk-container {/* jupyter's `normalize.less` sets `[hidden] { display: none; }` but bootstrap.min.css set `[hidden] { display: none !important; }` so we also need the `!important` here to be able to override the default hidden behavior on the sphinx rendered scikit-learn.org. See: https://github.com/scikit-learn/scikit-learn/issues/21755 */display: inline-block !important;position: relative;}#sk-container-id-2 div.sk-text-repr-fallback {display: none;}</style><div id=\"sk-container-id-2\" class=\"sk-top-container\"><div class=\"sk-text-repr-fallback\"><pre>RandomForestRegressor()</pre><b>In a Jupyter environment, please rerun this cell to show the HTML representation or trust the notebook. <br />On GitHub, the HTML representation is unable to render, please try loading this page with nbviewer.org.</b></div><div class=\"sk-container\" hidden><div class=\"sk-item\"><div class=\"sk-estimator sk-toggleable\"><input class=\"sk-toggleable__control sk-hidden--visually\" id=\"sk-estimator-id-2\" type=\"checkbox\" checked><label for=\"sk-estimator-id-2\" class=\"sk-toggleable__label sk-toggleable__label-arrow\">RandomForestRegressor</label><div class=\"sk-toggleable__content\"><pre>RandomForestRegressor()</pre></div></div></div></div></div>"
     },
     "metadata": {}
    }
   ],
   "execution_count": null
  },
  {
   "cell_type": "code",
   "source": "import matplotlib.pyplot as plt \n\nplt.plot(X_train.values.reshape(-1, 1), Y_train.values.reshape(-1, 1), '.')\nplt.plot(X_test.values.reshape(-1, 1), Y_test.values.reshape(-1, 1), '.')\nplt.plot(X_test.values.reshape(-1, 1), model.predict(X_test.values.reshape(-1, 1)), '.')\nplt.xlabel('BlobID')\nplt.ylabel('Mass Concentration of Compound in Smoke (ng/m3) ')\nplt.legend(['Train Data', 'Test Data', 'Prediction']);",
   "metadata": {
    "cell_id": "ffcc23cac4a74fe29a194a591b6be87c",
    "tags": [],
    "deepnote_to_be_reexecuted": false,
    "source_hash": "29791ebd",
    "execution_start": 1663335247600,
    "execution_millis": 686,
    "deepnote_cell_type": "code",
    "deepnote_cell_height": 585.203125,
    "deepnote_output_heights": [
     362.21875,
     362.21875
    ]
   },
   "outputs": [
    {
     "data": {
      "text/plain": "<Figure size 640x480 with 1 Axes>",
      "image/png": "[encoded data removed]"
     },
     "metadata": {
      "image/png": {
       "width": 597,
       "height": 432
      }
     },
     "output_type": "display_data"
    }
   ],
   "execution_count": null
  },
  {
   "cell_type": "markdown",
   "source": "This model is not too conclusive about the mass concentration of the compound based on it's BlobID. This could be due to the data being collected at multiple plots and both measured on the ground and in the air. To improve upon this, you can try and see if there is a correlation between the mass concentration of a compound at a certain plot, or the elevation during a burn. \n\nThere are also several other paths you can take for your project. However, this simple model does show how you can load in the data and start to use it. ",
   "metadata": {
    "cell_id": "39f162a92f674f5db1603ec9cdeb7168",
    "tags": [],
    "deepnote_cell_type": "markdown",
    "deepnote_cell_height": 245.59375
   }
  },
  {
   "cell_type": "code",
   "source": "",
   "metadata": {
    "cell_id": "6cf7e7896e2f4e1a9df86f409941ef76",
    "tags": [],
    "deepnote_cell_type": "code",
    "deepnote_cell_height": 61
   },
   "outputs": [],
   "execution_count": null
  },
  {
   "cell_type": "markdown",
   "source": "<a style='text-decoration:none;line-height:16px;display:flex;color:#5B5B62;padding:10px;justify-content:end;' href='https://deepnote.com?utm_source=created-in-deepnote-cell&projectId=7228e37f-a4a0-4739-abc5-a1a4e6cff676' target=\"_blank\">\n<img alt='Created in deepnote.com' style='display:inline;max-height:16px;margin:0px;margin-right:7.5px;' src='data:image/svg+xml;base64,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' > </img>\nCreated in <span style='font-weight:600;margin-left:4px;'>Deepnote</span></a>",
   "metadata": {
    "tags": [],
    "created_in_deepnote_cell": true,
    "deepnote_cell_type": "markdown"
   }
  }
 ],
 "nbformat": 4,
 "nbformat_minor": 2,
 "metadata": {
  "orig_nbformat": 2,
  "deepnote": {},
  "deepnote_notebook_id": "f421ef50-eee3-46f1-90d6-43c1e3f0167f",
  "deepnote_execution_queue": []
 }
}