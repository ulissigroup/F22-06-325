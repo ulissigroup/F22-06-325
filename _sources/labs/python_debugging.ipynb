{
 "cells": [
  {
   "cell_type": "markdown",
   "id": "f9a3e72e",
   "metadata": {},
   "source": [
    "# <font color='red'>Python functions, Error handling, Exceptions, Debugging</font>\n",
    "\n",
    "# Functions\n",
    "Imagine that you have to open a file, read the contents of the file and close it. Pretty trivial, right? Now imagine that you have to read ten files, print their output or perform some computation on the contents and then close them. Now you don't want to sit there and type file i/o operations for every file. What if there are over 500 files?\n",
    "\n",
    "This is where the functions come in. A function is a block of organized and reusable code in a program that performs a specific task which can be incorporated into a larger program or reused by passing different sets of parameters.\n",
    "\n",
    "The advantages of using functions are:\n",
    "- Allowing code reuse.\n",
    "- Reducing code duplication.\n",
    "- Improving readability while reducing the complexity of the code.\n",
    "\n",
    "There are two basic types of functions: \n",
    "- Built-in functions \n",
    "- User defined functions. \n",
    "\n",
    "We have been using [built-in](https://docs.python.org/3/library/functions.html) functions for quite some time without actually understanding how a function works. This is the beauty of Python. Now let’s see how you can create your own functions and call them in your code.\n",
    "\n",
    "## Defining Functions\n",
    "\n",
    "A function is defined using the `def` keyword followed by the name of the function. The parameters or the arguments should be placed within the parentheses followed by the function name. The code block within every function starts with a colon and should be indented."
   ]
  },
  {
   "cell_type": "code",
   "execution_count": 1,
   "id": "3b82d342",
   "metadata": {},
   "outputs": [
    {
     "name": "stdout",
     "output_type": "stream",
     "text": [
      "4 * 5 = 20\n"
     ]
    }
   ],
   "source": [
    "def mul(a, b):\n",
    "    return('{} * {} = {}'.format(a, b, a*b))\n",
    "    \n",
    "print(mul(4, 5))"
   ]
  },
  {
   "cell_type": "markdown",
   "id": "002a6387",
   "metadata": {},
   "source": [
    "## Function Arguments\n",
    "\n",
    "A function can be called by using following types of formal arguments:\n",
    "\n",
    "- Required arguments\n",
    "- Keyword arguments\n",
    "- Default arguments\n",
    "- Variable-length arguments\n",
    "\n",
    "### Required Arguments:\n",
    "\n",
    "Required arguments are passed to a function in correct positional order. The number of arguments being passed should be equal to the number or arguments expected by the function that is defined. Let's take a look at the example:"
   ]
  },
  {
   "cell_type": "code",
   "execution_count": 2,
   "id": "e46ea059",
   "metadata": {},
   "outputs": [],
   "source": [
    "def info(name, sem):\n",
    "    print('My name is: ',name)\n",
    "    print('This is semester',int(sem))"
   ]
  },
  {
   "cell_type": "code",
   "execution_count": 3,
   "id": "1fa1efbc",
   "metadata": {},
   "outputs": [
    {
     "name": "stdout",
     "output_type": "stream",
     "text": [
      "My name is:  Abilash\n",
      "This is semester 2\n",
      "\n",
      "\n",
      "My name is:  2\n"
     ]
    },
    {
     "ename": "ValueError",
     "evalue": "invalid literal for int() with base 10: 'Abilash'",
     "output_type": "error",
     "traceback": [
      "\u001b[0;31m---------------------------------------------------------------------------\u001b[0m",
      "\u001b[0;31mValueError\u001b[0m                                Traceback (most recent call last)",
      "Cell \u001b[0;32mIn [3], line 5\u001b[0m\n\u001b[1;32m      3\u001b[0m \u001b[38;5;28mprint\u001b[39m()\n\u001b[1;32m      4\u001b[0m \u001b[38;5;66;03m# What if we change the order in which we are passing the arguments?\u001b[39;00m\n\u001b[0;32m----> 5\u001b[0m \u001b[43minfo\u001b[49m\u001b[43m(\u001b[49m\u001b[38;5;241;43m2\u001b[39;49m\u001b[43m,\u001b[49m\u001b[43m \u001b[49m\u001b[38;5;124;43m'\u001b[39;49m\u001b[38;5;124;43mAbilash\u001b[39;49m\u001b[38;5;124;43m'\u001b[39;49m\u001b[43m)\u001b[49m\n",
      "Cell \u001b[0;32mIn [2], line 3\u001b[0m, in \u001b[0;36minfo\u001b[0;34m(name, sem)\u001b[0m\n\u001b[1;32m      1\u001b[0m \u001b[38;5;28;01mdef\u001b[39;00m \u001b[38;5;21minfo\u001b[39m(name, sem):\n\u001b[1;32m      2\u001b[0m     \u001b[38;5;28mprint\u001b[39m(\u001b[38;5;124m'\u001b[39m\u001b[38;5;124mMy name is: \u001b[39m\u001b[38;5;124m'\u001b[39m,name)\n\u001b[0;32m----> 3\u001b[0m     \u001b[38;5;28mprint\u001b[39m(\u001b[38;5;124m'\u001b[39m\u001b[38;5;124mThis is semester\u001b[39m\u001b[38;5;124m'\u001b[39m,\u001b[38;5;28;43mint\u001b[39;49m\u001b[43m(\u001b[49m\u001b[43msem\u001b[49m\u001b[43m)\u001b[49m)\n",
      "\u001b[0;31mValueError\u001b[0m: invalid literal for int() with base 10: 'Abilash'"
     ]
    }
   ],
   "source": [
    "info('Abilash', 2)\n",
    "print()\n",
    "print()\n",
    "# What if we change the order in which we are passing the arguments?\n",
    "info(2, 'Abilash')"
   ]
  },
  {
   "cell_type": "markdown",
   "id": "daeb81b3",
   "metadata": {},
   "source": [
    "We can see how swapping the order of function arguements can break it. There are cases where you will be able to make the function works independently of the order of arguement inputs."
   ]
  },
  {
   "cell_type": "markdown",
   "id": "04f66d7b",
   "metadata": {},
   "source": [
    "### Keyword Arguements"
   ]
  },
  {
   "cell_type": "code",
   "execution_count": null,
   "id": "9183759b",
   "metadata": {},
   "outputs": [],
   "source": [
    "info(sem=2, name='Abilash')"
   ]
  },
  {
   "cell_type": "markdown",
   "id": "692d6401",
   "metadata": {},
   "source": [
    "Here by specifiying which input we are giving first we can change the order of our arguement inputs."
   ]
  },
  {
   "cell_type": "code",
   "execution_count": null,
   "id": "91480bf5",
   "metadata": {},
   "outputs": [],
   "source": [
    "info('Abilash')"
   ]
  },
  {
   "cell_type": "code",
   "execution_count": null,
   "id": "5685f01c",
   "metadata": {},
   "outputs": [],
   "source": [
    "def info2(name, sem=2):\n",
    "    print('My name is: ',name)\n",
    "    print('This is semester',int(sem))\n",
    "\n",
    "info2('Abilash')"
   ]
  },
  {
   "cell_type": "markdown",
   "id": "e4690f42",
   "metadata": {},
   "source": [
    "You can see above that in `info` when the arguement sem was not given it threw a `TypeError` unlike in the case of `info2`. This is because we defined a default value for sem in info2 which will be used if no value is given during the function call."
   ]
  },
  {
   "cell_type": "markdown",
   "id": "481168a8",
   "metadata": {},
   "source": [
    "### Variable Length Arguements\n",
    "\n",
    "At some point, you may need to process the function for more than the arguments that you specified when you defined the function. `print()` is on such examples. These arguments can be of variable length and are not named in the function definition, unlike required and default arguments. So how do you handle this?"
   ]
  },
  {
   "cell_type": "code",
   "execution_count": null,
   "id": "07b0eb71",
   "metadata": {},
   "outputs": [],
   "source": [
    "def names(course, *names):\n",
    "    print('Name of course: ',course)\n",
    "    print('Name of students in the course:')\n",
    "    for name in names:\n",
    "        print(name)\n",
    "\n",
    "names('Python', 'Jim', 'Jack', 'Mat')"
   ]
  },
  {
   "cell_type": "markdown",
   "id": "8236f23e",
   "metadata": {},
   "source": [
    "## Type setting functions\n",
    "\n",
    "In Python, you can indicate the function argument and return value type. This makes it easier to read your code and for others to work on it."
   ]
  },
  {
   "cell_type": "code",
   "execution_count": null,
   "id": "87693f2e",
   "metadata": {},
   "outputs": [],
   "source": [
    "def numberremover(text: str, delim: int) -> str:\n",
    "    '''\n",
    "    We are trying to remove a specific number from a string. We take in a string text and integer int\n",
    "    to return the editted string.\n",
    "    '''\n",
    "    newtext = text.split(str(delim))\n",
    "\n",
    "    return ''.join(newtext)\n",
    "\n",
    "numberremover('Lets3test4this3and333see if this69works',3)"
   ]
  },
  {
   "cell_type": "markdown",
   "id": "d615f801",
   "metadata": {},
   "source": [
    "However, it is essential to remember that if we give an input of the wrong type, python will ***NOT*** throw and error. We need to have other ways to check for this if we desire it. We will look at it at the end of the next section."
   ]
  },
  {
   "cell_type": "markdown",
   "id": "ec5924f0",
   "metadata": {},
   "source": [
    "# Exception Handling\n",
    "\n",
    "\n",
    "An exception is a python object that represents an error. It is an event, which occurs during the execution of a program that disrupts the normal flow of the program's instructions. When such a situation occurs and if python is not able to cope with it, it raises an exception. We have been seeing errors like TypeError and NameError or IndentationError throughout our tutorial which caused our application or that code to stop the execution. To prevent this from happening, we have to handle such exceptions.\n",
    "\n",
    "Following is a hierarchy for some built-in exceptions in python:"
   ]
  },
  {
   "cell_type": "markdown",
   "id": "889ff813",
   "metadata": {},
   "source": [
    "``````\n",
    "BaseException\n",
    " +-- KeyboardInterrupt\n",
    " +-- Exception\n",
    "      +-- StandardError\n",
    "      |    +-- ArithmeticError\n",
    "      |    |    +-- FloatingPointError\n",
    "      |    |    +-- OverflowError\n",
    "      |    |    +-- ZeroDivisionError\n",
    "      |    +-- AssertionError\n",
    "      |    +-- ImportError\n",
    "      |    +-- LookupError\n",
    "      |    |    +-- IndexError\n",
    "      |    |    +-- KeyError\n",
    "      |    +-- NameError\n",
    "      |    +-- RuntimeError\n",
    "      |    |    +-- NotImplementedError\n",
    "      |    +-- SyntaxError\n",
    "      |    +-- SystemError\n",
    "      |    +-- TypeError\n",
    "      |    +-- ValueError\n",
    "\n",
    "      +-- Warning\n",
    "           +-- DeprecationWarning\n",
    "           +-- PendingDeprecationWarning\n",
    "           +-- RuntimeWarning\n",
    "           +-- SyntaxWarning\n",
    "           +-- UserWarning\n",
    "           +-- FutureWarning\n",
    "``````"
   ]
  },
  {
   "cell_type": "markdown",
   "id": "e35ef4b2",
   "metadata": {},
   "source": [
    "Let's take a look at an example"
   ]
  },
  {
   "cell_type": "code",
   "execution_count": null,
   "id": "b6031773",
   "metadata": {},
   "outputs": [],
   "source": [
    "print(x)"
   ]
  },
  {
   "cell_type": "markdown",
   "id": "f6aab2e0",
   "metadata": {},
   "source": [
    "Here we try to access a variable that has not been defined yet. Python raises a NameError and the execution halts. There are basically two ways to handle this error.\n",
    "\n",
    "Make sure the variable is defined first.\n",
    "\n",
    "Use try-catch block. Place the code to be executed inside the try block and place the exception to be handled in the except block."
   ]
  },
  {
   "cell_type": "code",
   "execution_count": null,
   "id": "eb6fc0ab",
   "metadata": {},
   "outputs": [],
   "source": [
    "try:\n",
    "    print(x)\n",
    "except NameError:\n",
    "    print(\"You have not defined this variable yet!!!\")"
   ]
  },
  {
   "cell_type": "markdown",
   "id": "f924f27e",
   "metadata": {},
   "source": [
    "As observed from the above example, our execution continued even after we tried to print the non-exsistent variable x."
   ]
  },
  {
   "cell_type": "markdown",
   "id": "d17964c6",
   "metadata": {},
   "source": [
    "# Argument of an Exception\n",
    "\n",
    "An exception can have an argument, which is a value that gives additional information about the problem that caused the exception. The contents of argument vary by exception.\n",
    "\n",
    "Here we see the case of a divide by zero error."
   ]
  },
  {
   "cell_type": "code",
   "execution_count": null,
   "id": "a7f9ec22",
   "metadata": {},
   "outputs": [],
   "source": [
    "print(1/0)"
   ]
  },
  {
   "cell_type": "markdown",
   "id": "847f502c",
   "metadata": {},
   "source": [
    "Lets try to use a try-catch block with an error message."
   ]
  },
  {
   "cell_type": "code",
   "execution_count": null,
   "id": "aeaa6026",
   "metadata": {},
   "outputs": [],
   "source": [
    "for i in range(3, -3, -1):\n",
    "    try:\n",
    "        print(round(1 / i,1))\n",
    "    except ZeroDivisionError as err:\n",
    "        print('i =',i,'    Zero Division Error: ', str(err.args[0]))"
   ]
  },
  {
   "cell_type": "markdown",
   "id": "2692ea63",
   "metadata": {},
   "source": [
    "## Finally clause"
   ]
  },
  {
   "cell_type": "markdown",
   "id": "731a30b8",
   "metadata": {},
   "source": [
    "`finally` keyword is a clause which contains the block of code that will always be executed regardless of whether there was any exception in the code or not. This is generally used to cleanup some resources in a program, especially when using file I/O operations."
   ]
  },
  {
   "cell_type": "code",
   "execution_count": null,
   "id": "f02b23c9",
   "metadata": {},
   "outputs": [],
   "source": [
    "fhandler = None\n",
    "try:\n",
    "    # Open file in read-only mode. Try renaming file to test1.txt\n",
    "    fhandler = open('./sample_datasets/test.txt', 'r')\n",
    "    # Read all lines\n",
    "    print(fhandler.readlines())\n",
    "except IOError:\n",
    "    print('Error Opening File')\n",
    "except ZeroDivisionError:\n",
    "    print('You have a zero division error')\n",
    "finally:\n",
    "    # If the file was opened\n",
    "    if fhandler:\n",
    "        # Close the file\n",
    "        fhandler.close"
   ]
  },
  {
   "cell_type": "markdown",
   "id": "b6c08948",
   "metadata": {},
   "source": [
    "In the above example we can observe that we are trying to open a file and read its contents. If the file doesn't exist, it will raise an IOError exception. If that happens, our try-catch block will handle it. However once the file has been read, we need to close the file so that other processes or other functions in our code can access it. (Remember: when accessing/ modifying a file, the file is locked to that process which is performing the I/O operation on it. Unless the lock is released, no other process will be able to modify it.. ) \n",
    "\n",
    "To make sure we release the resources, in the `finally` block we are checking if fhandler is not null and closing it."
   ]
  },
  {
   "cell_type": "markdown",
   "id": "81adf877",
   "metadata": {},
   "source": [
    "## Assertions\n",
    "\n",
    "We can check our code at anypoint during run time to see if things are running as expected. This can be done using `assert`."
   ]
  },
  {
   "cell_type": "code",
   "execution_count": null,
   "id": "ad4ca74b",
   "metadata": {},
   "outputs": [],
   "source": [
    "def raiser(x: int, n:int) -> int:\n",
    "    '''\n",
    "    We want to raise number x  to the nth power(n>=1)\n",
    "    x and n must be integers and positive.\n",
    "    '''\n",
    "    num = x\n",
    "    for i in range(n-1):\n",
    "        num *= x\n",
    "        if i == 3:\n",
    "            num *=-1\n",
    "    return num\n",
    "\n",
    "raiser(2,0),raiser(2,1),raiser(2,2)"
   ]
  },
  {
   "cell_type": "markdown",
   "id": "422aa37b",
   "metadata": {},
   "source": [
    "We can see that the above function works flawlessly. As we know when we raise a positive number to the (n-1)th power, we expect a positive value. However, due to some flaws in the code it might not happen so. For example:"
   ]
  },
  {
   "cell_type": "code",
   "execution_count": null,
   "id": "21cfc829",
   "metadata": {},
   "outputs": [],
   "source": [
    "raiser(2,8)"
   ]
  },
  {
   "cell_type": "markdown",
   "id": "b3db30c3",
   "metadata": {},
   "source": [
    "We will then want to check if our code makes an error at any stage. This can be either due to inputs, the code flow or the output. We can check this by asserting at each stage if our output meets our expectation. `Assert  <check>, <error message>` The assert check must output a boolean result for it to work."
   ]
  },
  {
   "cell_type": "code",
   "execution_count": null,
   "id": "15ae2a5f",
   "metadata": {},
   "outputs": [],
   "source": [
    "def raiser(x: int, n:int) -> int:\n",
    "    '''\n",
    "    We want to raise number x  to the nth power(n>=1)\n",
    "    x and n must be integers and positive.\n",
    "    '''\n",
    "    assert type(x) == int\n",
    "    assert x > 0\n",
    "    assert type(n) == int\n",
    "    assert n > 0\n",
    "    \n",
    "    num = x\n",
    "    for i in range(n-1):\n",
    "        num *= x\n",
    "        if i == 3:\n",
    "            num *=-1\n",
    "        assert num > 0\n",
    "        \n",
    "    assert type(num) == int\n",
    "    return num\n",
    "\n",
    "raiser(2,8)"
   ]
  },
  {
   "cell_type": "markdown",
   "id": "78985aa4",
   "metadata": {},
   "source": [
    "We see an AssertionError but have dont have an understanding of where in the loop it is happening. We can thus add a message."
   ]
  },
  {
   "cell_type": "code",
   "execution_count": null,
   "id": "4751de88",
   "metadata": {},
   "outputs": [],
   "source": [
    "def raiser(x: int, n:int) -> int:\n",
    "    '''\n",
    "    We want to raise number x  to the nth power(n>=1)\n",
    "    x and n must be integers and positive.\n",
    "    '''\n",
    "    assert type(x) == int\n",
    "    assert x > 0\n",
    "    assert type(n) == int\n",
    "    assert n > 0\n",
    "    \n",
    "    num = x\n",
    "    for i in range(n-1):\n",
    "        num *= x\n",
    "        if i == 3:\n",
    "            num *=-1\n",
    "        assert num > 0, 'Error occuring when i = '+str(i)\n",
    "        \n",
    "    assert type(num) == int\n",
    "    return num\n",
    "\n",
    "raiser(2,8)"
   ]
  },
  {
   "cell_type": "markdown",
   "id": "d94ef9d8",
   "metadata": {},
   "source": [
    "Note that asserting excessively can slow down code, so dont be overboard with them or comment them out after debugging"
   ]
  }
 ],
 "metadata": {
  "jupytext": {
   "formats": "md:myst,ipynb",
   "text_representation": {
    "extension": ".md",
    "format_name": "myst",
    "format_version": 0.13,
    "jupytext_version": "1.14.0"
   }
  },
  "kernelspec": {
   "display_name": "Python 3 (ipykernel)",
   "language": "python",
   "name": "python3"
  },
  "language_info": {
   "codemirror_mode": {
    "name": "ipython",
    "version": 3
   },
   "file_extension": ".py",
   "mimetype": "text/x-python",
   "name": "python",
   "nbconvert_exporter": "python",
   "pygments_lexer": "ipython3",
   "version": "3.9.13"
  },
  "source_map": [
   13,
   37,
   42,
   57,
   63,
   69,
   73,
   77,
   79,
   83,
   87,
   93,
   97,
   103,
   111,
   117,
   128,
   132,
   141,
   174,
   178,
   180,
   188,
   193,
   197,
   205,
   207,
   211,
   217,
   221,
   225,
   241,
   247,
   253,
   267,
   271,
   273,
   277,
   299,
   303,
   325
  ]
 },
 "nbformat": 4,
 "nbformat_minor": 5
}