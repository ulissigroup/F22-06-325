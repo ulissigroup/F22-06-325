{
 "cells": [
  {
   "cell_type": "markdown",
   "id": "9d9f066e",
   "metadata": {},
   "source": [
    "```{margin} Adaptation!\n",
    "This lecture was also adapted from lecture notes in John Kitchin's excellent 06-623 course. His lecture notes are included in the helpful resources link if you want to know more details about how numerical methods work. These notes also contain content from Prof. Ulissi's 06-262 course. \n",
    "```"
   ]
  },
  {
   "cell_type": "markdown",
   "id": "ae9db770",
   "metadata": {},
   "source": [
    "# Review of Numerical Methods for Local Optimization and Curve Fitting\n",
    "\n",
    "\n",
    "`````{note}\n",
    "This lecture is going to:\n",
    "* Quickly review why we care about finding minima and maxima of functions\n",
    "* Demonstrate two methods for finding minima/maxima:\n",
    "    * Using a non-linear solver to find where the gradient is zero\n",
    "    * Using a local optimizer from scipy\n",
    "* Show that finding minima and maxima are the same problem\n",
    "\n",
    "After covering these ideas, we will practice on a problem that we can also solve with ODE events!\n",
    "\n",
    "`````"
   ]
  },
  {
   "cell_type": "markdown",
   "id": "7e6243fe",
   "metadata": {
    "id": "36LXSXgpdsge"
   },
   "source": [
    "## Function extrema"
   ]
  },
  {
   "cell_type": "markdown",
   "id": "56594eb5",
   "metadata": {
    "id": "WnZv-Bgidsgf"
   },
   "source": [
    "It is pretty common to need to find extreme values of a function in engineering analysis. An extreme value is often a maximum or minimum in a function, and we seek them when we want to maximize a profit function, or minimize a cost function, identify a maximum safe operating condition, etc.\n",
    "\n",
    "Let's consider an example function with a graphical solution approach. We want a quantitative estimate of the minimum in this function."
   ]
  },
  {
   "cell_type": "code",
   "execution_count": 1,
   "id": "fcdb094c",
   "metadata": {
    "id": "Q9UwDQl3dsgf",
    "outputId": "d0e8e0b0-7361-4976-eb11-1690733ad122"
   },
   "outputs": [
    {
     "data": {
      "text/plain": [
       "[<matplotlib.lines.Line2D at 0x7f8e8bcc9a60>]"
      ]
     },
     "execution_count": 1,
     "metadata": {},
     "output_type": "execute_result"
    },
    {
     "data": {
      "image/png": "[encoded data removed]",
      "text/plain": [
       "<Figure size 432x288 with 1 Axes>"
      ]
     },
     "metadata": {
      "filenames": {
       "image/png": "/__w/F22-06-325/F22-06-325/f22-06-325/_build/jupyter_execute/review_optimization_4_1.png"
      },
      "needs_background": "light"
     },
     "output_type": "display_data"
    }
   ],
   "source": [
    "import matplotlib.pyplot as plt\n",
    "import numpy as np\n",
    "\n",
    "\n",
    "def f(x):\n",
    "    return x**2 + np.exp(-5 * x**2)\n",
    "\n",
    "\n",
    "x = np.linspace(0, 2)\n",
    "y = f(x)\n",
    "plt.plot(x, y)"
   ]
  },
  {
   "cell_type": "markdown",
   "id": "a36a05a5",
   "metadata": {
    "id": "ff6Huxiidsgh"
   },
   "source": [
    "You can see there is a minimum near 0.6. We can find the minimum in a crude kind of way by finding the index of the minimum value in the y-array, and then getting the corresponding value of the x-array. You control the accuracy of this answer by the number of points you discretize the function over."
   ]
  },
  {
   "cell_type": "code",
   "execution_count": 2,
   "id": "025afb58",
   "metadata": {
    "id": "KJ1CL2uXdsgh",
    "outputId": "043346d6-e510-4fd0-c2a3-0c99a3d094b6"
   },
   "outputs": [
    {
     "data": {
      "text/plain": [
       "0.5714285714285714"
      ]
     },
     "execution_count": 2,
     "metadata": {},
     "output_type": "execute_result"
    }
   ],
   "source": [
    "x = np.linspace(0, 2, 50)\n",
    "y = f(x)\n",
    "i = np.argmin(y)\n",
    "x[i]"
   ]
  },
  {
   "cell_type": "markdown",
   "id": "ce0f3080",
   "metadata": {
    "id": "ss9FIkxcdsgi"
   },
   "source": [
    "`````{tip}\n",
    "\n",
    "**Pros/cons of finding minima/maxima by inspection!**\n",
    "\n",
    "Pros:\n",
    "1.  It is easy.\n",
    "2.  You *see* the whole domain you are looking at, and it is easy to see how many extrema their are\n",
    "\n",
    "Cons:\n",
    "1.  *Lot's* of function evaluations. Imagine if it took a long time to compute each value.\n",
    "2.  Somewhat tedious.\n",
    "3.  Not so easy to reproduce\n",
    "4.  Not scalable to large problems, your time to do this becomes a limiting factor.\n",
    "`````"
   ]
  },
  {
   "cell_type": "markdown",
   "id": "9ec7e2d6",
   "metadata": {
    "id": "Y-WUmY0Odsgi"
   },
   "source": [
    "### Find the derivative, and solve for where it is zero"
   ]
  },
  {
   "cell_type": "markdown",
   "id": "b6c0451f",
   "metadata": {
    "id": "0KYh-8qkdsgi"
   },
   "source": [
    "We can also derive the first derivative:\n",
    "\n",
    "$y' = 2 * x + e^{-5 x^2} (-10 * x)$\n",
    "\n",
    "and solve it for zero using fsolve."
   ]
  },
  {
   "cell_type": "code",
   "execution_count": 3,
   "id": "b9159448",
   "metadata": {
    "id": "t8pSMifjdsgj",
    "outputId": "62938e95-52b1-4fb3-dbe3-38f6fbf06536"
   },
   "outputs": [
    {
     "data": {
      "text/plain": [
       "array([0.56735137])"
      ]
     },
     "execution_count": 3,
     "metadata": {},
     "output_type": "execute_result"
    }
   ],
   "source": [
    "def yp(x):\n",
    "    return 2 * x + np.exp(-5 * x**2) * (-10 * x)\n",
    "\n",
    "\n",
    "from scipy.optimize import fsolve\n",
    "\n",
    "fsolve(yp, 0.5)"
   ]
  },
  {
   "cell_type": "markdown",
   "id": "d9195641",
   "metadata": {
    "id": "yPYMTc2Ddsgj"
   },
   "source": [
    "These two answer agree to 5 decimal places.\n",
    "\n",
    "This depends on your ability to correctly derive and implement the derivative. It is good to know you can solve this problem by more than one method. Here, we use a numerical derivative in the function instead to check our derivative. You can check the convergence of the derivative by varying the dx."
   ]
  },
  {
   "cell_type": "code",
   "execution_count": 4,
   "id": "846d2412",
   "metadata": {
    "id": "0VuIZkAQdsgj",
    "outputId": "dc8022de-743b-4d63-e6cd-21ee8eb6f5f1"
   },
   "outputs": [
    {
     "data": {
      "text/plain": [
       "array([0.56735137])"
      ]
     },
     "execution_count": 4,
     "metadata": {},
     "output_type": "execute_result"
    }
   ],
   "source": [
    "from scipy.misc import derivative\n",
    "\n",
    "\n",
    "def ypd(x):\n",
    "    return derivative(f, x, dx=1e-6)\n",
    "\n",
    "fsolve(ypd, 0.5)"
   ]
  },
  {
   "cell_type": "markdown",
   "id": "99b3b653",
   "metadata": {
    "id": "ol6Iafxvdsgk"
   },
   "source": [
    "These look the same within tolerance. This is not a beautiful solution, but it is hard to argue with success here!\n",
    "\n",
    "`````{tip}\n",
    "\n",
    "**Pros/cons of finding minima/maxima by root finding of the derivatives!**\n",
    "\n",
    "Pros:\n",
    "1.  We've turned a new problem into a problem we already know how to solve.\n",
    "\n",
    "Cons:\n",
    "1.  You have to do a derivative by hand or use a numerical estimate.\n",
    "2.  You get minima, maxima, and saddle points.\n",
    "`````"
   ]
  },
  {
   "cell_type": "markdown",
   "id": "6a4f827b",
   "metadata": {
    "id": "tM3Sub3Cdsgl"
   },
   "source": [
    "### Standard python approach: scipy.optimize.minimize"
   ]
  },
  {
   "cell_type": "markdown",
   "id": "6e37cd67",
   "metadata": {
    "id": "gVbU1KXjdsgl"
   },
   "source": [
    "Here is the basic use of scipy.optimize.minimize. As always, we should plot the answer where feasible to make sure it is the minimum we wanted.\n",
    "\n",
    "`````{seealso}\n",
    "Full documentation and notes on types of algorithms: https://docs.scipy.org/doc/scipy/reference/generated/scipy.optimize.minimize.html\n",
    "`````"
   ]
  },
  {
   "cell_type": "code",
   "execution_count": 5,
   "id": "099dee36",
   "metadata": {
    "id": "mJDxo14Adsgm",
    "outputId": "a1121bee-cb03-41f3-e55c-dadb66c1549a"
   },
   "outputs": [
    {
     "data": {
      "text/plain": [
       "      fun: 0.5218875824868201\n",
       " hess_inv: array([[0.15524504]])\n",
       "      jac: array([4.47034836e-08])\n",
       "  message: 'Optimization terminated successfully.'\n",
       "     nfev: 10\n",
       "      nit: 3\n",
       "     njev: 5\n",
       "   status: 0\n",
       "  success: True\n",
       "        x: array([0.56735137])"
      ]
     },
     "execution_count": 5,
     "metadata": {},
     "output_type": "execute_result"
    }
   ],
   "source": [
    "from scipy.optimize import minimize\n",
    "\n",
    "def f(x):\n",
    "    return x**2 + np.exp(-5 * x**2)\n",
    "\n",
    "\n",
    "guess = 0.5\n",
    "sol = minimize(f, guess)\n",
    "sol"
   ]
  },
  {
   "cell_type": "code",
   "execution_count": 6,
   "id": "79dd13a0",
   "metadata": {
    "id": "YDYDIpQUdsgm",
    "outputId": "01c5369d-fbcb-4f31-dcb3-a5099ec1a7ca"
   },
   "outputs": [
    {
     "data": {
      "text/plain": [
       "<matplotlib.legend.Legend at 0x7f8e89d65bb0>"
      ]
     },
     "execution_count": 6,
     "metadata": {},
     "output_type": "execute_result"
    },
    {
     "data": {
      "image/png": "[encoded data removed]",
      "text/plain": [
       "<Figure size 432x288 with 1 Axes>"
      ]
     },
     "metadata": {
      "filenames": {
       "image/png": "/__w/F22-06-325/F22-06-325/f22-06-325/_build/jupyter_execute/review_optimization_17_1.png"
      },
      "needs_background": "light"
     },
     "output_type": "display_data"
    }
   ],
   "source": [
    "x = np.linspace(0, 2)\n",
    "y = f(x)\n",
    "\n",
    "plt.plot(x, y, \"b-\")\n",
    "plt.plot(sol.x, f(sol.x), \"ro\")\n",
    "plt.xlabel(\"x\")\n",
    "plt.ylabel(\"y\")\n",
    "plt.legend([\"f(x)\", \"fmin\"])"
   ]
  },
  {
   "cell_type": "markdown",
   "id": "059fe193",
   "metadata": {
    "id": "25UDLJxtdsgm"
   },
   "source": [
    "Note this answer is only the same in the first 4 decimal places. Remember that these iterative approaches stop when a tolerance is met. Check the defaults on fmin!"
   ]
  },
  {
   "cell_type": "markdown",
   "id": "b8351d4c",
   "metadata": {
    "id": "vLlvw6_Jdsgm"
   },
   "source": [
    "### Multiple minima"
   ]
  },
  {
   "cell_type": "markdown",
   "id": "599d39d8",
   "metadata": {
    "id": "n6LAslCrdsgm"
   },
   "source": [
    "It is possible for functions to have more than one minimum. In this case, your guess will determine which minimum is found. Here is an example where there is a minimum near 2.2, and one near 4.5."
   ]
  },
  {
   "cell_type": "code",
   "execution_count": 7,
   "id": "24493683",
   "metadata": {
    "id": "bt3oS9eydsgm",
    "outputId": "312c4fae-beea-4e29-cd81-ac88f78e5edd"
   },
   "outputs": [
    {
     "data": {
      "text/plain": [
       "Text(0, 0.5, 'h(x)')"
      ]
     },
     "execution_count": 7,
     "metadata": {},
     "output_type": "execute_result"
    },
    {
     "data": {
      "image/png": "[encoded data removed]",
      "text/plain": [
       "<Figure size 432x288 with 1 Axes>"
      ]
     },
     "metadata": {
      "filenames": {
       "image/png": "/__w/F22-06-325/F22-06-325/f22-06-325/_build/jupyter_execute/review_optimization_21_1.png"
      },
      "needs_background": "light"
     },
     "output_type": "display_data"
    }
   ],
   "source": [
    "def h(x):\n",
    "    return 2 + np.cos(x) + np.cos(2 * x - 0.5) / 2\n",
    "\n",
    "\n",
    "x = np.linspace(0, 2 * np.pi)\n",
    "\n",
    "plt.plot(x, h(x))\n",
    "plt.xlabel(\"x\")\n",
    "plt.ylabel(\"h(x)\")"
   ]
  },
  {
   "cell_type": "markdown",
   "id": "95a46b5d",
   "metadata": {
    "id": "szidZcMHdsgm"
   },
   "source": [
    "This guess finds the one near 2.2:"
   ]
  },
  {
   "cell_type": "code",
   "execution_count": 8,
   "id": "94ba62e2",
   "metadata": {
    "id": "P1G_SCoCdsgm",
    "outputId": "863e0317-0a3b-4d2b-cb93-9121dbf12420"
   },
   "outputs": [
    {
     "data": {
      "text/plain": [
       "      fun: 1.044887178374669\n",
       " hess_inv: array([[0.52337763]])\n",
       "      jac: array([0.])\n",
       "  message: 'Optimization terminated successfully.'\n",
       "     nfev: 10\n",
       "      nit: 3\n",
       "     njev: 5\n",
       "   status: 0\n",
       "  success: True\n",
       "        x: array([2.26106176])"
      ]
     },
     "execution_count": 8,
     "metadata": {},
     "output_type": "execute_result"
    }
   ],
   "source": [
    "minimize(h, 2)"
   ]
  },
  {
   "cell_type": "markdown",
   "id": "9bd2a2ba",
   "metadata": {
    "id": "oemdtERFdsgn"
   },
   "source": [
    "and this guess finds the one near 4.5"
   ]
  },
  {
   "cell_type": "code",
   "execution_count": 9,
   "id": "7f6284b0",
   "metadata": {
    "id": "n_kVCMogdsgn",
    "outputId": "c03629c7-342b-413c-86e3-fe2bf48334fb"
   },
   "outputs": [
    {
     "data": {
      "text/plain": [
       "      fun: 1.4758979742813338\n",
       " hess_inv: array([[0.94727416]])\n",
       "      jac: array([-9.08970833e-07])\n",
       "  message: 'Optimization terminated successfully.'\n",
       "     nfev: 14\n",
       "      nit: 5\n",
       "     njev: 7\n",
       "   status: 0\n",
       "  success: True\n",
       "        x: array([4.35545601])"
      ]
     },
     "execution_count": 9,
     "metadata": {},
     "output_type": "execute_result"
    }
   ],
   "source": [
    "minimize(h, 4)"
   ]
  },
  {
   "cell_type": "markdown",
   "id": "7cedaaab",
   "metadata": {
    "id": "iof-cVlKdsgn"
   },
   "source": [
    "You have to decide which one is better for the problem at hand. If this were a cost function, the one at the lower cost is probably better! Note that all we can say here is which one is lower in the interval we are looking at. By inspection of the function, you can see it will be periodic, so there will be many other minima that also exist.\n",
    "\n",
    "\n",
    "`````{seealso}\n",
    "\n",
    "Questions about local vs global minima and their use in decision making for engineering can be very interesting. You will discuss this in much more detail in your second mini (optimization) this semester!\n",
    "`````"
   ]
  },
  {
   "cell_type": "markdown",
   "id": "59195d7f",
   "metadata": {
    "id": "KDFDbY0Adsgn"
   },
   "source": [
    "### Finding maxima"
   ]
  },
  {
   "cell_type": "markdown",
   "id": "9917dd6f",
   "metadata": {
    "id": "fx2z_UFcdsgn"
   },
   "source": [
    "`minimize` is for finding *minima* (no surprise!). We can use it to find maxima though, by finding the *minima* of $-f(x)$. You can see here that when we plot $-h(x)$ the minima become maxima, and vice-versa. Now you can see there are two definite minima, one near zero, and one near 3.5, which correspond to the maxima of $h(x)$."
   ]
  },
  {
   "cell_type": "code",
   "execution_count": 10,
   "id": "480b439e",
   "metadata": {
    "id": "8dZFxsEidsgn",
    "outputId": "51d00a2a-7373-4f18-a8ef-1b875316cf83"
   },
   "outputs": [
    {
     "data": {
      "text/plain": [
       "Text(0, 0.5, '-h(x)')"
      ]
     },
     "execution_count": 10,
     "metadata": {},
     "output_type": "execute_result"
    },
    {
     "data": {
      "image/png": "[encoded data removed]",
      "text/plain": [
       "<Figure size 432x288 with 1 Axes>"
      ]
     },
     "metadata": {
      "filenames": {
       "image/png": "/__w/F22-06-325/F22-06-325/f22-06-325/_build/jupyter_execute/review_optimization_29_1.png"
      },
      "needs_background": "light"
     },
     "output_type": "display_data"
    }
   ],
   "source": [
    "plt.plot(x, -h(x))\n",
    "plt.xlabel(\"x\")\n",
    "plt.ylabel(\"-h(x)\")"
   ]
  },
  {
   "cell_type": "markdown",
   "id": "0b05c85e",
   "metadata": {
    "id": "1QXm-JUzdsgn"
   },
   "source": [
    "The standard way to use minimize is to define an optional argument for the sign that defaults to one. Then, when we call fmin, we will pass -1 as the sign to the function, so we find the minimum of -h(x). Then, we evaluate h(x) at that x-value to get the actual value of the maximum. It is not necessary do this, you can also manually pass around the sign and try to keep it straight.\n",
    "\n",
    "Here is an example to find the maximum near 3.5."
   ]
  },
  {
   "cell_type": "code",
   "execution_count": 11,
   "id": "d0ed1f28",
   "metadata": {
    "id": "XlR0j1Drdsgn",
    "outputId": "3a96db79-cb3e-4d08-a198-8516940dbbea"
   },
   "outputs": [
    {
     "name": "stdout",
     "output_type": "stream",
     "text": [
      "[1.56120872]\n"
     ]
    },
    {
     "data": {
      "text/plain": [
       "Text(0, 0.5, 'h(x)')"
      ]
     },
     "execution_count": 11,
     "metadata": {},
     "output_type": "execute_result"
    },
    {
     "data": {
      "image/png": "[encoded data removed]",
      "text/plain": [
       "<Figure size 432x288 with 1 Axes>"
      ]
     },
     "metadata": {
      "filenames": {
       "image/png": "/__w/F22-06-325/F22-06-325/f22-06-325/_build/jupyter_execute/review_optimization_31_2.png"
      },
      "needs_background": "light"
     },
     "output_type": "display_data"
    }
   ],
   "source": [
    "def h(x, sign=1):\n",
    "    return sign * (2 + np.cos(x) + np.cos(2 * x - 0.5) / 2)\n",
    "\n",
    "\n",
    "sol = minimize(h, 3.5, args=(-1,))  # set sign=-1 here to minimize -h(x)\n",
    "print(h(sol.x))  # sign defaults to 1 here, so we get the maximum value\n",
    "\n",
    "plt.plot(x, h(x))\n",
    "plt.plot(sol.x, h(sol.x), \"ro\")\n",
    "plt.xlabel(\"x\")\n",
    "plt.ylabel(\"h(x)\")"
   ]
  },
  {
   "cell_type": "markdown",
   "id": "21521508",
   "metadata": {
    "id": "IHKDpXeedsgn"
   },
   "source": [
    "Once again, here you have to decide which maximum is relevant"
   ]
  },
  {
   "cell_type": "markdown",
   "id": "ed524cd0",
   "metadata": {
    "id": "gXyE36TCdsgn"
   },
   "source": [
    "### Example: Application to maximizing profit in a PFR"
   ]
  },
  {
   "cell_type": "markdown",
   "id": "e7c55197",
   "metadata": {
    "id": "JAYePfYNdsgo"
   },
   "source": [
    "Compound X with concentration of $C_{X0} = 2.5$ kmol / m$^3$ at a flow rate of 12 m$^3$/min is converted to Y in a first order reaction with a rate constant of 30 1/min in a tubular reactor. The value of Y is $\\$$1.5/kmol. The cost of operation is $\\$$2.50 per minute per m$^3$. Find the reactor length that maximizes the profit (profit is value of products minus operating costs).\n",
    "\n",
    "First, consider why there is a maximum. At low volumes the operating cost is low, and the production of Y is low. At high volumes, you maximize production of Y, so you have the most value, but the operating costs go up (to infinity for complete conversion!). Somewhere in the middle is where a maximum is.\n",
    "\n",
    "Here are some relevant constants."
   ]
  },
  {
   "cell_type": "code",
   "execution_count": 12,
   "id": "74ec2988",
   "metadata": {
    "id": "H88WBDpUdsgo",
    "outputId": "a7fd9f66-aadf-4900-bc4f-75e4df39d7f6"
   },
   "outputs": [],
   "source": [
    "cost = 2.5  # dollar/min/m**3\n",
    "y_value = 1.5  # dollar / mol\n",
    "\n",
    "Cx0 = 2.5  # kmol / m**3\n",
    "v0 = 12.0  # m**3 / min\n",
    "\n",
    "k = 30.0  # 1/min"
   ]
  },
  {
   "cell_type": "markdown",
   "id": "ba474c6c",
   "metadata": {
    "id": "x_JosbU-dsgo"
   },
   "source": [
    "To compute the profit as a function of reactor volume, we need to compute how much Y is produced, then multiply that by the value of Y and subtract the operating cost. To compute how much Y is produced, we use a mole balance on X and Y, and integrate it to the volume to get the molar flows of X and Y. I like to write mole balances like this."
   ]
  },
  {
   "cell_type": "code",
   "execution_count": 13,
   "id": "7426c98d",
   "metadata": {
    "id": "8NLNbeUqdsgo",
    "outputId": "70cc0c2a-8183-443e-cb93-74ef2b20208c"
   },
   "outputs": [],
   "source": [
    "def dFdV(V, F):\n",
    "    \"PFR mole balances on X and Y.\"\n",
    "    Fx, Fy = F\n",
    "    Cx = Fx / v0\n",
    "    rx = -k * Cx\n",
    "    ry = -rx\n",
    "\n",
    "    dFdX = rx\n",
    "    dFdY = ry\n",
    "    return [dFdX, dFdY]\n",
    "\n",
    "\n",
    "F0 = [Cx0 * v0, 0.0]  # Fx0  # Fy0"
   ]
  },
  {
   "cell_type": "markdown",
   "id": "12ba72fc",
   "metadata": {
    "id": "v-7ZZ8eDdsgo"
   },
   "source": [
    "Now, we can write a profit function. It will take a V as the argument, integrate the PFR to that volume to find the molar exit flow rates, and then compute the profit."
   ]
  },
  {
   "cell_type": "code",
   "execution_count": 14,
   "id": "a933b70e",
   "metadata": {
    "id": "qlEnO4Vgdsgo",
    "outputId": "ff04a2d2-d8c6-4905-f8ab-8a93185830e0"
   },
   "outputs": [],
   "source": [
    "import numpy as np\n",
    "from scipy.integrate import solve_ivp\n",
    "\n",
    "\n",
    "def profit(V, sign=1):\n",
    "    Vspan = (0, V)\n",
    "    sol = solve_ivp(dFdV, Vspan, F0)\n",
    "    Fx, Fy = sol.y\n",
    "    Fy_exit = Fy[-1]\n",
    "    return sign * (Fy_exit * y_value - cost * V)"
   ]
  },
  {
   "cell_type": "markdown",
   "id": "27e550c0",
   "metadata": {
    "id": "Gc71GFovdsgo"
   },
   "source": [
    "It is always a good idea to plot the profit function. We use a list comprehension here because the profit function is not *vectorized*, which means we cannot pass an array of volumes in and get an array of profits out."
   ]
  },
  {
   "cell_type": "code",
   "execution_count": 15,
   "id": "6ea868d4",
   "metadata": {
    "id": "QwHc7MRYdsgo",
    "outputId": "056c0d2a-e4af-4625-abd6-37da6dee0028"
   },
   "outputs": [
    {
     "data": {
      "text/plain": [
       "Text(0, 0.5, 'profit')"
      ]
     },
     "execution_count": 15,
     "metadata": {},
     "output_type": "execute_result"
    },
    {
     "data": {
      "image/png": "[encoded data removed]",
      "text/plain": [
       "<Figure size 432x288 with 1 Axes>"
      ]
     },
     "metadata": {
      "filenames": {
       "image/png": "/__w/F22-06-325/F22-06-325/f22-06-325/_build/jupyter_execute/review_optimization_41_1.png"
      },
      "needs_background": "light"
     },
     "output_type": "display_data"
    }
   ],
   "source": [
    "Vspan = np.linspace(0, 4)\n",
    "profit_array = [profit(V) for V in Vspan]\n",
    "\n",
    "import matplotlib.pyplot as plt\n",
    "\n",
    "plt.plot(Vspan, profit_array)\n",
    "plt.xlabel(\"V\")\n",
    "plt.ylabel(\"profit\")"
   ]
  },
  {
   "cell_type": "markdown",
   "id": "2d4616c2",
   "metadata": {
    "id": "VRHIDvV9dsgo"
   },
   "source": [
    "You can see from this plot there is a maximum near V=1.5. We can use that as a guess for fmin."
   ]
  },
  {
   "cell_type": "code",
   "execution_count": 16,
   "id": "430712af",
   "metadata": {
    "id": "BbOkzYrhdsgo",
    "outputId": "501165f5-fb45-4464-8c9f-7dfbfd64d8a7"
   },
   "outputs": [
    {
     "name": "stdout",
     "output_type": "stream",
     "text": [
      "The optimal volume is 1.52 m^3 with a profit of $40.19.\n"
     ]
    }
   ],
   "source": [
    "from scipy.optimize import fmin\n",
    "\n",
    "sol = minimize(profit, 1.5, args=(-1,))\n",
    "\n",
    "print(\n",
    "    f\"The optimal volume is {sol.x[0]:1.2f} m^3 with a profit of ${profit(sol.x[0]):1.2f}.\"\n",
    ")"
   ]
  },
  {
   "cell_type": "markdown",
   "id": "6f997841",
   "metadata": {
    "id": "a3QJdbUxdsgo"
   },
   "source": [
    "This problem highlights the opportunities we have to integrate many ideas together to solve complex problems. We have integration of an ODE, nonlinear algebra/minimization, with graphical estimates of the solution."
   ]
  },
  {
   "cell_type": "markdown",
   "id": "d6f3f5e3",
   "metadata": {},
   "source": [
    "## **Practice:** Can you solve this with an event and solve\\_ivp?"
   ]
  },
  {
   "cell_type": "markdown",
   "id": "49b8e499",
   "metadata": {
    "id": "NuhAt7rYgyuQ"
   },
   "source": [
    "## Regression of data is a form of function minimization"
   ]
  },
  {
   "cell_type": "markdown",
   "id": "3a9be9a8",
   "metadata": {
    "id": "sj_moG5VgyuR"
   },
   "source": [
    "When we say regression, we really mean find some parameters of a model that best reproduces some known data. By \"best reproduces\" we mean the sum of all the errors between the values predicted by the model, and the real data is minimized.\n",
    "\n",
    "Suppose we have the following data that shows how the energy of a material depends on the volume of the material."
   ]
  },
  {
   "cell_type": "code",
   "execution_count": 17,
   "id": "dee19ae9",
   "metadata": {
    "id": "Wnd2fDHDgyuR",
    "outputId": "d90784b9-8191-4ccd-bab6-8cbd9e28c808"
   },
   "outputs": [
    {
     "data": {
      "text/plain": [
       "Text(0, 0.5, 'E')"
      ]
     },
     "execution_count": 17,
     "metadata": {},
     "output_type": "execute_result"
    },
    {
     "data": {
      "image/png": "[encoded data removed]",
      "text/plain": [
       "<Figure size 432x288 with 1 Axes>"
      ]
     },
     "metadata": {
      "filenames": {
       "image/png": "/__w/F22-06-325/F22-06-325/f22-06-325/_build/jupyter_execute/review_optimization_48_1.png"
      },
      "needs_background": "light"
     },
     "output_type": "display_data"
    }
   ],
   "source": [
    "import matplotlib.pyplot as plt\n",
    "import numpy as np\n",
    "\n",
    "volumes = np.array([13.71, 14.82, 16.0, 17.23, 18.52])\n",
    "energies = np.array([-56.29, -56.41, -56.46, -56.463, -56.41])\n",
    "\n",
    "plt.plot(volumes, energies, \"bo\")\n",
    "plt.xlabel(\"V\")\n",
    "plt.ylabel(\"E\")"
   ]
  },
  {
   "cell_type": "markdown",
   "id": "52ae4844",
   "metadata": {
    "id": "ujgkss0mgyuS"
   },
   "source": [
    "In Materials Science we often want to fit an equation of state to this data. We will use this equation:\n",
    "\n",
    "$E = E_0 + \\frac{B_0 V}{B_0'}\\left(\\frac{(V_0 / V)^{B_0'}}{B_0' - 1} + 1 \\right) - \\frac{V_0 B_0}{B_0' - 1}$\n",
    "\n",
    "from [https://journals.aps.org/prb/pdf/10.1103/PhysRevB.28.5480](https://journals.aps.org/prb/pdf/10.1103/PhysRevB.28.5480). In this model there are four parameters:\n",
    "\n",
    "| name|desc|\n",
    "|---|---|\n",
    "| E\\_0|energy at the minimim|\n",
    "| B\\_0|bulk modulus|\n",
    "| B\\_0'|first derivative of the bulk modulus|\n",
    "| V\\_0|volume at the energy minimum|\n",
    "\n",
    "We would like to find the value of these parameters that best fits the data above. That means, find the set of parameters that minimize the sum of the squared errors between the model and data.\n",
    "\n",
    "First we need a function that will use the parameters and return the energy for a given volume."
   ]
  },
  {
   "cell_type": "code",
   "execution_count": 18,
   "id": "69c22d1d",
   "metadata": {
    "id": "yFqa2eb7gyuT",
    "outputId": "e49f2283-0fc7-4946-d5b8-3e472b3fbfd4"
   },
   "outputs": [],
   "source": [
    "def Murnaghan(parameters, vol):\n",
    "    \"From PRB 28,5480 (1983)\"\n",
    "    E0, B0, BP, V0 = parameters\n",
    "    E = E0 + B0 * vol / BP * (((V0 / vol) ** BP) / (BP - 1) + 1) - V0 * B0 / (BP - 1.0)\n",
    "\n",
    "    return E"
   ]
  },
  {
   "cell_type": "markdown",
   "id": "6bc1b22b",
   "metadata": {
    "id": "dvdHs4gQgyuT"
   },
   "source": [
    "Next, we need a function that computes the summed squared errors for a set of parameters. The use of squared errors is preferable in many cases to the absolute values because it has a continuous derivative. We will learn more about this later."
   ]
  },
  {
   "cell_type": "code",
   "execution_count": 19,
   "id": "35ef2bc4",
   "metadata": {
    "id": "YME4qTEsgyuT",
    "outputId": "49b355e7-0737-4d74-fa2c-c33b349e8d4b"
   },
   "outputs": [],
   "source": [
    "def objective(pars):\n",
    "    err = energies - Murnaghan(pars, volumes)\n",
    "    return np.sum(err**2)  # we return the summed squared error directly"
   ]
  },
  {
   "cell_type": "markdown",
   "id": "d289b40b",
   "metadata": {
    "id": "_tIN7ApEgyuU"
   },
   "source": [
    "Finally,  we need an initial guess to start the minimization. As with all minimization problems, this can be the most difficult step. It is always a good idea to use properties of the model and data where possible to make these guesses. We have no way to plot anything in four dimensions, so we use analysis instead.\n",
    "\n",
    "We can derive some of these from the data we have. First, we can get the minimum in energy and the corresponding volume that we know from the data. These are not the final answer, but they are a good guess for it.\n",
    "\n",
    "The B<sub>0</sub> parameter is related to the curvature at the minimum, which is the second derivative. We get that from repeated calls to `numpy.gradient`. Finally, $B_0'$ is related to the derivative of $B$ at the minimum, so we estimate that too."
   ]
  },
  {
   "cell_type": "code",
   "execution_count": 20,
   "id": "7fb5fca9",
   "metadata": {
    "id": "23PtF7U-gyuU",
    "outputId": "5cdd057c-a093-4fc7-fd87-2250853e6a60"
   },
   "outputs": [
    {
     "data": {
      "text/plain": [
       "[-56.463, 0.02575384116153356, -0.00900405886406903, 17.23]"
      ]
     },
     "execution_count": 20,
     "metadata": {},
     "output_type": "execute_result"
    }
   ],
   "source": [
    "imin = np.argmin(energies)\n",
    "dedv = np.gradient(energies, volumes)\n",
    "B = np.gradient(dedv, volumes)\n",
    "Bp = np.gradient(B, volumes)\n",
    "\n",
    "\n",
    "x0 = [energies[imin], B[imin], Bp[imin], volumes[imin]]\n",
    "\n",
    "x0"
   ]
  },
  {
   "cell_type": "markdown",
   "id": "18e4563a",
   "metadata": {
    "id": "897-ybQ4gyuU"
   },
   "source": [
    "Finally, we are ready to fit our function. As usual, we also plot the data and the fit for visual inspection."
   ]
  },
  {
   "cell_type": "code",
   "execution_count": 21,
   "id": "075f40de",
   "metadata": {
    "id": "5ycsx3gQgyuV",
    "outputId": "15670d1b-a807-4944-ba64-ffb2f388369c"
   },
   "outputs": [
    {
     "name": "stdout",
     "output_type": "stream",
     "text": [
      "      fun: 1.491342970068105e-05\n",
      " hess_inv: array([[ 3.15514620e-01, -3.20155406e+00,  7.74103643e+01,\n",
      "        -1.97336028e+00],\n",
      "       [-3.20155406e+00,  5.58406362e+01, -1.58550458e+03,\n",
      "         3.96238529e+01],\n",
      "       [ 7.74103643e+01, -1.58550458e+03,  6.54517772e+04,\n",
      "        -2.47812337e+03],\n",
      "       [-1.97336028e+00,  3.96238529e+01, -2.47812337e+03,\n",
      "         1.39823769e+02]])\n",
      "      jac: array([ 6.38314248e-06,  1.34489937e-07, -4.90979346e-08, -3.19168475e-06])\n",
      "  message: 'Optimization terminated successfully.'\n",
      "     nfev: 180\n",
      "      nit: 31\n",
      "     njev: 36\n",
      "   status: 0\n",
      "  success: True\n",
      "        x: array([-56.46839132,   0.57225664,   2.74673677,  16.55866445])\n"
     ]
    },
    {
     "data": {
      "text/plain": [
       "Text(0, 0.5, 'E')"
      ]
     },
     "execution_count": 21,
     "metadata": {},
     "output_type": "execute_result"
    },
    {
     "data": {
      "image/png": "[encoded data removed]",
      "text/plain": [
       "<Figure size 432x288 with 1 Axes>"
      ]
     },
     "metadata": {
      "filenames": {
       "image/png": "/__w/F22-06-325/F22-06-325/f22-06-325/_build/jupyter_execute/review_optimization_56_2.png"
      },
      "needs_background": "light"
     },
     "output_type": "display_data"
    }
   ],
   "source": [
    "from scipy.optimize import minimize\n",
    "\n",
    "sol = minimize(objective, x0)\n",
    "print(sol)\n",
    "\n",
    "plt.plot(volumes, energies, \"bo\", label=\"Data\")\n",
    "vfit = np.linspace(min(volumes), max(volumes))\n",
    "plt.plot(vfit, Murnaghan(sol.x, vfit), label=\"fit\")\n",
    "plt.legend()\n",
    "plt.xlabel(\"V\")\n",
    "plt.ylabel(\"E\")"
   ]
  },
  {
   "cell_type": "markdown",
   "id": "2c8c490d",
   "metadata": {
    "id": "-NmPcWs8gyuV"
   },
   "source": [
    "That looks pretty good. We should ask ourselves, how do we know we got a minimum? We should see that the objective function is really at a minimum *for each of the parameters*. Here, we show that it is a minimum for the first parameter."
   ]
  },
  {
   "cell_type": "code",
   "execution_count": 22,
   "id": "eb4c2d2e",
   "metadata": {
    "id": "wMJGnh8agyuV",
    "outputId": "ed93e3ec-b0d5-42fd-88e8-6a36398acb25"
   },
   "outputs": [
    {
     "data": {
      "text/plain": [
       "Text(0, 0.5, 'summed squared error')"
      ]
     },
     "execution_count": 22,
     "metadata": {},
     "output_type": "execute_result"
    },
    {
     "data": {
      "image/png": "[encoded data removed]",
      "text/plain": [
       "<Figure size 432x288 with 1 Axes>"
      ]
     },
     "metadata": {
      "filenames": {
       "image/png": "/__w/F22-06-325/F22-06-325/f22-06-325/_build/jupyter_execute/review_optimization_58_1.png"
      },
      "needs_background": "light"
     },
     "output_type": "display_data"
    }
   ],
   "source": [
    "E0_range = np.linspace(0.9 * sol.x[0], 1.1 * sol.x[0])\n",
    "\n",
    "errs = [objective([e0, *sol.x[1:]]) for e0 in E0_range]\n",
    "\n",
    "plt.plot(E0_range, errs)\n",
    "plt.axvline(sol.x[0], c=\"k\", ls=\"--\")\n",
    "plt.xlabel(\"E0\")\n",
    "plt.ylabel(\"summed squared error\")"
   ]
  },
  {
   "cell_type": "markdown",
   "id": "7ce84c52",
   "metadata": {
    "id": "xu4s-POdgyuV"
   },
   "source": [
    "You can see visually that the error goes up on each side of the parameter estimate.\n",
    "\n",
    "**exercise** Repeat this analysis for the other three parameters.\n",
    "\n",
    "Later when we learn about linear algebra, we will learn that if you can show the eigenvalues of the Hessian of the objective function is positive definite, that also means you are at a minimum. It means the error goes up in any direction away from the minimum.\n",
    "\n",
    "Usually we do some regression to find one of these:\n",
    "\n",
    "1.  Parameters for the model - because the parameters mean something\n",
    "2.  Properties of the model - because the properties mean something\n",
    "\n",
    "In this particular case, we can do both. Some of the parameters are directly meaningful, like the E0, and V0 are the energy at the minimum, and the corresponding volume. B0 is also meaningful, it is called the bulk modulus, and it is a material property.\n",
    "\n",
    "Now that we have a model though we can also define properties of it, e.g. *in this case* we have from thermodynamics that $P = -dE/dV$. We can use our model to define this derivative. I use `scipy.misc.derivative` for this for convenience. The only issue with it is the energy function has arguments that are not in the right order for the derivative, so I make a proxy function here that just reverses the order of the arguments."
   ]
  },
  {
   "cell_type": "code",
   "execution_count": 23,
   "id": "5439df3a",
   "metadata": {
    "id": "H5HIeXMRgyuV",
    "outputId": "aab52dfb-847c-4a93-a5d3-aca02be473b7"
   },
   "outputs": [
    {
     "data": {
      "text/plain": [
       "(0.020595827265879052, -0.0, -0.04268259701234456)"
      ]
     },
     "execution_count": 23,
     "metadata": {},
     "output_type": "execute_result"
    }
   ],
   "source": [
    "from scipy.misc import derivative\n",
    "\n",
    "pars = sol.x\n",
    "\n",
    "\n",
    "def P(V):\n",
    "    def proxy(V, pars):\n",
    "        return Murnaghan(pars, V)\n",
    "\n",
    "    dEdV = derivative(proxy, V, args=(pars,), dx=1e-6)\n",
    "    return -dEdV\n",
    "\n",
    "\n",
    "# Some examples\n",
    "P(16), P(pars[-1]), P(18)"
   ]
  },
  {
   "cell_type": "markdown",
   "id": "63e4ccd9",
   "metadata": {
    "id": "S_n7xWwbgyuW"
   },
   "source": [
    "The result above shows that it takes positive pressure to compress the material, the pressure is zero at the minimum, and it takes negative pressure to cause it to expand.\n",
    "\n",
    "This example is just meant to illustrate what one can do with a model once you have it."
   ]
  },
  {
   "cell_type": "markdown",
   "id": "0ecac79d",
   "metadata": {
    "id": "v8e-_RPlgyuW"
   },
   "source": [
    "## Parameter confidence intervals and curve fitting with `lmfit`"
   ]
  },
  {
   "cell_type": "markdown",
   "id": "e6599ae5",
   "metadata": {
    "id": "AJaB3pDIgyuW"
   },
   "source": [
    "We have left out an important topic in the discussion above: How certain are we of the parameters we estimated? This is a complicated question that requires moderately sophisticated statistics to answer. We discussed how to do this at the end of 06-262, and we used a special python package `lmfit` to do so!\n",
    "\n",
    "`lmfit` has some nice properties:\n",
    "* It's easy to use\n",
    "* It's general for non-linear curve fitting problems\n",
    "* It handled various loss functions\n",
    "* It handles the basic statistics of linear uncertainty analysis for you\n",
    "\n",
    "`````{seealso}\n",
    "https://lmfit.github.io/lmfit-py/\n",
    "`````"
   ]
  },
  {
   "cell_type": "code",
   "execution_count": 24,
   "id": "85a7fcaa",
   "metadata": {},
   "outputs": [
    {
     "name": "stdout",
     "output_type": "stream",
     "text": [
      "[[Model]]\n",
      "    Model(MurnaghanLmfit)\n",
      "[[Fit Statistics]]\n",
      "    # fitting method   = leastsq\n",
      "    # function evals   = 73\n",
      "    # data points      = 5\n",
      "    # variables        = 4\n",
      "    chi-square         = 1.4913e-05\n",
      "    reduced chi-square = 1.4913e-05\n",
      "    Akaike info crit   = -55.6135982\n",
      "    Bayesian info crit = -57.1758466\n",
      "[[Variables]]\n",
      "    E0: -56.4683965 +/- 0.00303671 (0.01%) (init = -56.463)\n",
      "    B0:  0.57233308 +/- 0.04018672 (7.02%) (init = 0.02575384)\n",
      "    BP:  2.74075619 +/- 1.42020815 (51.82%) (init = -0.009004059)\n",
      "    V0:  16.5590580 +/- 0.06876072 (0.42%) (init = 17.23)\n",
      "[[Correlations]] (unreported correlations are < 0.100)\n",
      "    C(BP, V0) = -0.832\n",
      "    C(B0, BP) = -0.820\n",
      "    C(E0, B0) = -0.773\n",
      "    C(E0, BP) = 0.548\n",
      "    C(B0, V0) = 0.451\n",
      "    C(E0, V0) = -0.319\n"
     ]
    },
    {
     "data": {
      "text/plain": [
       "Text(0, 0.5, 'E')"
      ]
     },
     "execution_count": 24,
     "metadata": {},
     "output_type": "execute_result"
    },
    {
     "data": {
      "image/png": "[encoded data removed]",
      "text/plain": [
       "<Figure size 432x288 with 1 Axes>"
      ]
     },
     "metadata": {
      "filenames": {
       "image/png": "/__w/F22-06-325/F22-06-325/f22-06-325/_build/jupyter_execute/review_optimization_64_2.png"
      },
      "needs_background": "light"
     },
     "output_type": "display_data"
    }
   ],
   "source": [
    "from lmfit import Model\n",
    "\n",
    "\n",
    "def MurnaghanLmfit(vol, E0, B0, BP, V0):\n",
    "    \"From PRB 28,5480 (1983)\"\n",
    "    E = E0 + B0 * vol / BP * (((V0 / vol) ** BP) / (BP - 1) + 1) - V0 * B0 / (BP - 1.0)\n",
    "\n",
    "    return E\n",
    "\n",
    "\n",
    "gmodel = Model(\n",
    "    MurnaghanLmfit, independent_vars=[\"vol\"], param_names=[\"E0\", \"B0\", \"BP\", \"V0\"]\n",
    ")\n",
    "params = gmodel.make_params(\n",
    "    E0=energies[imin], B0=B[imin], BP=Bp[imin], V0=volumes[imin]\n",
    ")\n",
    "\n",
    "result = gmodel.fit(energies, params, vol=volumes)\n",
    "\n",
    "print(result.fit_report())\n",
    "vfit = np.linspace(min(volumes), max(volumes))\n",
    "\n",
    "fitted_energies = result.eval(vol=vfit)\n",
    "\n",
    "\n",
    "plt.plot(volumes, energies, \"bo\", label=\"Data\")\n",
    "plt.plot(vfit, fitted_energies)\n",
    "\n",
    "plt.legend()\n",
    "plt.xlabel(\"V\")\n",
    "plt.ylabel(\"E\")"
   ]
  },
  {
   "cell_type": "markdown",
   "id": "93609062",
   "metadata": {
    "id": "6uCxqIpPgyuZ"
   },
   "source": [
    "## Summary"
   ]
  },
  {
   "cell_type": "markdown",
   "id": "38747583",
   "metadata": {
    "id": "uIGxSuAtgyuZ"
   },
   "source": [
    "Today we introduced the concept of finding minima/maxima in functions. This is an iterative process, much like finding the roots of a nonlinear function. You can think of it as finding the zeros of the derivative of a nonlinear function! This method is the root of many important optimization problems including regression.\n",
    "\n",
    "`scipy.optimize.minimize` is the preferred function for doing minimization. There are other more specific ones described at [https://docs.scipy.org/doc/scipy/reference/optimize.html](https://docs.scipy.org/doc/scipy/reference/optimize.html), but `minimize` has a more consistent interface and provides almost all the functionality of those other methods.\n",
    "\n",
    "Next time, we will look at how to apply minimization to regression problems.\n",
    "\n",
    "We covered a lot of ground today. The key points are:\n",
    "\n",
    "1.  Regression is a minimization of an accumulated error function.\n",
    "2.  If you need uncertainty on the parameters from a regression, use `pycse.nlinfit`.\n",
    "3.  If you need uncertainty on model predictions, you can either simulate it, or derive it. We will learn more about deriving it later."
   ]
  }
 ],
 "metadata": {
  "jupytext": {
   "formats": "md:myst,ipynb",
   "text_representation": {
    "extension": ".md",
    "format_name": "myst",
    "format_version": 0.13,
    "jupytext_version": "1.14.0"
   }
  },
  "kernelspec": {
   "display_name": "Python 3 (ipykernel)",
   "language": "python",
   "name": "python3"
  },
  "language_info": {
   "codemirror_mode": {
    "name": "ipython",
    "version": 3
   },
   "file_extension": ".py",
   "mimetype": "text/x-python",
   "name": "python",
   "nbconvert_exporter": "python",
   "pygments_lexer": "ipython3",
   "version": "3.9.13"
  },
  "source_map": [
   13,
   19,
   36,
   40,
   46,
   63,
   67,
   77,
   94,
   98,
   106,
   119,
   125,
   138,
   154,
   158,
   166,
   181,
   195,
   199,
   203,
   207,
   222,
   226,
   233,
   237,
   244,
   254,
   258,
   262,
   271,
   277,
   294,
   298,
   302,
   310,
   323,
   327,
   346,
   350,
   366,
   370,
   384,
   388,
   401,
   405,
   409,
   413,
   419,
   434,
   453,
   465,
   469,
   478,
   486,
   501,
   505,
   522,
   526,
   540,
   557,
   578,
   584,
   588,
   602,
   636,
   640
  ]
 },
 "nbformat": 4,
 "nbformat_minor": 5
}