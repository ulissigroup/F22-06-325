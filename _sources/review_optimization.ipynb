{
 "cells": [
  {
   "cell_type": "markdown",
   "id": "3d2a17bd",
   "metadata": {},
   "source": [
    "```{margin} Adaptation!\n",
    "This lecture was also adapted from lecture notes in John Kitchin's excellent 06-623 course! His lecture notes are included in the helpful resources link if you want to know more details about how numerical methods work.\n",
    "```"
   ]
  },
  {
   "cell_type": "markdown",
   "id": "ecdcd744",
   "metadata": {},
   "source": [
    "# Review of Numerical Methods for Local Optimization\n",
    "\n",
    "\n",
    "`````{note}\n",
    "This lecture is going to:\n",
    "* Quickly review why we care about finding minima and maxima of functions\n",
    "* Demonstrate two methods for finding minima/maxima:\n",
    "    * Using a non-linear solver to find where the gradient is zero\n",
    "    * Using a local optimizer from scipy\n",
    "* Show that finding minima and maxima are the same problem\n",
    "\n",
    "After covering these ideas, we will practice on a problem that we can also solve with ODE events!\n",
    "\n",
    "`````"
   ]
  },
  {
   "cell_type": "markdown",
   "id": "2635e37f",
   "metadata": {
    "id": "36LXSXgpdsge"
   },
   "source": [
    "## Function extrema"
   ]
  },
  {
   "cell_type": "markdown",
   "id": "06aff372",
   "metadata": {
    "id": "WnZv-Bgidsgf"
   },
   "source": [
    "It is pretty common to need to find extreme values of a function in engineering analysis. An extreme value is often a maximum or minimum in a function, and we seek them when we want to maximize a profit function, or minimize a cost function, identify a maximum safe operating condition, etc.\n",
    "\n",
    "Let's consider an example function with a graphical solution approach. We want a quantitative estimate of the minimum in this function."
   ]
  },
  {
   "cell_type": "code",
   "execution_count": 1,
   "id": "984b4f21",
   "metadata": {
    "id": "Q9UwDQl3dsgf",
    "outputId": "d0e8e0b0-7361-4976-eb11-1690733ad122"
   },
   "outputs": [
    {
     "data": {
      "text/plain": [
       "[<matplotlib.lines.Line2D at 0x7f0f269cad90>]"
      ]
     },
     "execution_count": 1,
     "metadata": {},
     "output_type": "execute_result"
    },
    {
     "data": {
      "image/png": "[encoded data removed]",
      "text/plain": [
       "<Figure size 432x288 with 1 Axes>"
      ]
     },
     "metadata": {
      "filenames": {
       "image/png": "/__w/F22-06-325/F22-06-325/f22-06-325/_build/jupyter_execute/review_optimization_4_1.png"
      },
      "needs_background": "light"
     },
     "output_type": "display_data"
    }
   ],
   "source": [
    "import numpy as np\n",
    "%matplotlib inline\n",
    "import matplotlib.pyplot as plt\n",
    "\n",
    "def f(x):\n",
    "    return x**2 + np.exp(-5 * x**2)\n",
    "\n",
    "x = np.linspace(0, 2)\n",
    "y = f(x)\n",
    "plt.plot(x, y)"
   ]
  },
  {
   "cell_type": "markdown",
   "id": "29476d96",
   "metadata": {
    "id": "ff6Huxiidsgh"
   },
   "source": [
    "You can see there is a minimum near 0.6. We can find the minimum in a crude kind of way by finding the index of the minimum value in the y-array, and then getting the corresponding value of the x-array. You control the accuracy of this answer by the number of points you discretize the function over."
   ]
  },
  {
   "cell_type": "code",
   "execution_count": 2,
   "id": "5465618a",
   "metadata": {
    "id": "KJ1CL2uXdsgh",
    "outputId": "043346d6-e510-4fd0-c2a3-0c99a3d094b6"
   },
   "outputs": [
    {
     "data": {
      "text/plain": [
       "0.5714285714285714"
      ]
     },
     "execution_count": 2,
     "metadata": {},
     "output_type": "execute_result"
    }
   ],
   "source": [
    "x = np.linspace(0, 2, 50)\n",
    "y = f(x)\n",
    "i = np.argmin(y)\n",
    "x[i]"
   ]
  },
  {
   "cell_type": "markdown",
   "id": "31a0cbf3",
   "metadata": {
    "id": "ss9FIkxcdsgi"
   },
   "source": [
    "What are the pros and cons of this method:\n",
    "\n",
    "Pros:\n",
    "\n",
    "1.  It is *easy*.\n",
    "2.  You *see* the whole domain you are looking at, and it is easy to see how many extrema their are\n",
    "\n",
    "Cons:\n",
    "\n",
    "1.  *Lot's* of function evaluations. Imagine if it took a long time to compute each value.\n",
    "2.  Somewhat tedious.\n",
    "3.  Not so easy to reproduce\n",
    "4.  Not scalable to large problems, your time to do this becomes a limiting factor."
   ]
  },
  {
   "cell_type": "markdown",
   "id": "4b3c70a4",
   "metadata": {
    "id": "Y-WUmY0Odsgi"
   },
   "source": [
    "### Find the derivative, and solve for where it is zero"
   ]
  },
  {
   "cell_type": "markdown",
   "id": "4c7aaef0",
   "metadata": {
    "id": "0KYh-8qkdsgi"
   },
   "source": [
    "We can also derive the first derivative:\n",
    "\n",
    "$y' = 2 * x + e^{-5 x^2} (-10 * x)$\n",
    "\n",
    "and solve it for zero using fsolve."
   ]
  },
  {
   "cell_type": "code",
   "execution_count": 3,
   "id": "4ac31568",
   "metadata": {
    "id": "t8pSMifjdsgj",
    "outputId": "62938e95-52b1-4fb3-dbe3-38f6fbf06536"
   },
   "outputs": [
    {
     "data": {
      "text/plain": [
       "array([0.56735137])"
      ]
     },
     "execution_count": 3,
     "metadata": {},
     "output_type": "execute_result"
    }
   ],
   "source": [
    "def yp(x):\n",
    "    return 2 * x + np.exp(-5 * x**2) * (-10 * x)\n",
    "\n",
    "from scipy.optimize import fsolve\n",
    "fsolve(yp, 0.5)"
   ]
  },
  {
   "cell_type": "markdown",
   "id": "4813c555",
   "metadata": {
    "id": "yPYMTc2Ddsgj"
   },
   "source": [
    "These two answer agree to 5 decimal places.\n",
    "\n",
    "This depends on your ability to correctly derive and implement the derivative. It is good to know you can solve this problem by more than one method. Here, we use a numerical derivative in the function instead to check our derivative. You can check the convergence of the derivative by varying the dx."
   ]
  },
  {
   "cell_type": "code",
   "execution_count": 4,
   "id": "6b02bba4",
   "metadata": {
    "id": "0VuIZkAQdsgj",
    "outputId": "dc8022de-743b-4d63-e6cd-21ee8eb6f5f1"
   },
   "outputs": [
    {
     "data": {
      "text/plain": [
       "array([0.56735137])"
      ]
     },
     "execution_count": 4,
     "metadata": {},
     "output_type": "execute_result"
    }
   ],
   "source": [
    "from scipy.misc import derivative\n",
    "\n",
    "def ypd(x):\n",
    "    return derivative(f, x, dx=1e-6)\n",
    "\n",
    "fsolve(ypd, 0.5)"
   ]
  },
  {
   "cell_type": "markdown",
   "id": "5473b29f",
   "metadata": {
    "id": "ol6Iafxvdsgk"
   },
   "source": [
    "These look the same within tolerance. This is not a beautiful solution, but it is hard to argue with success here!"
   ]
  },
  {
   "cell_type": "markdown",
   "id": "d3d77945",
   "metadata": {
    "id": "bpiWX6jwdsgk"
   },
   "source": [
    "### Newton-Raphson method of minima finding"
   ]
  },
  {
   "cell_type": "markdown",
   "id": "ee445f35",
   "metadata": {
    "id": "EltrbTpNdsgk"
   },
   "source": [
    "To use the Newton-Raphson method to get the minimum, we use an iterative approach with:\n",
    "\n",
    "$x_{n+1} = x_n - \\frac{y'(x_n)}{y''(x_n)}$.\n",
    "\n",
    "We have to derive these formulas if you want to use analytical derivatives:\n",
    "\n",
    "$y' = 2 * x + e^{-5 x^2} (-10 * x)$\n",
    "\n",
    "$y'' = 2 + e^{-5 x^2} (-10 * x)^2 - 10 e^{-5 x^2}$\n",
    "\n",
    "Alternatively, we can estimate the derivatives numerically using `scipy.misc.derivative`. This has the downside of numerical instability for dx that is too small, or low accuracy if it is too large, and the need to check if you made a good choice for it. On the plus side, it avoids making mistakes in the derivative derivation and implementation."
   ]
  },
  {
   "cell_type": "code",
   "execution_count": 5,
   "id": "8476fc11",
   "metadata": {
    "id": "j-_RUWG9dsgk",
    "outputId": "98abb7cb-4f29-4b10-e248-2fa0a8b31160"
   },
   "outputs": [
    {
     "data": {
      "text/plain": [
       "(0.5673513747965597, 0.5218875824868201, 3.3306690738754696e-10, 5)"
      ]
     },
     "execution_count": 5,
     "metadata": {},
     "output_type": "execute_result"
    }
   ],
   "source": [
    "from scipy.misc import derivative\n",
    "\n",
    "x0 = 0.2\n",
    "f0 = f(x0)\n",
    "\n",
    "for i in range(15):\n",
    "    yp = derivative(f, x0, dx=1e-6, n=1)\n",
    "    ypp = derivative(f, x0, dx=1e-6, n=2)\n",
    "    xnew = x0 - yp / ypp\n",
    "    fnew = f(xnew)\n",
    "\n",
    "    if np.abs(yp) <= 1e-6:\n",
    "        break\n",
    "    x0 = xnew\n",
    "    f0 = fnew\n",
    "\n",
    "xnew, fnew, yp, i"
   ]
  },
  {
   "cell_type": "markdown",
   "id": "40b6cadf",
   "metadata": {
    "id": "FWnxfwdedsgl"
   },
   "source": [
    "This answer also agrees to at least 5 decimal places. This is the gist of what happens in fsolve.\n",
    "\n",
    "As we have seen many times, finding minima is such a common task that there are dedicated functions available for doing it. One of the is `scipy.optimize.fmin`. This has a similar signature as `scipy.optimize.fsolve`, you give it a function and an initial guess, and it iteratively searches for a minimum."
   ]
  },
  {
   "cell_type": "markdown",
   "id": "14135d07",
   "metadata": {
    "id": "tM3Sub3Cdsgl"
   },
   "source": [
    "## scipy.optimize.minimize"
   ]
  },
  {
   "cell_type": "code",
   "execution_count": 6,
   "id": "89e7a797",
   "metadata": {
    "id": "UYKDxB5Wdsgl",
    "outputId": "0b1154d9-976e-493c-fe55-60644b006b2e"
   },
   "outputs": [],
   "source": [
    "from scipy.optimize import minimize\n",
    "minimize?"
   ]
  },
  {
   "cell_type": "markdown",
   "id": "7c169371",
   "metadata": {
    "id": "gVbU1KXjdsgl"
   },
   "source": [
    "Here is the basic use of fmin. As always, we should plot the answer where feasible to make sure it is the minimum we wanted."
   ]
  },
  {
   "cell_type": "code",
   "execution_count": 7,
   "id": "d133c1b0",
   "metadata": {
    "id": "mJDxo14Adsgm",
    "outputId": "a1121bee-cb03-41f3-e55c-dadb66c1549a"
   },
   "outputs": [
    {
     "data": {
      "text/plain": [
       "      fun: 0.5218875824868201\n",
       " hess_inv: array([[0.15524504]])\n",
       "      jac: array([4.47034836e-08])\n",
       "  message: 'Optimization terminated successfully.'\n",
       "     nfev: 10\n",
       "      nit: 3\n",
       "     njev: 5\n",
       "   status: 0\n",
       "  success: True\n",
       "        x: array([0.56735137])"
      ]
     },
     "execution_count": 7,
     "metadata": {},
     "output_type": "execute_result"
    }
   ],
   "source": [
    "def f(x):\n",
    "    return x**2 + np.exp(-5 * x**2)\n",
    "\n",
    "guess = 0.5\n",
    "sol = minimize(f, guess)\n",
    "sol"
   ]
  },
  {
   "cell_type": "code",
   "execution_count": 8,
   "id": "6094a937",
   "metadata": {
    "id": "YDYDIpQUdsgm",
    "outputId": "01c5369d-fbcb-4f31-dcb3-a5099ec1a7ca"
   },
   "outputs": [
    {
     "data": {
      "text/plain": [
       "<matplotlib.legend.Legend at 0x7f0f249b79a0>"
      ]
     },
     "execution_count": 8,
     "metadata": {},
     "output_type": "execute_result"
    },
    {
     "data": {
      "image/png": "[encoded data removed]",
      "text/plain": [
       "<Figure size 432x288 with 1 Axes>"
      ]
     },
     "metadata": {
      "filenames": {
       "image/png": "/__w/F22-06-325/F22-06-325/f22-06-325/_build/jupyter_execute/review_optimization_22_1.png"
      },
      "needs_background": "light"
     },
     "output_type": "display_data"
    }
   ],
   "source": [
    "x = np.linspace(0, 2)\n",
    "y = f(x)\n",
    "\n",
    "plt.plot(x, y, 'b-')\n",
    "plt.plot(sol.x, f(sol.x), 'ro')\n",
    "plt.xlabel('x')\n",
    "plt.ylabel('y')\n",
    "plt.legend(['f(x)', 'fmin'])"
   ]
  },
  {
   "cell_type": "markdown",
   "id": "f5ea73de",
   "metadata": {
    "id": "25UDLJxtdsgm"
   },
   "source": [
    "Note this answer is only the same in the first 4 decimal places. Remember that these iterative approaches stop when a tolerance is met. Check the defaults on fmin!"
   ]
  },
  {
   "cell_type": "markdown",
   "id": "4753e5d2",
   "metadata": {
    "id": "vLlvw6_Jdsgm"
   },
   "source": [
    "### Multiple minima"
   ]
  },
  {
   "cell_type": "markdown",
   "id": "58229d91",
   "metadata": {
    "id": "n6LAslCrdsgm"
   },
   "source": [
    "It is possible for functions to have more than one minimum. In this case, your guess will determine which minimum is found. Here is an example where there is a minimum near 2.2, and one near 4.5."
   ]
  },
  {
   "cell_type": "code",
   "execution_count": 9,
   "id": "b5b4bd48",
   "metadata": {
    "id": "bt3oS9eydsgm",
    "outputId": "312c4fae-beea-4e29-cd81-ac88f78e5edd"
   },
   "outputs": [
    {
     "data": {
      "text/plain": [
       "Text(0, 0.5, 'h(x)')"
      ]
     },
     "execution_count": 9,
     "metadata": {},
     "output_type": "execute_result"
    },
    {
     "data": {
      "image/png": "[encoded data removed]",
      "text/plain": [
       "<Figure size 432x288 with 1 Axes>"
      ]
     },
     "metadata": {
      "filenames": {
       "image/png": "/__w/F22-06-325/F22-06-325/f22-06-325/_build/jupyter_execute/review_optimization_26_1.png"
      },
      "needs_background": "light"
     },
     "output_type": "display_data"
    }
   ],
   "source": [
    "def h(x):\n",
    "    return 2 + np.cos(x) + np.cos(2*x - 0.5) / 2\n",
    "\n",
    "x = np.linspace(0, 2 * np.pi)\n",
    "\n",
    "plt.plot(x, h(x))\n",
    "plt.xlabel('x')\n",
    "plt.ylabel('h(x)')"
   ]
  },
  {
   "cell_type": "markdown",
   "id": "27669108",
   "metadata": {
    "id": "szidZcMHdsgm"
   },
   "source": [
    "This guess finds the one near 2.2:"
   ]
  },
  {
   "cell_type": "code",
   "execution_count": 10,
   "id": "2d101a2f",
   "metadata": {
    "id": "P1G_SCoCdsgm",
    "outputId": "863e0317-0a3b-4d2b-cb93-9121dbf12420"
   },
   "outputs": [
    {
     "data": {
      "text/plain": [
       "      fun: 1.044887178374669\n",
       " hess_inv: array([[0.52337763]])\n",
       "      jac: array([0.])\n",
       "  message: 'Optimization terminated successfully.'\n",
       "     nfev: 10\n",
       "      nit: 3\n",
       "     njev: 5\n",
       "   status: 0\n",
       "  success: True\n",
       "        x: array([2.26106176])"
      ]
     },
     "execution_count": 10,
     "metadata": {},
     "output_type": "execute_result"
    }
   ],
   "source": [
    "minimize(h, 2)"
   ]
  },
  {
   "cell_type": "markdown",
   "id": "35ce3092",
   "metadata": {
    "id": "oemdtERFdsgn"
   },
   "source": [
    "and this guess finds the one near 4.5"
   ]
  },
  {
   "cell_type": "code",
   "execution_count": 11,
   "id": "1f046e02",
   "metadata": {
    "id": "n_kVCMogdsgn",
    "outputId": "c03629c7-342b-413c-86e3-fe2bf48334fb"
   },
   "outputs": [
    {
     "data": {
      "text/plain": [
       "      fun: 1.4758979742813338\n",
       " hess_inv: array([[0.94727416]])\n",
       "      jac: array([-9.08970833e-07])\n",
       "  message: 'Optimization terminated successfully.'\n",
       "     nfev: 14\n",
       "      nit: 5\n",
       "     njev: 7\n",
       "   status: 0\n",
       "  success: True\n",
       "        x: array([4.35545601])"
      ]
     },
     "execution_count": 11,
     "metadata": {},
     "output_type": "execute_result"
    }
   ],
   "source": [
    "minimize(h, 4)"
   ]
  },
  {
   "cell_type": "markdown",
   "id": "d542ffe1",
   "metadata": {
    "id": "iof-cVlKdsgn"
   },
   "source": [
    "You have to decide which one is better for the problem at hand. If this were a cost function, the one at the lower cost is probably better! Note that all we can say here is which one is lower in the interval we are looking at. By inspection of the function, you can see it will be periodic, so there will be many other minima that also exist."
   ]
  },
  {
   "cell_type": "markdown",
   "id": "254376cf",
   "metadata": {
    "id": "KDFDbY0Adsgn"
   },
   "source": [
    "### Finding maxima"
   ]
  },
  {
   "cell_type": "markdown",
   "id": "83cca957",
   "metadata": {
    "id": "fx2z_UFcdsgn"
   },
   "source": [
    "`fmin` is for finding *minima*. We can use it to find maxima though, but finding the *minima* of $-f(x)$. You can see here that when we plot $-h(x)$ the minima become maxima, and vice-versa. Now you can see there are two definite minima, one near zero, and one near 3.5, which correspond to the maxima of $h(x)$."
   ]
  },
  {
   "cell_type": "code",
   "execution_count": 12,
   "id": "f0cf9439",
   "metadata": {
    "id": "8dZFxsEidsgn",
    "outputId": "51d00a2a-7373-4f18-a8ef-1b875316cf83"
   },
   "outputs": [
    {
     "data": {
      "text/plain": [
       "Text(0, 0.5, '-h(x)')"
      ]
     },
     "execution_count": 12,
     "metadata": {},
     "output_type": "execute_result"
    },
    {
     "data": {
      "image/png": "[encoded data removed]",
      "text/plain": [
       "<Figure size 432x288 with 1 Axes>"
      ]
     },
     "metadata": {
      "filenames": {
       "image/png": "/__w/F22-06-325/F22-06-325/f22-06-325/_build/jupyter_execute/review_optimization_34_1.png"
      },
      "needs_background": "light"
     },
     "output_type": "display_data"
    }
   ],
   "source": [
    "plt.plot(x, -h(x))\n",
    "plt.xlabel('x')\n",
    "plt.ylabel('-h(x)')"
   ]
  },
  {
   "cell_type": "markdown",
   "id": "6ee41990",
   "metadata": {
    "id": "1QXm-JUzdsgn"
   },
   "source": [
    "The standard way to use fmin is to define an optional argument for the sign that defaults to one. Then, when we call fmin, we will pass -1 as the sign to the function, so we find the minimum of -h(x). Then, we evaluate h(x) at that x-value to get the actual value of the maximum. It is not necessary do this, you can also manually pass around the sign and try to keep it straight.\n",
    "\n",
    "Here is an example to find the maximum near 3.5."
   ]
  },
  {
   "cell_type": "code",
   "execution_count": 13,
   "id": "8ed5b903",
   "metadata": {
    "id": "XlR0j1Drdsgn",
    "outputId": "3a96db79-cb3e-4d08-a198-8516940dbbea"
   },
   "outputs": [
    {
     "name": "stdout",
     "output_type": "stream",
     "text": [
      "[1.56120872]\n"
     ]
    },
    {
     "data": {
      "text/plain": [
       "Text(0, 0.5, 'h(x)')"
      ]
     },
     "execution_count": 13,
     "metadata": {},
     "output_type": "execute_result"
    },
    {
     "data": {
      "image/png": "[encoded data removed]",
      "text/plain": [
       "<Figure size 432x288 with 1 Axes>"
      ]
     },
     "metadata": {
      "filenames": {
       "image/png": "/__w/F22-06-325/F22-06-325/f22-06-325/_build/jupyter_execute/review_optimization_36_2.png"
      },
      "needs_background": "light"
     },
     "output_type": "display_data"
    }
   ],
   "source": [
    "def h(x, sign=1):\n",
    "    return sign * (2 + np.cos(x) + np.cos(2*x - 0.5) / 2)\n",
    "\n",
    "sol = minimize(h, 3.5, args=(-1,))  # set sign=-1 here to minimize -h(x)\n",
    "print(h(sol.x))  # sign defaults to 1 here, so we get the maximum value\n",
    "\n",
    "plt.plot(x, h(x))\n",
    "plt.plot(sol.x, h(sol.x), 'ro')\n",
    "plt.xlabel('x')\n",
    "plt.ylabel('h(x)')"
   ]
  },
  {
   "cell_type": "markdown",
   "id": "c8de962c",
   "metadata": {
    "id": "IHKDpXeedsgn"
   },
   "source": [
    "Once again, here you have to decide which maximum is relevant"
   ]
  },
  {
   "cell_type": "markdown",
   "id": "b2a8f17a",
   "metadata": {
    "id": "gXyE36TCdsgn"
   },
   "source": [
    "### Application to maximizing profit in a PFR"
   ]
  },
  {
   "cell_type": "markdown",
   "id": "54780980",
   "metadata": {
    "id": "JAYePfYNdsgo"
   },
   "source": [
    "Compound X with concentration of $C_{X0} = 2.5$ kmol / m<sup>3</sup> at a flow rate of 12 m<sup>3</sup>/min is converted to Y in a first order reaction with a rate constant of 30 1/min in a tubular reactor. The value of Y is $1.5/kmol. The cost of operation is $2.50 per minute per m<sup>3</sup>. Find the reactor length that maximizes the profit (profit is value of products minus operating costs).\n",
    "\n",
    "First, consider why there is a maximum. At low volumes the operating cost is low, and the production of Y is low. At high volumes, you maximize production of Y, so you have the most value, but the operating costs go up (to infinity for complete conversion!). Somewhere in the middle is where a maximum is.\n",
    "\n",
    "Here are some relevant constants."
   ]
  },
  {
   "cell_type": "code",
   "execution_count": 14,
   "id": "a7ae072c",
   "metadata": {
    "id": "H88WBDpUdsgo",
    "outputId": "a7fd9f66-aadf-4900-bc4f-75e4df39d7f6"
   },
   "outputs": [],
   "source": [
    "cost = 2.5  # dollar/min/m**3\n",
    "y_value  = 1.5 # dollar / mol\n",
    "\n",
    "Cx0 = 2.5 # kmol / m**3\n",
    "v0 = 12.0 # m**3 / min\n",
    "\n",
    "k = 30.0 # 1/min"
   ]
  },
  {
   "cell_type": "markdown",
   "id": "81180894",
   "metadata": {
    "id": "x_JosbU-dsgo"
   },
   "source": [
    "To compute the profit as a function of reactor volume, we need to compute how much Y is produced, then multiply that by the value of Y and subtract the operating cost. To compute how much Y is produced, we use a mole balance on X and Y, and integrate it to the volume to get the molar flows of X and Y. I like to write mole balances like this."
   ]
  },
  {
   "cell_type": "code",
   "execution_count": 15,
   "id": "1da5f404",
   "metadata": {
    "id": "8NLNbeUqdsgo",
    "outputId": "70cc0c2a-8183-443e-cb93-74ef2b20208c"
   },
   "outputs": [],
   "source": [
    "def dFdV(V, F):\n",
    "    'PFR mole balances on X and Y.'\n",
    "    Fx, Fy = F\n",
    "    Cx = Fx / v0\n",
    "    rx = -k * Cx\n",
    "    ry = -rx\n",
    "\n",
    "    dFdX = rx\n",
    "    dFdY = ry\n",
    "    return [dFdX, dFdY]\n",
    "\n",
    "F0 = [Cx0 * v0,  # Fx0\n",
    "      0.0]       # Fy0"
   ]
  },
  {
   "cell_type": "markdown",
   "id": "4484385d",
   "metadata": {
    "id": "v-7ZZ8eDdsgo"
   },
   "source": [
    "Now, we can write a profit function. It will take a V as the argument, integrate the PFR to that volume to find the molar exit flow rates, and then compute the profit."
   ]
  },
  {
   "cell_type": "code",
   "execution_count": 16,
   "id": "1533b5fc",
   "metadata": {
    "id": "qlEnO4Vgdsgo",
    "outputId": "ff04a2d2-d8c6-4905-f8ab-8a93185830e0"
   },
   "outputs": [],
   "source": [
    "import numpy as np\n",
    "from scipy.integrate import solve_ivp\n",
    "\n",
    "def profit(V, sign=1):\n",
    "    Vspan = (0, V)\n",
    "    sol = solve_ivp(dFdV, Vspan, F0)\n",
    "    Fx, Fy = sol.y\n",
    "    Fy_exit = Fy[-1]\n",
    "    return sign * (Fy_exit * y_value - cost * V)"
   ]
  },
  {
   "cell_type": "markdown",
   "id": "1f4508af",
   "metadata": {
    "id": "Gc71GFovdsgo"
   },
   "source": [
    "It is always a good idea to plot the profit function. We use a list comprehension here because the profit function is not *vectorized*, which means we cannot pass an array of volumes in and get an array of profits out."
   ]
  },
  {
   "cell_type": "code",
   "execution_count": 17,
   "id": "3629dcc1",
   "metadata": {
    "id": "QwHc7MRYdsgo",
    "outputId": "056c0d2a-e4af-4625-abd6-37da6dee0028"
   },
   "outputs": [
    {
     "data": {
      "text/plain": [
       "Text(0, 0.5, 'profit')"
      ]
     },
     "execution_count": 17,
     "metadata": {},
     "output_type": "execute_result"
    },
    {
     "data": {
      "image/png": "[encoded data removed]",
      "text/plain": [
       "<Figure size 432x288 with 1 Axes>"
      ]
     },
     "metadata": {
      "filenames": {
       "image/png": "/__w/F22-06-325/F22-06-325/f22-06-325/_build/jupyter_execute/review_optimization_46_1.png"
      },
      "needs_background": "light"
     },
     "output_type": "display_data"
    }
   ],
   "source": [
    "Vspan = np.linspace(0, 4)\n",
    "profit_array = [profit(V) for V in Vspan]\n",
    "\n",
    "import matplotlib.pyplot as plt\n",
    "plt.plot(Vspan, profit_array)\n",
    "plt.xlabel('V')\n",
    "plt.ylabel('profit')"
   ]
  },
  {
   "cell_type": "markdown",
   "id": "e82cd9e1",
   "metadata": {
    "id": "VRHIDvV9dsgo"
   },
   "source": [
    "You can see from this plot there is a maximum near V=1.5. We can use that as a guess for fmin."
   ]
  },
  {
   "cell_type": "code",
   "execution_count": 18,
   "id": "11fff96b",
   "metadata": {
    "id": "BbOkzYrhdsgo",
    "outputId": "501165f5-fb45-4464-8c9f-7dfbfd64d8a7"
   },
   "outputs": [
    {
     "name": "stdout",
     "output_type": "stream",
     "text": [
      "The optimal volume is 1.52 m^3 with a profit of $40.19.\n"
     ]
    }
   ],
   "source": [
    "from scipy.optimize import fmin\n",
    "sol = minimize(profit, 1.5, args=(-1,))\n",
    "\n",
    "print(f'The optimal volume is {sol.x[0]:1.2f} m^3 with a profit of ${profit(sol.x[0]):1.2f}.')"
   ]
  },
  {
   "cell_type": "markdown",
   "id": "9d50cb19",
   "metadata": {
    "id": "a3QJdbUxdsgo"
   },
   "source": [
    "This problem highlights the opportunities we have to integrate many ideas together to solve complex problems. We have integration of an ODE, nonlinear algebra/minimization, with graphical estimates of the solution.\n",
    "\n",
    "**Practice** Can you solve this with an event and solve\\_ivp?"
   ]
  },
  {
   "cell_type": "markdown",
   "id": "0c989f64",
   "metadata": {
    "id": "oDcqY0qadsgo"
   },
   "source": [
    "## Summary"
   ]
  },
  {
   "cell_type": "markdown",
   "id": "f47f6ae9",
   "metadata": {
    "id": "NMnoULwydsgp"
   },
   "source": [
    "Today we introduced the concept of finding minima/maxima in functions. This is an iterative process, much like finding the roots of a nonlinear function. You can think of it as finding the zeros of the derivative of a nonlinear function! This method is the root of many important optimization problems including regression.\n",
    "\n",
    "`scipy.optimize.minimize` is the preferred function for doing minimization. There are other more specific ones described at [https://docs.scipy.org/doc/scipy/reference/optimize.html](https://docs.scipy.org/doc/scipy/reference/optimize.html), but `minimize` has a more consistent interface and provides almost all the functionality of those other methods.\n",
    "\n",
    "Next time, we will look at how to apply minimization to regression problems."
   ]
  },
  {
   "cell_type": "code",
   "execution_count": null,
   "id": "2ca4436c",
   "metadata": {},
   "outputs": [],
   "source": []
  }
 ],
 "metadata": {
  "jupytext": {
   "formats": "md:myst,ipynb",
   "text_representation": {
    "extension": ".md",
    "format_name": "myst",
    "format_version": 0.13,
    "jupytext_version": "1.14.0"
   }
  },
  "kernelspec": {
   "display_name": "Python 3 (ipykernel)",
   "language": "python",
   "name": "python3"
  },
  "language_info": {
   "codemirror_mode": {
    "name": "ipython",
    "version": 3
   },
   "file_extension": ".py",
   "mimetype": "text/x-python",
   "name": "python",
   "nbconvert_exporter": "python",
   "pygments_lexer": "ipython3",
   "version": "3.9.13"
  },
  "source_map": [
   13,
   19,
   36,
   40,
   46,
   62,
   66,
   76,
   92,
   96,
   104,
   115,
   121,
   133,
   137,
   141,
   155,
   178,
   184,
   188,
   196,
   200,
   212,
   226,
   230,
   234,
   238,
   252,
   256,
   263,
   267,
   274,
   278,
   282,
   286,
   295,
   301,
   317,
   321,
   325,
   333,
   346,
   350,
   369,
   373,
   388,
   392,
   405,
   409,
   419,
   425,
   429,
   437
  ]
 },
 "nbformat": 4,
 "nbformat_minor": 5
}