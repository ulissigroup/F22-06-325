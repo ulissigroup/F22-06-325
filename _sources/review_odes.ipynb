{
 "cells": [
  {
   "cell_type": "markdown",
   "id": "8f48ec11",
   "metadata": {},
   "source": [
    "```{sidebar} Adaptation!\n",
    "This work was adapted from lecture notes in John Kitchin's excellent 06-623 course! His lecture notes are included in the helpful resources link if you want to know more details about how numericals work.\n",
    "```"
   ]
  },
  {
   "cell_type": "markdown",
   "id": "b24a2483",
   "metadata": {},
   "source": [
    "# Numerical ODE Integration (with Events!)\n",
    "\n",
    "\n",
    "`````{note}\n",
    "This lecture is going to:\n",
    "* Quickly review how scipy.integrate.solve_ivp works\n",
    "* Practice coding up a system of differential equations we covered extensively in 06-262\n",
    "* Introduce how events works during ODE integrations (useful for future courses!)\n",
    "* Demonstrate events for a more complicated non-linear higher order differential equation\n",
    "\n",
    "Along the way, we will:\n",
    "* Get used to the JupyterLab environment and the structure of the course notes\n",
    "* Practice plotting in matplotlib\n",
    "````\n",
    "\n",
    "+++ {\"id\": \"sYhjkqf6WKfe\", \"tags\": []}\n",
    "\n",
    "## Review of scipy.integrate.solve_ivp\n",
    "\n",
    "\n",
    "+++\n",
    "\n",
    "For concreteness, consider:\n",
    "\n",
    "$y' = y + 2x - x^2; y(0) = 1$.\n",
    "\n",
    "This ODE has a known analytical solution: $y(x) = x^2 + e^x$. We will use this for comparison.\n",
    "\n",
    "+++ {\"id\": \"2kQMFOMGWKfe\"}\n",
    "\n",
    "The `scipy.integrate` library provides `solve_ivp` to solve first order differential equations. It is not the only one available, but this function is recommended. You import the function like this:\n",
    "\n",
    "\n",
    "```{code-cell} ipython3\n",
    ":id: Xz9BVvtwWKfe\n",
    ":outputId: 520d4171-f524-402b-e09e-1e3d9d67cff2\n",
    "\n",
    "from scipy.integrate import solve_ivp\n",
    "import numpy as np\n",
    "```\n",
    "\n",
    "+++ {\"id\": \"nx24SM4zWKfe\"}\n",
    "\n",
    "Here is a minimal use of the function, with keyword arguments.\n",
    "\n",
    "`y0` is an array containing the initial values.  `fun` is a function with a signature of f(t, y). Here, $t$ is considered the independent variable. You can call it whatever you want, so f(x, y) is also fine. Since `solve_ivp` had $t$ in mind, the second argument is the `t_span`, which is a tuple of two numbers for where the integration starts (t0, or x0) and where it ends.  `solve_ivp` returns an object.\n",
    "\n",
    "```{code-cell} ipython3\n",
    ":id: XaEuU1aKWKfe\n",
    ":outputId: a4213a09-30c6-4de3-a694-1c5c2b0d7541\n",
    "\n",
    "def f(x, y):\n",
    "    return y + 2 * x - x**2\n",
    "\n",
    "x0 = 0\n",
    "y0 = np.array([1]) # It is a good idea to make y0 an array. It will be important later.\n",
    "\n",
    "sol = solve_ivp(fun=f, t_span=(x0, 1.5), y0=y0)\n",
    "```\n",
    "\n",
    "+++ {\"id\": \"QctFd6OnWKfe\"}\n",
    "\n",
    "The output of `solve_ip` is an object containing results in attributes on the object.\n",
    "\n",
    "\n",
    "```{code-cell} ipython3\n",
    ":id: _OTEtvMPWKfe\n",
    ":outputId: c4843f44-dac4-4f8a-813d-ee14a7511bec\n",
    "\n",
    "sol\n",
    "```\n",
    "\n",
    "+++ {\"id\": \"KvCfBovWWKfe\"}\n",
    "\n",
    "You should look for a few things here. One is that the message indicates success. Second, we access the solution using dot notation. Here are the independent variable values the solution was evaluated at.\n",
    "\n",
    "\n",
    "```{code-cell} ipython3\n",
    ":id: T1_CmSeDWKfe\n",
    ":outputId: 59707552-1299-44d4-ec0e-e62498357449\n",
    "\n",
    "sol.t\n",
    "```\n",
    "\n",
    "+++ {\"id\": \"OEHyy77MWKff\"}\n",
    "\n",
    "Third, the solution is in a 2D array. We only have one equation here, so we use indexing to get the first row as an array.\n",
    "\n",
    "\n",
    "```{code-cell} ipython3\n",
    ":id: e3h4ETeYWKff\n",
    ":outputId: 3f8f4c57-6fd9-4f03-af0a-b249e8c0423c\n",
    "\n",
    "sol.y[0]\n",
    "```\n",
    "\n",
    "+++ {\"id\": \"3_yOmHaCWKff\"}\n",
    "\n",
    "Now, we can plot the solution.\n",
    "\n",
    "\n",
    "```{code-cell} ipython3\n",
    ":id: eyYJt5_3WKff\n",
    ":outputId: 366b0dad-8ac6-4da2-bfb5-0d2b5760cee1\n",
    "\n",
    "import matplotlib.pyplot as plt\n",
    "\n",
    "plt.plot(sol.t, sol.y[0], label='solve_ivp')\n",
    "plt.plot(sol.t, sol.t**2 + np.exp(sol.t), 'r--', label='Analytical')\n",
    "plt.xlabel('x')\n",
    "plt.ylabel('y')\n",
    "plt.legend()\n",
    "```\n",
    "\n",
    "+++ {\"id\": \"ITfM0WarWKff\"}\n",
    "\n",
    "That doesn't looks so great since there are only four data points. By default, the algorithm only uses as many points as it needs to achieve a specified tolerance. We can specify that we want the solution evaluated at other points using the optional `t_eval` keyword arg.\n",
    "\n",
    "\n",
    "```{code-cell} ipython3\n",
    ":id: 2gwGvLyZWKff\n",
    ":outputId: 15c72153-762f-4480-cb58-ceae772c22e3\n",
    "\n",
    "X = np.linspace(x0, 1.5)\n",
    "sol = solve_ivp(fun=f, t_span=(x0, 1.5), y0=y0, t_eval=X)\n",
    "sol\n",
    "```\n",
    "\n",
    "```{code-cell} ipython3\n",
    ":id: yLoasFoAWKff\n",
    ":outputId: 38201a92-33e4-4dff-e57b-f9f929bf0c64\n",
    "\n",
    "plt.plot(sol.t, sol.y[0], label='solve_ivp')\n",
    "plt.plot(X, X**2 + np.exp(X), 'r--', label='Analytical')\n",
    "plt.xlabel('x')\n",
    "plt.ylabel('y')\n",
    "plt.legend()\n",
    "```\n",
    "\n",
    "`````{tip} Ask yourself these questions when solving ODE's\n",
    "* Is my problem coupled or not? Higher order or not?\n",
    "* Is my problem stiff? Should I use a special solver?\n",
    "* Is there anything I can infer about the solution from the differential euqations?\n",
    "* How many steady states do I expect? \n",
    "* How would I know if I made a mistake?\n",
    "`````"
   ]
  },
  {
   "cell_type": "markdown",
   "id": "e10fbfe5",
   "metadata": {
    "jp-MarkdownHeadingCollapsed": true,
    "tags": []
   },
   "source": [
    "## Practice: Lottka-Coltera  Review of Solving ODEs with Scipy!"
   ]
  },
  {
   "cell_type": "markdown",
   "id": "3f968e31",
   "metadata": {},
   "source": [
    "As a quick recap of where we left off in 06-262, let's start with an example we spent a lot of time covering, Lottka Volterra (rabbit/wolf) example.\n",
    "\n",
    "We are interested in how the two populations of species (Rabbits and wolves) might change over time. \n",
    "\n",
    "* Rabbits are $x(t)$, wolves are $y(t)$\n",
    "* The rate of rabbits being eaten by wolves is proportional to both ($\\beta xy$)\n",
    "* Rabbits reproduce on their own at a rate proportional to the number of rabbits, and rabbits are eaten by wolves at a rate proportional to the number of rabbits and wolves $$\\frac{dx}{dt}=\\alpha x-\\beta xy$$ where $\\alpha$ and $\\beta$ are constants.\n",
    "* Wolves are able to reproduce at a rate proportional to the number of wolves and rabbits (how quickly rabbits are being eaten) and die at a rate proportional to the number of wolves (sickness/injury/etc) $$\\frac{dy}{dt}=\\delta xy-\\gamma y$$\n",
    "\n",
    "Let's say we start with 1 rabbit and 5 wolves, and the constants are \n",
    "* $\\alpha=1 $[1/day]\n",
    "* $\\beta=0.2$ [1/wolves/day]\n",
    "* $\\delta=0.5$ [1/rabbits/day]\n",
    "* $\\gamma=0.2$ [1/day]\n",
    "\n",
    "Solve for and plot the population of rabbits and wolves over the first 20 days.\n",
    "\n",
    "\n",
    "Let's take 10 minutes to warm up and try coding this up in python using (scipy)"
   ]
  },
  {
   "cell_type": "code",
   "execution_count": null,
   "id": "b38c9f9b",
   "metadata": {},
   "outputs": [],
   "source": []
  },
  {
   "cell_type": "markdown",
   "id": "8f18da71",
   "metadata": {
    "jp-MarkdownHeadingCollapsed": true,
    "tags": []
   },
   "source": [
    "## Using events during ODE integration"
   ]
  },
  {
   "cell_type": "markdown",
   "id": "3c280c35",
   "metadata": {
    "id": "tIOg0zliWKff",
    "jp-MarkdownHeadingCollapsed": true,
    "tags": []
   },
   "source": [
    "So far, `solve_ivp` solves the issues with item 1 (we did not have to code the algorithm), and items 2 and 3 (it uses an adaptive step and converges to a tolerance for us). It will also help us solve for the inverse problem, i.e. for what value of $x$ is $y=4$?\n",
    "\n",
    "To do this, we need a new concept of an \"event function\". During each step of the integration, you can run a function that can detect an \"event\". When an event is detected, the location of the event is stored, and if desired integration can be terminated. `solve_ivp` can take a list of event functions. We consider only one for now.\n",
    "\n",
    "An event occurs when an event function is equal to zero. During integration, if the event function changes sign, then it is clear an event has occurred, and the algorithm determines where it occurred. Since we want to know when $y=4$, we will define a function that returns $y - 4$, because that will equal zero at that condition. We want the integration to terminate when that happens, so we set the \"terminal\" attribute on our function to True.\n",
    "\n",
    "An event function has a signature of f(x, y). Remember that $y$ is going to be an array,"
   ]
  },
  {
   "cell_type": "code",
   "execution_count": 1,
   "id": "ea910e77",
   "metadata": {
    "id": "a73bQ1u-WKff",
    "outputId": "5c4d2b64-1e99-4150-c0ba-cb8aace0e930"
   },
   "outputs": [
    {
     "ename": "NameError",
     "evalue": "name 'solve_ivp' is not defined",
     "output_type": "error",
     "traceback": [
      "\u001b[0;31m---------------------------------------------------------------------------\u001b[0m",
      "\u001b[0;31mNameError\u001b[0m                                 Traceback (most recent call last)",
      "Input \u001b[0;32mIn [1]\u001b[0m, in \u001b[0;36m<cell line: 6>\u001b[0;34m()\u001b[0m\n\u001b[1;32m      2\u001b[0m     \u001b[38;5;28;01mreturn\u001b[39;00m y[\u001b[38;5;241m0\u001b[39m] \u001b[38;5;241m-\u001b[39m \u001b[38;5;241m4\u001b[39m\n\u001b[1;32m      4\u001b[0m event1\u001b[38;5;241m.\u001b[39mterminal \u001b[38;5;241m=\u001b[39m \u001b[38;5;28;01mTrue\u001b[39;00m\n\u001b[0;32m----> 6\u001b[0m sol \u001b[38;5;241m=\u001b[39m \u001b[43msolve_ivp\u001b[49m(fun\u001b[38;5;241m=\u001b[39mf, t_span\u001b[38;5;241m=\u001b[39m(x0, \u001b[38;5;241m1.5\u001b[39m), y0\u001b[38;5;241m=\u001b[39my0, events\u001b[38;5;241m=\u001b[39mevent1)\n\u001b[1;32m      7\u001b[0m sol\n",
      "\u001b[0;31mNameError\u001b[0m: name 'solve_ivp' is not defined"
     ]
    }
   ],
   "source": [
    "def event1(x, y):\n",
    "    return y[0] - 4\n",
    "\n",
    "event1.terminal = True\n",
    "\n",
    "sol = solve_ivp(fun=f, t_span=(x0, 1.5), y0=y0, events=event1)\n",
    "sol"
   ]
  },
  {
   "cell_type": "markdown",
   "id": "7efe39c2",
   "metadata": {
    "id": "QDJKunnLWKff"
   },
   "source": [
    "Now, there are a couple of new things to note. First, we got a message that a termination event occurred. Second, the sol.y array ends at 4.0, because we made the event function *terminal*. Next, sol.t\\_events is not empty, because an event occurred. It now contains the value where the event occurred, which is where $y=4$!"
   ]
  },
  {
   "cell_type": "code",
   "execution_count": null,
   "id": "f6ea9885",
   "metadata": {
    "id": "vLo7rh2xWKff",
    "outputId": "4d724dd4-36cd-44ab-abf6-61e5a1875d5a"
   },
   "outputs": [],
   "source": [
    "sol.t_events[0]"
   ]
  },
  {
   "cell_type": "code",
   "execution_count": null,
   "id": "7b9def78",
   "metadata": {
    "id": "lbCHFLZ5WKfg",
    "outputId": "cf6c60bd-cc85-4c9e-d50c-08662ff9abd3"
   },
   "outputs": [],
   "source": [
    "sol.t"
   ]
  },
  {
   "cell_type": "code",
   "execution_count": null,
   "id": "c3573b15",
   "metadata": {
    "id": "86jVTFLhWKfg",
    "outputId": "73f7e7d5-a93e-4ac7-bee8-b7ccc07f733b"
   },
   "outputs": [],
   "source": [
    "print(f'y=4 at x={sol.t[-1]}. Confirming: y = {sol.t[-1]**2 + np.exp(sol.t[-1])}')"
   ]
  },
  {
   "cell_type": "markdown",
   "id": "16ca40ba",
   "metadata": {
    "id": "kr30mSOyWKfg"
   },
   "source": [
    "That is pretty close. You have to decide if it is close enough for the purpose you want. You can control the tolerance with optional `atol` and `rtol` keywords. You should read the documentation before changing this."
   ]
  },
  {
   "cell_type": "code",
   "execution_count": null,
   "id": "7abcc716",
   "metadata": {
    "id": "ff4DU35uWKfg",
    "outputId": "12a96530-72f8-42f2-d796-bc0144495d24"
   },
   "outputs": [],
   "source": [
    "def event1(x, y):\n",
    "    return y[0] - 4\n",
    "\n",
    "event1.terminal = True\n",
    "\n",
    "sol = solve_ivp(fun=f, t_span=(x0, 1.5), y0=y0, events=event1, rtol=1e-9)\n",
    "sol\n",
    "sol.t[-1]**2 + np.exp(sol.t[-1])"
   ]
  },
  {
   "cell_type": "markdown",
   "id": "53d0e0cd",
   "metadata": {
    "id": "mJnRxC7iI5UF",
    "jp-MarkdownHeadingCollapsed": true,
    "tags": []
   },
   "source": [
    "## More complicated example: Van der Pol oscillator"
   ]
  },
  {
   "cell_type": "markdown",
   "id": "4aacc5be",
   "metadata": {
    "id": "9qgQVg-OI5UH"
   },
   "source": [
    "So far we have focused on computational solutions to first order differential equations, including systems of first order differential equations. The reason for that is simply that all numerical integration strategies only work with the first derivative.\n",
    "\n",
    "Many differential equations involve higher order derivatives though. We can solve these by converting them to systems of first-order differential equations through a series of variable changes.\n",
    "\n",
    "Let's consider the [Van der Pol oscillator](https://en.wikipedia.org/wiki/Van_der_Pol_oscillator).\n",
    "\n",
    "$\\frac{d^2x}{dt^2} - \\mu(1-x^2)\\frac{dx}{dt} + x = 0$\n",
    "\n",
    "We define a new variable: $v = x'$, and then have $v' = x''$.\n",
    "\n",
    "That leads to a set of equivalent first-order differential equations:\n",
    "\n",
    "$x' = v$\n",
    "\n",
    "$v' - \\mu (1-x^2)v + x = 0$\n",
    "\n",
    "You can still think of $x$ as the position of the oscillator, and $y$ as the velocity of the oscillator. Now, we can integrate these equations from some initial condition.\n",
    "\n",
    "Let's do this and plot the position and velocity of the oscillator. Rather than use `t_eval`, we will instead set the optional argument `max_step` to tell the solver how often it should make a step.\n",
    "\n",
    "This is different than using `t_eval`, which uses interpolation *after* the solution has been found to evaluate the solution. This will become important later when we use events, which are only evaluated at the *solver* points."
   ]
  },
  {
   "cell_type": "code",
   "execution_count": null,
   "id": "acb4a719",
   "metadata": {
    "colab": {
     "base_uri": "https://localhost:8080/"
    },
    "executionInfo": {
     "elapsed": 194,
     "status": "ok",
     "timestamp": 1631795105482,
     "user": {
      "displayName": "John Kitchin",
      "photoUrl": "https://lh3.googleusercontent.com/a/default-user=s64",
      "userId": "14782011281593705406"
     },
     "user_tz": 240
    },
    "id": "yyrECic4I5UI",
    "outputId": "b30eb639-b85d-475a-e847-12fc39851bb3"
   },
   "outputs": [],
   "source": [
    "import numpy as np\n",
    "from scipy.integrate import solve_ivp\n",
    "\n",
    "mu = 0.2\n",
    "\n",
    "\n",
    "def dXdt(t, X):\n",
    "    x, v = X\n",
    "    dxdt = v\n",
    "    dvdt = mu * (1 - x**2) * v - x\n",
    "    return np.array([dxdt, dvdt])\n",
    "\n",
    "\n",
    "X0 = np.array((1, 2))  # you can pick any x0, and v0 you want.\n",
    "tspan = np.array((0, 40))\n",
    "\n",
    "dXdt(0, X0)"
   ]
  },
  {
   "cell_type": "code",
   "execution_count": null,
   "id": "62030dc5",
   "metadata": {
    "colab": {
     "base_uri": "https://localhost:8080/"
    },
    "executionInfo": {
     "elapsed": 137,
     "status": "ok",
     "timestamp": 1631795106455,
     "user": {
      "displayName": "John Kitchin",
      "photoUrl": "https://lh3.googleusercontent.com/a/default-user=s64",
      "userId": "14782011281593705406"
     },
     "user_tz": 240
    },
    "id": "TXZoCS_z9qAS",
    "outputId": "f5a93ece-08b3-4073-db06-6423d88def02"
   },
   "outputs": [],
   "source": [
    "teval, h = np.linspace(*tspan, 500, retstep=True)\n",
    "\n",
    "sol = solve_ivp(dXdt, tspan, X0, max_step=h)\n",
    "sol.message, sol.success, sol.y.T.shape"
   ]
  },
  {
   "cell_type": "markdown",
   "id": "d712db17",
   "metadata": {
    "id": "oR6BcTJ8I5US"
   },
   "source": [
    "Now, we can plot the solutions."
   ]
  },
  {
   "cell_type": "code",
   "execution_count": null,
   "id": "9991e0e3",
   "metadata": {
    "colab": {
     "base_uri": "https://localhost:8080/",
     "height": 279
    },
    "executionInfo": {
     "elapsed": 419,
     "status": "ok",
     "timestamp": 1631795107931,
     "user": {
      "displayName": "John Kitchin",
      "photoUrl": "https://lh3.googleusercontent.com/a/default-user=s64",
      "userId": "14782011281593705406"
     },
     "user_tz": 240
    },
    "id": "p3elVIq_I5UT",
    "outputId": "ea6feb21-3b60-4c42-fde0-f15fa9d0430f"
   },
   "outputs": [],
   "source": [
    "import matplotlib.pyplot as plt\n",
    "\n",
    "plt.plot(sol.t, sol.y.T)\n",
    "plt.xlabel(\"t\")\n",
    "plt.ylabel(\"x,v\")\n",
    "plt.legend([\"x\", \"v\"]);"
   ]
  },
  {
   "cell_type": "markdown",
   "id": "f860b3ef",
   "metadata": {
    "id": "7aSzbBrkI5Ua"
   },
   "source": [
    "You can see that the solution appears oscillatory. Let's be more quantitative than what it *looks* like. An alternative way to visualize this solution is called the phase portrait where we plot the two state variables (x, v) against each other. We include the starting point for visualization."
   ]
  },
  {
   "cell_type": "code",
   "execution_count": null,
   "id": "fa673939",
   "metadata": {
    "colab": {
     "base_uri": "https://localhost:8080/",
     "height": 279
    },
    "executionInfo": {
     "elapsed": 324,
     "status": "ok",
     "timestamp": 1631795185365,
     "user": {
      "displayName": "John Kitchin",
      "photoUrl": "https://lh3.googleusercontent.com/a/default-user=s64",
      "userId": "14782011281593705406"
     },
     "user_tz": 240
    },
    "id": "P49UZdKjI5Ub",
    "outputId": "5ccdc373-b74f-480a-add0-8ac16e29fba3"
   },
   "outputs": [],
   "source": [
    "plt.plot(*sol.y)  # unpack the first row into x and second row into the y\n",
    "# equivalent to plt.plot(sol.y[0], sol.y[1])\n",
    "plt.plot(*sol.y[:, 0], \"go\")  # starting point\n",
    "plt.xlabel(\"x\")\n",
    "plt.ylabel(\"v\")\n",
    "plt.axis(\"equal\");"
   ]
  },
  {
   "cell_type": "markdown",
   "id": "791d6d67",
   "metadata": {
    "id": "xacH7-h9I5Uh"
   },
   "source": [
    "So, evidently it is not exactly periodic in the beginning, but seems to take some time to settle down into a periodic rhythm. That seems to be the case, because if it didn't we would expect to see a continued spiral in or out of this limit cycle. Another way we can assess this quantitatively is to look at the peak positions in our solution. We return to an event type of solution. We seek an event where the derivative $dx/dt=0$, and it is a maximum, which means $x'$ starts positive, becomes zero, and then is negative. Note this is appropriate for this problem, where there is only one, periodic maximum. For other problems, you might need a different approach.\n",
    "\n",
    "Now, it is important to remember that the event function is only evaluated after a solver point, so we need to make sure the solver points bracket where events occur. This is accomplished by making sure that when we graph the solution from the solver (not from t_eval), that we can visually see where the events will occur."
   ]
  },
  {
   "cell_type": "code",
   "execution_count": null,
   "id": "081f84c2",
   "metadata": {
    "colab": {
     "base_uri": "https://localhost:8080/"
    },
    "executionInfo": {
     "elapsed": 140,
     "status": "ok",
     "timestamp": 1631795784541,
     "user": {
      "displayName": "John Kitchin",
      "photoUrl": "https://lh3.googleusercontent.com/a/default-user=s64",
      "userId": "14782011281593705406"
     },
     "user_tz": 240
    },
    "id": "zR0IFJnlI5Ui",
    "outputId": "bc4f88b0-3980-49b7-f2a9-0024643e2747"
   },
   "outputs": [],
   "source": [
    "def max_x_event(t, X):\n",
    "    Xprime = dXdt(t, X)\n",
    "    return Xprime[0]  # first derivative, dx/dt = 0\n",
    "\n",
    "\n",
    "max_x_event.direction = -1  # event must go from positive to negative, i.e. a max\n",
    "\n",
    "sol = solve_ivp(dXdt, tspan, X0, max_step=h, events=max_x_event)\n",
    "print(sol.message)\n",
    "sol.t_events[0]"
   ]
  },
  {
   "cell_type": "code",
   "execution_count": null,
   "id": "9ee3f039",
   "metadata": {
    "colab": {
     "base_uri": "https://localhost:8080/"
    },
    "executionInfo": {
     "elapsed": 149,
     "status": "ok",
     "timestamp": 1631795786589,
     "user": {
      "displayName": "John Kitchin",
      "photoUrl": "https://lh3.googleusercontent.com/a/default-user=s64",
      "userId": "14782011281593705406"
     },
     "user_tz": 240
    },
    "id": "OIVR3oJRc7xl",
    "outputId": "769ed4eb-2b76-49ad-bc7a-eb7bb4f088ec"
   },
   "outputs": [],
   "source": [
    "print(sol.y_events[0])"
   ]
  },
  {
   "cell_type": "markdown",
   "id": "d9fcac03",
   "metadata": {
    "id": "j5WO37hwI5Uo"
   },
   "source": [
    "You can see we found seven events. We should plot them on the solution to see that they are in fact maxima. (what could possibly go wrong? if you get the wrong direction, then you will either see minima, or minima and maxima! If your event function is wrong, then it will just be wrong.)  Note we get two rows in our solution, one for x and one for v. From the numbers here, you can see that the x_max values seem to be settling down to about 2.0."
   ]
  },
  {
   "cell_type": "code",
   "execution_count": null,
   "id": "20776a68",
   "metadata": {
    "colab": {
     "base_uri": "https://localhost:8080/",
     "height": 279
    },
    "executionInfo": {
     "elapsed": 433,
     "status": "ok",
     "timestamp": 1631795793227,
     "user": {
      "displayName": "John Kitchin",
      "photoUrl": "https://lh3.googleusercontent.com/a/default-user=s64",
      "userId": "14782011281593705406"
     },
     "user_tz": 240
    },
    "id": "RhFB_mD7I5Uv",
    "outputId": "b14775b4-94a5-45af-d3b3-71751b557f53"
   },
   "outputs": [],
   "source": [
    "plt.plot(sol.t, sol.y.T)  # full solutions\n",
    "\n",
    "# break up this calculation for ease of reading\n",
    "te = sol.t_events[0]\n",
    "xmax, v_at_xmax = sol.y_events[0].T\n",
    "plt.plot(te, xmax, \"ro\")\n",
    "plt.plot(te, v_at_xmax, \"bo\")\n",
    "\n",
    "# compare to. Don't do this, it is confusing and hard to figure out.\n",
    "# plt.plot(sol.t_events[0], sol.y_events[0][:, 0], 'k*')\n",
    "\n",
    "plt.xlabel(\"t\")\n",
    "plt.ylabel(\"x,v\")\n",
    "plt.legend([\"x\", \"v\"]);"
   ]
  },
  {
   "cell_type": "markdown",
   "id": "43ae3e83",
   "metadata": {
    "id": "fsMXDtD-I5U1"
   },
   "source": [
    "That looks good, the red dots appear at the maxima, and they are periodic, so now we can see how x<sub>max</sub> varies with time."
   ]
  },
  {
   "cell_type": "code",
   "execution_count": null,
   "id": "8d8cb2a0",
   "metadata": {
    "colab": {
     "base_uri": "https://localhost:8080/",
     "height": 296
    },
    "executionInfo": {
     "elapsed": 615,
     "status": "ok",
     "timestamp": 1631795816341,
     "user": {
      "displayName": "John Kitchin",
      "photoUrl": "https://lh3.googleusercontent.com/a/default-user=s64",
      "userId": "14782011281593705406"
     },
     "user_tz": 240
    },
    "id": "tdaHCQgSI5U3",
    "outputId": "34624dee-8963-4dc5-a4c1-9b4ce54affe9"
   },
   "outputs": [],
   "source": [
    "plt.plot(te, xmax, \"ro\")\n",
    "plt.xlabel(\"t\")\n",
    "plt.ylabel(\"$x_{max}$\");"
   ]
  },
  {
   "cell_type": "markdown",
   "id": "e41b6772",
   "metadata": {
    "id": "AbjhK69cI5U8"
   },
   "source": [
    "You can see that after about 5 cycles, xmax is practically constant. We can also see that the period (the time between maxima) is converging to a constant. We cannot say much about what happens at longer times. You could integrate longer if it is important to know that. This is a limitation of numerical methods though. To *prove* that it will be constant, you need to do some analytical math that would show the period and x<sub>max</sub> go to a constant."
   ]
  },
  {
   "cell_type": "code",
   "execution_count": null,
   "id": "ca0b4558",
   "metadata": {
    "colab": {
     "base_uri": "https://localhost:8080/",
     "height": 279
    },
    "executionInfo": {
     "elapsed": 444,
     "status": "ok",
     "timestamp": 1631795945118,
     "user": {
      "displayName": "John Kitchin",
      "photoUrl": "https://lh3.googleusercontent.com/a/default-user=s64",
      "userId": "14782011281593705406"
     },
     "user_tz": 240
    },
    "id": "H9BjhQYBI5U9",
    "outputId": "f02a0290-cdbb-43bb-98f9-27f50bf21049"
   },
   "outputs": [],
   "source": [
    "plt.plot(np.diff(te), \"bo\")\n",
    "plt.xlabel(\"cycle\")\n",
    "plt.ylabel(\"period\");"
   ]
  },
  {
   "cell_type": "markdown",
   "id": "60ef4043",
   "metadata": {
    "id": "kFX7lct0I5VD"
   },
   "source": [
    "If we seek the steady state, oscillatory behavior of this system, we should discard the solutions in at least the first 4 cycles, since the maxima and periods are still changing."
   ]
  },
  {
   "cell_type": "code",
   "execution_count": null,
   "id": "2f0a608e",
   "metadata": {
    "colab": {
     "base_uri": "https://localhost:8080/"
    },
    "executionInfo": {
     "elapsed": 129,
     "status": "ok",
     "timestamp": 1631796032024,
     "user": {
      "displayName": "John Kitchin",
      "photoUrl": "https://lh3.googleusercontent.com/a/default-user=s64",
      "userId": "14782011281593705406"
     },
     "user_tz": 240
    },
    "id": "6oOUIckyI5VE",
    "outputId": "75de1078-52e8-4b1a-a16f-b08a3475c764"
   },
   "outputs": [],
   "source": [
    "te[-1], sol.y_events[0][-1]"
   ]
  },
  {
   "cell_type": "markdown",
   "id": "92c87345",
   "metadata": {
    "id": "5DRqVFEAI5VJ"
   },
   "source": [
    "Alternatively, we can use the last point as an initial value for a new integration that should be close to steady state oscillations."
   ]
  },
  {
   "cell_type": "code",
   "execution_count": null,
   "id": "9f69db02",
   "metadata": {
    "colab": {
     "base_uri": "https://localhost:8080/",
     "height": 279
    },
    "executionInfo": {
     "elapsed": 538,
     "status": "ok",
     "timestamp": 1631796052397,
     "user": {
      "displayName": "John Kitchin",
      "photoUrl": "https://lh3.googleusercontent.com/a/default-user=s64",
      "userId": "14782011281593705406"
     },
     "user_tz": 240
    },
    "id": "tGmhmmk6I5VK",
    "outputId": "16c9ef84-374e-4b48-9e02-306f7cda58e1"
   },
   "outputs": [],
   "source": [
    "tspan = (0, 40)\n",
    "X0 = sol.y_events[0][-1]\n",
    "\n",
    "sol2 = solve_ivp(dXdt, tspan, X0, max_step=h, events=max_x_event)\n",
    "plt.plot(sol2.t, sol2.y.T)\n",
    "plt.xlabel(\"t\")\n",
    "plt.ylabel(\"x,v\");"
   ]
  },
  {
   "cell_type": "markdown",
   "id": "1c3a5fb3",
   "metadata": {
    "id": "mzhcuMjlI5VQ"
   },
   "source": [
    "Here you see about 6 more cycles. The period of these events is practically constant."
   ]
  },
  {
   "cell_type": "code",
   "execution_count": null,
   "id": "b311cbbe",
   "metadata": {
    "colab": {
     "base_uri": "https://localhost:8080/"
    },
    "executionInfo": {
     "elapsed": 119,
     "status": "ok",
     "timestamp": 1631796062174,
     "user": {
      "displayName": "John Kitchin",
      "photoUrl": "https://lh3.googleusercontent.com/a/default-user=s64",
      "userId": "14782011281593705406"
     },
     "user_tz": 240
    },
    "id": "cHJlzpD5I5VR",
    "outputId": "769e20be-de06-4baa-f078-3723073f1a31"
   },
   "outputs": [],
   "source": [
    "sol2.t_events, np.diff(sol2.t_events[0])"
   ]
  },
  {
   "cell_type": "markdown",
   "id": "02e62109",
   "metadata": {
    "id": "OWLApvT8I5VX"
   },
   "source": [
    "And the limit cycle shows practically a single curve."
   ]
  },
  {
   "cell_type": "code",
   "execution_count": null,
   "id": "dce24391",
   "metadata": {
    "colab": {
     "base_uri": "https://localhost:8080/",
     "height": 279
    },
    "executionInfo": {
     "elapsed": 458,
     "status": "ok",
     "timestamp": 1631796065171,
     "user": {
      "displayName": "John Kitchin",
      "photoUrl": "https://lh3.googleusercontent.com/a/default-user=s64",
      "userId": "14782011281593705406"
     },
     "user_tz": 240
    },
    "id": "dNXqXui-I5VY",
    "outputId": "6dd8e1fe-8077-4ecd-e903-0fdc48a0433e"
   },
   "outputs": [],
   "source": [
    "plt.plot(*sol2.y)\n",
    "plt.xlabel(\"x\")\n",
    "plt.ylabel(\"y\")\n",
    "plt.axis(\"equal\")\n",
    "# makes x-ticks have the same dimension as y-ticks"
   ]
  },
  {
   "cell_type": "markdown",
   "id": "96235ae3",
   "metadata": {
    "id": "bbaZa1aSI5Vd"
   },
   "source": [
    "This limit cycle shows the oscillatory behavior. You can see here that each cycle repeats on top of itself.\n",
    "\n",
    "**Review** We have been working on finding a steady state oscillatory solution to $\\frac{d^2x}{dt^2} - \\mu(1-x^2)\\frac{dx}{dt} + x = 0$, which describes an oscillating system. We examined some ways to tell if a system is oscillating, and to estimate the period of the oscillation."
   ]
  },
  {
   "cell_type": "code",
   "execution_count": null,
   "id": "1d0be5d2",
   "metadata": {
    "executionInfo": {
     "elapsed": 119,
     "status": "ok",
     "timestamp": 1631796236856,
     "user": {
      "displayName": "John Kitchin",
      "photoUrl": "https://lh3.googleusercontent.com/a/default-user=s64",
      "userId": "14782011281593705406"
     },
     "user_tz": 240
    },
    "id": "Z3vm_Tx1F3OZ"
   },
   "outputs": [],
   "source": [
    "?solve_ivp"
   ]
  },
  {
   "cell_type": "markdown",
   "id": "dedf8de9",
   "metadata": {
    "id": "51_iHp7bI5Ve"
   },
   "source": [
    "### Solving a parameterized ODE many times"
   ]
  },
  {
   "cell_type": "markdown",
   "id": "ecc8335b",
   "metadata": {
    "id": "2Q3xwyW6I5Vf"
   },
   "source": [
    "$\\mu$ in the Van der Pol system is called a parameter. It is common to study the solution of this system as a function of &mu;. For [example](https://en.wikipedia.org/wiki/Van_der_Pol_oscillator#/media/File:VanderPol-lc.svg), the oscillatory behavior changes a lot as &mu; changes. Our aim here is to recreate the figure in that example, showing the steady state limit cycles as a function of &mu;.\n",
    "\n",
    "The example we want to create has limit cycles for 10 different values of &mu;. *We do not want to copy and paste code 10 times*. Instead, we should have some code we can *reuse 10 times*.\n",
    "\n",
    "Let's break this task down. For a given &mu;, we should find a solution to the ODEs that shows constant periods. That means we should integrate over a time span, check the periods, and if they are not constant, integrate from the last point over the time span again. If they are consistent, then we can just plot the solution.\n",
    "\n",
    "How can we check the periods are constant? One way is to see if the first and last are the same within some tolerance, say 1e-3.\n",
    "\n",
    "Ideally, we would have a function that takes one argument, &mu;, and returns the steady state oscillatory solution."
   ]
  },
  {
   "cell_type": "code",
   "execution_count": null,
   "id": "823e74bd",
   "metadata": {
    "colab": {
     "base_uri": "https://localhost:8080/"
    },
    "executionInfo": {
     "elapsed": 140,
     "status": "ok",
     "timestamp": 1631795784541,
     "user": {
      "displayName": "John Kitchin",
      "photoUrl": "https://lh3.googleusercontent.com/a/default-user=s64",
      "userId": "14782011281593705406"
     },
     "user_tz": 240
    },
    "id": "zR0IFJnlI5Ui",
    "outputId": "bc4f88b0-3980-49b7-f2a9-0024643e2747"
   },
   "outputs": [],
   "source": [
    "# We do not have to define this here, I just repeat it so you can see it again.\n",
    "def max_x_event(t, X):\n",
    "    x, v = X\n",
    "    Xprime = dXdt(t, X)\n",
    "    return Xprime[0]  # first derivative = 0\n",
    "\n",
    "\n",
    "max_x_event.direction = -1  # event must go from positive to negative, i.e. a max\n",
    "\n",
    "\n",
    "def get_steady_state(mu):\n",
    "    # define the sys odes for this mu. We define it inside the function so it\n",
    "    # uses the mu passed in to get_steady_state.\n",
    "    def dXdt(t, X):\n",
    "        x, v = X\n",
    "        dxdt = v\n",
    "        dvdt = mu * (1 - x**2) * v - x\n",
    "        return np.array([dxdt, dvdt])\n",
    "\n",
    "    X0 = np.array([2, 0])  # start at x_max, velocity=0\n",
    "\n",
    "    tspan = np.array([0, 40])  # we assume we will get 4-6 periods this way\n",
    "    teval, h = np.linspace(*tspan, 1500, retstep=True)\n",
    "\n",
    "    # initial solution\n",
    "    sol = solve_ivp(dXdt, tspan, X0, max_step=h, events=max_x_event)\n",
    "    periods = np.diff(sol.t_events[0])\n",
    "\n",
    "    # Now iterate as long as the first and last periods differ by more than the\n",
    "    # tolerance. It is usually a good idea to provide a way to break out in case\n",
    "    # it never ends. Here we use a max iteration count.\n",
    "    i = 0\n",
    "\n",
    "    # This assumes there are at least 2 periods in the tspan.\n",
    "    while np.abs(periods[0] - periods[-1]) > 1e-3:\n",
    "        last_step = sol.y[:, -1]  # this is the new initial condition to continue from.\n",
    "        sol = solve_ivp(dXdt, tspan, last_step, max_step=h, events=max_x_event)\n",
    "        # now get new periods.\n",
    "        periods = np.diff(sol.t_events[0])\n",
    "        i += 1  # increase the counter\n",
    "        if i > 5:  # if we exceed 5 iterations, something is probably wrong, so stop.\n",
    "            dp = np.abs(periods[0] - periods[-1])\n",
    "            print(dp, periods)\n",
    "            print(f\"Max iterations exceeded and no stability for mu={mu}\")\n",
    "            break\n",
    "    print(f\"For mu={mu}, steady period after {i} iterations\")\n",
    "\n",
    "    # Finally, return the last solution\n",
    "    return sol"
   ]
  },
  {
   "cell_type": "code",
   "execution_count": null,
   "id": "ffd09859",
   "metadata": {
    "colab": {
     "base_uri": "https://localhost:8080/",
     "height": 282
    },
    "executionInfo": {
     "elapsed": 642,
     "status": "ok",
     "timestamp": 1631797392787,
     "user": {
      "displayName": "John Kitchin",
      "photoUrl": "https://lh3.googleusercontent.com/a/default-user=s64",
      "userId": "14782011281593705406"
     },
     "user_tz": 240
    },
    "id": "Lc04jFwHIl0y",
    "outputId": "12092c98-097f-4eee-8739-c466ed16612e"
   },
   "outputs": [],
   "source": [
    "sol = get_steady_state(0.2)\n",
    "plt.plot(*sol.y)\n",
    "plt.axis(\"equal\");"
   ]
  },
  {
   "cell_type": "markdown",
   "id": "2183710c",
   "metadata": {
    "id": "_L-4MzquI5Vm"
   },
   "source": [
    "Note: This takes about a second per iteration to run."
   ]
  },
  {
   "cell_type": "code",
   "execution_count": null,
   "id": "ffe2571d",
   "metadata": {
    "colab": {
     "base_uri": "https://localhost:8080/",
     "height": 544
    },
    "executionInfo": {
     "elapsed": 4964,
     "status": "ok",
     "timestamp": 1631797623885,
     "user": {
      "displayName": "John Kitchin",
      "photoUrl": "https://lh3.googleusercontent.com/a/default-user=s64",
      "userId": "14782011281593705406"
     },
     "user_tz": 240
    },
    "id": "mCoqfCFFI5Vn",
    "outputId": "ba8135c3-6813-4c74-daf6-2b0c35af0787"
   },
   "outputs": [],
   "source": [
    "MU = [0.01, 0.1, 0.5, 1, 1.5, 2.0, 2.5, 3.0, 3.5, 4.0]\n",
    "MU.reverse()  # in place reversal\n",
    "\n",
    "plt.figure(figsize=(3, 6))  # makes a figure that is ~3 inches wide and 6 inches high\n",
    "for mu in MU:\n",
    "    sol = get_steady_state(mu)\n",
    "    plt.plot(\n",
    "        *sol.y, lw=0.1, label=f\"{mu:1.2f}\"  # Use thinner linewidth, default=1\n",
    "    )  # defines a label for the legend\n",
    "\n",
    "plt.legend(\n",
    "    title=\"$\\mu$\",\n",
    "    loc=\"upper center\",\n",
    "    # this line says put the legend outside the box.\n",
    "    # (0, 0) is the lower left, (1, 1) is the upper right\n",
    "    bbox_to_anchor=(1.2, 1),\n",
    ")\n",
    "\n",
    "plt.axis(\"equal\");"
   ]
  },
  {
   "cell_type": "markdown",
   "id": "3434f496",
   "metadata": {
    "id": "-nYCrqJzI5Vs"
   },
   "source": [
    "## Summary"
   ]
  },
  {
   "cell_type": "markdown",
   "id": "3a2dd5db",
   "metadata": {
    "id": "8iGh-rFQI5Vu"
   },
   "source": [
    "Today we covered the conversion of an n<sup>th</sup> order differential equation into a system of first order differential equations.\n",
    "\n",
    "We examined the use of the optional argument max\\_step to fine tune the solution points returned by the solver.\n",
    "\n",
    "This concludes our first section on ordinary differential equations."
   ]
  }
 ],
 "metadata": {
  "jupytext": {
   "formats": "ipynb,md:myst",
   "text_representation": {
    "extension": ".md",
    "format_name": "myst",
    "format_version": 0.13,
    "jupytext_version": "1.14.0"
   }
  },
  "kernelspec": {
   "display_name": "Python 3 (ipykernel)",
   "language": "python",
   "name": "python3"
  },
  "language_info": {
   "codemirror_mode": {
    "name": "ipython",
    "version": 3
   },
   "file_extension": ".py",
   "mimetype": "text/x-python",
   "name": "python",
   "nbconvert_exporter": "python",
   "pygments_lexer": "ipython3",
   "version": "3.10.5"
  },
  "source_map": [
   13,
   19,
   168,
   172,
   194,
   198,
   202,
   212,
   225,
   229,
   236,
   243,
   250,
   254,
   268,
   272,
   296,
   331,
   353,
   357,
   382,
   386,
   411,
   417,
   445,
   464,
   468,
   501,
   505,
   527,
   531,
   553,
   557,
   576,
   580,
   606,
   610,
   629,
   633,
   657,
   663,
   679,
   683,
   695,
   762,
   784,
   788,
   826,
   830
  ]
 },
 "nbformat": 4,
 "nbformat_minor": 5
}