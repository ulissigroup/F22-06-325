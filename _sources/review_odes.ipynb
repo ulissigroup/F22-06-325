{
 "cells": [
  {
   "cell_type": "markdown",
   "id": "39ab5e9d",
   "metadata": {},
   "source": [
    "```{margin} Adaptation!\n",
    "This work was adapted from lecture notes in John Kitchin's excellent 06-623 course! His lecture notes are included in the helpful resources link if you want to know more details about how numerical methods work.\n",
    "```"
   ]
  },
  {
   "cell_type": "markdown",
   "id": "d1c03cfb",
   "metadata": {},
   "source": [
    "# Numerical ODE Integration (with Events!)\n",
    "\n",
    "\n",
    "`````{note}\n",
    "This lecture is going to:\n",
    "* Quickly review how scipy.integrate.solve_ivp works\n",
    "* Practice coding up a system of differential equations we covered extensively in 06-262\n",
    "* Introduce how events works during ODE integrations (useful for future courses!)\n",
    "* Demonstrate events for a more complicated non-linear higher order differential equation\n",
    "\n",
    "Along the way, we will:\n",
    "* Get used to the JupyterLab environment and the structure of the course notes\n",
    "* Practice plotting in matplotlib\n",
    "`````"
   ]
  },
  {
   "cell_type": "markdown",
   "id": "a5b50822",
   "metadata": {
    "id": "sYhjkqf6WKfe",
    "tags": []
   },
   "source": [
    "## Review of scipy.integrate.solve_ivp"
   ]
  },
  {
   "cell_type": "markdown",
   "id": "50ca16d8",
   "metadata": {},
   "source": [
    "As an example, consider the first order ODE:\n",
    "\\begin{align*}\n",
    "y' = y + 2x - x^2; y(0) = 1\n",
    "\\end{align*}\n",
    "\n",
    "This ODE has a known analytical solution: $y(x) = x^2 + e^x$. We will use this for comparison."
   ]
  },
  {
   "cell_type": "markdown",
   "id": "420c76d8",
   "metadata": {
    "id": "2kQMFOMGWKfe"
   },
   "source": [
    "The `scipy.integrate` library provides `solve_ivp` to solve first order differential equations. It is not the only one available, but this function is recommended. You import the function like this:"
   ]
  },
  {
   "cell_type": "code",
   "execution_count": 1,
   "id": "0afc0027",
   "metadata": {
    "id": "Xz9BVvtwWKfe",
    "outputId": "520d4171-f524-402b-e09e-1e3d9d67cff2"
   },
   "outputs": [],
   "source": [
    "from scipy.integrate import solve_ivp\n",
    "import numpy as np"
   ]
  },
  {
   "cell_type": "markdown",
   "id": "da0452fb",
   "metadata": {
    "id": "nx24SM4zWKfe"
   },
   "source": [
    "Here is a minimal use of the function, with keyword arguments.\n",
    "\n",
    "`y0` is an array containing the initial values.  `fun` is a function with a signature of f(t, y). Here, $t$ is considered the independent variable. You can call it whatever you want, so f(x, y) is also fine. Since `solve_ivp` had $t$ in mind, the second argument is the `t_span`, which is a tuple of two numbers for where the integration starts (t0, or x0) and where it ends.  `solve_ivp` returns an object."
   ]
  },
  {
   "cell_type": "code",
   "execution_count": 2,
   "id": "79d0b5d9",
   "metadata": {
    "id": "XaEuU1aKWKfe",
    "outputId": "a4213a09-30c6-4de3-a694-1c5c2b0d7541"
   },
   "outputs": [],
   "source": [
    "def f(x, y):\n",
    "    return y + 2 * x - x**2\n",
    "\n",
    "x0 = 0\n",
    "y0 = np.array([1]) # It is a good idea to make y0 an array. It will be important later.\n",
    "\n",
    "sol = solve_ivp(fun=f, t_span=(x0, 1.5), y0=y0)"
   ]
  },
  {
   "cell_type": "markdown",
   "id": "c3e59b90",
   "metadata": {
    "id": "QctFd6OnWKfe"
   },
   "source": [
    "The output of `solve_ip` is an object containing results in attributes on the object."
   ]
  },
  {
   "cell_type": "code",
   "execution_count": 3,
   "id": "682b68ac",
   "metadata": {
    "id": "_OTEtvMPWKfe",
    "outputId": "c4843f44-dac4-4f8a-813d-ee14a7511bec"
   },
   "outputs": [
    {
     "data": {
      "text/plain": [
       "  message: 'The solver successfully reached the end of the integration interval.'\n",
       "     nfev: 20\n",
       "     njev: 0\n",
       "      nlu: 0\n",
       "      sol: None\n",
       "   status: 0\n",
       "  success: True\n",
       "        t: array([0.        , 0.08034384, 0.86683456, 1.5       ])\n",
       " t_events: None\n",
       "        y: array([[1.        , 1.09011474, 3.13086569, 6.73191444]])\n",
       " y_events: None"
      ]
     },
     "execution_count": 3,
     "metadata": {},
     "output_type": "execute_result"
    }
   ],
   "source": [
    "sol"
   ]
  },
  {
   "cell_type": "markdown",
   "id": "1e4d896e",
   "metadata": {
    "id": "KvCfBovWWKfe"
   },
   "source": [
    "You should look for a few things here. One is that the message indicates success. Second, we access the solution using dot notation. Here are the independent variable values the solution was evaluated at."
   ]
  },
  {
   "cell_type": "code",
   "execution_count": 4,
   "id": "b9affd89",
   "metadata": {
    "id": "T1_CmSeDWKfe",
    "outputId": "59707552-1299-44d4-ec0e-e62498357449"
   },
   "outputs": [
    {
     "data": {
      "text/plain": [
       "array([0.        , 0.08034384, 0.86683456, 1.5       ])"
      ]
     },
     "execution_count": 4,
     "metadata": {},
     "output_type": "execute_result"
    }
   ],
   "source": [
    "sol.t"
   ]
  },
  {
   "cell_type": "markdown",
   "id": "484fab8c",
   "metadata": {
    "id": "OEHyy77MWKff"
   },
   "source": [
    "Third, the solution is in a 2D array. We only have one equation here, so we use indexing to get the first row as an array."
   ]
  },
  {
   "cell_type": "code",
   "execution_count": 5,
   "id": "138f4758",
   "metadata": {
    "id": "e3h4ETeYWKff",
    "outputId": "3f8f4c57-6fd9-4f03-af0a-b249e8c0423c"
   },
   "outputs": [
    {
     "data": {
      "text/plain": [
       "array([1.        , 1.09011474, 3.13086569, 6.73191444])"
      ]
     },
     "execution_count": 5,
     "metadata": {},
     "output_type": "execute_result"
    }
   ],
   "source": [
    "sol.y[0]"
   ]
  },
  {
   "cell_type": "markdown",
   "id": "21a53f36",
   "metadata": {
    "id": "3_yOmHaCWKff"
   },
   "source": [
    "Now, we can plot the solution."
   ]
  },
  {
   "cell_type": "code",
   "execution_count": 6,
   "id": "462147b3",
   "metadata": {
    "id": "eyYJt5_3WKff",
    "outputId": "366b0dad-8ac6-4da2-bfb5-0d2b5760cee1"
   },
   "outputs": [
    {
     "data": {
      "text/plain": [
       "<matplotlib.legend.Legend at 0x7f3e188db820>"
      ]
     },
     "execution_count": 6,
     "metadata": {},
     "output_type": "execute_result"
    },
    {
     "data": {
      "image/png": "[encoded data removed]",
      "text/plain": [
       "<Figure size 432x288 with 1 Axes>"
      ]
     },
     "metadata": {
      "filenames": {
       "image/png": "/__w/F22-06-325/F22-06-325/f22-06-325/_build/jupyter_execute/review_odes_15_1.png"
      },
      "needs_background": "light"
     },
     "output_type": "display_data"
    }
   ],
   "source": [
    "import matplotlib.pyplot as plt\n",
    "\n",
    "plt.plot(sol.t, sol.y[0], label='solve_ivp')\n",
    "plt.plot(sol.t, sol.t**2 + np.exp(sol.t), 'r--', label='Analytical')\n",
    "plt.xlabel('x')\n",
    "plt.ylabel('y')\n",
    "plt.legend()"
   ]
  },
  {
   "cell_type": "markdown",
   "id": "a3fa98e7",
   "metadata": {
    "id": "ITfM0WarWKff"
   },
   "source": [
    "That doesn't looks so great since there are only four data points. By default, the algorithm only uses as many points as it needs to achieve a specified tolerance. We can specify that we want the solution evaluated at other points using the optional `t_eval` keyword arg."
   ]
  },
  {
   "cell_type": "code",
   "execution_count": 7,
   "id": "88257077",
   "metadata": {
    "id": "2gwGvLyZWKff",
    "outputId": "15c72153-762f-4480-cb58-ceae772c22e3"
   },
   "outputs": [
    {
     "name": "stdout",
     "output_type": "stream",
     "text": [
      "  message: 'The solver successfully reached the end of the integration interval.'\n",
      "     nfev: 20\n",
      "     njev: 0\n",
      "      nlu: 0\n",
      "      sol: None\n",
      "   status: 0\n",
      "  success: True\n",
      "        t: array([0.        , 0.03061224, 0.06122449, 0.09183673, 0.12244898,\n",
      "       0.15306122, 0.18367347, 0.21428571, 0.24489796, 0.2755102 ,\n",
      "       0.30612245, 0.33673469, 0.36734694, 0.39795918, 0.42857143,\n",
      "       0.45918367, 0.48979592, 0.52040816, 0.55102041, 0.58163265,\n",
      "       0.6122449 , 0.64285714, 0.67346939, 0.70408163, 0.73469388,\n",
      "       0.76530612, 0.79591837, 0.82653061, 0.85714286, 0.8877551 ,\n",
      "       0.91836735, 0.94897959, 0.97959184, 1.01020408, 1.04081633,\n",
      "       1.07142857, 1.10204082, 1.13265306, 1.16326531, 1.19387755,\n",
      "       1.2244898 , 1.25510204, 1.28571429, 1.31632653, 1.34693878,\n",
      "       1.37755102, 1.40816327, 1.43877551, 1.46938776, 1.5       ])\n",
      " t_events: None\n",
      "        y: array([[1.        , 1.03202273, 1.06688599, 1.10462029, 1.14526069,\n",
      "        1.18883821, 1.23538386, 1.28493005, 1.33751066, 1.39316097,\n",
      "        1.45191772, 1.51381907, 1.57890465, 1.64721547, 1.71879402,\n",
      "        1.79368421, 1.87193138, 1.95358232, 2.03868524, 2.12728979,\n",
      "        2.21944707, 2.31520959, 2.41463131, 2.51776762, 2.62467537,\n",
      "        2.7354128 , 2.85003963, 2.96861698, 3.09120744, 3.21787836,\n",
      "        3.34870553, 3.48375748, 3.6231049 , 3.76682143, 3.91498364,\n",
      "        4.06767101, 4.22496595, 4.38695382, 4.55372287, 4.7253643 ,\n",
      "        4.90197223, 5.08364371, 5.2704787 , 5.46258012, 5.66005377,\n",
      "        5.86300842, 6.07155575, 6.28581035, 6.50588976, 6.73191444]])\n",
      " y_events: None\n"
     ]
    },
    {
     "data": {
      "text/plain": [
       "<matplotlib.legend.Legend at 0x7f3e185d6980>"
      ]
     },
     "execution_count": 7,
     "metadata": {},
     "output_type": "execute_result"
    },
    {
     "data": {
      "image/png": "[encoded data removed]",
      "text/plain": [
       "<Figure size 432x288 with 1 Axes>"
      ]
     },
     "metadata": {
      "filenames": {
       "image/png": "/__w/F22-06-325/F22-06-325/f22-06-325/_build/jupyter_execute/review_odes_17_2.png"
      },
      "needs_background": "light"
     },
     "output_type": "display_data"
    }
   ],
   "source": [
    "X = np.linspace(x0, 1.5)\n",
    "sol = solve_ivp(fun=f, t_span=(x0, 1.5), y0=y0, t_eval=X)\n",
    "print(sol)\n",
    "\n",
    "plt.plot(sol.t, sol.y[0], label='solve_ivp')\n",
    "plt.plot(X, X**2 + np.exp(X), 'r--', label='Analytical')\n",
    "plt.xlabel('x')\n",
    "plt.ylabel('y')\n",
    "plt.legend()"
   ]
  },
  {
   "cell_type": "markdown",
   "id": "63e7fc66",
   "metadata": {},
   "source": [
    "`````{note} \n",
    "**Tolerances:** \n",
    "solve_ivp is trying to estimate and control the error for you! rtol is the relative tolerance in the function (eg % error in the numbers coming out). \n",
    "* atol is the absolute tolerance (I want the concentration +/- 0.00001). \n",
    "* rtol is $10^{-3}$ and atols is $10^{-6}$. \n",
    "* If your concentration is on the scale of 0.000000001 M, you will have a problem! \n",
    "  * Best solution - change units or rescale your problem so your variables are close to 1\n",
    "  * Possible solution - make you atol really small and hope it solves things\n",
    "* If decreasing rtol/atol changes your solution, they're not set tightly enough or you have other problems! \n",
    "`````\n",
    "\n",
    "`````{note} \n",
    "**Integration failures:** \n",
    "The solve_ivp documentation has some nice comments for what to do it things go wrong with the default RK45 algorithm:\n",
    "\n",
    "> If not sure, first try to run ‘RK45’. If it makes unusually many iterations, diverges, or fails, your problem is likely to be stiff and you should use ‘Radau’ or ‘BDF’. ‘LSODA’ can also be a good universal choice, but it might be somewhat less convenient to work with as it wraps old Fortran code\n",
    "`````"
   ]
  },
  {
   "cell_type": "markdown",
   "id": "583ab8a4",
   "metadata": {},
   "source": [
    "`````{tip} \n",
    "**Ask yourself these questions when solving ODE's:**\n",
    "* Is my problem coupled or not? Higher order or not?\n",
    "* Is my problem stiff? Should I use a special solver?\n",
    "* Is there anything I can infer about the solution from the differential euqations?\n",
    "* How many steady states do I expect? \n",
    "* How would I know if I made a mistake?\n",
    "* Very important to check whether the answer is reasonable\n",
    "* If you solve a problem with $\\Delta t = 0.1$ (or some other number like atol), always check that your answer does not change with $\\Delta t = \\frac{0.1}{2}$\n",
    "* Before solving a problem with numerical methods, make sure you can correctly code the RHS of the equation.\n",
    "`````"
   ]
  },
  {
   "cell_type": "markdown",
   "id": "1f4baa8c",
   "metadata": {
    "tags": []
   },
   "source": [
    "## Practice: Lottka-Coltera  Review of Solving ODEs with Scipy!"
   ]
  },
  {
   "cell_type": "markdown",
   "id": "a0c277fe",
   "metadata": {},
   "source": [
    "As a quick recap of where we left off in 06-262, let's start with an example we spent a lot of time covering, Lottka Volterra (rabbit/wolf) example.\n",
    "\n",
    "We are interested in how the two populations of species (Rabbits and wolves) might change over time. \n",
    "\n",
    "* Rabbits are $x(t)$, wolves are $y(t)$\n",
    "* The rate of rabbits being eaten by wolves is proportional to both ($\\beta xy$)\n",
    "* Rabbits reproduce on their own at a rate proportional to the number of rabbits, and rabbits are eaten by wolves at a rate proportional to the number of rabbits and wolves \n",
    "\\begin{align*}\n",
    "\\frac{dx}{dt}=\\alpha x-\\beta xy\n",
    "\\end{align*}\n",
    "where $\\alpha$ and $\\beta$ are constants.\n",
    "* Wolves are able to reproduce at a rate proportional to the number of wolves and rabbits (how quickly rabbits are being eaten) and die at a rate proportional to the number of wolves (sickness/injury/etc) \n",
    "\\begin{align*}\n",
    "\\frac{dy}{dt}=\\delta xy-\\gamma y\n",
    "\\end{align*}\n",
    "\n",
    "Let's say we start with 1 rabbit and 5 wolves, and the constants are \n",
    "* $\\alpha=1 $[1/day]\n",
    "* $\\beta=0.2$ [1/wolves/day]\n",
    "* $\\delta=0.5$ [1/rabbits/day]\n",
    "* $\\gamma=0.2$ [1/day]\n",
    "\n",
    "Solve for and plot the population of rabbits and wolves over the first 20 days.\n",
    "\n",
    "\n",
    "Let's take 10 minutes to warm up and try coding this up in python using (scipy)"
   ]
  },
  {
   "cell_type": "code",
   "execution_count": 8,
   "id": "b420ad49",
   "metadata": {},
   "outputs": [],
   "source": [
    "# Solve the rabbit/wolf example for the given parameters and boundary conditions!"
   ]
  },
  {
   "cell_type": "markdown",
   "id": "18d77996",
   "metadata": {
    "tags": []
   },
   "source": [
    "## Using events during ODE integration"
   ]
  },
  {
   "cell_type": "markdown",
   "id": "4c8a9221",
   "metadata": {
    "id": "tIOg0zliWKff",
    "jp-MarkdownHeadingCollapsed": true,
    "tags": []
   },
   "source": [
    "So far, `solve_ivp` solves the issues with item 1 (we did not have to code the algorithm), and items 2 and 3 (it uses an adaptive step and converges to a tolerance for us). It will also help us solve for the inverse problem, i.e. for what value of $x$ is $y=4$?\n",
    "\n",
    "To do this, we need a new concept of an \"event function\". During each step of the integration, you can run a function that can detect an \"event\". When an event is detected, the location of the event is stored, and if desired integration can be terminated. `solve_ivp` can take a list of event functions. We consider only one for now.\n",
    "\n",
    "An event occurs when an event function is equal to zero. During integration, if the event function changes sign, then it is clear an event has occurred, and the algorithm determines where it occurred. Since we want to know when $y=4$, we will define a function that returns $y - 4$, because that will equal zero at that condition. We want the integration to terminate when that happens, so we set the \"terminal\" attribute on our function to True.\n",
    "\n",
    "An event function has a signature of f(x, y). Remember that $y$ is going to be an array,"
   ]
  },
  {
   "cell_type": "code",
   "execution_count": 9,
   "id": "63771706",
   "metadata": {
    "id": "a73bQ1u-WKff",
    "outputId": "5c4d2b64-1e99-4150-c0ba-cb8aace0e930"
   },
   "outputs": [
    {
     "data": {
      "text/plain": [
       "  message: 'A termination event occurred.'\n",
       "     nfev: 20\n",
       "     njev: 0\n",
       "      nlu: 0\n",
       "      sol: None\n",
       "   status: 1\n",
       "  success: True\n",
       "        t: array([0.        , 0.08034384, 0.86683456, 1.05797402])\n",
       " t_events: [array([1.05797402])]\n",
       "        y: array([[1.        , 1.09011474, 3.13086569, 4.        ]])\n",
       " y_events: [array([[4.]])]"
      ]
     },
     "execution_count": 9,
     "metadata": {},
     "output_type": "execute_result"
    }
   ],
   "source": [
    "def event1(x, y):\n",
    "    return y[0] - 4\n",
    "\n",
    "event1.terminal = True\n",
    "\n",
    "sol = solve_ivp(fun=f, t_span=(x0, 1.5), y0=y0, events=event1)\n",
    "sol"
   ]
  },
  {
   "cell_type": "markdown",
   "id": "32cdb1e9",
   "metadata": {
    "id": "QDJKunnLWKff"
   },
   "source": [
    "Now, there are a couple of new things to note. First, we got a message that a termination event occurred. Second, the sol.y array ends at 4.0, because we made the event function *terminal*. Next, sol.t\\_events is not empty, because an event occurred. It now contains the value where the event occurred, which is where $y=4$!"
   ]
  },
  {
   "cell_type": "code",
   "execution_count": 10,
   "id": "4d82c8da",
   "metadata": {
    "id": "vLo7rh2xWKff",
    "outputId": "4d724dd4-36cd-44ab-abf6-61e5a1875d5a"
   },
   "outputs": [
    {
     "data": {
      "text/plain": [
       "array([1.05797402])"
      ]
     },
     "execution_count": 10,
     "metadata": {},
     "output_type": "execute_result"
    }
   ],
   "source": [
    "sol.t_events[0]"
   ]
  },
  {
   "cell_type": "code",
   "execution_count": 11,
   "id": "493a2c20",
   "metadata": {
    "id": "lbCHFLZ5WKfg",
    "outputId": "cf6c60bd-cc85-4c9e-d50c-08662ff9abd3"
   },
   "outputs": [
    {
     "data": {
      "text/plain": [
       "array([0.        , 0.08034384, 0.86683456, 1.05797402])"
      ]
     },
     "execution_count": 11,
     "metadata": {},
     "output_type": "execute_result"
    }
   ],
   "source": [
    "sol.t"
   ]
  },
  {
   "cell_type": "code",
   "execution_count": 12,
   "id": "1644c3f9",
   "metadata": {
    "id": "86jVTFLhWKfg",
    "outputId": "73f7e7d5-a93e-4ac7-bee8-b7ccc07f733b"
   },
   "outputs": [
    {
     "name": "stdout",
     "output_type": "stream",
     "text": [
      "y=4 at x=1.05797402353819. Confirming: y = 3.999838223738074\n"
     ]
    }
   ],
   "source": [
    "print(f'y=4 at x={sol.t[-1]}. Confirming: y = {sol.t[-1]**2 + np.exp(sol.t[-1])}')"
   ]
  },
  {
   "cell_type": "markdown",
   "id": "3c2b86ad",
   "metadata": {
    "id": "kr30mSOyWKfg"
   },
   "source": [
    "That is pretty close. You have to decide if it is close enough for the purpose you want. You can control the tolerance with optional `atol` and `rtol` keywords. You should read the documentation before changing this."
   ]
  },
  {
   "cell_type": "code",
   "execution_count": 13,
   "id": "271ec192",
   "metadata": {
    "id": "ff4DU35uWKfg",
    "outputId": "12a96530-72f8-42f2-d796-bc0144495d24"
   },
   "outputs": [
    {
     "data": {
      "text/plain": [
       "3.9999994300847295"
      ]
     },
     "execution_count": 13,
     "metadata": {},
     "output_type": "execute_result"
    }
   ],
   "source": [
    "def event1(x, y):\n",
    "    return y[0] - 4\n",
    "\n",
    "event1.terminal = True\n",
    "\n",
    "sol = solve_ivp(fun=f, t_span=(x0, 1.5), y0=y0, events=event1, rtol=1e-9)\n",
    "sol\n",
    "sol.t[-1]**2 + np.exp(sol.t[-1])"
   ]
  },
  {
   "cell_type": "markdown",
   "id": "16fbacc3",
   "metadata": {
    "id": "mJnRxC7iI5UF",
    "tags": []
   },
   "source": [
    "## More complicated example: Van der Pol oscillator"
   ]
  },
  {
   "cell_type": "markdown",
   "id": "c1c410e4",
   "metadata": {
    "id": "9qgQVg-OI5UH"
   },
   "source": [
    "So far we have focused on computational solutions to first order differential equations, including systems of first order differential equations. The reason for that is simply that all numerical integration strategies only work with the first derivative.\n",
    "\n",
    "Many differential equations involve higher order derivatives though. We can solve these by converting them to systems of first-order differential equations through a series of variable changes.\n",
    "\n",
    "Let's consider the [Van der Pol oscillator](https://en.wikipedia.org/wiki/Van_der_Pol_oscillator).\n",
    "\n",
    "$\\frac{d^2x}{dt^2} - \\mu(1-x^2)\\frac{dx}{dt} + x = 0$\n",
    "\n",
    "We define a new variable: $v = x'$, and then have $v' = x''$.\n",
    "\n",
    "That leads to a set of equivalent first-order differential equations:\n",
    "\n",
    "$x' = v$\n",
    "\n",
    "$v' - \\mu (1-x^2)v + x = 0$\n",
    "\n",
    "You can still think of $x$ as the position of the oscillator, and $y$ as the velocity of the oscillator. Now, we can integrate these equations from some initial condition.\n",
    "\n",
    "Let's do this and plot the position and velocity of the oscillator. Rather than use `t_eval`, we will instead set the optional argument `max_step` to tell the solver how often it should make a step.\n",
    "\n",
    "This is different than using `t_eval`, which uses interpolation *after* the solution has been found to evaluate the solution. This will become important later when we use events, which are only evaluated at the *solver* points."
   ]
  },
  {
   "cell_type": "code",
   "execution_count": 14,
   "id": "8884d99a",
   "metadata": {
    "colab": {
     "base_uri": "https://localhost:8080/"
    },
    "executionInfo": {
     "elapsed": 194,
     "status": "ok",
     "timestamp": 1631795105482,
     "user": {
      "displayName": "John Kitchin",
      "photoUrl": "https://lh3.googleusercontent.com/a/default-user=s64",
      "userId": "14782011281593705406"
     },
     "user_tz": 240
    },
    "id": "yyrECic4I5UI",
    "outputId": "b30eb639-b85d-475a-e847-12fc39851bb3"
   },
   "outputs": [
    {
     "data": {
      "text/plain": [
       "array([ 2., -1.])"
      ]
     },
     "execution_count": 14,
     "metadata": {},
     "output_type": "execute_result"
    }
   ],
   "source": [
    "import numpy as np\n",
    "from scipy.integrate import solve_ivp\n",
    "\n",
    "mu = 0.2\n",
    "\n",
    "\n",
    "def dXdt(t, X):\n",
    "    x, v = X\n",
    "    dxdt = v\n",
    "    dvdt = mu * (1 - x**2) * v - x\n",
    "    return np.array([dxdt, dvdt])\n",
    "\n",
    "\n",
    "X0 = np.array((1, 2))  # you can pick any x0, and v0 you want.\n",
    "tspan = np.array((0, 40))\n",
    "\n",
    "dXdt(0, X0)"
   ]
  },
  {
   "cell_type": "code",
   "execution_count": 15,
   "id": "8db40f76",
   "metadata": {
    "colab": {
     "base_uri": "https://localhost:8080/"
    },
    "executionInfo": {
     "elapsed": 137,
     "status": "ok",
     "timestamp": 1631795106455,
     "user": {
      "displayName": "John Kitchin",
      "photoUrl": "https://lh3.googleusercontent.com/a/default-user=s64",
      "userId": "14782011281593705406"
     },
     "user_tz": 240
    },
    "id": "TXZoCS_z9qAS",
    "outputId": "f5a93ece-08b3-4073-db06-6423d88def02"
   },
   "outputs": [
    {
     "data": {
      "text/plain": [
       "('The solver successfully reached the end of the integration interval.',\n",
       " True,\n",
       " (500, 2))"
      ]
     },
     "execution_count": 15,
     "metadata": {},
     "output_type": "execute_result"
    }
   ],
   "source": [
    "teval, h = np.linspace(*tspan, 500, retstep=True)\n",
    "\n",
    "sol = solve_ivp(dXdt, tspan, X0, max_step=h)\n",
    "sol.message, sol.success, sol.y.T.shape"
   ]
  },
  {
   "cell_type": "markdown",
   "id": "94a07a61",
   "metadata": {
    "id": "oR6BcTJ8I5US"
   },
   "source": [
    "Now, we can plot the solutions."
   ]
  },
  {
   "cell_type": "code",
   "execution_count": 16,
   "id": "52b8cd5e",
   "metadata": {
    "colab": {
     "base_uri": "https://localhost:8080/",
     "height": 279
    },
    "executionInfo": {
     "elapsed": 419,
     "status": "ok",
     "timestamp": 1631795107931,
     "user": {
      "displayName": "John Kitchin",
      "photoUrl": "https://lh3.googleusercontent.com/a/default-user=s64",
      "userId": "14782011281593705406"
     },
     "user_tz": 240
    },
    "id": "p3elVIq_I5UT",
    "outputId": "ea6feb21-3b60-4c42-fde0-f15fa9d0430f"
   },
   "outputs": [
    {
     "data": {
      "image/png": "[encoded data removed]",
      "text/plain": [
       "<Figure size 432x288 with 1 Axes>"
      ]
     },
     "metadata": {
      "filenames": {
       "image/png": "/__w/F22-06-325/F22-06-325/f22-06-325/_build/jupyter_execute/review_odes_37_0.png"
      },
      "needs_background": "light"
     },
     "output_type": "display_data"
    }
   ],
   "source": [
    "import matplotlib.pyplot as plt\n",
    "\n",
    "plt.plot(sol.t, sol.y.T)\n",
    "plt.xlabel(\"t\")\n",
    "plt.ylabel(\"x,v\")\n",
    "plt.legend([\"x\", \"v\"]);"
   ]
  },
  {
   "cell_type": "markdown",
   "id": "a720a79b",
   "metadata": {
    "id": "7aSzbBrkI5Ua"
   },
   "source": [
    "You can see that the solution appears oscillatory. Let's be more quantitative than what it *looks* like. An alternative way to visualize this solution is called the phase portrait where we plot the two state variables (x, v) against each other. We include the starting point for visualization."
   ]
  },
  {
   "cell_type": "code",
   "execution_count": 17,
   "id": "9ed4daa2",
   "metadata": {
    "colab": {
     "base_uri": "https://localhost:8080/",
     "height": 279
    },
    "executionInfo": {
     "elapsed": 324,
     "status": "ok",
     "timestamp": 1631795185365,
     "user": {
      "displayName": "John Kitchin",
      "photoUrl": "https://lh3.googleusercontent.com/a/default-user=s64",
      "userId": "14782011281593705406"
     },
     "user_tz": 240
    },
    "id": "P49UZdKjI5Ub",
    "outputId": "5ccdc373-b74f-480a-add0-8ac16e29fba3"
   },
   "outputs": [
    {
     "data": {
      "image/png": "[encoded data removed]",
      "text/plain": [
       "<Figure size 432x288 with 1 Axes>"
      ]
     },
     "metadata": {
      "filenames": {
       "image/png": "/__w/F22-06-325/F22-06-325/f22-06-325/_build/jupyter_execute/review_odes_39_0.png"
      },
      "needs_background": "light"
     },
     "output_type": "display_data"
    }
   ],
   "source": [
    "plt.plot(*sol.y)  # unpack the first row into x and second row into the y\n",
    "# equivalent to plt.plot(sol.y[0], sol.y[1])\n",
    "plt.plot(*sol.y[:, 0], \"go\")  # starting point\n",
    "plt.xlabel(\"x\")\n",
    "plt.ylabel(\"v\")\n",
    "plt.axis(\"equal\");"
   ]
  },
  {
   "cell_type": "markdown",
   "id": "70ac7ef1",
   "metadata": {
    "id": "xacH7-h9I5Uh"
   },
   "source": [
    "So, evidently it is not exactly periodic in the beginning, but seems to take some time to settle down into a periodic rhythm. That seems to be the case, because if it didn't we would expect to see a continued spiral in or out of this limit cycle. Another way we can assess this quantitatively is to look at the peak positions in our solution. We return to an event type of solution. We seek an event where the derivative $dx/dt=0$, and it is a maximum, which means $x'$ starts positive, becomes zero, and then is negative. Note this is appropriate for this problem, where there is only one, periodic maximum. For other problems, you might need a different approach.\n",
    "\n",
    "Now, it is important to remember that the event function is only evaluated after a solver point, so we need to make sure the solver points bracket where events occur. This is accomplished by making sure that when we graph the solution from the solver (not from t_eval), that we can visually see where the events will occur."
   ]
  },
  {
   "cell_type": "code",
   "execution_count": 18,
   "id": "d933f84b",
   "metadata": {
    "colab": {
     "base_uri": "https://localhost:8080/"
    },
    "executionInfo": {
     "elapsed": 140,
     "status": "ok",
     "timestamp": 1631795784541,
     "user": {
      "displayName": "John Kitchin",
      "photoUrl": "https://lh3.googleusercontent.com/a/default-user=s64",
      "userId": "14782011281593705406"
     },
     "user_tz": 240
    },
    "id": "zR0IFJnlI5Ui",
    "outputId": "bc4f88b0-3980-49b7-f2a9-0024643e2747"
   },
   "outputs": [
    {
     "name": "stdout",
     "output_type": "stream",
     "text": [
      "The solver successfully reached the end of the integration interval.\n"
     ]
    },
    {
     "data": {
      "text/plain": [
       "array([ 0.98712369,  7.29961546, 13.60207133, 19.90194032, 26.2010961 ,\n",
       "       32.50005162, 38.79895061])"
      ]
     },
     "execution_count": 18,
     "metadata": {},
     "output_type": "execute_result"
    }
   ],
   "source": [
    "def max_x_event(t, X):\n",
    "    Xprime = dXdt(t, X)\n",
    "    return Xprime[0]  # first derivative, dx/dt = 0\n",
    "\n",
    "\n",
    "max_x_event.direction = -1  # event must go from positive to negative, i.e. a max\n",
    "\n",
    "sol = solve_ivp(dXdt, tspan, X0, max_step=h, events=max_x_event)\n",
    "print(sol.message)\n",
    "sol.t_events[0]"
   ]
  },
  {
   "cell_type": "code",
   "execution_count": 19,
   "id": "d76278ab",
   "metadata": {
    "colab": {
     "base_uri": "https://localhost:8080/"
    },
    "executionInfo": {
     "elapsed": 149,
     "status": "ok",
     "timestamp": 1631795786589,
     "user": {
      "displayName": "John Kitchin",
      "photoUrl": "https://lh3.googleusercontent.com/a/default-user=s64",
      "userId": "14782011281593705406"
     },
     "user_tz": 240
    },
    "id": "OIVR3oJRc7xl",
    "outputId": "769ed4eb-2b76-49ad-bc7a-eb7bb4f088ec"
   },
   "outputs": [
    {
     "name": "stdout",
     "output_type": "stream",
     "text": [
      "[[ 2.07283325e+00 -6.93889390e-17]\n",
      " [ 2.02004874e+00  8.56953397e-16]\n",
      " [ 2.00590349e+00  6.93889390e-16]\n",
      " [ 2.00196134e+00 -2.96290770e-15]\n",
      " [ 2.00085100e+00  2.27595720e-15]\n",
      " [ 2.00053732e+00 -5.34294831e-15]\n",
      " [ 2.00044864e+00  5.73933262e-15]]\n"
     ]
    }
   ],
   "source": [
    "print(sol.y_events[0])"
   ]
  },
  {
   "cell_type": "markdown",
   "id": "d561bf89",
   "metadata": {
    "id": "j5WO37hwI5Uo"
   },
   "source": [
    "You can see we found seven events. We should plot them on the solution to see that they are in fact maxima. (what could possibly go wrong? if you get the wrong direction, then you will either see minima, or minima and maxima! If your event function is wrong, then it will just be wrong.)  Note we get two rows in our solution, one for x and one for v. From the numbers here, you can see that the x_max values seem to be settling down to about 2.0."
   ]
  },
  {
   "cell_type": "code",
   "execution_count": 20,
   "id": "2d760817",
   "metadata": {
    "colab": {
     "base_uri": "https://localhost:8080/",
     "height": 279
    },
    "executionInfo": {
     "elapsed": 433,
     "status": "ok",
     "timestamp": 1631795793227,
     "user": {
      "displayName": "John Kitchin",
      "photoUrl": "https://lh3.googleusercontent.com/a/default-user=s64",
      "userId": "14782011281593705406"
     },
     "user_tz": 240
    },
    "id": "RhFB_mD7I5Uv",
    "outputId": "b14775b4-94a5-45af-d3b3-71751b557f53"
   },
   "outputs": [
    {
     "data": {
      "image/png": "[encoded data removed]",
      "text/plain": [
       "<Figure size 432x288 with 1 Axes>"
      ]
     },
     "metadata": {
      "filenames": {
       "image/png": "/__w/F22-06-325/F22-06-325/f22-06-325/_build/jupyter_execute/review_odes_44_0.png"
      },
      "needs_background": "light"
     },
     "output_type": "display_data"
    }
   ],
   "source": [
    "plt.plot(sol.t, sol.y.T)  # full solutions\n",
    "\n",
    "# break up this calculation for ease of reading\n",
    "te = sol.t_events[0]\n",
    "xmax, v_at_xmax = sol.y_events[0].T\n",
    "plt.plot(te, xmax, \"ro\")\n",
    "plt.plot(te, v_at_xmax, \"bo\")\n",
    "\n",
    "# compare to. Don't do this, it is confusing and hard to figure out.\n",
    "# plt.plot(sol.t_events[0], sol.y_events[0][:, 0], 'k*')\n",
    "\n",
    "plt.xlabel(\"t\")\n",
    "plt.ylabel(\"x,v\")\n",
    "plt.legend([\"x\", \"v\"]);"
   ]
  },
  {
   "cell_type": "markdown",
   "id": "4363d365",
   "metadata": {
    "id": "fsMXDtD-I5U1"
   },
   "source": [
    "That looks good, the red dots appear at the maxima, and they are periodic, so now we can see how x<sub>max</sub> varies with time."
   ]
  },
  {
   "cell_type": "code",
   "execution_count": 21,
   "id": "143b11c6",
   "metadata": {
    "colab": {
     "base_uri": "https://localhost:8080/",
     "height": 296
    },
    "executionInfo": {
     "elapsed": 615,
     "status": "ok",
     "timestamp": 1631795816341,
     "user": {
      "displayName": "John Kitchin",
      "photoUrl": "https://lh3.googleusercontent.com/a/default-user=s64",
      "userId": "14782011281593705406"
     },
     "user_tz": 240
    },
    "id": "tdaHCQgSI5U3",
    "outputId": "34624dee-8963-4dc5-a4c1-9b4ce54affe9"
   },
   "outputs": [
    {
     "data": {
      "image/png": "[encoded data removed]",
      "text/plain": [
       "<Figure size 432x288 with 1 Axes>"
      ]
     },
     "metadata": {
      "filenames": {
       "image/png": "/__w/F22-06-325/F22-06-325/f22-06-325/_build/jupyter_execute/review_odes_46_0.png"
      },
      "needs_background": "light"
     },
     "output_type": "display_data"
    }
   ],
   "source": [
    "plt.plot(te, xmax, \"ro\")\n",
    "plt.xlabel(\"t\")\n",
    "plt.ylabel(\"$x_{max}$\");"
   ]
  },
  {
   "cell_type": "markdown",
   "id": "30ba4fb1",
   "metadata": {
    "id": "AbjhK69cI5U8"
   },
   "source": [
    "You can see that after about 5 cycles, xmax is practically constant. We can also see that the period (the time between maxima) is converging to a constant. We cannot say much about what happens at longer times. You could integrate longer if it is important to know that. This is a limitation of numerical methods though. To *prove* that it will be constant, you need to do some analytical math that would show the period and x<sub>max</sub> go to a constant."
   ]
  },
  {
   "cell_type": "code",
   "execution_count": 22,
   "id": "2ba98fdb",
   "metadata": {
    "colab": {
     "base_uri": "https://localhost:8080/",
     "height": 279
    },
    "executionInfo": {
     "elapsed": 444,
     "status": "ok",
     "timestamp": 1631795945118,
     "user": {
      "displayName": "John Kitchin",
      "photoUrl": "https://lh3.googleusercontent.com/a/default-user=s64",
      "userId": "14782011281593705406"
     },
     "user_tz": 240
    },
    "id": "H9BjhQYBI5U9",
    "outputId": "f02a0290-cdbb-43bb-98f9-27f50bf21049"
   },
   "outputs": [
    {
     "data": {
      "image/png": "[encoded data removed]",
      "text/plain": [
       "<Figure size 432x288 with 1 Axes>"
      ]
     },
     "metadata": {
      "filenames": {
       "image/png": "/__w/F22-06-325/F22-06-325/f22-06-325/_build/jupyter_execute/review_odes_48_0.png"
      },
      "needs_background": "light"
     },
     "output_type": "display_data"
    }
   ],
   "source": [
    "plt.plot(np.diff(te), \"bo\")\n",
    "plt.xlabel(\"cycle\")\n",
    "plt.ylabel(\"period\");"
   ]
  },
  {
   "cell_type": "markdown",
   "id": "ad089885",
   "metadata": {
    "id": "kFX7lct0I5VD"
   },
   "source": [
    "If we seek the steady state, oscillatory behavior of this system, we should discard the solutions in at least the first 4 cycles, since the maxima and periods are still changing."
   ]
  },
  {
   "cell_type": "code",
   "execution_count": 23,
   "id": "1289f763",
   "metadata": {
    "colab": {
     "base_uri": "https://localhost:8080/"
    },
    "executionInfo": {
     "elapsed": 129,
     "status": "ok",
     "timestamp": 1631796032024,
     "user": {
      "displayName": "John Kitchin",
      "photoUrl": "https://lh3.googleusercontent.com/a/default-user=s64",
      "userId": "14782011281593705406"
     },
     "user_tz": 240
    },
    "id": "6oOUIckyI5VE",
    "outputId": "75de1078-52e8-4b1a-a16f-b08a3475c764"
   },
   "outputs": [
    {
     "data": {
      "text/plain": [
       "(38.798950606192165, array([2.00044864e+00, 5.73933262e-15]))"
      ]
     },
     "execution_count": 23,
     "metadata": {},
     "output_type": "execute_result"
    }
   ],
   "source": [
    "te[-1], sol.y_events[0][-1]"
   ]
  },
  {
   "cell_type": "markdown",
   "id": "202edf2f",
   "metadata": {
    "id": "5DRqVFEAI5VJ"
   },
   "source": [
    "Alternatively, we can use the last point as an initial value for a new integration that should be close to steady state oscillations."
   ]
  },
  {
   "cell_type": "code",
   "execution_count": 24,
   "id": "d378f906",
   "metadata": {
    "colab": {
     "base_uri": "https://localhost:8080/",
     "height": 279
    },
    "executionInfo": {
     "elapsed": 538,
     "status": "ok",
     "timestamp": 1631796052397,
     "user": {
      "displayName": "John Kitchin",
      "photoUrl": "https://lh3.googleusercontent.com/a/default-user=s64",
      "userId": "14782011281593705406"
     },
     "user_tz": 240
    },
    "id": "tGmhmmk6I5VK",
    "outputId": "16c9ef84-374e-4b48-9e02-306f7cda58e1"
   },
   "outputs": [
    {
     "data": {
      "image/png": "[encoded data removed]",
      "text/plain": [
       "<Figure size 432x288 with 1 Axes>"
      ]
     },
     "metadata": {
      "filenames": {
       "image/png": "/__w/F22-06-325/F22-06-325/f22-06-325/_build/jupyter_execute/review_odes_52_0.png"
      },
      "needs_background": "light"
     },
     "output_type": "display_data"
    }
   ],
   "source": [
    "tspan = (0, 40)\n",
    "X0 = sol.y_events[0][-1]\n",
    "\n",
    "sol2 = solve_ivp(dXdt, tspan, X0, max_step=h, events=max_x_event)\n",
    "plt.plot(sol2.t, sol2.y.T)\n",
    "plt.xlabel(\"t\")\n",
    "plt.ylabel(\"x,v\");"
   ]
  },
  {
   "cell_type": "markdown",
   "id": "7f31f3df",
   "metadata": {
    "id": "mzhcuMjlI5VQ"
   },
   "source": [
    "Here you see about 6 more cycles. The period of these events is practically constant."
   ]
  },
  {
   "cell_type": "code",
   "execution_count": 25,
   "id": "8c5dde46",
   "metadata": {
    "colab": {
     "base_uri": "https://localhost:8080/"
    },
    "executionInfo": {
     "elapsed": 119,
     "status": "ok",
     "timestamp": 1631796062174,
     "user": {
      "displayName": "John Kitchin",
      "photoUrl": "https://lh3.googleusercontent.com/a/default-user=s64",
      "userId": "14782011281593705406"
     },
     "user_tz": 240
    },
    "id": "cHJlzpD5I5VR",
    "outputId": "769e20be-de06-4baa-f078-3723073f1a31"
   },
   "outputs": [
    {
     "data": {
      "text/plain": [
       "([array([2.86945317e-15, 6.29888301e+00, 1.25977615e+01, 1.88966387e+01,\n",
       "         2.51955156e+01, 3.14943923e+01, 3.77932690e+01])],\n",
       " array([6.29888301, 6.2988785 , 6.29887721, 6.29887685, 6.29887676,\n",
       "        6.29887672]))"
      ]
     },
     "execution_count": 25,
     "metadata": {},
     "output_type": "execute_result"
    }
   ],
   "source": [
    "sol2.t_events, np.diff(sol2.t_events[0])"
   ]
  },
  {
   "cell_type": "markdown",
   "id": "e2822d98",
   "metadata": {
    "id": "OWLApvT8I5VX"
   },
   "source": [
    "And the limit cycle shows practically a single curve."
   ]
  },
  {
   "cell_type": "code",
   "execution_count": 26,
   "id": "2a015d94",
   "metadata": {
    "colab": {
     "base_uri": "https://localhost:8080/",
     "height": 279
    },
    "executionInfo": {
     "elapsed": 458,
     "status": "ok",
     "timestamp": 1631796065171,
     "user": {
      "displayName": "John Kitchin",
      "photoUrl": "https://lh3.googleusercontent.com/a/default-user=s64",
      "userId": "14782011281593705406"
     },
     "user_tz": 240
    },
    "id": "dNXqXui-I5VY",
    "outputId": "6dd8e1fe-8077-4ecd-e903-0fdc48a0433e"
   },
   "outputs": [
    {
     "data": {
      "text/plain": [
       "(-2.2004040548071035,\n",
       " 2.200489241939398,\n",
       " -2.248591036725654,\n",
       " 2.2485910192056826)"
      ]
     },
     "execution_count": 26,
     "metadata": {},
     "output_type": "execute_result"
    },
    {
     "data": {
      "image/png": "[encoded data removed]",
      "text/plain": [
       "<Figure size 432x288 with 1 Axes>"
      ]
     },
     "metadata": {
      "filenames": {
       "image/png": "/__w/F22-06-325/F22-06-325/f22-06-325/_build/jupyter_execute/review_odes_56_1.png"
      },
      "needs_background": "light"
     },
     "output_type": "display_data"
    }
   ],
   "source": [
    "plt.plot(*sol2.y)\n",
    "plt.xlabel(\"x\")\n",
    "plt.ylabel(\"y\")\n",
    "plt.axis(\"equal\")\n",
    "# makes x-ticks have the same dimension as y-ticks"
   ]
  },
  {
   "cell_type": "markdown",
   "id": "1be3ce29",
   "metadata": {
    "id": "bbaZa1aSI5Vd"
   },
   "source": [
    "This limit cycle shows the oscillatory behavior. You can see here that each cycle repeats on top of itself.\n",
    "\n",
    "**Review** We have been working on finding a steady state oscillatory solution to $\\frac{d^2x}{dt^2} - \\mu(1-x^2)\\frac{dx}{dt} + x = 0$, which describes an oscillating system. We examined some ways to tell if a system is oscillating, and to estimate the period of the oscillation."
   ]
  },
  {
   "cell_type": "code",
   "execution_count": 27,
   "id": "b02fc7bf",
   "metadata": {
    "executionInfo": {
     "elapsed": 119,
     "status": "ok",
     "timestamp": 1631796236856,
     "user": {
      "displayName": "John Kitchin",
      "photoUrl": "https://lh3.googleusercontent.com/a/default-user=s64",
      "userId": "14782011281593705406"
     },
     "user_tz": 240
    },
    "id": "Z3vm_Tx1F3OZ"
   },
   "outputs": [],
   "source": [
    "?solve_ivp"
   ]
  },
  {
   "cell_type": "markdown",
   "id": "e377843d",
   "metadata": {
    "id": "-nYCrqJzI5Vs"
   },
   "source": [
    "## Summary"
   ]
  },
  {
   "cell_type": "markdown",
   "id": "d209dcee",
   "metadata": {
    "id": "8iGh-rFQI5Vu"
   },
   "source": [
    "We reviewed how to use solve_ivp and common tips/tricks. This includes plotting the results using matplotlib.\n",
    "\n",
    "In addition to reviewing what we knew from 06-262 on `solve_ivp`, we also talked about how to use **integration events**. These allow us to stop integration at special points. It is very helpful for engineering/design problems."
   ]
  },
  {
   "cell_type": "code",
   "execution_count": null,
   "id": "dc5f6403",
   "metadata": {},
   "outputs": [],
   "source": []
  }
 ],
 "metadata": {
  "jupytext": {
   "formats": "ipynb,md:myst",
   "text_representation": {
    "extension": ".md",
    "format_name": "myst",
    "format_version": 0.13,
    "jupytext_version": "1.14.0"
   }
  },
  "kernelspec": {
   "display_name": "Python 3 (ipykernel)",
   "language": "python",
   "name": "python3"
  },
  "language_info": {
   "codemirror_mode": {
    "name": "ipython",
    "version": 3
   },
   "file_extension": ".py",
   "mimetype": "text/x-python",
   "name": "python",
   "nbconvert_exporter": "python",
   "pygments_lexer": "ipython3",
   "version": "3.10.5"
  },
  "source_map": [
   13,
   19,
   36,
   40,
   49,
   53,
   61,
   67,
   80,
   84,
   91,
   95,
   102,
   106,
   113,
   117,
   130,
   134,
   147,
   167,
   181,
   185,
   214,
   218,
   222,
   232,
   245,
   249,
   256,
   263,
   270,
   274,
   288,
   292,
   316,
   351,
   373,
   377,
   402,
   406,
   431,
   437,
   465,
   484,
   488,
   521,
   525,
   547,
   551,
   573,
   577,
   596,
   600,
   626,
   630,
   649,
   653,
   677,
   683,
   699,
   703,
   709
  ]
 },
 "nbformat": 4,
 "nbformat_minor": 5
}