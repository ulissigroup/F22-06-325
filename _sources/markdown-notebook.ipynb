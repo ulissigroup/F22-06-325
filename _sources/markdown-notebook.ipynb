{
 "cells": [
  {
   "cell_type": "markdown",
   "id": "c6e409f2",
   "metadata": {},
   "source": [
    "# My simple notebook\n",
    "\n",
    "Some **intro Markdown**!"
   ]
  },
  {
   "cell_type": "code",
   "execution_count": 1,
   "id": "0cd54bb4",
   "metadata": {
    "tags": [
     "mytag"
    ]
   },
   "outputs": [
    {
     "name": "stdout",
     "output_type": "stream",
     "text": [
      "A python cell\n"
     ]
    }
   ],
   "source": [
    "print(\"A python cell\")"
   ]
  },
  {
   "cell_type": "markdown",
   "id": "808da9c8",
   "metadata": {},
   "source": [
    "## A section\n",
    "\n",
    "And some more Markdown..."
   ]
  }
 ],
 "metadata": {
  "jupytext": {
   "formats": "ipynb,md:myst",
   "text_representation": {
    "extension": ".md",
    "format_name": "myst",
    "format_version": 0.13,
    "jupytext_version": "1.14.0"
   }
  },
  "kernelspec": {
   "display_name": "Python 3",
   "language": "python",
   "name": "python3"
  },
  "language_info": {
   "codemirror_mode": {
    "name": "ipython",
    "version": 3
   },
   "file_extension": ".py",
   "mimetype": "text/x-python",
   "name": "python",
   "nbconvert_exporter": "python",
   "pygments_lexer": "ipython3",
   "version": "3.10.5"
  },
  "source_map": [
   13,
   19,
   23
  ]
 },
 "nbformat": 4,
 "nbformat_minor": 5
}