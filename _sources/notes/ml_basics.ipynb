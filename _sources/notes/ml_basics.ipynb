{
 "cells": [
  {
   "cell_type": "markdown",
   "id": "12136ba3-c36c-4845-941e-a72dc956cb02",
   "metadata": {},
   "source": [
    "`````{note}\n",
    "This lecture is going to:\n",
    "* Demonstrate how to load complex time series data with `pandas`\n",
    "* Introduce interactive plotting with the `plotly` python library\n",
    "* Review MAE, RMSE, and parity plots for evaluating model fits\n",
    "* Use `lmfit` to try various non-linear fits, and motivate feature and model choices\n",
    "* Introduce and demonstrate train/val/test splits\n",
    "`````"
   ]
  },
  {
   "cell_type": "markdown",
   "id": "79f64d73-521a-4ed0-8812-390c2a466f78",
   "metadata": {
    "tags": []
   },
   "source": [
    "# Intro to Supervised Learning\n",
    "\n",
    "Let's start with some common tasks in engineering or science that you might come across in your classes, internships, or future jobs:\n",
    "* insights into complex datasets\n",
    "* predict properties or behavior of a system\n",
    "* find patterns in data\n",
    "* learn how properties are related to outputs or behaviors\n",
    "* identify where we should add additional data or experiments\n",
    "* control a process\n",
    "* ...\n",
    "\n",
    "All of these are important and things you learn about in your undergrad ChE classes. However, we are limited in how well we can solve these problems by our understanding of the underlying science or our ability to solve/model complex systems. \n",
    "\n",
    "Let's start with the most common type of machine learning technique in engineering - supervised learning! \n",
    "\n",
    "```{tip}\n",
    "If you have a physical model (based on mol/mass balances, kinetics, engineering principles, etc that describes your data sufficiently well and accomplishes your goals, stick with it! \n",
    "```"
   ]
  },
  {
   "cell_type": "markdown",
   "id": "3a3c22b0-ae45-4861-8071-5d056934d5dc",
   "metadata": {
    "tags": []
   },
   "source": [
    "## Example dataset: northern hemisphere monthly temperature\n",
    "\n",
    "\n",
    "To demonstrate important concepts in supervised learning, let's use the northern hemisphere land-surface average temperature dataset prepared by Berkeley Earth non-profit organization. First, let's grab the dataset using wget from http://berkeleyearth.lbl.gov/auto/Global/Complete_TAVG_complete.txt\n",
    "\n",
    "`````{note}\n",
    "wget is a very useful utility for linux/unix to download files off the internet! You can read more about wget by asking for the help documentation with\n",
    "```\n",
    "!wget --help\n",
    "```\n",
    "\n",
    "`````"
   ]
  },
  {
   "cell_type": "code",
   "execution_count": null,
   "id": "eb7d5611-bb25-4431-a766-53d738c7857a",
   "metadata": {},
   "outputs": [],
   "source": [
    "!wget http://berkeleyearth.lbl.gov/auto/Regional/TAVG/Text/northern-hemisphere-TAVG-Trend.txt"
   ]
  },
  {
   "cell_type": "markdown",
   "id": "2c2e7281-eca9-4090-929b-e41304221afe",
   "metadata": {},
   "source": [
    "Now, we're going to use pandas to load this dataset into our notebook and look at the data."
   ]
  },
  {
   "cell_type": "code",
   "execution_count": null,
   "id": "558989cc-7f23-4658-a1d7-cd8775d7087c",
   "metadata": {},
   "outputs": [],
   "source": [
    "import pandas as pd\n",
    "\n",
    "# Read in the dataset using pandas, and explicitly include the column names\n",
    "# since pandas has trouble with the header lines in this file\n",
    "df = pd.read_csv(\n",
    "    \"northern-hemisphere-TAVG-Trend.txt\",\n",
    "    delim_whitespace=True,\n",
    "    skiprows=70,\n",
    "    names=[\n",
    "        \"year\",\n",
    "        \"month\",\n",
    "        \"monthly_anomaly\",\n",
    "        \"monthly_anomaly_unc\",\n",
    "        \"annual_anomaly\",\n",
    "        \"annual_anomaly_unc\",\n",
    "        \"fiveyear_anomaly\",\n",
    "        \"fiveyear_anomaly_unc\",\n",
    "        \"tenyear_anomaly\",\n",
    "        \"tenyear_anomaly_unc\",\n",
    "        \"twentyyear_anomaly\",\n",
    "        \"twentyyear_anomaly_unc\",\n",
    "    ],\n",
    ").dropna(subset=\"monthly_anomaly\")\n",
    "\n",
    "# calculate the total temperature from the anomaly column and the average temperatures listed in the header of the CSV file\n",
    "df[\"temperature\"] = (\n",
    "    df[\"monthly_anomaly\"]\n",
    "    + (df[\"month\"] == 1) * -2.06\n",
    "    + (df[\"month\"] == 2) * -0.04\n",
    "    + (df[\"month\"] == 3) * 4.57\n",
    "    + (df[\"month\"] == 4) * 10.35\n",
    "    + (df[\"month\"] == 5) * 15.74\n",
    "    + (df[\"month\"] == 6) * 19.67\n",
    "    + (df[\"month\"] == 7) * 21.32\n",
    "    + (df[\"month\"] == 8) * 20.21\n",
    "    + (df[\"month\"] == 9) * 16.63\n",
    "    + (df[\"month\"] == 10) * 10.99\n",
    "    + (df[\"month\"] == 11) * 4.52\n",
    "    + (df[\"month\"] == 12) * -0.38\n",
    ")\n",
    "\n",
    "# display the resulting datafrane\n",
    "df"
   ]
  },
  {
   "cell_type": "markdown",
   "id": "a4295ab9-e512-42d1-a501-be98c6421dd2",
   "metadata": {},
   "source": [
    "For convenience, we'll start by turning the year and month into a single time"
   ]
  },
  {
   "cell_type": "code",
   "execution_count": null,
   "id": "1ffcb60d-5f83-4bd6-bf4b-04fe75a630a6",
   "metadata": {},
   "outputs": [],
   "source": [
    "# convert the years and months into a single time\n",
    "time = df[\"year\"].values + df[\"month\"].values / 12"
   ]
  },
  {
   "cell_type": "markdown",
   "id": "cdda4962-42b9-4345-aff8-8f18efc806a8",
   "metadata": {},
   "source": [
    "First, let's plot the data as a function of the year to see what's going on! We'll use plotly to get an interactive graph!\n",
    "\n",
    "`````{seealso}\n",
    "More tips and graph types for using plotly! https://plotly.com/python/basic-charts/\n",
    "`````"
   ]
  },
  {
   "cell_type": "code",
   "execution_count": null,
   "id": "ade69a2e-d603-4df3-8622-c8164d599e1c",
   "metadata": {},
   "outputs": [],
   "source": [
    "import plotly.graph_objects as go\n",
    "\n",
    "# Make a plotly graph\n",
    "fig = go.Figure()\n",
    "fig.add_scatter(x=time, y=df[\"temperature\"], name=\"Actual Data\")\n",
    "\n",
    "# Update the x/y axis labels\n",
    "fig.update_xaxes(title_text=\"Time [Years]\")\n",
    "fig.update_yaxes(title_text=\"Northern Hemisphere Average Temperature [C]\")\n",
    "\n",
    "# Add a horizontal line at y=0\n",
    "fig.add_hline(y=0.0)\n",
    "\n",
    "# Set the plot size\n",
    "fig.update_layout(autosize=False, width=1000, height=600)\n",
    "fig.show()"
   ]
  },
  {
   "cell_type": "markdown",
   "id": "2a2d8173-1365-4a68-b13d-5ae7a03455e0",
   "metadata": {
    "tags": []
   },
   "source": [
    "## Baseline constant model\n",
    "\n",
    "The very simplest thing we can try is to fit a constant number to the data. Let's try using the lmfit tool that we reviewed last class to fit this function. \n",
    "\\begin{align*}\n",
    "\\hat{y}(X) = c\n",
    "\\end{align*}\n",
    "The constant model is a surprisingly helpful baseline - if we can't do better than this with a model, we haven't done anything at all!\n",
    "\n",
    "`````{note}\n",
    "* $\\hat{y}$ is the outputs (**targets** or **labels**) of the model we want to learn\n",
    "* $X$ is a **feature matrix**. Each row represents one data point. The columns in $X$ are called features, as they are numbers that together represent each data point.\n",
    "For this example, X is an Nx1 matrix with a single column - the time we calculated above.\n",
    "\n",
    "The data that we use to fit the model is called training data, so we'll refer to these as `X_train` and `y_train`.\n",
    "`````"
   ]
  },
  {
   "cell_type": "code",
   "execution_count": null,
   "id": "c501d0e1-45a0-4ed3-a5bb-62f2b7464697",
   "metadata": {},
   "outputs": [],
   "source": [
    "from lmfit.models import ConstantModel\n",
    "\n",
    "X_train = time\n",
    "y_train = df[\"temperature\"].values\n",
    "\n",
    "# Make a constant model\n",
    "model = ConstantModel(independent_vars=[\"x\"])\n",
    "params = model.make_params(c=1)\n",
    "result = model.fit(y_train, params, x=X_train)\n",
    "\n",
    "# The constant model just predicts a number, so we do this to make sure the prediction is the same length for all points\n",
    "y_pred = [result.eval(x=X_train)] * len(y_train)\n",
    "\n",
    "# Show the result\n",
    "result"
   ]
  },
  {
   "cell_type": "markdown",
   "id": "bdc57e4f-2406-43fb-b369-fd6dfaf2c399",
   "metadata": {
    "tags": []
   },
   "source": [
    "## Evaluating fits (MAE, RMSE, parity plots)\n",
    "\n",
    "We've completed our initial fit, so we now need to evaluate how well we've done. Let's calculate the mean absolute error and the root mean absolute error of the fit. Remember, the MAE is:\n",
    "\\begin{align*}\n",
    "\\text{Mean Absolute Error (MAE)} &= \\frac{1}{N}\\sum_i^N |y_i-\\hat{y}_i|\\\\\n",
    "\\text{Root Mean Squared Error (RMSE)} &= \\left[\\frac{1}{N}\\sum_i^N (y_i-\\hat{y}_i)^2\\right]^{1/2}\n",
    "\\end{align*}\n",
    "where \n",
    "* $y_i$ is the actual (training) data (e.g. monthly anomaly)\n",
    "* $\\hat{y}_i$ is the prediction from the model\n",
    "\n",
    "To evaluate these, we're going to use the very helpful scikit-learn package (which we'll be using a lot!)\n",
    "\n",
    "`````{tip}\n",
    "* The MAE indicates the average residual error and tends to focus on the majority of the points. \n",
    "* The RMSE weights larger residuals more and so it more sensitive to outliers or large residuals. The RMSE is always larger than the MAE. \n",
    "`````"
   ]
  },
  {
   "cell_type": "code",
   "execution_count": null,
   "id": "91076efc-4162-40d1-a7e2-5fe7d1b092d8",
   "metadata": {},
   "outputs": [],
   "source": [
    "from sklearn.metrics import mean_absolute_error, mean_squared_error\n",
    "\n",
    "mae = mean_absolute_error(y_train, y_pred)\n",
    "rmse = mean_squared_error(y_train, y_pred) ** 0.5\n",
    "print(f\"The MAE for the constant fit is {mae:0.2f} C\")\n",
    "print(f\"The RMSE for the constant fit is {rmse:0.2f} C\")"
   ]
  },
  {
   "cell_type": "markdown",
   "id": "0196470a-2b57-42d1-9579-7b1441c145d1",
   "metadata": {},
   "source": [
    "We should also plot the fit to see how it looks visually. In addition to plotting the output, we're also going to use a parity plot."
   ]
  },
  {
   "cell_type": "code",
   "execution_count": null,
   "id": "d19853fd-fc68-4451-979e-4caa417e1cd9",
   "metadata": {
    "tags": []
   },
   "outputs": [],
   "source": [
    "from plotly.subplots import make_subplots\n",
    "\n",
    "# Make a plotly graph for the temperature data\n",
    "fig = make_subplots(rows=1, cols=2)\n",
    "fig.add_scatter(x=X_train, y=y_train, name=\"Actual Data\", row=1, col=1)\n",
    "\n",
    "# Add a line for the polynomial fit results\n",
    "fig.add_scatter(\n",
    "    x=X_train,\n",
    "    y=y_pred,\n",
    "    name=f\"Constant Fit, MAE={mae:,.2f}, RMSE={rmse:0.02f}\",\n",
    "    row=1,\n",
    "    col=1,\n",
    ")\n",
    "\n",
    "# Update the x/y axis labels\n",
    "fig.update_xaxes(title_text=\"Time [Years]\", row=1, col=1)\n",
    "fig.update_yaxes(title_text=\"Northern Hemisphere Average Temperature [C]\", row=1, col=1)\n",
    "\n",
    "# Add a horizontal line at y=0\n",
    "fig.add_hline(y=0.0, row=1, col=1)\n",
    "\n",
    "# Make the parity plot!\n",
    "fig.add_scatter(\n",
    "    x=y_train,\n",
    "    y=y_pred,\n",
    "    mode=\"markers\",\n",
    "    name=\"Constant Fit\",\n",
    "    row=1,\n",
    "    col=2,\n",
    ")\n",
    "\n",
    "# Update the x/y axis labels\n",
    "fig.update_xaxes(\n",
    "    title_text=\"Actual Temperature [C]\",\n",
    "    range=[df[\"temperature\"].min(), df[\"temperature\"].max()],\n",
    "    row=1,\n",
    "    col=2,\n",
    ")\n",
    "fig.update_yaxes(\n",
    "    title_text=\"Predicted Temperature [C]\",\n",
    "    range=[df[\"temperature\"].min(), df[\"temperature\"].max()],\n",
    "    row=1,\n",
    "    col=2,\n",
    ")\n",
    "\n",
    "fig.add_shape(\n",
    "    type=\"line\",\n",
    "    x0=df[\"temperature\"].min(),\n",
    "    y0=df[\"temperature\"].min(),\n",
    "    x1=df[\"temperature\"].max(),\n",
    "    y1=df[\"temperature\"].max(),\n",
    "    row=1,\n",
    "    col=2,\n",
    ")\n",
    "# Set the plot size\n",
    "fig.update_layout(autosize=False, width=1200, height=600)\n",
    "fig.show()"
   ]
  },
  {
   "cell_type": "markdown",
   "id": "184aaa13-5604-4480-894d-0f7ff5a68447",
   "metadata": {},
   "source": [
    "Note the shape of the parity plot - the model predicts the same number for every point, so this shows up as a horizontal line. This is not a very good fit!\n",
    "\n",
    "\n",
    "`````{tip}\n",
    "Parity plots like the one just above (a horizontal line) often indicate that the input data has no relationship to the output data, so the best the model can do is predict the average. This is a surprisingly common issue in machine learning. One common cause is that the data inputs were shuffled or re-ordered compared to the targets (labels), so there really is no correlation in the data.\n",
    "`````"
   ]
  },
  {
   "cell_type": "markdown",
   "id": "8800d96f-af4c-41db-84a1-858f202b102e",
   "metadata": {
    "tags": []
   },
   "source": [
    "## Polynomial regression\n",
    "\n",
    "Let's make this one step more complex but fitting a 4th order polynomial instead. If you remember from 06-262, polynomial models are linear in the fitted parameters since they're of the form $f(x)=c_0+c_1x+c_2x^2+\\cdots$, so we expect this minimization to be well-behaved. We could fit this model using linear regression if we wanted."
   ]
  },
  {
   "cell_type": "code",
   "execution_count": null,
   "id": "888dd910-d3f6-4dcc-94a8-c4b71c3bcf4d",
   "metadata": {
    "tags": [
     "hide-output"
    ]
   },
   "outputs": [],
   "source": [
    "from lmfit.models import PolynomialModel\n",
    "\n",
    "X_train = time\n",
    "y_train = df[\"temperature\"].values\n",
    "\n",
    "model = PolynomialModel(degree=4, independent_vars=[\"x\"])\n",
    "params = model.make_params(c0=1, c1=1, c2=1, c3=1, c4=1)\n",
    "result = model.fit(y_train, params, x=X_train)\n",
    "y_pred = result.eval(x=X_train)\n",
    "result"
   ]
  },
  {
   "cell_type": "markdown",
   "id": "d59d4fe2-8e74-49b2-9bca-abc735f41e3c",
   "metadata": {},
   "source": [
    "To evaluate the fit, we'll use the same methods (MAE, RMSE, parity plot) as above."
   ]
  },
  {
   "cell_type": "code",
   "execution_count": null,
   "id": "3c1e95c0-0047-4e68-b61d-ee37565e17e9",
   "metadata": {},
   "outputs": [],
   "source": [
    "mae = mean_absolute_error(y_train, y_pred)\n",
    "rmse = mean_squared_error(y_train, y_pred) ** 0.5\n",
    "print(f\"The MAE for the polynomial fit is {mae:0.2f} C\")\n",
    "print(f\"The RMSE for the polynomial fit is {rmse:0.2f} C\")"
   ]
  },
  {
   "cell_type": "code",
   "execution_count": null,
   "id": "b83fb900-daba-4dee-bac9-901978fdf5e3",
   "metadata": {
    "tags": [
     "hide-input"
    ]
   },
   "outputs": [],
   "source": [
    "# Make a plotly graph for the temperature data\n",
    "fig = make_subplots(rows=1, cols=2)\n",
    "fig.add_scatter(x=time, y=df[\"temperature\"], name=\"Actual Data\", row=1, col=1)\n",
    "\n",
    "# Add a line for the polynomial fit results\n",
    "fig.add_scatter(\n",
    "    x=X_train,\n",
    "    y=y_pred,\n",
    "    name=f\"Polynomial Fit, MAE={mae:,.2f}, RMSE={rmse:0.02f}\",\n",
    "    row=1,\n",
    "    col=1,\n",
    ")\n",
    "\n",
    "# Update the x/y axis labels\n",
    "fig.update_xaxes(title_text=\"Time [Years]\", row=1, col=1)\n",
    "fig.update_yaxes(title_text=\"Northern Hemisphere Average Temperature [C]\", row=1, col=1)\n",
    "\n",
    "# Add a horizontal line at y=0\n",
    "fig.add_hline(y=0.0, row=1, col=1)\n",
    "\n",
    "# Make the parity plot!\n",
    "fig.add_scatter(\n",
    "    x=y_train,\n",
    "    y=y_pred,\n",
    "    mode=\"markers\",\n",
    "    name=\"Polynomial Fit\",\n",
    "    row=1,\n",
    "    col=2,\n",
    ")\n",
    "\n",
    "# Update the x/y axis labels\n",
    "fig.update_xaxes(\n",
    "    title_text=\"Actual Temperature Anomaly [C]\",\n",
    "    range=[df[\"temperature\"].min(), df[\"temperature\"].max()],\n",
    "    row=1,\n",
    "    col=2,\n",
    ")\n",
    "fig.update_yaxes(\n",
    "    title_text=\"Predicted Temperature [C]\",\n",
    "    range=[df[\"temperature\"].min(), df[\"temperature\"].max()],\n",
    "    row=1,\n",
    "    col=2,\n",
    ")\n",
    "\n",
    "fig.add_shape(\n",
    "    type=\"line\",\n",
    "    x0=df[\"temperature\"].min(),\n",
    "    y0=df[\"temperature\"].min(),\n",
    "    x1=df[\"temperature\"].max(),\n",
    "    y1=df[\"temperature\"].max(),\n",
    "    row=1,\n",
    "    col=2,\n",
    ")\n",
    "# Set the plot size\n",
    "fig.update_layout(autosize=False, width=1200, height=600)\n",
    "fig.show()"
   ]
  },
  {
   "cell_type": "markdown",
   "id": "75779296-bb68-4264-bf8e-ef7e95815160",
   "metadata": {},
   "source": [
    "We can see a bit of a trend with the years now, which is interesting! The parity plot has a bit more structure. The MAE/RMSE has decreased very slightly."
   ]
  },
  {
   "cell_type": "markdown",
   "id": "30875ad8-7c53-4d8b-a152-a9738df4bbdb",
   "metadata": {
    "tags": []
   },
   "source": [
    "## Improving the fit by changing the model, or adding features\n",
    "\n",
    "Using a fourth-order polynomial to predict the monthly anomaly got us a fit with an RMSE of about 0.5 C. We probably want to do better than that. We have two main options:\n",
    "1. Try a different model (more/less polynomial degrees? completely different type of model? etc.)\n",
    "2. Add more inputs besides just the time\n",
    "\n",
    "There's not one right or wrong answer here. Both are feasible, and both will take some creativity on our part. Either we have to have some insight into why another model might be better suited to the dataset, or we have to have some insight into why just the absolute time is not the best feature."
   ]
  },
  {
   "cell_type": "markdown",
   "id": "e28f5e91-0636-4799-b81e-b12aa7dbe348",
   "metadata": {
    "tags": []
   },
   "source": [
    "### Adding month as a feature (Month/Year Polynomial)\n",
    "\n",
    "To start, let's add the month as a feature. Essentially, we're changing our feature matrix $X$ from a single column of the time, to two columns:\n",
    "* X[:,0] = year\n",
    "* X[:,1] = month\n",
    "\n",
    "To keep things simple, let's make it a similar polynomial!"
   ]
  },
  {
   "cell_type": "code",
   "execution_count": null,
   "id": "ebba4687-794d-4b5f-bb26-b226ca3a69ce",
   "metadata": {
    "tags": [
     "hide-output"
    ]
   },
   "outputs": [],
   "source": [
    "import numpy as np\n",
    "from lmfit import Model\n",
    "\n",
    "X_train = np.vstack((df[\"year\"].values, df[\"month\"].values)).T\n",
    "y_train = df[\"temperature\"].values\n",
    "\n",
    "\n",
    "def polynomial_year_month(year, month, c0, c1, c2, c3, d1, d2, d3, d4):\n",
    "    return (\n",
    "        c0\n",
    "        + year * c1\n",
    "        + year**2 * c2\n",
    "        + year**3 * c3\n",
    "        + d1 * month\n",
    "        + d2 * month**2\n",
    "        + d3 * month**3\n",
    "        + d4 * month**4\n",
    "    )\n",
    "\n",
    "\n",
    "model = Model(\n",
    "    polynomial_year_month,\n",
    "    independent_vars=[\"year\", \"month\"],\n",
    "    param_names=[\"c0\", \"c1\", \"c2\", \"c3\", \"d1\", \"d2\", \"d3\", \"d4\"],\n",
    ")\n",
    "params = model.make_params(c0=1, c1=1, c2=1, c3=1, d1=1, d2=1, d3=1, d4=1)\n",
    "\n",
    "result = model.fit(y_train, params, year=X_train[:, 0], month=X_train[:, 1])\n",
    "y_pred = result.eval(year=X_train[:, 0], month=X_train[:, 1])"
   ]
  },
  {
   "cell_type": "code",
   "execution_count": null,
   "id": "6d14ef96-6c91-44c2-a7d4-17ad300b037e",
   "metadata": {
    "tags": [
     "hide-input"
    ]
   },
   "outputs": [],
   "source": [
    "mae = mean_absolute_error(y_train, y_pred)\n",
    "rmse = mean_squared_error(y_train, y_pred) ** 0.5\n",
    "print(f\"The MAE for the constant fit is {mae:0.2f} C\")\n",
    "print(f\"The RMSE for the constant fit is {rmse:0.2f} C\")"
   ]
  },
  {
   "cell_type": "code",
   "execution_count": null,
   "id": "9c95700b-2f2b-41bc-88bc-d72c145e89bd",
   "metadata": {
    "tags": [
     "hide-input"
    ]
   },
   "outputs": [],
   "source": [
    "from plotly.subplots import make_subplots\n",
    "\n",
    "# Make a plotly graph for the temperature data\n",
    "fig = make_subplots(rows=1, cols=2)\n",
    "fig.add_scatter(x=time, y=df[\"temperature\"], name=\"Actual Data\", row=1, col=1)\n",
    "\n",
    "# Add a line for the polynomial fit results\n",
    "fig.add_scatter(\n",
    "    x=time,\n",
    "    y=y_pred,\n",
    "    name=f\"Polynomial Fit (Month/Time), MAE={mae:,.2f}, RMSE={rmse:0.02f}\",\n",
    "    row=1,\n",
    "    col=1,\n",
    ")\n",
    "\n",
    "# Update the x/y axis labels\n",
    "fig.update_xaxes(title_text=\"Time [Years]\", row=1, col=1)\n",
    "fig.update_yaxes(title_text=\"Northern Hemisphere Average Temperature [C]\", row=1, col=1)\n",
    "\n",
    "# Add a horizontal line at y=0\n",
    "fig.add_hline(y=0.0, row=1, col=1)\n",
    "\n",
    "# Make the parity plot!\n",
    "fig.add_scatter(\n",
    "    x=df[\"temperature\"],\n",
    "    y=y_pred,\n",
    "    mode=\"markers\",\n",
    "    name=\"Polynomial (year/month) parity\",\n",
    "    row=1,\n",
    "    col=2,\n",
    ")\n",
    "\n",
    "# Update the x/y axis labels\n",
    "fig.update_xaxes(\n",
    "    title_text=\"Actual Temperature Anomaly [C]\",\n",
    "    range=[df[\"temperature\"].min(), df[\"temperature\"].max()],\n",
    "    row=1,\n",
    "    col=2,\n",
    ")\n",
    "fig.update_yaxes(\n",
    "    title_text=\"Predicted Temperature [C]\",\n",
    "    range=[df[\"temperature\"].min(), df[\"temperature\"].max()],\n",
    "    row=1,\n",
    "    col=2,\n",
    ")\n",
    "\n",
    "fig.add_shape(\n",
    "    type=\"line\",\n",
    "    x0=df[\"temperature\"].min(),\n",
    "    y0=df[\"temperature\"].min(),\n",
    "    x1=df[\"temperature\"].max(),\n",
    "    y1=df[\"temperature\"].max(),\n",
    "    row=1,\n",
    "    col=2,\n",
    ")\n",
    "# Set the plot size\n",
    "fig.update_layout(autosize=False, width=1200, height=600)\n",
    "fig.show()"
   ]
  },
  {
   "cell_type": "markdown",
   "id": "1f7b4ddb-d7d5-4b2d-b560-1f76e62d57c5",
   "metadata": {},
   "source": [
    "Now we're getting somewhere! The MAE/RMSE have fallen to ~0.37/0.49 C respectively. The parity plot also looks much nicer now, with results scattering around the parity line."
   ]
  },
  {
   "cell_type": "markdown",
   "id": "67236852-2e3a-40f3-8d0f-07b17fea4cc6",
   "metadata": {
    "tags": []
   },
   "source": [
    "### Practice 1\n",
    "\n",
    "What's the best polynomial order to use for this fit for the month term?"
   ]
  },
  {
   "cell_type": "code",
   "execution_count": null,
   "id": "f4d23f29-02b4-4118-b10c-68898c0968d3",
   "metadata": {},
   "outputs": [],
   "source": []
  },
  {
   "cell_type": "markdown",
   "id": "12e8acb9-fa1d-48cf-92e9-87c94ead0b38",
   "metadata": {},
   "source": [
    "### Change the model (Polynomial+Sin)\n",
    "\n",
    "It's not a huge surprise that there is some periodicity in the model. A reasonable guess for a more reasonable function could include a periodic (sin) component. Let's try:\n",
    "\\begin{align*}\n",
    "f(t) = c_0+c_1t+c_2t^2+c_3t^3+c_4t^4+A\\sin (\\omega t+\\phi)\n",
    "\\end{align*}\n",
    "Note that we aren't explicitly using the month info here."
   ]
  },
  {
   "cell_type": "code",
   "execution_count": null,
   "id": "299a1e89-248c-4e90-83d9-6d215525dd2a",
   "metadata": {
    "tags": [
     "hide-output"
    ]
   },
   "outputs": [],
   "source": [
    "import numpy as np\n",
    "from lmfit.models import PolynomialModel, SineModel\n",
    "\n",
    "X_train = time\n",
    "y_train = df[\"temperature\"].values\n",
    "\n",
    "poly_model = PolynomialModel(degree=4, independent_vars=[\"x\"])\n",
    "sine_model = SineModel(independent_vars=[\"x\"])\n",
    "model = sine_model + poly_model\n",
    "params = model.make_params(\n",
    "    c0=1, c1=1, c2=1, c3=1, c4=1, frequency=2 * np.pi, amplitude=10, shift=0 * np.pi\n",
    ")\n",
    "result = model.fit(y_train, params, x=X_train)\n",
    "y_pred = result.eval(x=X_train)"
   ]
  },
  {
   "cell_type": "code",
   "execution_count": null,
   "id": "50b9bdeb-70fe-44ce-85f0-3c59e84d4d82",
   "metadata": {
    "tags": [
     "hide-input"
    ]
   },
   "outputs": [],
   "source": [
    "mae = mean_absolute_error(df[\"temperature\"], y_pred)\n",
    "rmse = mean_squared_error(df[\"temperature\"], y_pred) ** 0.5\n",
    "print(f\"The MAE for the polynomial+sin fit is {mae:0.2f} C\")\n",
    "print(f\"The RMSE for the polynomial+sin fit is {rmse:0.2f} C\")"
   ]
  },
  {
   "cell_type": "code",
   "execution_count": null,
   "id": "bb369a74-7c8b-4a14-9340-2a0292228acd",
   "metadata": {
    "tags": [
     "hide-input"
    ]
   },
   "outputs": [],
   "source": [
    "from plotly.subplots import make_subplots\n",
    "\n",
    "# Make a plotly graph for the temperature data\n",
    "fig = make_subplots(rows=1, cols=2)\n",
    "fig.add_scatter(x=time, y=df[\"temperature\"], name=\"Actual Data\", row=1, col=1)\n",
    "\n",
    "# Add a line for the polynomial fit results\n",
    "fig.add_scatter(\n",
    "    x=X_train,\n",
    "    y=y_pred,\n",
    "    name=f\"f(t)+sin(t) Fit (Time), MAE={mae:,.2f}, RMSE={rmse:0.02f}\",\n",
    "    row=1,\n",
    "    col=1,\n",
    ")\n",
    "\n",
    "# Update the x/y axis labels\n",
    "fig.update_xaxes(title_text=\"Time [Years]\", row=1, col=1)\n",
    "fig.update_yaxes(title_text=\"Northern Hemisphere Average Temperature [C]\", row=1, col=1)\n",
    "\n",
    "# Add a horizontal line at y=0\n",
    "fig.add_hline(y=0.0, row=1, col=1)\n",
    "\n",
    "# Make the parity plot!\n",
    "fig.add_scatter(\n",
    "    x=y_train,\n",
    "    y=y_pred,\n",
    "    mode=\"markers\",\n",
    "    name=\"Polynomial+Sin Parity\",\n",
    "    row=1,\n",
    "    col=2,\n",
    ")\n",
    "\n",
    "# Update the x/y axis labels\n",
    "fig.update_xaxes(\n",
    "    title_text=\"Actual Temperature Anomaly [C]\",\n",
    "    range=[df[\"temperature\"].min(), df[\"temperature\"].max()],\n",
    "    row=1,\n",
    "    col=2,\n",
    ")\n",
    "fig.update_yaxes(\n",
    "    title_text=\"Predicted Temperature [C]\",\n",
    "    range=[df[\"temperature\"].min(), df[\"temperature\"].max()],\n",
    "    row=1,\n",
    "    col=2,\n",
    ")\n",
    "\n",
    "fig.add_shape(\n",
    "    type=\"line\",\n",
    "    x0=df[\"temperature\"].min(),\n",
    "    y0=df[\"temperature\"].min(),\n",
    "    x1=df[\"temperature\"].max(),\n",
    "    y1=df[\"temperature\"].max(),\n",
    "    row=1,\n",
    "    col=2,\n",
    ")\n",
    "\n",
    "# Set the plot size\n",
    "fig.update_layout(autosize=False, width=1200, height=600)\n",
    "fig.show()"
   ]
  },
  {
   "cell_type": "markdown",
   "id": "31ffd003-2093-4f2b-8dd2-2f4e717372fc",
   "metadata": {},
   "source": [
    "This fit is also pretty good, but not quite as good as our double polynomial from above.\n",
    "\n",
    "\n",
    "`````{warning}\n",
    "This fit is quite sensitive to the initial conditions! Try other sets of parameter guesses and see how the answers change!\n",
    "`````"
   ]
  },
  {
   "cell_type": "markdown",
   "id": "4ed8c4ae-e4dd-41dc-a942-3a8c628a821f",
   "metadata": {
    "tags": []
   },
   "source": [
    "## Pitfalls with fitting models using all of the available data\n",
    "\n",
    "\n",
    "So far, we've evaluated modeling techniques by fitting the model using all of the available data. Based on the metrics we calculated, it seems like we should be able to predict the temperature for any month/year within about 0.5 degrees C.\n",
    "\n",
    "However, there are a few major issues:\n",
    "* We have no idea how the model will work for predicting things it hasn't seen before\n",
    "* We have no idea if or the model will extrapolate\n",
    "* We can perfectly fit most data by just throwing more polynomial features and fitted parameters at the problem"
   ]
  },
  {
   "cell_type": "markdown",
   "id": "344e5bc2-4083-4c00-a71f-e0cfa209526a",
   "metadata": {},
   "source": [
    "### Model extrapolation \n",
    "\n",
    "As a demonstration, let's check how our last model from above works for predicting temperatures in the future, or before the first available data (1840)."
   ]
  },
  {
   "cell_type": "code",
   "execution_count": null,
   "id": "fd2f7f18-7169-466d-834e-172ed0f380ae",
   "metadata": {},
   "outputs": [],
   "source": [
    "import numpy as np\n",
    "from lmfit.models import PolynomialModel, SineModel\n",
    "\n",
    "# Make a plotly graph for the temperature data\n",
    "fig = go.Figure()\n",
    "fig.add_scatter(x=time, y=df[\"temperature\"], name=\"Actual Data\")\n",
    "\n",
    "# Add a line for the polynomial fit results\n",
    "fig.add_scatter(\n",
    "    x=np.linspace(1700, 2100, 12 * 400),\n",
    "    y=result.eval(x=np.linspace(1700, 2100, 12 * 400)),\n",
    "    name=f\"Polynomial Fit (Month/Time), MAE={mae:,.2f}, RMSE={rmse:0.02f}\",\n",
    ")\n",
    "\n",
    "# Update the x/y axis labels\n",
    "fig.update_xaxes(title_text=\"Time [Years]\")\n",
    "fig.update_yaxes(title_text=\"Northern Hemisphere Average Temperature [C]\")\n",
    "\n",
    "# Add a horizontal line at y=0\n",
    "fig.add_hline(y=0.0)\n",
    "\n",
    "# Set the plot size\n",
    "fig.update_layout(autosize=False, width=1200, height=600)\n",
    "fig.show()"
   ]
  },
  {
   "cell_type": "markdown",
   "id": "84eaac42-4055-4476-94bd-8ec244507d11",
   "metadata": {},
   "source": [
    "Notice that although the model fits reasonably well within the range of the dataset, if we ask it to make predictions in the future, or for data points before the start of the data, the predictions are far too high. The temperature in 1700 was definitely not 20 degrees C higher than the 1900s, and global warming predictions is expected to be significantly than the 15C predicted here. \n",
    "\n",
    "We want models that can predict things that we haven't seen before, so we need to change our way of evaluating the models."
   ]
  },
  {
   "cell_type": "markdown",
   "id": "80729aa7-191d-48a7-9292-79b3d75d3c4f",
   "metadata": {
    "tags": []
   },
   "source": [
    "## Train/validation/test splits\n",
    "\n",
    "We want our models to be predictive! That is, they should work for data they haven't seen before, and be useful in practice. To accomplish this, we use train/validation/test data splits to see how our fitted models work in synthetic scenarios.\n",
    "\n",
    "\n",
    "`````{note}\n",
    "* **Train:** The data that we actually show our models during the fitting process\n",
    "* **Validation:** Data that we predict on with our trained models and use to decide which model to use, or how to adjust various parameters in the fitting procedure\n",
    "* **Test:** Data that we set aside and look at as infrequently as possible. This should represent some data that the model has never seen before and is indicative of the real world task\n",
    "`````"
   ]
  },
  {
   "cell_type": "markdown",
   "id": "e688f1db-a972-4f0e-b8d0-fc1cef880492",
   "metadata": {},
   "source": [
    "### Random train/val/test split\n",
    "\n",
    "The most approach in supervised learning is a random train/validation/test split, in ratios of something like 80%/10%/10%. That is, we fit a bunch of models to the same 80% of the data. We pick the best one by asking which works best on the validation 10%. And then we try that model on the test 10% to see if it works in practice!\n",
    "\n",
    "\n",
    "Let's try this with our sample dataset. To do so we'll use more scikit learn tools.https://scikit-learn.org/stable/modules/generated/sklearn.model_selection.train_test_split.html\n",
    "\n",
    "`````{seealso}\n",
    "https://scikit-learn.org/stable/modules/generated/sklearn.model_selection.train_test_split.html\n",
    "`````"
   ]
  },
  {
   "cell_type": "code",
   "execution_count": null,
   "id": "174d420a-6b92-4fc7-bf72-7cf8b2132cac",
   "metadata": {},
   "outputs": [],
   "source": [
    "from sklearn.model_selection import train_test_split\n",
    "\n",
    "# Make one big 2d array that holds all of the data we might want to use\n",
    "X = np.vstack((time, df[\"year\"], df[\"month\"])).T\n",
    "\n",
    "# split the data into train/val/test splits\n",
    "X_train, X_test, y_train, y_test = train_test_split(\n",
    "    X, df[\"temperature\"], test_size=0.1, random_state=42\n",
    ")\n",
    "X_train, X_val, y_train, y_val = train_test_split(\n",
    "    X_train, y_train, test_size=1 / 9, random_state=42\n",
    ")\n",
    "\n",
    "# Check the train/val/test shapes\n",
    "print(X_train.shape)\n",
    "print(y_train.shape)\n",
    "\n",
    "print(X_test.shape)\n",
    "print(y_test.shape)\n",
    "\n",
    "print(X_val.shape)\n",
    "print(y_val.shape)"
   ]
  },
  {
   "cell_type": "markdown",
   "id": "b59ae89e-757d-4abc-9ae7-266d79767cbd",
   "metadata": {},
   "source": [
    "Now that we have our train/validation/test split, let's see how this works in practice! \n",
    "\n",
    "First, we fit the model using the training data using our competing models and predict on the validation set to pick the best model."
   ]
  },
  {
   "cell_type": "code",
   "execution_count": null,
   "id": "371e895f-9cee-47d5-a579-6f968eb7d3cb",
   "metadata": {
    "tags": [
     "hide-input"
    ]
   },
   "outputs": [],
   "source": [
    "import numpy as np\n",
    "from lmfit.models import PolynomialModel, SineModel\n",
    "\n",
    "poly_model = PolynomialModel(degree=4, independent_vars=[\"x\"])\n",
    "sine_model = SineModel(independent_vars=[\"x\"])\n",
    "model = sine_model + poly_model\n",
    "params = model.make_params(\n",
    "    c0=1, c1=1, c2=1, c3=1, c4=1, frequency=2 * np.pi, amplitude=10, shift=-2 * np.pi\n",
    ")\n",
    "result = model.fit(y_train, params, x=X_train[:, 0])\n",
    "y_val_pred = result.eval(x=X_val[:, 0])\n",
    "\n",
    "mae = mean_absolute_error(y_val, y_val_pred)\n",
    "rmse = mean_squared_error(y_val, y_val_pred) ** 0.5\n",
    "print(f\"The MAE for the polynomial+sin model fit is {mae:0.2f} C\")\n",
    "print(f\"The RMSE for the  polynomial+sin model fit is {rmse:0.2f} C\")"
   ]
  },
  {
   "cell_type": "code",
   "execution_count": null,
   "id": "60d6d9bb-ff37-4e81-ab22-104f46f24774",
   "metadata": {
    "tags": [
     "hide-input"
    ]
   },
   "outputs": [],
   "source": [
    "import numpy as np\n",
    "from lmfit import Model\n",
    "\n",
    "\n",
    "def polynomial_year_month(year, month, c0, c1, c2, c3, d1, d2, d3, d4):\n",
    "    return (\n",
    "        c0\n",
    "        + year * c1\n",
    "        + year**2 * c2\n",
    "        + year**3 * c3\n",
    "        + d1 * month\n",
    "        + d2 * month**2\n",
    "        + d3 * month**3\n",
    "        + d4 * month**4\n",
    "    )\n",
    "\n",
    "\n",
    "gmodel = Model(\n",
    "    polynomial_year_month,\n",
    "    independent_vars=[\"year\", \"month\"],\n",
    "    param_names=[\"c0\", \"c1\", \"c2\", \"c3\", \"d1\", \"d2\", \"d3\", \"d4\"],\n",
    ")\n",
    "params = gmodel.make_params(c0=1, c1=1, c2=1, c3=1, d1=1, d2=1, d3=1, d4=1)\n",
    "\n",
    "monthyear_result = gmodel.fit(y_train, params, year=X_train[:, 1], month=X_train[:, 2])\n",
    "y_val_pred = monthyear_result.eval(year=X_val[:, 1], month=X_val[:, 2])\n",
    "\n",
    "mae = mean_absolute_error(y_val, y_val_pred)\n",
    "rmse = mean_squared_error(y_val, y_val_pred) ** 0.5\n",
    "print(f\"The MAE for the month/year polynomial model fit is {mae:0.2f} C\")\n",
    "print(f\"The RMSE for the  month/year polynomial model fit is {rmse:0.2f} C\")"
   ]
  },
  {
   "cell_type": "code",
   "execution_count": null,
   "id": "fa842888-c2f7-4919-9e06-5a57bb1b68b1",
   "metadata": {
    "tags": [
     "hide-input"
    ]
   },
   "outputs": [],
   "source": [
    "# Make a plotly graph for the temperature data\n",
    "fig = make_subplots(rows=1, cols=2)\n",
    "fig.add_scatter(\n",
    "    x=X_train[:, 0], y=y_train, name=\"Train Data\", row=1, col=1, mode=\"markers\"\n",
    ")\n",
    "fig.add_scatter(\n",
    "    x=X_val[:, 0], y=y_val, name=\"Validation Data\", row=1, col=1, mode=\"markers\"\n",
    ")\n",
    "\n",
    "# Add a line for the polynomial fit results\n",
    "fig.add_scatter(\n",
    "    x=X_val[:, 0],\n",
    "    y=result.eval(x=X_val[:, 0]),\n",
    "    name=f\"Polynomial+Sin Fit\",\n",
    "    mode=\"markers\",\n",
    "    row=1,\n",
    "    col=1,\n",
    ")\n",
    "\n",
    "fig.add_scatter(\n",
    "    x=X_val[:, 0],\n",
    "    y=monthyear_result.eval(year=X_val[:, 1], month=X_val[:, 2]),\n",
    "    name=f\"Month/Year Polynomial Fit\",\n",
    "    mode=\"markers\",\n",
    "    row=1,\n",
    "    col=1,\n",
    ")\n",
    "\n",
    "# Update the x/y axis labels\n",
    "fig.update_xaxes(title_text=\"Time [Years]\", row=1, col=1)\n",
    "fig.update_yaxes(title_text=\"Northern Hemisphere Average Temperature [C]\", row=1, col=1)\n",
    "\n",
    "# Add a horizontal line at y=0\n",
    "fig.add_hline(y=0.0, row=1, col=1)\n",
    "\n",
    "# Make the parity plot!\n",
    "fig.add_scatter(\n",
    "    x=y_val,\n",
    "    y=result.eval(x=X_val[:, 0]),\n",
    "    mode=\"markers\",\n",
    "    name=\"Polynomial+Sin Fit\",\n",
    "    row=1,\n",
    "    col=2,\n",
    ")\n",
    "\n",
    "# Make the parity plot!\n",
    "fig.add_scatter(\n",
    "    x=y_val,\n",
    "    y=monthyear_result.eval(year=X_val[:, 1], month=X_val[:, 2]),\n",
    "    mode=\"markers\",\n",
    "    name=\"Month/Year Polynomial Fit\",\n",
    "    row=1,\n",
    "    col=2,\n",
    ")\n",
    "\n",
    "# Update the x/y axis labels\n",
    "fig.update_xaxes(\n",
    "    title_text=\"Actual Temperature Anomaly [C]\",\n",
    "    range=[df[\"temperature\"].min(), df[\"temperature\"].max()],\n",
    "    row=1,\n",
    "    col=2,\n",
    ")\n",
    "fig.update_yaxes(\n",
    "    title_text=\"Predicted Temperature [C]\",\n",
    "    range=[df[\"temperature\"].min(), df[\"temperature\"].max()],\n",
    "    row=1,\n",
    "    col=2,\n",
    ")\n",
    "\n",
    "fig.add_shape(\n",
    "    type=\"line\",\n",
    "    x0=df[\"temperature\"].min(),\n",
    "    y0=df[\"temperature\"].min(),\n",
    "    x1=df[\"temperature\"].max(),\n",
    "    y1=df[\"temperature\"].max(),\n",
    "    row=1,\n",
    "    col=2,\n",
    ")\n",
    "# Set the plot size\n",
    "fig.update_layout(autosize=False, width=1200, height=600)\n",
    "fig.show()"
   ]
  },
  {
   "cell_type": "markdown",
   "id": "1f65fd52-2b37-4930-a71a-5b81b269be44",
   "metadata": {},
   "source": [
    "Surprisingly, the polynomial/sin fit works even better than with all of the training data! This probably means that we could have done better with other initial conditions in the optimization above."
   ]
  },
  {
   "cell_type": "markdown",
   "id": "e0f6325e-c32d-4f74-be22-6bee8658f79a",
   "metadata": {},
   "source": [
    "## Time series train/val/test splits\n",
    "\n",
    "We are getting pretty close to a standard machine learning pipeline. However, we need to think a bit about the task we've indicated with the random train/val/test split. We chose the validation and test randomly from the entire time series, so the task is basically whether we can fill in missing time points. \n",
    "\n",
    "A more useful model would be one that could predict the average temperature. Let's try repeating the train/val/test split, but do it without shuffling. This will represent a task:\n",
    "* Models are fit on data from 1840-1985\n",
    "* The models are asked to predict the validation data from 1985-2003, and the best model is chosen based on its ability to predict 20 years in to the future\n",
    "* The best model is fit on the train and validation data and used to predict the test data from 2003-2022"
   ]
  },
  {
   "cell_type": "code",
   "execution_count": null,
   "id": "280945f8-bd2e-4c3b-8d25-57fe0575c8d4",
   "metadata": {},
   "outputs": [],
   "source": [
    "from sklearn.model_selection import train_test_split\n",
    "\n",
    "# Make one big 2d array that holds all of the data we might want to use\n",
    "X = np.vstack((time, df[\"year\"], df[\"month\"])).T\n",
    "\n",
    "# split the data into train/val/test splits\n",
    "X_train, X_test, y_train, y_test = train_test_split(\n",
    "    X, df[\"temperature\"], test_size=0.1, random_state=42, shuffle=False\n",
    ")\n",
    "X_train, X_val, y_train, y_val = train_test_split(\n",
    "    X_train, y_train, test_size=1 / 9, random_state=42, shuffle=False\n",
    ")\n",
    "\n",
    "# Check the train/val/test shapes\n",
    "print(X_train.shape)\n",
    "print(y_train.shape)\n",
    "\n",
    "print(X_test.shape)\n",
    "print(y_test.shape)\n",
    "\n",
    "print(X_val.shape)\n",
    "print(y_val.shape)"
   ]
  },
  {
   "cell_type": "code",
   "execution_count": null,
   "id": "94efbd8e-0a71-4053-b733-c007bfbcf97d",
   "metadata": {
    "tags": [
     "hide-input"
    ]
   },
   "outputs": [],
   "source": [
    "import numpy as np\n",
    "from lmfit.models import PolynomialModel, SineModel\n",
    "\n",
    "poly_model = PolynomialModel(degree=4, independent_vars=[\"x\"])\n",
    "sine_model = SineModel(independent_vars=[\"x\"])\n",
    "model = sine_model + poly_model\n",
    "params = model.make_params(\n",
    "    c0=1, c1=1, c2=1, c3=1, c4=1, frequency=2 * np.pi, amplitude=10, shift=-2 * np.pi\n",
    ")\n",
    "result = model.fit(y_train, params, x=X_train[:, 0])\n",
    "y_val_pred = result.eval(x=X_val[:, 0])\n",
    "\n",
    "mae = mean_absolute_error(y_val, y_val_pred)\n",
    "rmse = mean_squared_error(y_val, y_val_pred) ** 0.5\n",
    "print(f\"The MAE for the polynomial+sin model fit is {mae:0.2f} C\")\n",
    "print(f\"The RMSE for the  polynomial+sin model fit is {rmse:0.2f} C\")"
   ]
  },
  {
   "cell_type": "code",
   "execution_count": null,
   "id": "922bb2c9-6863-442f-a2cc-ac5d0a9774ec",
   "metadata": {
    "tags": [
     "hide-input"
    ]
   },
   "outputs": [],
   "source": [
    "import numpy as np\n",
    "from lmfit import Model\n",
    "\n",
    "\n",
    "def polynomial_year_month(year, month, c0, c1, c2, c3, d1, d2, d3, d4):\n",
    "    return (\n",
    "        c0\n",
    "        + year * c1\n",
    "        + year**2 * c2\n",
    "        + year**3 * c3\n",
    "        + d1 * month\n",
    "        + d2 * month**2\n",
    "        + d3 * month**3\n",
    "        + d4 * month**4\n",
    "    )\n",
    "\n",
    "\n",
    "gmodel = Model(\n",
    "    polynomial_year_month,\n",
    "    independent_vars=[\"year\", \"month\"],\n",
    "    param_names=[\"c0\", \"c1\", \"c2\", \"c3\", \"d1\", \"d2\", \"d3\", \"d4\"],\n",
    ")\n",
    "params = gmodel.make_params(c0=1, c1=1, c2=1, c3=1, d1=1, d2=1, d3=1, d4=1)\n",
    "\n",
    "result = gmodel.fit(y_train, params, year=X_train[:, 1], month=X_train[:, 2])\n",
    "y_val_pred = result.eval(year=X_val[:, 1], month=X_val[:, 2])\n",
    "\n",
    "mae = mean_absolute_error(y_val, y_val_pred)\n",
    "rmse = mean_squared_error(y_val, y_val_pred) ** 0.5\n",
    "print(f\"The MAE for the month/year polynomial model fit is {mae:0.2f} C\")\n",
    "print(f\"The RMSE for the  month/year polynomial model fit is {rmse:0.2f} C\")"
   ]
  },
  {
   "cell_type": "markdown",
   "id": "1ee19290-ac43-4450-bef1-f29138e6c106",
   "metadata": {},
   "source": [
    "The MAE for the second model is far better. Clearly the first has trouble extrapolating to the future, or possibly the initial parameter guesses don't work very well for this new data!\n"
   ]
  },
  {
   "cell_type": "markdown",
   "id": "609a68ae-b6d9-43e5-9bb8-596b813594d4",
   "metadata": {},
   "source": [
    "### Practice 2\n",
    "\n",
    "What's the best polynomial order to use for this fit for the month term?"
   ]
  },
  {
   "cell_type": "code",
   "execution_count": null,
   "id": "3e29d213-87dc-4726-86b7-7249fa416ad8",
   "metadata": {},
   "outputs": [],
   "source": []
  },
  {
   "cell_type": "markdown",
   "id": "8f9e6e5f-ed7f-423b-9706-294a2d616dc4",
   "metadata": {},
   "source": [
    "## Train/val/test continued!\n",
    "\n",
    "The last thing to do is train this model on train/val data and predict on the test to see how well it actually does for the most recent 20 years or so!"
   ]
  },
  {
   "cell_type": "code",
   "execution_count": null,
   "id": "be002ff6-e420-4793-88bb-e6caf382171e",
   "metadata": {
    "tags": [
     "hide-input"
    ]
   },
   "outputs": [],
   "source": [
    "result = gmodel.fit(\n",
    "    np.hstack((y_train, y_val)),\n",
    "    params,\n",
    "    year=np.vstack((X_train, X_val))[:, 1],\n",
    "    month=np.vstack((X_train, X_val))[:, 2],\n",
    ")\n",
    "y_test_pred = monthyear_result.eval(year=X_test[:, 1], month=X_test[:, 2])\n",
    "\n",
    "mae = mean_absolute_error(y_test, y_test_pred)\n",
    "rmse = mean_squared_error(y_test, y_test_pred) ** 0.5\n",
    "print(f\"The MAE for the month/year polynomial model fit is {mae:0.2f} C\")\n",
    "print(f\"The RMSE for the  month/year polynomial model fit is {rmse:0.2f} C\")"
   ]
  },
  {
   "cell_type": "code",
   "execution_count": null,
   "id": "37b93960-4ac2-4cc8-ad96-f2d0a8419bd0",
   "metadata": {
    "tags": [
     "hide-input"
    ]
   },
   "outputs": [],
   "source": [
    "# Make a plotly graph for the temperature data\n",
    "fig = make_subplots(rows=1, cols=2)\n",
    "fig.add_scatter(\n",
    "    x=X_train[:, 0], y=y_train, name=\"Train Data\", row=1, col=1, mode=\"markers\"\n",
    ")\n",
    "fig.add_scatter(\n",
    "    x=X_val[:, 0], y=y_val, name=\"Validation Data\", row=1, col=1, mode=\"markers\"\n",
    ")\n",
    "fig.add_scatter(\n",
    "    x=X_test[:, 0], y=y_test, name=\"Test Data\", row=1, col=1, mode=\"markers\"\n",
    ")\n",
    "\n",
    "# Add a line for the polynomial fit results\n",
    "fig.add_scatter(\n",
    "    x=X_test[:, 0],\n",
    "    y=result.eval(year=X_test[:, 1],month=X_test[:, 2]),\n",
    "    name=f\"Polynomial Fit (Month/Time), MAE={mae:,.2f}, RMSE={rmse:0.02f}\",\n",
    "    mode=\"markers\",\n",
    "    row=1,\n",
    "    col=1,\n",
    ")\n",
    "\n",
    "\n",
    "# Update the x/y axis labels\n",
    "fig.update_xaxes(title_text=\"Time [Years]\", row=1, col=1)\n",
    "fig.update_yaxes(title_text=\"Northern Hemisphere Average Temperature [C]\", row=1, col=1)\n",
    "\n",
    "# Add a horizontal line at y=0\n",
    "fig.add_hline(y=0.0, row=1, col=1)\n",
    "\n",
    "# Make the parity plot!\n",
    "fig.add_scatter(\n",
    "    x=y_test,\n",
    "    y=result.eval(year=X_test[:, 1],month=X_test[:, 2]),\n",
    "    mode=\"markers\",\n",
    "    name=f\"Polynomial Fit (Month/Time), MAE={mae:,.2f}, RMSE={rmse:0.02f}\",\n",
    "    row=1,\n",
    "    col=2,\n",
    ")\n",
    "\n",
    "# Update the x/y axis labels\n",
    "fig.update_xaxes(\n",
    "    title_text=\"Actual Temperature Anomaly [C]\",\n",
    "    range=[df[\"temperature\"].min(), df[\"temperature\"].max()],\n",
    "    row=1,\n",
    "    col=2,\n",
    ")\n",
    "fig.update_yaxes(\n",
    "    title_text=\"Predicted Temperature [C]\",\n",
    "    range=[df[\"temperature\"].min(), df[\"temperature\"].max()],\n",
    "    row=1,\n",
    "    col=2,\n",
    ")\n",
    "\n",
    "fig.add_shape(\n",
    "    type=\"line\",\n",
    "    x0=df[\"temperature\"].min(),\n",
    "    y0=df[\"temperature\"].min(),\n",
    "    x1=df[\"temperature\"].max(),\n",
    "    y1=df[\"temperature\"].max(),\n",
    "    row=1,\n",
    "    col=2,\n",
    ")\n",
    "# Set the plot size\n",
    "fig.update_layout(autosize=False, width=1200, height=600)\n",
    "fig.show()"
   ]
  },
  {
   "cell_type": "markdown",
   "id": "bee88660-5e0d-4ca9-adc5-eb073b3363c0",
   "metadata": {},
   "source": [
    "We now have a pretty good idea of what level of accuracy we can expect moving forward. The parity plot looks reasonable, and the RMSE is ~0.52 C for the test set. Assuming that the system does not have major forces acting on it (like significant climate change action), we can probably use this model to forecast the next 10 years. Hopefully this isn't a good assumption!"
   ]
  }
 ],
 "metadata": {
  "jupytext": {
   "cell_metadata_filter": "-all",
   "formats": "ipynb",
   "main_language": "python"
  },
  "kernelspec": {
   "display_name": "Python 3 (ipykernel)",
   "language": "python",
   "name": "python3"
  },
  "language_info": {
   "codemirror_mode": {
    "name": "ipython",
    "version": 3
   },
   "file_extension": ".py",
   "mimetype": "text/x-python",
   "name": "python",
   "nbconvert_exporter": "python",
   "pygments_lexer": "ipython3",
   "version": "3.9.13"
  }
 },
 "nbformat": 4,
 "nbformat_minor": 5
}
