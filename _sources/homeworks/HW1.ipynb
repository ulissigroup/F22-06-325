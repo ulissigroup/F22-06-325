{
 "cells": [
  {
   "cell_type": "markdown",
   "id": "5cbb4f6a",
   "metadata": {},
   "source": [
    "$$\\require{mhchem}$$"
   ]
  },
  {
   "cell_type": "markdown",
   "id": "3f8fe50f",
   "metadata": {},
   "source": [
    "# HW1 (due 9/4)"
   ]
  },
  {
   "cell_type": "markdown",
   "id": "e5312531",
   "metadata": {
    "tags": []
   },
   "source": [
    "# Catalyst deactivation in a batch reactor [50 pts]\n",
    "\n",
    "Consider the irreversible, liquid-phase isomerization reaction carried out in a solvent containing dissolved catalyst at 25 C in a batch reactor:\n",
    "\\begin{align*}\n",
    "\\ce{B ->[k_b] C}\n",
    "\\end{align*}\n",
    "The apparent first-order reaction rate constant $k_b$ decreases with time because of catalyst deterioriation. A chemist friend of yours has studied the catalyst deactivation process and has proposed that it can be modeled with\n",
    "\\begin{align*}\n",
    "k_b = \\frac{k}{1+k_dt}\n",
    "\\end{align*}\n",
    "in which $k$ is the fresh catalyst rate constant and $k_d$ is the deactivation rate constant.\n",
    "\n",
    "We can derive the ODE to solve by starting with a mol balance on the entire system:\n",
    "\\begin{align*}\n",
    "\\frac{dN_b}{dt} &=N_b^0 - Vr \\\\\n",
    "\\frac{dC_b}{dt} &= -k_bC_b=-\\frac{kC_b}{1+k_dt} \n",
    "\\end{align*}\n",
    "with the initial condition $C_b(t=0)=C_{b0}=5$ M."
   ]
  },
  {
   "cell_type": "markdown",
   "id": "615fdb3c",
   "metadata": {},
   "source": [
    "## Mol balance solve\n",
    "\n",
    "Solve the mole balance for $C_B(t)$ assuming $k$=0.6/hr and $k_d$=2/hr. Plot the conversion % for your solution (defined as $C_B(t)/C_{B0}$)."
   ]
  },
  {
   "cell_type": "markdown",
   "id": "8d4216d7",
   "metadata": {},
   "source": [
    "## If it takes two hours to reach 50% conversion and the fresh catalyst has a rate constant of 0.6/hr what is the actual $k_d$?"
   ]
  },
  {
   "cell_type": "markdown",
   "id": "6f2d06c9",
   "metadata": {},
   "source": [
    "## Using $k_d$ from 1.3, use solve_ivp events to determine how long it takes to reach 75% conversion in the reactor."
   ]
  },
  {
   "cell_type": "markdown",
   "id": "7bc74541",
   "metadata": {},
   "source": [
    "## Catalyst refresh\n",
    "Say that we can stop the batch process after 2 hours, filter the spent catalyst, and replace with fresh catalyst. Solve and plot for $C_B(t)$ over 5 hours, and include the plot with the catalyst refresh. Include a legend on the plot to label each solution"
   ]
  },
  {
   "cell_type": "markdown",
   "id": "dfc6722a",
   "metadata": {
    "tags": []
   },
   "source": [
    "# Curve fitting with two species and multiple data (50 pt)\n",
    "\n",
    "Consider the irreversible reaction:\n",
    "\\begin{align*}\n",
    "\\ce{A + B -> Products}\n",
    "\\end{align*}\n",
    "with $r=kC_A^nC_B^m$ taking place in an isothermal liquid-phase batch reactor. Measurements of $C_A$ vs $C_B$ are included in the attached file isothermal_liquidphase_batch_data.dat. We wish to determine from the data the rate constant and the order of the reaction with respect to A and B.  We have data from two experiments."
   ]
  },
  {
   "cell_type": "markdown",
   "id": "c854761b",
   "metadata": {},
   "source": [
    "## Load the data from the file into a numpy array and plot the concentration of each species\n",
    "\n",
    "\n",
    "You can use either the csv library https://docs.python.org/3/library/csv.html or pandas https://pandas.pydata.org/pandas-docs/stable/generated/pandas.read_csv.html. \n",
    "\n",
    "The first column is time in minutes. The second and third column is C_A and C_B for the first experiment (in mol/L). The fourth and fifth column is C_A and C_B for the second experiment. Plot the data for $C_A$ and $C_B$ for each experiment (one experiment per figure)."
   ]
  },
  {
   "cell_type": "code",
   "execution_count": null,
   "id": "d9487648",
   "metadata": {},
   "outputs": [],
   "source": []
  },
  {
   "cell_type": "markdown",
   "id": "2765e7e1",
   "metadata": {
    "tags": []
   },
   "source": [
    "## Using lmfit, estimate rate parameters $k, n, m$ and initial concentration $C_{A0},C_{B0}$ from the data in the first experiment using a numerical solution for the concentrations of each species (standard mol balance + odeint).  Plot the final fit of the experiment along with the experimental data and calculate the uncertainty in each value"
   ]
  },
  {
   "cell_type": "code",
   "execution_count": null,
   "id": "30c4cc1a",
   "metadata": {},
   "outputs": [],
   "source": []
  },
  {
   "cell_type": "markdown",
   "id": "838c0afa",
   "metadata": {},
   "source": [
    "## Consider the second experiment, estimate the parameters using only this data. Comment on how the values and confidence intervals are different than the first case"
   ]
  },
  {
   "cell_type": "code",
   "execution_count": null,
   "id": "8c8d3e58",
   "metadata": {},
   "outputs": [],
   "source": []
  },
  {
   "cell_type": "markdown",
   "id": "c38d4238",
   "metadata": {},
   "source": [
    "## Estimate the parameters using both experiments simultaneously. Are the confidence intervals better? Comment on why or why not."
   ]
  },
  {
   "cell_type": "code",
   "execution_count": null,
   "id": "0fed1d02",
   "metadata": {},
   "outputs": [],
   "source": []
  },
  {
   "cell_type": "markdown",
   "id": "265b9a7e",
   "metadata": {},
   "source": [
    "## Using the noisy data in isothermal_liquidphase_batch_errorfree.dat, repeat the fit using all of the data. Do the results agree with your initial trials?"
   ]
  },
  {
   "cell_type": "markdown",
   "id": "afc45b2c",
   "metadata": {},
   "source": [
    "## Based on these results, to determine the order of the rate expression with respect to two different species, how should you choose the initial conditions of the two species?"
   ]
  },
  {
   "cell_type": "code",
   "execution_count": null,
   "id": "ae3021c5",
   "metadata": {},
   "outputs": [],
   "source": []
  }
 ],
 "metadata": {
  "jupytext": {
   "formats": "ipynb,md:myst",
   "text_representation": {
    "extension": ".md",
    "format_name": "myst",
    "format_version": 0.13,
    "jupytext_version": "1.14.0"
   }
  },
  "kernelspec": {
   "display_name": "Python 3 (ipykernel)",
   "language": "python",
   "name": "python3"
  },
  "language_info": {
   "codemirror_mode": {
    "name": "ipython",
    "version": 3
   },
   "file_extension": ".py",
   "mimetype": "text/x-python",
   "name": "python",
   "nbconvert_exporter": "python",
   "pygments_lexer": "ipython3",
   "version": "3.9.13"
  },
  "source_map": [
   13,
   17,
   21,
   42,
   48,
   52,
   56,
   61,
   71,
   80,
   84,
   88,
   90,
   94,
   96,
   100,
   102,
   106,
   110
  ]
 },
 "nbformat": 4,
 "nbformat_minor": 5
}