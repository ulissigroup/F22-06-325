{
 "cells": [
  {
   "cell_type": "markdown",
   "id": "677cb285-1d09-4e3f-8b1b-60d3fceaef77",
   "metadata": {},
   "source": [
    "```{margin} Adaptation!\n",
    "Some of this homework was inspired by or uses content from Prof. AJ Medford (GTech)'s lectures for ChBE4745: https://github.com/medford-group/data_analytics_ChE\n",
    "\n",
    "The dataset came from Dow Chemicals and released publicly as part of Prof. Medford's class. \n",
    "```"
   ]
  },
  {
   "cell_type": "markdown",
   "id": "7465b94a-f0a7-437a-92a3-d8b5aca63b19",
   "metadata": {},
   "source": [
    "# HW4 (due Monday 10/3 noon) [100 pts]"
   ]
  },
  {
   "cell_type": "markdown",
   "id": "274a590a-5ee7-4f79-aa28-00eea469d7f7",
   "metadata": {
    "tags": []
   },
   "source": [
    "## Dow chemical process [50 pt]\n",
    "\n",
    "![DOW process](dow_process.png)\n",
    "\n",
    "The dataset contains a number of operating conditions for each of the units in the process, as well as the concentration of impurities in the output stream. Let's take a look:\n",
    "\n"
   ]
  },
  {
   "cell_type": "code",
   "execution_count": null,
   "id": "06448503-e2fd-4665-a001-5f325fdf0e13",
   "metadata": {},
   "outputs": [],
   "source": [
    "import pandas as pd\n",
    "import numpy as np\n",
    "\n",
    "df = pd.read_excel('impurity_dataset-training.xlsx')\n",
    "\n",
    "df.head()"
   ]
  },
  {
   "cell_type": "markdown",
   "id": "b885a1a6-27a2-42c3-b2ab-58ffcec88e7f",
   "metadata": {},
   "source": [
    "To use this data, we need to remove some problematic rows. We also want to select all the columns with \"x\" as features, and select the impurity as \"y\". This will leave 10297 data points with 40 features, with the goal being to predict the impurity in the output stream! You should use this code to generate the features (X) and target (y). "
   ]
  },
  {
   "cell_type": "code",
   "execution_count": null,
   "id": "2bb8ae23-8693-46c2-aaa4-05e85f632230",
   "metadata": {},
   "outputs": [],
   "source": [
    "def is_real_and_finite(x):\n",
    "    if not np.isreal(x):\n",
    "        return False\n",
    "    elif not np.isfinite(x):\n",
    "        return False\n",
    "    else:\n",
    "        return True\n",
    "\n",
    "all_data = df[df.columns[1:]].values #drop the first column (date)\n",
    "numeric_map = df[df.columns[1:]].applymap(is_real_and_finite)\n",
    "real_rows = numeric_map.all(axis=1).copy().values #True if all values in a row are real numbers\n",
    "X = np.array(all_data[real_rows,:-5], dtype='float') #drop the last 5 cols that are not inputs\n",
    "y = np.array(all_data[real_rows,-3], dtype='float')"
   ]
  },
  {
   "cell_type": "markdown",
   "id": "cd356aad-f129-44fd-a5e9-04254791ab72",
   "metadata": {},
   "source": [
    "### Train/validation/test split\n",
    "\n",
    "Split the dataset into an 80/10/10 train/val/test split. "
   ]
  },
  {
   "cell_type": "markdown",
   "id": "42e86871-4cb1-4d47-b987-49d5676c574f",
   "metadata": {},
   "source": [
    "### Polynomial features with LASSO\n",
    "\n",
    "Using polynomials up to second order, fit a LASSO model. Print the validation MAE and make a parity plot for your model compared to the experiments!"
   ]
  },
  {
   "cell_type": "markdown",
   "id": "39db98f3-11ab-44ad-8386-ad7c9bc193a6",
   "metadata": {},
   "source": [
    "### Decision Tree\n",
    "\n",
    "Fit a decision tree to the dataset using just the features. Print the validation MAE and make a parity plot for your model compared to the experiments!"
   ]
  },
  {
   "cell_type": "markdown",
   "id": "98339b06-13e1-4f79-959c-846170859c3e",
   "metadata": {},
   "source": [
    "### Decision Tree w/ Polynomial features\n",
    "\n",
    "Repeat the above using second order polynomial features. Print the validation MAE and make a parity plot for your model. Is this better or worse than just the original decision tree?"
   ]
  },
  {
   "cell_type": "markdown",
   "id": "a617fec2-bc5a-4115-be55-14ccb74a5d77",
   "metadata": {},
   "source": [
    "### Decision Tree Analysis\n",
    "\n",
    "For your best decision tree above, analyze the first few splits in the tree (either by making a tree plot like we did in class, or with the text analysis. You can also use the feature_importances_ attribute on the fitted model.\n",
    "\n",
    "Which columns/features are most important for predicting the output impurity?\n",
    "\n",
    "`````{seealso}\n",
    "The examples for the classification problem here (export_text, plot_tree) also for regression models: https://scikit-learn.org/stable/modules/tree.html\n",
    "````"
   ]
  },
  {
   "cell_type": "markdown",
   "id": "ca7f8026-e3ae-48b5-82a2-cf500ec4f682",
   "metadata": {},
   "source": [
    "### Pick your best model from above and evaluate your final impurity error on the test set."
   ]
  },
  {
   "cell_type": "markdown",
   "id": "d4a29ebe-ae90-45c6-a8c6-904b3a187a33",
   "metadata": {},
   "source": [
    "### Bonus [10pt]\n",
    "\n",
    "Try some other models from sklearn to see if you can do better than the decision tree. You can also try using feature selection (like in [Prof. Medford's lecture](https://github.com/medford-group/data_analytics_ChE/blob/master/2-regression/Topic4-High-dimensional_Regression.ipynb)). Remember, when you try different models you can only use the train/validation sets. \n",
    "\n",
    "If you find a model with a better validation score than your best model above, report the test set accuracy. "
   ]
  },
  {
   "cell_type": "markdown",
   "id": "21b76309-a800-45f6-98a9-39c75807c63b",
   "metadata": {},
   "source": [
    "## Materials dataset practice [50 pt]\n",
    "\n",
    "We saw in class how we could use matminer to generate composition features. In class we built some simple models to predict the band gap of a materials. \n",
    "\n",
    "I want your help classifying whether a particular material/composition is a metal based on experimental data!"
   ]
  },
  {
   "cell_type": "markdown",
   "id": "ef853edc-2033-4a33-94cd-0676e0c22261",
   "metadata": {},
   "source": [
    "### Load the dataset and train/val/test split\n",
    "\n",
    "Load the \"matbench_expt_is_metal\" and generate 60/20/20 train/val/test splits.\n",
    "\n",
    "What fraction of the data is a metal?"
   ]
  },
  {
   "cell_type": "markdown",
   "id": "4e76a2e4-79b1-4647-bca8-46565bff1207",
   "metadata": {},
   "source": [
    "### Generate composition features\n",
    "\n",
    "Use the magpie features like we did in class."
   ]
  },
  {
   "cell_type": "markdown",
   "id": "d14e0355-ae63-40e6-975d-5482a661b281",
   "metadata": {},
   "source": [
    "### Fit a logistic regression model to the features\n",
    "\n",
    "Report the accuracy on the validation set. How does this compare to the fraction of metals in the training dataset?"
   ]
  },
  {
   "cell_type": "markdown",
   "id": "f7270de3-e1bc-47e5-9757-f7d97b9da338",
   "metadata": {},
   "source": [
    "### Fit a decision tree classifier\n",
    "\n",
    "\n",
    "A decision tree classifier is very similar to the decision tree regressor we used in class. Fit one to your data, and report the accuracy on the validation set. Try playing with the decision tree classifier parameters (like max_depth, etc) to see if you can get better results. \n",
    "\n",
    "`````{seealso}\n",
    "https://scikit-learn.org/stable/modules/generated/sklearn.tree.DecisionTreeClassifier.html\n",
    "`````\n"
   ]
  },
  {
   "cell_type": "markdown",
   "id": "4bdcc158-c1bb-44c4-861c-7058d5f7187c",
   "metadata": {},
   "source": [
    "### Model explainability\n",
    "\n",
    "Look at the feature_importances_ attribute of your fitted decision tree classifier. Which features matter the most in your model? Does this make sense based on what you remember from general chemistry?"
   ]
  },
  {
   "cell_type": "markdown",
   "id": "920af258-4525-480f-8a88-6f2dcfdecc52",
   "metadata": {},
   "source": [
    "### Test error\n",
    "\n",
    "Pick your best model from above and evaluate the test accuracy. "
   ]
  },
  {
   "cell_type": "markdown",
   "id": "cd9acb56-bcd5-4b9a-a796-a795e3fa0260",
   "metadata": {},
   "source": [
    "### Materials prediction\n",
    "\n",
    "Go to the Material Project website, then the Materials Explorer app. Filter by \"Is Metal\" under the electronic structure toggle in the filters list. \n",
    "\n",
    "Pick three compositions that according to simulations were metals, and 3 that were predicted to be not metals. How does your best classifier from above work on these?\n",
    "\n",
    "A few things to keep in mind:\n",
    "* Simulations are not perfect at predicting experimental properties\n",
    "* The experimental dataset you used is probably not indicative of all possible structures in the Materials Project"
   ]
  },
  {
   "cell_type": "code",
   "execution_count": null,
   "id": "a40f8635-0b78-4c6e-8f44-ad6c8e766202",
   "metadata": {},
   "outputs": [],
   "source": []
  }
 ],
 "metadata": {
  "kernelspec": {
   "display_name": "Python 3 (ipykernel)",
   "language": "python",
   "name": "python3"
  },
  "language_info": {
   "codemirror_mode": {
    "name": "ipython",
    "version": 3
   },
   "file_extension": ".py",
   "mimetype": "text/x-python",
   "name": "python",
   "nbconvert_exporter": "python",
   "pygments_lexer": "ipython3",
   "version": "3.9.13"
  }
 },
 "nbformat": 4,
 "nbformat_minor": 5
}
