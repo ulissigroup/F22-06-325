{
 "cells": [
  {
   "cell_type": "markdown",
   "id": "6a8ead2d-3702-42c8-93bc-3e33d5721c70",
   "metadata": {},
   "source": [
    "$$\\require{mhchem}$$"
   ]
  },
  {
   "cell_type": "markdown",
   "id": "087c11c3-06ca-4922-9b6f-8cb0109992f5",
   "metadata": {},
   "source": [
    "# HW3 (due 9/26)"
   ]
  },
  {
   "cell_type": "markdown",
   "id": "2177054e-3c1b-4712-8e6d-3c6084af3f82",
   "metadata": {},
   "source": [
    "## Challenger Rocket O-ring Failures [40 pt]\n",
    "\n",
    "![Challenger](https://upload.wikimedia.org/wikipedia/commons/thumb/9/9f/Challenger_explosion.jpg/296px-Challenger_explosion.jpg)\n",
    "\n",
    "\n",
    "The space shuttle Challenger flew 9 missions from 1983-1986. On its final launch, Challenger exploded a bit more than 1 minute after launch. Among the astronauts on board was Judith Resnik, a CMU alum (ECE), for whom the Resnik award at CMU for exceptional senior women is named after, and Ronald McNair, the second African American to fly to space and for whom the national McNair scholars program is named after.\n",
    "\n",
    "The Rogers commission was tasked with identifying the factors that led to the disaster, and notably Nobel-prize-winning physicist Richard Feynman was on the commission. The cause of the failure was eventually determined to be a failed O-ring that led to an explosion in the fuel tank, and the temperature on the day of the launch one of the primary considerations.\n",
    "\n",
    "This was a particularly dark period for NASA and engineers as the Challenger incident exposed major issues around reliability and engineering statistics. The disaster was not just a technical failure in the O-ring, but a failure in the engineering organization at NASA.\n",
    "\n",
    "`````{seealso}\n",
    "* Feynman's special report is in the appendix to the Rogers commission report (Appendix F) https://www.govinfo.gov/content/pkg/GPO-CRPT-99hrpt1016/pdf/GPO-CRPT-99hrpt1016.pdf\n",
    "* Mr Feynman Goes to Washington, available here: https://calteches.library.caltech.edu/3570/1/Feynman.pdf\n",
    "* https://www.youtube.com/watch?v=ZOzoLdfWyKw (Feynman testimony starts at 1:53)\n",
    "* https://www.cmu.edu/education-office/academic-resources/resnik-award.html\n",
    "````"
   ]
  },
  {
   "cell_type": "markdown",
   "id": "dfe020c8-baf6-4980-a0c4-2c2d98b4912b",
   "metadata": {
    "tags": []
   },
   "source": [
    "### Download the o-ring dataset from UC Irvine's website\n",
    "\n",
    "Find the data file on the website (you want the O-ring erosion only one), download the data file using wget, and load it into pandas. \n",
    "https://archive.ics.uci.edu/ml/datasets/Challenger+USA+Space+Shuttle+O-Ring\n",
    "`> wget https://archive.ics.uci.edu/ml/machine-learning-databases/space-shuttle/o-ring-erosion-only.data`"
   ]
  },
  {
   "cell_type": "code",
   "execution_count": 2,
   "id": "b1e3b466-f131-4f66-9919-8b9f25283d92",
   "metadata": {},
   "outputs": [
    {
     "data": {
      "text/html": [
       "<div>\n",
       "<style scoped>\n",
       "    .dataframe tbody tr th:only-of-type {\n",
       "        vertical-align: middle;\n",
       "    }\n",
       "\n",
       "    .dataframe tbody tr th {\n",
       "        vertical-align: top;\n",
       "    }\n",
       "\n",
       "    .dataframe thead th {\n",
       "        text-align: right;\n",
       "    }\n",
       "</style>\n",
       "<table border=\"1\" class=\"dataframe\">\n",
       "  <thead>\n",
       "    <tr style=\"text-align: right;\">\n",
       "      <th></th>\n",
       "      <th>#rings at risk</th>\n",
       "      <th>#rings with distress</th>\n",
       "      <th>T (F)</th>\n",
       "      <th>p (psi)</th>\n",
       "      <th>temporal order</th>\n",
       "    </tr>\n",
       "  </thead>\n",
       "  <tbody>\n",
       "    <tr>\n",
       "      <th>0</th>\n",
       "      <td>6</td>\n",
       "      <td>0</td>\n",
       "      <td>66</td>\n",
       "      <td>50</td>\n",
       "      <td>1</td>\n",
       "    </tr>\n",
       "    <tr>\n",
       "      <th>1</th>\n",
       "      <td>6</td>\n",
       "      <td>1</td>\n",
       "      <td>70</td>\n",
       "      <td>50</td>\n",
       "      <td>2</td>\n",
       "    </tr>\n",
       "    <tr>\n",
       "      <th>2</th>\n",
       "      <td>6</td>\n",
       "      <td>0</td>\n",
       "      <td>69</td>\n",
       "      <td>50</td>\n",
       "      <td>3</td>\n",
       "    </tr>\n",
       "    <tr>\n",
       "      <th>3</th>\n",
       "      <td>6</td>\n",
       "      <td>0</td>\n",
       "      <td>68</td>\n",
       "      <td>50</td>\n",
       "      <td>4</td>\n",
       "    </tr>\n",
       "    <tr>\n",
       "      <th>4</th>\n",
       "      <td>6</td>\n",
       "      <td>0</td>\n",
       "      <td>67</td>\n",
       "      <td>50</td>\n",
       "      <td>5</td>\n",
       "    </tr>\n",
       "    <tr>\n",
       "      <th>5</th>\n",
       "      <td>6</td>\n",
       "      <td>0</td>\n",
       "      <td>72</td>\n",
       "      <td>50</td>\n",
       "      <td>6</td>\n",
       "    </tr>\n",
       "    <tr>\n",
       "      <th>6</th>\n",
       "      <td>6</td>\n",
       "      <td>0</td>\n",
       "      <td>73</td>\n",
       "      <td>100</td>\n",
       "      <td>7</td>\n",
       "    </tr>\n",
       "    <tr>\n",
       "      <th>7</th>\n",
       "      <td>6</td>\n",
       "      <td>0</td>\n",
       "      <td>70</td>\n",
       "      <td>100</td>\n",
       "      <td>8</td>\n",
       "    </tr>\n",
       "    <tr>\n",
       "      <th>8</th>\n",
       "      <td>6</td>\n",
       "      <td>1</td>\n",
       "      <td>57</td>\n",
       "      <td>200</td>\n",
       "      <td>9</td>\n",
       "    </tr>\n",
       "    <tr>\n",
       "      <th>9</th>\n",
       "      <td>6</td>\n",
       "      <td>1</td>\n",
       "      <td>63</td>\n",
       "      <td>200</td>\n",
       "      <td>10</td>\n",
       "    </tr>\n",
       "    <tr>\n",
       "      <th>10</th>\n",
       "      <td>6</td>\n",
       "      <td>1</td>\n",
       "      <td>70</td>\n",
       "      <td>200</td>\n",
       "      <td>11</td>\n",
       "    </tr>\n",
       "    <tr>\n",
       "      <th>11</th>\n",
       "      <td>6</td>\n",
       "      <td>0</td>\n",
       "      <td>78</td>\n",
       "      <td>200</td>\n",
       "      <td>12</td>\n",
       "    </tr>\n",
       "    <tr>\n",
       "      <th>12</th>\n",
       "      <td>6</td>\n",
       "      <td>0</td>\n",
       "      <td>67</td>\n",
       "      <td>200</td>\n",
       "      <td>13</td>\n",
       "    </tr>\n",
       "    <tr>\n",
       "      <th>13</th>\n",
       "      <td>6</td>\n",
       "      <td>2</td>\n",
       "      <td>53</td>\n",
       "      <td>200</td>\n",
       "      <td>14</td>\n",
       "    </tr>\n",
       "    <tr>\n",
       "      <th>14</th>\n",
       "      <td>6</td>\n",
       "      <td>0</td>\n",
       "      <td>67</td>\n",
       "      <td>200</td>\n",
       "      <td>15</td>\n",
       "    </tr>\n",
       "    <tr>\n",
       "      <th>15</th>\n",
       "      <td>6</td>\n",
       "      <td>0</td>\n",
       "      <td>75</td>\n",
       "      <td>200</td>\n",
       "      <td>16</td>\n",
       "    </tr>\n",
       "    <tr>\n",
       "      <th>16</th>\n",
       "      <td>6</td>\n",
       "      <td>0</td>\n",
       "      <td>70</td>\n",
       "      <td>200</td>\n",
       "      <td>17</td>\n",
       "    </tr>\n",
       "    <tr>\n",
       "      <th>17</th>\n",
       "      <td>6</td>\n",
       "      <td>0</td>\n",
       "      <td>81</td>\n",
       "      <td>200</td>\n",
       "      <td>18</td>\n",
       "    </tr>\n",
       "    <tr>\n",
       "      <th>18</th>\n",
       "      <td>6</td>\n",
       "      <td>0</td>\n",
       "      <td>76</td>\n",
       "      <td>200</td>\n",
       "      <td>19</td>\n",
       "    </tr>\n",
       "    <tr>\n",
       "      <th>19</th>\n",
       "      <td>6</td>\n",
       "      <td>0</td>\n",
       "      <td>79</td>\n",
       "      <td>200</td>\n",
       "      <td>20</td>\n",
       "    </tr>\n",
       "    <tr>\n",
       "      <th>20</th>\n",
       "      <td>6</td>\n",
       "      <td>0</td>\n",
       "      <td>75</td>\n",
       "      <td>200</td>\n",
       "      <td>21</td>\n",
       "    </tr>\n",
       "    <tr>\n",
       "      <th>21</th>\n",
       "      <td>6</td>\n",
       "      <td>0</td>\n",
       "      <td>76</td>\n",
       "      <td>200</td>\n",
       "      <td>22</td>\n",
       "    </tr>\n",
       "    <tr>\n",
       "      <th>22</th>\n",
       "      <td>6</td>\n",
       "      <td>1</td>\n",
       "      <td>58</td>\n",
       "      <td>200</td>\n",
       "      <td>23</td>\n",
       "    </tr>\n",
       "  </tbody>\n",
       "</table>\n",
       "</div>"
      ],
      "text/plain": [
       "    #rings at risk  #rings with distress  T (F)  p (psi)  temporal order\n",
       "0                6                     0     66       50               1\n",
       "1                6                     1     70       50               2\n",
       "2                6                     0     69       50               3\n",
       "3                6                     0     68       50               4\n",
       "4                6                     0     67       50               5\n",
       "5                6                     0     72       50               6\n",
       "6                6                     0     73      100               7\n",
       "7                6                     0     70      100               8\n",
       "8                6                     1     57      200               9\n",
       "9                6                     1     63      200              10\n",
       "10               6                     1     70      200              11\n",
       "11               6                     0     78      200              12\n",
       "12               6                     0     67      200              13\n",
       "13               6                     2     53      200              14\n",
       "14               6                     0     67      200              15\n",
       "15               6                     0     75      200              16\n",
       "16               6                     0     70      200              17\n",
       "17               6                     0     81      200              18\n",
       "18               6                     0     76      200              19\n",
       "19               6                     0     79      200              20\n",
       "20               6                     0     75      200              21\n",
       "21               6                     0     76      200              22\n",
       "22               6                     1     58      200              23"
      ]
     },
     "execution_count": 2,
     "metadata": {},
     "output_type": "execute_result"
    }
   ],
   "source": [
    "import pandas as pd\n",
    "\n",
    "# Get columns from data website\n",
    "columns = ['#rings at risk', '#rings with distress', 'T (F)', 'p (psi)', 'temporal order']\n",
    "full_data = pd.read_csv('o-ring-erosion-only.data', sep=r\"\\s+\", names=columns, engine='python')\n",
    "full_data"
   ]
  },
  {
   "cell_type": "markdown",
   "id": "93693d96-f147-44d0-aa12-015e7a61e0ec",
   "metadata": {},
   "source": [
    "### Binary variable and plot \n",
    "\n",
    "Make a binary variable that represents whether the number of O-ring failures is greater than or equal to 1 (e.g. 0 if no failure, 1 if failure). Plot the binary variable as a function of the temperature."
   ]
  },
  {
   "cell_type": "code",
   "execution_count": 5,
   "id": "9e3c6641-7d16-4d66-8931-6bd6cf435399",
   "metadata": {},
   "outputs": [
    {
     "name": "stderr",
     "output_type": "stream",
     "text": [
      "/tmp/ipykernel_98/3525197699.py:6: SettingWithCopyWarning: \n",
      "A value is trying to be set on a copy of a slice from a DataFrame.\n",
      "Try using .loc[row_indexer,col_indexer] = value instead\n",
      "\n",
      "See the caveats in the documentation: https://pandas.pydata.org/pandas-docs/stable/user_guide/indexing.html#returning-a-view-versus-a-copy\n",
      "  data.loc[:,'Failure'] = np.where(data.loc[:,'Failure'] > 0, 1, 0)\n"
     ]
    },
    {
     "data": {
      "text/plain": [
       "0     66\n",
       "1     70\n",
       "2     69\n",
       "3     68\n",
       "4     67\n",
       "5     72\n",
       "6     73\n",
       "7     70\n",
       "8     57\n",
       "9     63\n",
       "10    70\n",
       "11    78\n",
       "12    67\n",
       "13    53\n",
       "14    67\n",
       "15    75\n",
       "16    70\n",
       "17    81\n",
       "18    76\n",
       "19    79\n",
       "20    75\n",
       "21    76\n",
       "22    58\n",
       "Name: T, dtype: int64"
      ]
     },
     "execution_count": 5,
     "metadata": {},
     "output_type": "execute_result"
    },
    {
     "data": {
      "image/png": "[encoded data removed]",
      "text/plain": [
       "<Figure size 640x480 with 1 Axes>"
      ]
     },
     "metadata": {},
     "output_type": "display_data"
    }
   ],
   "source": [
    "import matplotlib.pyplot as plt\n",
    "import numpy as np\n",
    "\n",
    "data = full_data[['T (F)','#rings with distress']] \n",
    "data.columns = ['T', 'Failure']\n",
    "data.loc[:,'Failure'] = np.where(data.loc[:,'Failure'] > 0, 1, 0)\n",
    "\n",
    "fig, ax = plt.subplots()\n",
    "ax.scatter(data['T'].values, data['Failure'].values)\n",
    "ax.set_xlabel('T (F)')\n",
    "ax.set_ylabel('>1 failure occurs')\n",
    "data['T']"
   ]
  },
  {
   "cell_type": "markdown",
   "id": "dd5cacae-75b1-48bb-80d6-eb2ec11323b2",
   "metadata": {},
   "source": [
    "### Train/test split\n",
    "\n",
    "Make a simple train 80/20 train/test split using the available data. Don't use shuffle, so that this is effectively a time series split (e.g. first 80% of the launches is train, then last 20% is test)."
   ]
  },
  {
   "cell_type": "code",
   "execution_count": 6,
   "id": "a430eecf-194c-4b45-8f00-05390744ff6b",
   "metadata": {},
   "outputs": [],
   "source": [
    "from sklearn.model_selection import train_test_split\n",
    "\n",
    "\n",
    "data_train, data_test = train_test_split(data, random_state=0, shuffle=False)\n",
    "\n",
    "X_train, y_train = data_train['T'].values.reshape(-1,1), data_train['Failure'].values\n",
    "X_test, y_test = data_test['T'].values.reshape(-1,1), data_test['Failure'].values\n"
   ]
  },
  {
   "cell_type": "markdown",
   "id": "0a094db8-151d-45d0-ad63-e85ca19565a2",
   "metadata": {},
   "source": [
    "### Logistic regression\n",
    "\n",
    "Fit a simple LogistRegression model to the data and evaluate the accuracy on the test set. Is it statistically significant with such a small dataset?\n",
    "\n",
    "Plot whether a failure is predicted at all temperatures from 20F to 80F."
   ]
  },
  {
   "cell_type": "code",
   "execution_count": 7,
   "id": "ef1563fd-f740-423c-b277-a6068cf9ab32",
   "metadata": {},
   "outputs": [
    {
     "name": "stdout",
     "output_type": "stream",
     "text": [
      "test accuracy: 1.000\n"
     ]
    },
    {
     "data": {
      "text/plain": [
       "<matplotlib.legend.Legend at 0x7f2b951f5b80>"
      ]
     },
     "execution_count": 7,
     "metadata": {},
     "output_type": "execute_result"
    },
    {
     "data": {
      "image/png": "[encoded data removed]",
      "text/plain": [
       "<Figure size 640x480 with 1 Axes>"
      ]
     },
     "metadata": {},
     "output_type": "display_data"
    }
   ],
   "source": [
    "from sklearn.linear_model import LogisticRegression\n",
    "from sklearn.pipeline import make_pipeline\n",
    "from sklearn.preprocessing import StandardScaler\n",
    "\n",
    "lr = make_pipeline(\n",
    "    StandardScaler(), LogisticRegression(penalty=\"none\")\n",
    ")\n",
    "lr.fit(X_train, y_train)\n",
    "\n",
    "acc = lr.score(X_test, y_test)\n",
    "print(f'test accuracy: {acc:.3f}')\n",
    "\n",
    "Xp = np.linspace(20,80, 100).reshape(-1,1)\n",
    "y_pred = lr.predict(Xp)\n",
    "\n",
    "fig, ax = plt.subplots()\n",
    "ax.plot(Xp, y_pred, label='prediction')\n",
    "ax.scatter(X_train, y_train, c='r', label='training data')\n",
    "ax.scatter(X_test, y_test, c='g', label='test data')\n",
    "ax.set_xlabel('T (F)')\n",
    "ax.set_ylabel('predicted failure')\n",
    "ax.legend()"
   ]
  },
  {
   "cell_type": "markdown",
   "id": "7a0f8505-2ff9-4b1e-845e-1c35ffd15916",
   "metadata": {},
   "source": [
    "### Probability of failure\n",
    "\n",
    "One of the helpful things about logistic regression is that you can make predictions for the probability of outcomes. Use the `predict_proba` method on your classifier to predict the probability of a failure at 32F. \n",
    "\n",
    "`````{seealso}\n",
    "https://scikit-learn.org/stable/modules/generated/sklearn.linear_model.LogisticRegression.html\n",
    "`````"
   ]
  },
  {
   "cell_type": "code",
   "execution_count": 8,
   "id": "e7ecf3cd-4667-41c5-a139-6fc536750c45",
   "metadata": {},
   "outputs": [
    {
     "name": "stdout",
     "output_type": "stream",
     "text": [
      "Predicted probability of failure at 32F: 0.99997\n"
     ]
    }
   ],
   "source": [
    "p_fail = lr.predict_proba(np.array([32,]).reshape(-1,1))[0][1]\n",
    "print(f'Predicted probability of failure at 32F: {p_fail:.5f}')"
   ]
  },
  {
   "cell_type": "markdown",
   "id": "68fb6b8f-5751-48ea-8cd7-bab6d2b6e1ab",
   "metadata": {},
   "source": [
    "### Problem analysis \n",
    "\n",
    "Skim the \"Mr. Feynman Goes to Washington\" article or the wikipedia article and answer the following questions with a few sentences each\n",
    "* What was the primary chemical engineering / material cause for O-ring failures at low temperatures?\n",
    "* What factors led to such large disparities in risk assessment for the launch (they ranged from near certainty, to 1-in-100, to 1-in-100,000 odds of a catastrophic failure). \n"
   ]
  },
  {
   "cell_type": "markdown",
   "id": "c0185ee5-cc9e-452b-b0c6-da10e295af39",
   "metadata": {},
   "source": [
    "The low temperatures before and during the launch reduced the elasticity of the rubber O-rings, which caused them to not seal the field joints as intended. Thus, hot gas escaped from the booster and burned, damaging the connector holding it in place. As the booster rotated, the propellant tank collapsed and exploded.\n",
    "\n",
    "Feynmann attributes the large disparities in risk assessment largely to insufficient communication between management and engineers. Repeated lowering of safety criteria by management causes the engineers to loose confidence in the safety of their machines.\n"
   ]
  },
  {
   "cell_type": "markdown",
   "id": "fdd76e0e-5c21-47a1-a899-1852b3d706a2",
   "metadata": {
    "tags": []
   },
   "source": [
    "## Perovskite classification and discovery [60 pt]\n",
    "\n",
    "\n",
    "![NREL PV chart](https://www.nrel.gov/pv/assets/images/best-research-cell-efficiencies-thumbnail-rev220630.jpg)\n",
    "https://www.nrel.gov/pv/cell-efficiency.html/\n",
    "\n",
    "Perovskites are a special type of inorganic crystal that are now one of the most efficient and popular research materials for photovoltaics, as shown in the chart above!\n",
    "\n",
    "Perovskite refers to a specific material ($\\ce{CaTiO3}$). There are many substitutions that you can make for Ca and Ti of the form $\\ce{ABX3}$ that may be stable in the same crystal structure; some will be stable in the perovskite structure, and some will not be. \n",
    "* A is a replacement for Ca, usually a transition metal\n",
    "* B is a replacement for Ti, usually a transition metal\n",
    "* X is a replacement for Cl, often O, S, Se, F, Cl, Br, I\n",
    "\n",
    "One factor (but not the only one) is that the radii of the two elements need to be similar to the original Ca/Ti ratio. For example, one proposed factor (commonly referred to as the Goldschmidt tolerance factor $t$) is:\n",
    "\\begin{align*}\n",
    "t=\\frac{R_A+R_X}{\\sqrt{2}(R_B+R_X)}\n",
    "\\end{align*}\n",
    "where $R_A$ is the radius of element A, $R_B$ is the radius of element $B$, and $R_X$ is the radius of element X (the units don't matter as long as you are consistent with all three!). If $t$ is between 0.75 and 1.0, the combination is often stable in the perovskite structure.\n",
    "\n",
    "One way to identify whether a particular combination of elements A, B and X is stable is to do a quantum chemistry simulation like the guest speakers last week discussed. This often works but is not perfectly accurate\n",
    "`````{seealso}\n",
    "* https://en.wikipedia.org/wiki/Perovskite\n",
    "* https://en.wikipedia.org/wiki/Perovskite_(structure)\n",
    "`````\n",
    "\n",
    "I want your help to identify some polynomial features that correlate with whether a particular combination will form a perovskite!"
   ]
  },
  {
   "cell_type": "markdown",
   "id": "603f7fdb-540a-48b9-8770-e09d4f370450",
   "metadata": {},
   "source": [
    "## Download the dataset and load with pandas\n",
    "\n",
    "You can find an experimental dataset for whether the perovskite structure is stable for 576 A/B/X compounds here: \n",
    "https://github.com/CJBartel/perovskite-stability\n",
    "\n",
    "Download the file Table1.csv using `wget` and use pandas to load as a dataframe. \n",
    "\n",
    "`````{note}\n",
    "The url for the \"raw\" file in github is one that you can use with wget.\n",
    "`````\n",
    "`> wget https://raw.githubusercontent.com/CJBartel/perovskite-stability/master/TableS1.csv`"
   ]
  },
  {
   "cell_type": "code",
   "execution_count": 1,
   "id": "087a73e2-df92-48d1-b668-3054be0ffa39",
   "metadata": {},
   "outputs": [
    {
     "data": {
      "text/html": [
       "<div>\n",
       "<style scoped>\n",
       "    .dataframe tbody tr th:only-of-type {\n",
       "        vertical-align: middle;\n",
       "    }\n",
       "\n",
       "    .dataframe tbody tr th {\n",
       "        vertical-align: top;\n",
       "    }\n",
       "\n",
       "    .dataframe thead th {\n",
       "        text-align: right;\n",
       "    }\n",
       "</style>\n",
       "<table border=\"1\" class=\"dataframe\">\n",
       "  <thead>\n",
       "    <tr style=\"text-align: right;\">\n",
       "      <th></th>\n",
       "      <th>ABX3</th>\n",
       "      <th>exp_label</th>\n",
       "      <th>is_train</th>\n",
       "      <th>A</th>\n",
       "      <th>B</th>\n",
       "      <th>X</th>\n",
       "      <th>nA</th>\n",
       "      <th>nB</th>\n",
       "      <th>nX</th>\n",
       "      <th>rA</th>\n",
       "      <th>rB</th>\n",
       "      <th>rX</th>\n",
       "      <th>t</th>\n",
       "      <th>tau</th>\n",
       "      <th>t_pred</th>\n",
       "      <th>tau_pred</th>\n",
       "      <th>tau_prob</th>\n",
       "    </tr>\n",
       "  </thead>\n",
       "  <tbody>\n",
       "    <tr>\n",
       "      <th>0</th>\n",
       "      <td>AgBrO3</td>\n",
       "      <td>-1.0</td>\n",
       "      <td>1</td>\n",
       "      <td>Ag</td>\n",
       "      <td>Br</td>\n",
       "      <td>O</td>\n",
       "      <td>1</td>\n",
       "      <td>5</td>\n",
       "      <td>-2</td>\n",
       "      <td>1.28</td>\n",
       "      <td>0.31</td>\n",
       "      <td>1.40</td>\n",
       "      <td>1.11</td>\n",
       "      <td>6.43</td>\n",
       "      <td>-1</td>\n",
       "      <td>-1</td>\n",
       "      <td>0.05</td>\n",
       "    </tr>\n",
       "    <tr>\n",
       "      <th>1</th>\n",
       "      <td>AgCdBr3</td>\n",
       "      <td>-1.0</td>\n",
       "      <td>1</td>\n",
       "      <td>Ag</td>\n",
       "      <td>Cd</td>\n",
       "      <td>Br</td>\n",
       "      <td>1</td>\n",
       "      <td>2</td>\n",
       "      <td>-1</td>\n",
       "      <td>1.28</td>\n",
       "      <td>0.95</td>\n",
       "      <td>1.96</td>\n",
       "      <td>0.79</td>\n",
       "      <td>5.58</td>\n",
       "      <td>-1</td>\n",
       "      <td>-1</td>\n",
       "      <td>0.12</td>\n",
       "    </tr>\n",
       "    <tr>\n",
       "      <th>2</th>\n",
       "      <td>PbAgBr3</td>\n",
       "      <td>-1.0</td>\n",
       "      <td>1</td>\n",
       "      <td>Pb</td>\n",
       "      <td>Ag</td>\n",
       "      <td>Br</td>\n",
       "      <td>2</td>\n",
       "      <td>1</td>\n",
       "      <td>-1</td>\n",
       "      <td>1.49</td>\n",
       "      <td>1.15</td>\n",
       "      <td>1.96</td>\n",
       "      <td>0.78</td>\n",
       "      <td>7.71</td>\n",
       "      <td>-1</td>\n",
       "      <td>-1</td>\n",
       "      <td>0.01</td>\n",
       "    </tr>\n",
       "    <tr>\n",
       "      <th>3</th>\n",
       "      <td>AgCaCl3</td>\n",
       "      <td>-1.0</td>\n",
       "      <td>1</td>\n",
       "      <td>Ag</td>\n",
       "      <td>Ca</td>\n",
       "      <td>Cl</td>\n",
       "      <td>1</td>\n",
       "      <td>2</td>\n",
       "      <td>-1</td>\n",
       "      <td>1.28</td>\n",
       "      <td>1.00</td>\n",
       "      <td>1.81</td>\n",
       "      <td>0.78</td>\n",
       "      <td>6.00</td>\n",
       "      <td>-1</td>\n",
       "      <td>-1</td>\n",
       "      <td>0.07</td>\n",
       "    </tr>\n",
       "    <tr>\n",
       "      <th>4</th>\n",
       "      <td>AgClO3</td>\n",
       "      <td>-1.0</td>\n",
       "      <td>1</td>\n",
       "      <td>Ag</td>\n",
       "      <td>Cl</td>\n",
       "      <td>O</td>\n",
       "      <td>1</td>\n",
       "      <td>5</td>\n",
       "      <td>-2</td>\n",
       "      <td>1.28</td>\n",
       "      <td>0.12</td>\n",
       "      <td>1.40</td>\n",
       "      <td>1.25</td>\n",
       "      <td>15.17</td>\n",
       "      <td>-1</td>\n",
       "      <td>-1</td>\n",
       "      <td>0.00</td>\n",
       "    </tr>\n",
       "  </tbody>\n",
       "</table>\n",
       "</div>"
      ],
      "text/plain": [
       "      ABX3  exp_label  is_train   A   B   X  nA  nB  nX    rA    rB    rX  \\\n",
       "0   AgBrO3       -1.0         1  Ag  Br   O   1   5  -2  1.28  0.31  1.40   \n",
       "1  AgCdBr3       -1.0         1  Ag  Cd  Br   1   2  -1  1.28  0.95  1.96   \n",
       "2  PbAgBr3       -1.0         1  Pb  Ag  Br   2   1  -1  1.49  1.15  1.96   \n",
       "3  AgCaCl3       -1.0         1  Ag  Ca  Cl   1   2  -1  1.28  1.00  1.81   \n",
       "4   AgClO3       -1.0         1  Ag  Cl   O   1   5  -2  1.28  0.12  1.40   \n",
       "\n",
       "      t    tau  t_pred  tau_pred  tau_prob  \n",
       "0  1.11   6.43      -1        -1      0.05  \n",
       "1  0.79   5.58      -1        -1      0.12  \n",
       "2  0.78   7.71      -1        -1      0.01  \n",
       "3  0.78   6.00      -1        -1      0.07  \n",
       "4  1.25  15.17      -1        -1      0.00  "
      ]
     },
     "execution_count": 1,
     "metadata": {},
     "output_type": "execute_result"
    }
   ],
   "source": [
    "import pandas as pd\n",
    "data = pd.read_csv('TableS1.csv')\n",
    "data = data.rename({'rA (Ang)': 'rA', 'rB (Ang)': 'rB', 'rX (Ang)': 'rX'}, axis=1)\n",
    "data.head()"
   ]
  },
  {
   "cell_type": "markdown",
   "id": "702060ce-fb72-470b-9bfd-d39896993a79",
   "metadata": {},
   "source": [
    "## Train/val/test split\n",
    "\n",
    "Split the data into a random 90/10 train/validation (90) and test (10) split using sklearn. The label we want to predict (y) is \"exp_label\". Allowed features for X are the columns [A,B,X,nA,nB,nX,rA (Ang),rB (Ang),rX (Ang)]"
   ]
  },
  {
   "cell_type": "code",
   "execution_count": 2,
   "id": "a664a323-ab05-416b-bd2d-d713c4ed19c5",
   "metadata": {},
   "outputs": [
    {
     "data": {
      "text/html": [
       "<div>\n",
       "<style scoped>\n",
       "    .dataframe tbody tr th:only-of-type {\n",
       "        vertical-align: middle;\n",
       "    }\n",
       "\n",
       "    .dataframe tbody tr th {\n",
       "        vertical-align: top;\n",
       "    }\n",
       "\n",
       "    .dataframe thead th {\n",
       "        text-align: right;\n",
       "    }\n",
       "</style>\n",
       "<table border=\"1\" class=\"dataframe\">\n",
       "  <thead>\n",
       "    <tr style=\"text-align: right;\">\n",
       "      <th></th>\n",
       "      <th>nA</th>\n",
       "      <th>nB</th>\n",
       "      <th>nX</th>\n",
       "      <th>rA</th>\n",
       "      <th>rB</th>\n",
       "      <th>rX</th>\n",
       "    </tr>\n",
       "  </thead>\n",
       "  <tbody>\n",
       "    <tr>\n",
       "      <th>406</th>\n",
       "      <td>1</td>\n",
       "      <td>5</td>\n",
       "      <td>-2</td>\n",
       "      <td>1.39</td>\n",
       "      <td>0.76</td>\n",
       "      <td>1.40</td>\n",
       "    </tr>\n",
       "    <tr>\n",
       "      <th>269</th>\n",
       "      <td>3</td>\n",
       "      <td>3</td>\n",
       "      <td>-2</td>\n",
       "      <td>1.12</td>\n",
       "      <td>0.64</td>\n",
       "      <td>1.40</td>\n",
       "    </tr>\n",
       "    <tr>\n",
       "      <th>419</th>\n",
       "      <td>1</td>\n",
       "      <td>5</td>\n",
       "      <td>-2</td>\n",
       "      <td>1.72</td>\n",
       "      <td>0.38</td>\n",
       "      <td>1.40</td>\n",
       "    </tr>\n",
       "    <tr>\n",
       "      <th>313</th>\n",
       "      <td>3</td>\n",
       "      <td>3</td>\n",
       "      <td>-2</td>\n",
       "      <td>1.11</td>\n",
       "      <td>0.62</td>\n",
       "      <td>1.40</td>\n",
       "    </tr>\n",
       "    <tr>\n",
       "      <th>367</th>\n",
       "      <td>1</td>\n",
       "      <td>5</td>\n",
       "      <td>-2</td>\n",
       "      <td>1.64</td>\n",
       "      <td>0.54</td>\n",
       "      <td>1.40</td>\n",
       "    </tr>\n",
       "    <tr>\n",
       "      <th>...</th>\n",
       "      <td>...</td>\n",
       "      <td>...</td>\n",
       "      <td>...</td>\n",
       "      <td>...</td>\n",
       "      <td>...</td>\n",
       "      <td>...</td>\n",
       "    </tr>\n",
       "    <tr>\n",
       "      <th>420</th>\n",
       "      <td>1</td>\n",
       "      <td>5</td>\n",
       "      <td>-2</td>\n",
       "      <td>1.72</td>\n",
       "      <td>0.78</td>\n",
       "      <td>1.40</td>\n",
       "    </tr>\n",
       "    <tr>\n",
       "      <th>133</th>\n",
       "      <td>2</td>\n",
       "      <td>4</td>\n",
       "      <td>-2</td>\n",
       "      <td>1.34</td>\n",
       "      <td>0.78</td>\n",
       "      <td>1.40</td>\n",
       "    </tr>\n",
       "    <tr>\n",
       "      <th>103</th>\n",
       "      <td>1</td>\n",
       "      <td>2</td>\n",
       "      <td>-1</td>\n",
       "      <td>1.88</td>\n",
       "      <td>0.83</td>\n",
       "      <td>1.96</td>\n",
       "    </tr>\n",
       "    <tr>\n",
       "      <th>16</th>\n",
       "      <td>1</td>\n",
       "      <td>5</td>\n",
       "      <td>-2</td>\n",
       "      <td>1.28</td>\n",
       "      <td>0.38</td>\n",
       "      <td>1.40</td>\n",
       "    </tr>\n",
       "    <tr>\n",
       "      <th>52</th>\n",
       "      <td>1</td>\n",
       "      <td>2</td>\n",
       "      <td>-1</td>\n",
       "      <td>1.88</td>\n",
       "      <td>1.35</td>\n",
       "      <td>1.96</td>\n",
       "    </tr>\n",
       "  </tbody>\n",
       "</table>\n",
       "<p>466 rows × 6 columns</p>\n",
       "</div>"
      ],
      "text/plain": [
       "     nA  nB  nX    rA    rB    rX\n",
       "406   1   5  -2  1.39  0.76  1.40\n",
       "269   3   3  -2  1.12  0.64  1.40\n",
       "419   1   5  -2  1.72  0.38  1.40\n",
       "313   3   3  -2  1.11  0.62  1.40\n",
       "367   1   5  -2  1.64  0.54  1.40\n",
       "..   ..  ..  ..   ...   ...   ...\n",
       "420   1   5  -2  1.72  0.78  1.40\n",
       "133   2   4  -2  1.34  0.78  1.40\n",
       "103   1   2  -1  1.88  0.83  1.96\n",
       "16    1   5  -2  1.28  0.38  1.40\n",
       "52    1   2  -1  1.88  1.35  1.96\n",
       "\n",
       "[466 rows x 6 columns]"
      ]
     },
     "execution_count": 2,
     "metadata": {},
     "output_type": "execute_result"
    }
   ],
   "source": [
    "from sklearn.model_selection import train_test_split\n",
    "target = ['exp_label']\n",
    "# Drop categorical features\n",
    "features = ['nA','nB','nX','rA','rB','rX']\n",
    "data_train, data_test = train_test_split(data, test_size=0.1, random_state=0)\n",
    "data_train, data_val = train_test_split(data_train, test_size=0.1, random_state=0)\n",
    "X_train, y_train = data_train[features], data_train[target]\n",
    "X_val, y_val = data_val[features], data_val[target]\n",
    "X_test, y_test = data_test[features], data_test[target]\n",
    "X_train"
   ]
  },
  {
   "cell_type": "markdown",
   "id": "24ae52b8-bac8-4f7c-9308-373098d21a80",
   "metadata": {},
   "source": [
    "## Visualize the Goldschmidt ratio\n",
    "\n",
    "Plot a histogram for the t-values in the data set. Highlight the desired range of 0.75-1.00. Color code the histogram based on the \"exp_label\" (Hint: This should look similar to Fig. 2A in the paper that the data was generated for)."
   ]
  },
  {
   "cell_type": "code",
   "execution_count": 3,
   "id": "ffcf0d97-b161-4ed8-8360-6a06d713b20d",
   "metadata": {},
   "outputs": [
    {
     "data": {
      "text/plain": [
       "<matplotlib.legend.Legend at 0x7f9b260c92b0>"
      ]
     },
     "execution_count": 3,
     "metadata": {},
     "output_type": "execute_result"
    },
    {
     "data": {
      "image/png": "[encoded data removed]",
      "text/plain": [
       "<Figure size 640x480 with 1 Axes>"
      ]
     },
     "metadata": {},
     "output_type": "display_data"
    }
   ],
   "source": [
    "import matplotlib.pyplot as plt\n",
    "import numpy as np\n",
    "\n",
    "t_data_1 = data[data['exp_label'] == 1]['t']\n",
    "t_data_2 = data[data['exp_label'] == -1]['t']\n",
    "\n",
    "fig, ax = plt.subplots()\n",
    "ax.hist(t_data_1, bins=20, color='r', label='1', alpha=0.5)\n",
    "ax.hist(t_data_2, bins=20, color='b', label='-1', alpha=0.5)\n",
    "ax.set_xlabel(\"Goldschmidt Ratio\")\n",
    "ax.axvline(0.75, color='k')\n",
    "ax.axvline(1.00, color='k')\n",
    "ax.legend(title='exp_label')"
   ]
  },
  {
   "cell_type": "markdown",
   "id": "41d36e41-a224-4370-a906-9ea24a1cd72c",
   "metadata": {},
   "source": [
    "Define a simple 'Goldschmidt classifier', which uses the t-ratio to predict 'exp_label'. What is its accuracy on the full data set? Is this significantly better than a naive classifier?"
   ]
  },
  {
   "cell_type": "code",
   "execution_count": 11,
   "id": "d50b91a3-7e9e-48eb-8fe0-460f932fae07",
   "metadata": {},
   "outputs": [
    {
     "name": "stdout",
     "output_type": "stream",
     "text": [
      "Accuracy of Goldschmidt classifier on full data set: 0.61458\n",
      "Accuracy of naive classifier on full data set: 0.54340\n",
      "Test accuracy using LogReg with t feature: 0.67241\n"
     ]
    }
   ],
   "source": [
    "from sklearn.linear_model import LogisticRegression\n",
    "from sklearn.pipeline import make_pipeline\n",
    "from sklearn.preprocessing import StandardScaler\n",
    "\n",
    "n = data.shape[0]\n",
    "pred_g = - np.ones(n)\n",
    "pred_g[(data['t'] < 1.) & (data['t'] > 0.75)] = 1\n",
    "acc_g = np.sum(pred_g == data['exp_label'])/n\n",
    "print(f'Accuracy of Goldschmidt classifier on full data set: {acc_g:.5f}')\n",
    "\n",
    "naive_pred = data['exp_label'].mode().values * np.ones(n)\n",
    "acc_naive = np.sum(naive_pred == data['exp_label'])/n\n",
    "print(f'Accuracy of naive classifier on full data set: {acc_naive:.5f}')\n",
    "\n",
    "# Alternatively, use t as input to Logistic Regression and record test set acccuracy\n",
    "lr_t = make_pipeline(StandardScaler(), LogisticRegression(penalty=\"none\"))\n",
    "lr_t.fit(data_train['t'].values.reshape(-1,1), data_train['exp_label'].values.ravel())\n",
    "acc_lr_test = lr_t.score(data_test['t'].values.reshape(-1,1), data_test['exp_label'].values.ravel())\n",
    "print(f'Test accuracy using LogReg with t feature: {acc_lr_test:.5f}')                         "
   ]
  },
  {
   "cell_type": "markdown",
   "id": "9cee870a-ead3-4079-99e7-495b1ff44312",
   "metadata": {},
   "source": [
    "## Logistic regression\n",
    "\n",
    "Using the columns above, fit a logistic regression model using the available features. Report the accuracy and compare it to the Goldschmidt ratio. "
   ]
  },
  {
   "cell_type": "code",
   "execution_count": 9,
   "id": "a22be246-9a1b-45fe-9b31-0123e1a83970",
   "metadata": {},
   "outputs": [
    {
     "name": "stdout",
     "output_type": "stream",
     "text": [
      "Train Score: 0.8090129\n",
      "Val Score: 0.7692308\n",
      "Test Score: 0.8448276\n"
     ]
    }
   ],
   "source": [
    "from sklearn.linear_model import LogisticRegression\n",
    "from sklearn.pipeline import make_pipeline\n",
    "from sklearn.preprocessing import StandardScaler\n",
    "\n",
    "def print_scores(method):\n",
    "    acc_train = method.score(X_train.values, y_train.values.ravel())\n",
    "    acc_val = method.score(X_val.values, y_val.values.ravel())\n",
    "    acc_test = method.score(X_test.values, y_test.values.ravel())\n",
    "    print(f'Train Score: {acc_train:.7f}')\n",
    "    print(f'Val Score: {acc_val:.7f}')\n",
    "    print(f'Test Score: {acc_test:.7f}')\n",
    "    \n",
    "    \n",
    "lr = make_pipeline(StandardScaler(), LogisticRegression(penalty=\"none\"))\n",
    "\n",
    "lr.fit(X_train.values, y_train.values.ravel())\n",
    "\n",
    "print_scores(lr)\n"
   ]
  },
  {
   "cell_type": "markdown",
   "id": "952fa11e-b6ad-4204-9d4e-8f0855766990",
   "metadata": {},
   "source": [
    "## Add features\n",
    "First, add some features to the input matrix X: 1/R_A, 1/R_B Then add polynomial features (varying the polynomial features degrees from 1 to 3). \n",
    "\n",
    "Like we did in class in the features lecture, vary the polynomial powers from 1-3 and study the effect on the train and validation accuracy. Which one is the most predictive for your train/validation split?"
   ]
  },
  {
   "cell_type": "code",
   "execution_count": 138,
   "id": "389e48d4-e7a0-4665-89d5-bdcfecba409b",
   "metadata": {},
   "outputs": [
    {
     "name": "stdout",
     "output_type": "stream",
     "text": [
      "Degree 1\n",
      "Train Score: 0.8562232\n",
      "Val Score: 0.8269231\n",
      "Test Score: 0.8793103\n",
      "Degree 2\n",
      "Train Score: 0.9291845\n",
      "Val Score: 0.9230769\n",
      "Test Score: 0.9482759\n",
      "Degree 3\n",
      "Train Score: 0.9506438\n",
      "Val Score: 0.9038462\n",
      "Test Score: 0.9310345\n"
     ]
    },
    {
     "name": "stderr",
     "output_type": "stream",
     "text": [
      "/opt/conda/lib/python3.9/site-packages/sklearn/linear_model/_logistic.py:444: ConvergenceWarning: lbfgs failed to converge (status=1):\n",
      "STOP: TOTAL NO. of ITERATIONS REACHED LIMIT.\n",
      "\n",
      "Increase the number of iterations (max_iter) or scale the data as shown in:\n",
      "    https://scikit-learn.org/stable/modules/preprocessing.html\n",
      "Please also refer to the documentation for alternative solver options:\n",
      "    https://scikit-learn.org/stable/modules/linear_model.html#logistic-regression\n",
      "  n_iter_i = _check_optimize_result(\n",
      "/opt/conda/lib/python3.9/site-packages/sklearn/linear_model/_logistic.py:444: ConvergenceWarning: lbfgs failed to converge (status=1):\n",
      "STOP: TOTAL NO. of ITERATIONS REACHED LIMIT.\n",
      "\n",
      "Increase the number of iterations (max_iter) or scale the data as shown in:\n",
      "    https://scikit-learn.org/stable/modules/preprocessing.html\n",
      "Please also refer to the documentation for alternative solver options:\n",
      "    https://scikit-learn.org/stable/modules/linear_model.html#logistic-regression\n",
      "  n_iter_i = _check_optimize_result(\n"
     ]
    }
   ],
   "source": [
    "from sklearn.preprocessing import PolynomialFeatures\n",
    "\n",
    "# add reciprocal features\n",
    "def add_features(X):\n",
    "    X = X.assign(rA_inv= lambda x:  1 / x.rA)\n",
    "    X = X.assign(rB_inv= lambda x:  1 / x.rB)\n",
    "    X = X.assign(rX_inv= lambda x:  1 / x.rX)\n",
    "    return X\n",
    "\n",
    "X_train = add_features(X_train)\n",
    "X_val = add_features(X_val)\n",
    "X_test = add_features(X_test)\n",
    "\n",
    "# fit models of varying polynomial degree\n",
    "for p in [1, 2, 3]:\n",
    "    print(f\"Degree {p:.0f}\") \n",
    "    lr_pol = make_pipeline(StandardScaler(), PolynomialFeatures(degree=p), LogisticRegression(penalty=\"none\", solver='lbfgs'))\n",
    "    lr_pol.fit(X_train.values, y_train.values.ravel())\n",
    "    print_scores(lr_pol)"
   ]
  },
  {
   "cell_type": "markdown",
   "id": "9d97c82f-adad-4810-b561-7014cbd524fb",
   "metadata": {},
   "source": [
    "## Regularization\n",
    "\n",
    "Try varying the type of regularization (\"penalty\"), and the strength of the regularization (\"C\") in LogisticRegression. For the highest validation set accuracy you can find, fit the model to the entire train+validation dataset and predict on the test set to report your final model accuracy."
   ]
  },
  {
   "cell_type": "code",
   "execution_count": 139,
   "id": "f1cdfcbc-49b0-4963-ab90-f5d2e8749b67",
   "metadata": {},
   "outputs": [
    {
     "name": "stdout",
     "output_type": "stream",
     "text": [
      "L1, C = 0.00\n",
      "Train Score: 0.5493562\n",
      "Val Score: 0.4230769\n",
      "Test Score: 0.6034483\n",
      "L1, C = 0.10\n",
      "Train Score: 0.8819742\n",
      "Val Score: 0.8461538\n",
      "Test Score: 0.9482759\n",
      "L1, C = 1.00\n",
      "Train Score: 0.9077253\n",
      "Val Score: 0.8846154\n",
      "Test Score: 0.9655172\n",
      "L1, C = 1000000.00\n",
      "Train Score: 0.9163090\n",
      "Val Score: 0.8846154\n",
      "Test Score: 0.9655172\n",
      "L2, C = 0.00\n",
      "Train Score: 0.7703863\n",
      "Val Score: 0.7307692\n",
      "Test Score: 0.8448276\n",
      "L2, C = 0.10\n"
     ]
    },
    {
     "name": "stderr",
     "output_type": "stream",
     "text": [
      "/opt/conda/lib/python3.9/site-packages/sklearn/linear_model/_sag.py:350: ConvergenceWarning: The max_iter was reached which means the coef_ did not converge\n",
      "  warnings.warn(\n",
      "/opt/conda/lib/python3.9/site-packages/sklearn/linear_model/_sag.py:350: ConvergenceWarning: The max_iter was reached which means the coef_ did not converge\n",
      "  warnings.warn(\n",
      "/opt/conda/lib/python3.9/site-packages/sklearn/linear_model/_sag.py:350: ConvergenceWarning: The max_iter was reached which means the coef_ did not converge\n",
      "  warnings.warn(\n",
      "/opt/conda/lib/python3.9/site-packages/sklearn/linear_model/_sag.py:350: ConvergenceWarning: The max_iter was reached which means the coef_ did not converge\n",
      "  warnings.warn(\n",
      "/opt/conda/lib/python3.9/site-packages/sklearn/linear_model/_sag.py:350: ConvergenceWarning: The max_iter was reached which means the coef_ did not converge\n",
      "  warnings.warn(\n",
      "/opt/conda/lib/python3.9/site-packages/sklearn/linear_model/_sag.py:350: ConvergenceWarning: The max_iter was reached which means the coef_ did not converge\n",
      "  warnings.warn(\n"
     ]
    },
    {
     "name": "stdout",
     "output_type": "stream",
     "text": [
      "Train Score: 0.9012876\n",
      "Val Score: 0.8653846\n",
      "Test Score: 0.9655172\n",
      "L2, C = 1.00\n",
      "Train Score: 0.9098712\n",
      "Val Score: 0.8846154\n",
      "Test Score: 0.9655172\n",
      "L2, C = 1000000.00\n",
      "Train Score: 0.9163090\n",
      "Val Score: 0.8846154\n",
      "Test Score: 0.9655172\n"
     ]
    },
    {
     "name": "stderr",
     "output_type": "stream",
     "text": [
      "/opt/conda/lib/python3.9/site-packages/sklearn/linear_model/_sag.py:350: ConvergenceWarning: The max_iter was reached which means the coef_ did not converge\n",
      "  warnings.warn(\n"
     ]
    }
   ],
   "source": [
    "\n",
    "# L1 Regularization\n",
    "for c in [0.001, .1, 1, 10e5]:\n",
    "    print(f\"L1, C = {c:.2f}\") \n",
    "    lr_pol = make_pipeline(StandardScaler(), PolynomialFeatures(degree=2), LogisticRegression(penalty=\"l1\", C=c, solver='saga'))\n",
    "    lr_pol.fit(X_train.values, y_train.values.ravel())\n",
    "    print_scores(lr_pol)\n",
    "    \n",
    "# L2 Regularization  \n",
    "for c in [0.001, .1, 1, 10e5]:\n",
    "    print(f\"L2, C = {c:.2f}\") \n",
    "    lr_pol = make_pipeline(StandardScaler(), PolynomialFeatures(degree=2), LogisticRegression(penalty=\"l2\", C=c, solver='saga'))\n",
    "    lr_pol.fit(X_train.values, y_train.values.ravel())\n",
    "    print_scores(lr_pol)"
   ]
  },
  {
   "cell_type": "code",
   "execution_count": 140,
   "id": "abc942e2-5c24-4533-b262-ff90c050da00",
   "metadata": {},
   "outputs": [
    {
     "name": "stdout",
     "output_type": "stream",
     "text": [
      "Train Score: 0.9077253\n",
      "Val Score: 0.8846154\n",
      "Test Score: 0.9655172\n"
     ]
    },
    {
     "name": "stderr",
     "output_type": "stream",
     "text": [
      "/opt/conda/lib/python3.9/site-packages/sklearn/linear_model/_sag.py:350: ConvergenceWarning: The max_iter was reached which means the coef_ did not converge\n",
      "  warnings.warn(\n"
     ]
    }
   ],
   "source": [
    "Xf = pd.concat([X_train, X_val], axis=0)\n",
    "yf = pd.concat([y_train, y_val], axis=0)\n",
    "Xf\n",
    "lr_pol = make_pipeline(StandardScaler(), PolynomialFeatures(degree=2), LogisticRegression(penalty=\"l2\", C=1, solver='saga'))\n",
    "lr_pol.fit(Xf.values, yf.values.ravel())\n",
    "print_scores(lr_pol)"
   ]
  },
  {
   "cell_type": "markdown",
   "id": "c35a168b-0f2a-484e-ac7e-3d7cf240d388",
   "metadata": {},
   "source": [
    "## Bonus \n",
    "\n",
    "This problem is based on a paper that used a special method (SISSO) to generate and screen billions of possible algebraic formulae to see which ones correlated the best with perovskite structure. If you're interested the code for that is here: https://github.com/rouyang2017/SISSO\n",
    "\n",
    "Read the paper to find the tolerance factor $\\tau$, and use it as a single logistic regression feature. How accurate is your model compared to $\\tau$ on your test set? How do your results compare to what the paper claims for accuracy?\n",
    "\n",
    "The accuracy achieved on test set are close to the one reported in the paper (89% to 91%). This is much better accuracy than the one achieved by just using $t$."
   ]
  },
  {
   "cell_type": "code",
   "execution_count": 141,
   "id": "30f4f74d-02c4-46f7-a916-6a8024f94ff6",
   "metadata": {},
   "outputs": [
    {
     "name": "stdout",
     "output_type": "stream",
     "text": [
      "Train Score: 0.8669528\n",
      "Val Score: 0.9423077\n",
      "Test Score: 0.8965517\n"
     ]
    },
    {
     "name": "stderr",
     "output_type": "stream",
     "text": [
      "/opt/conda/lib/python3.9/site-packages/sklearn/linear_model/_sag.py:350: ConvergenceWarning: The max_iter was reached which means the coef_ did not converge\n",
      "  warnings.warn(\n"
     ]
    }
   ],
   "source": [
    "X_tau_train = data_train['tau']\n",
    "X_tau_val = data_val['tau']\n",
    "X_tau_test = data_test['tau']\n",
    "lr_tau = make_pipeline(StandardScaler(), LogisticRegression(penalty=\"l2\", C=1, solver='saga'))\n",
    "lr_tau.fit(X_tau_train.values.reshape(-1,1), y_train.values.ravel())\n",
    "acc_train = lr_tau.score(X_tau_train.values.reshape(-1,1), y_train.values.ravel())\n",
    "acc_val = lr_tau.score(X_tau_val.values.reshape(-1,1), y_val.values.ravel())\n",
    "acc_test = lr_tau.score(X_tau_test.values.reshape(-1,1), y_test.values.ravel())\n",
    "print(f'Train Score: {acc_train:.7f}')\n",
    "print(f'Val Score: {acc_val:.7f}')\n",
    "print(f'Test Score: {acc_test:.7f}')"
   ]
  }
 ],
 "metadata": {
  "kernelspec": {
   "display_name": "Python 3 (ipykernel)",
   "language": "python",
   "name": "python3"
  },
  "language_info": {
   "codemirror_mode": {
    "name": "ipython",
    "version": 3
   },
   "file_extension": ".py",
   "mimetype": "text/x-python",
   "name": "python",
   "nbconvert_exporter": "python",
   "pygments_lexer": "ipython3",
   "version": "3.9.13"
  }
 },
 "nbformat": 4,
 "nbformat_minor": 5
}
