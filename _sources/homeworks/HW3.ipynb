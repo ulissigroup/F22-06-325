{
 "cells": [
  {
   "cell_type": "markdown",
   "id": "6a8ead2d-3702-42c8-93bc-3e33d5721c70",
   "metadata": {},
   "source": [
    "$$\\require{mhchem}$$"
   ]
  },
  {
   "cell_type": "markdown",
   "id": "087c11c3-06ca-4922-9b6f-8cb0109992f5",
   "metadata": {},
   "source": [
    "# HW3"
   ]
  },
  {
   "cell_type": "markdown",
   "id": "2177054e-3c1b-4712-8e6d-3c6084af3f82",
   "metadata": {},
   "source": [
    "## Challenger Rocket O-ring Failures [40 pt]\n",
    "\n",
    "![Challenger](https://upload.wikimedia.org/wikipedia/commons/thumb/9/9f/Challenger_explosion.jpg/296px-Challenger_explosion.jpg)\n",
    "\n",
    "\n",
    "The space shuttle Challenger flew 9 missions from 1983-1986. On its final launch, Challenger exploded a bit more than 1 minute after launch. \n",
    "\n",
    "The Rogers commission was tasked with identifying the factors that led to the disaster, and notably Nobel-prize-winning physicist Richard Feynman was on the commission. The cause of the failure was eventually determined to be a failed O-ring that led to an explosion in the fuel tank, and the temperature on the day of the launch one of the primary considerations.\n",
    "\n",
    "This was a particularly dark day for NASA and engineers as the Challenger incident exposed major issues around reliability and engineering statistics. The disaster was not just a technical failure in the O-ring, but the way failure analysis was conducted at NASA.\n",
    "\n",
    "`````{seealso}\n",
    "* Feynman's special report is in the appendix to the Rogers commission report (Appendix F) https://www.govinfo.gov/content/pkg/GPO-CRPT-99hrpt1016/pdf/GPO-CRPT-99hrpt1016.pdf\n",
    "* Mr Feynman Goes to Washington, available here: https://calteches.library.caltech.edu/3570/1/Feynman.pdf\n",
    "````"
   ]
  },
  {
   "cell_type": "markdown",
   "id": "dfe020c8-baf6-4980-a0c4-2c2d98b4912b",
   "metadata": {
    "tags": []
   },
   "source": [
    "### Download the o-ring dataset from UC Irvine's website\n",
    "\n",
    "Find the data file on the website (you want the O-ring erosion only one), download the data file using wget, and load it into pandas. \n",
    "https://archive.ics.uci.edu/ml/datasets/Challenger+USA+Space+Shuttle+O-Ring"
   ]
  },
  {
   "cell_type": "code",
   "execution_count": null,
   "id": "b1e3b466-f131-4f66-9919-8b9f25283d92",
   "metadata": {},
   "outputs": [],
   "source": []
  },
  {
   "cell_type": "markdown",
   "id": "93693d96-f147-44d0-aa12-015e7a61e0ec",
   "metadata": {},
   "source": [
    "### Binary variable and plot \n",
    "\n",
    "Make a binary variable that represents whether the number of O-ring failures is greater than or equal to 1 (e.g. 0 if no failure, 1 if failure). Plot the binary variable as a function of the temperature."
   ]
  },
  {
   "cell_type": "code",
   "execution_count": null,
   "id": "9e3c6641-7d16-4d66-8931-6bd6cf435399",
   "metadata": {},
   "outputs": [],
   "source": []
  },
  {
   "cell_type": "markdown",
   "id": "dd5cacae-75b1-48bb-80d6-eb2ec11323b2",
   "metadata": {},
   "source": [
    "### Train/test split\n",
    "\n",
    "Make a simple train 80/20 train/test split using the available data. Don't use shuffle, so that this is effectively a time series split (e.g. first 80% of the launches is train, then last 20% is test)."
   ]
  },
  {
   "cell_type": "code",
   "execution_count": null,
   "id": "a430eecf-194c-4b45-8f00-05390744ff6b",
   "metadata": {},
   "outputs": [],
   "source": []
  },
  {
   "cell_type": "markdown",
   "id": "0a094db8-151d-45d0-ad63-e85ca19565a2",
   "metadata": {},
   "source": [
    "### Logistic regression\n",
    "\n",
    "Fit a simple LogistRegression model to the data and evaluate the accuracy on the test set. Is it statistically significant with such a small dataset?\n",
    "\n",
    "Plot whether a failure is predicted at all temperatures from 20F to 80F."
   ]
  },
  {
   "cell_type": "code",
   "execution_count": null,
   "id": "ef1563fd-f740-423c-b277-a6068cf9ab32",
   "metadata": {},
   "outputs": [],
   "source": []
  },
  {
   "cell_type": "markdown",
   "id": "7a0f8505-2ff9-4b1e-845e-1c35ffd15916",
   "metadata": {},
   "source": [
    "### Probability of failure\n",
    "\n",
    "One of the helpful things about logistic regression is that you can make predictions for the probability of outcomes. Use the `predict_proba` method on your classifier to predict the probability of a failure at 32F. \n",
    "\n",
    "`````{seealso}\n",
    "https://scikit-learn.org/stable/modules/generated/sklearn.linear_model.LogisticRegression.html\n",
    "`````"
   ]
  },
  {
   "cell_type": "code",
   "execution_count": null,
   "id": "e7ecf3cd-4667-41c5-a139-6fc536750c45",
   "metadata": {},
   "outputs": [],
   "source": []
  },
  {
   "cell_type": "markdown",
   "id": "68fb6b8f-5751-48ea-8cd7-bab6d2b6e1ab",
   "metadata": {},
   "source": [
    "### Problem analysis \n",
    "\n",
    "Skim the \"Mr. Feynman Goes to Washington\" article or the wikipedia article and answer the following questions with a few sentences each\n",
    "* What was the primary chemical engineering / material cause for O-ring failures at low temperatures?\n",
    "* What factors led to such large disparities in risk assessment for the launch (they ranged from near certainty, to 1-in-100, to 1-in-100,000 odds of a catastrophic failure). \n"
   ]
  },
  {
   "cell_type": "markdown",
   "id": "c0185ee5-cc9e-452b-b0c6-da10e295af39",
   "metadata": {},
   "source": []
  },
  {
   "cell_type": "markdown",
   "id": "fdd76e0e-5c21-47a1-a899-1852b3d706a2",
   "metadata": {
    "tags": []
   },
   "source": [
    "## Perovskite classification and discovery [60 pt]\n",
    "\n",
    "\n",
    "![NREL PV chart](https://www.nrel.gov/pv/assets/images/best-research-cell-efficiencies-thumbnail-rev220630.jpg)\n",
    "https://www.nrel.gov/pv/cell-efficiency.html/\n",
    "\n",
    "Perovskites are a special type of inorganic crystal that are now one of the most efficient and popular research materials for photovoltaics, as shown in the chart above!\n",
    "\n",
    "Perovskite refers to a specific material ($\\ce{CaTiO3}$). There are many substitutions that you can make for Ca and Ti of the form $\\ce{ABX3}$ that may be stable in the same crystal structure; some will be stable in the perovskite structure, and some will not be. \n",
    "* A is a replacement for Ca, usually a transition metal\n",
    "* B is a replacement for Ti, usually a transition metal\n",
    "* X is a replacement for Cl, often O, S, Se, F, Cl, Br, I\n",
    "\n",
    "One factor (but not the only one) is that the radii of the two elements need to be similar to the original Ca/Ti ratio. For example, one proposed factor (commonly referred to as the Goldschmidt tolerance factor $t$) is:\n",
    "\\begin{align*}\n",
    "t=\\frac{R_A+R_O}{\\sqrt{2}(R_B+R_O)}\n",
    "\\end{align*}\n",
    "where $R_A$ is the radius of element A, $R_B$ is the radius of element $B$, and $R_O$ is the radius of oxygen (not the units don't matter as long as your are consistent with all three!). If $t$ is between 0.75 and 1.0, the combination is often stable in the perovskite structure.\n",
    "\n",
    "One way to identify whether a particular combination of elements A and B is stable is to do a quantum chemistry simulation like the guest speakers last week discussed. This often works but is not perfectly accurate\n",
    "`````{seealso}\n",
    "* https://en.wikipedia.org/wiki/Perovskite\n",
    "* https://en.wikipedia.org/wiki/Perovskite_(structure)\n",
    "`````\n",
    "\n",
    "I want your help to identify some polynomial features that correlate with whether a particular combination will form a perovskite!"
   ]
  },
  {
   "cell_type": "markdown",
   "id": "603f7fdb-540a-48b9-8770-e09d4f370450",
   "metadata": {},
   "source": [
    "## Download the dataset and load with pandas\n",
    "\n",
    "You can find an experimental dataset for whether the perovskite structure is stable for 576 A/B/X compounds here: \n",
    "https://github.com/CJBartel/perovskite-stability\n",
    "\n",
    "Download the file Table1.csv using `wget` and use pandas to load as a dataframe. \n",
    "\n",
    "`````{note}\n",
    "The url for the \"raw\" file in github is one that you can use with wget.\n",
    "`````"
   ]
  },
  {
   "cell_type": "code",
   "execution_count": null,
   "id": "087a73e2-df92-48d1-b668-3054be0ffa39",
   "metadata": {},
   "outputs": [],
   "source": []
  },
  {
   "cell_type": "code",
   "execution_count": null,
   "id": "7b940312-d4fe-4db6-bd12-66185fbf3f9e",
   "metadata": {},
   "outputs": [],
   "source": []
  },
  {
   "cell_type": "markdown",
   "id": "702060ce-fb72-470b-9bfd-d39896993a79",
   "metadata": {},
   "source": [
    "## Train/val/test split\n",
    "\n",
    "Split the data into a random 90/10 train/validation (90) and test (10) split using sklearn. The label we want to predict (y) is \"exp_label\". Allowed features for X are the columns [A,B,X,nA,nB,nX,rA (Ang),rB (Ang),rX (Ang)]"
   ]
  },
  {
   "cell_type": "code",
   "execution_count": null,
   "id": "a664a323-ab05-416b-bd2d-d713c4ed19c5",
   "metadata": {},
   "outputs": [],
   "source": []
  },
  {
   "cell_type": "markdown",
   "id": "24ae52b8-bac8-4f7c-9308-373098d21a80",
   "metadata": {},
   "source": [
    "## Visualize the Goldschmidt ratio\n",
    "\n",
    "Use plotly to plot all of the data in terms of $R_A$ and $R_B$. Do a quick bit of algebra to solve for $R_B$ in terms of $R_A$ and $t$ and add two lines corresponding to  t=0.75 and t=1.0. Calculate the accuracy of the Goldschmidt ratio on the test dataset."
   ]
  },
  {
   "cell_type": "code",
   "execution_count": null,
   "id": "ffcf0d97-b161-4ed8-8360-6a06d713b20d",
   "metadata": {},
   "outputs": [],
   "source": []
  },
  {
   "cell_type": "markdown",
   "id": "9cee870a-ead3-4079-99e7-495b1ff44312",
   "metadata": {},
   "source": [
    "## Logistic regression\n",
    "\n",
    "Using the columns above, fit a logistic regression model using the available features. Report the accuracy and compare it to the Goldschmidt ratio. "
   ]
  },
  {
   "cell_type": "code",
   "execution_count": null,
   "id": "a22be246-9a1b-45fe-9b31-0123e1a83970",
   "metadata": {},
   "outputs": [],
   "source": []
  },
  {
   "cell_type": "markdown",
   "id": "952fa11e-b6ad-4204-9d4e-8f0855766990",
   "metadata": {},
   "source": [
    "## Add features\n",
    "First, add some features to the input matrix X: 1/R_A, 1/R_B Then add polynomial features (varying the polynomial features degrees from 1 to 3). \n",
    "\n",
    "Like we did in class in the features lecture, vary the polynomial powers from 1-3 and see the effect on the train and validation accuracy. \n",
    "\n",
    "\n"
   ]
  },
  {
   "cell_type": "code",
   "execution_count": null,
   "id": "389e48d4-e7a0-4665-89d5-bdcfecba409b",
   "metadata": {},
   "outputs": [],
   "source": []
  },
  {
   "cell_type": "markdown",
   "id": "9d97c82f-adad-4810-b561-7014cbd524fb",
   "metadata": {},
   "source": [
    "## Regurization\n",
    "\n",
    "Try varying the type of regularization (\"penalty\"), and the strength of the regularization (\"C\") in LogisticRegression. For the highest validation set accuracy you can find, fit the model to the entire train+validation dataset and predict on the test set to report your final model accuracy."
   ]
  },
  {
   "cell_type": "code",
   "execution_count": null,
   "id": "f1cdfcbc-49b0-4963-ab90-f5d2e8749b67",
   "metadata": {},
   "outputs": [],
   "source": []
  },
  {
   "cell_type": "markdown",
   "id": "c35a168b-0f2a-484e-ac7e-3d7cf240d388",
   "metadata": {},
   "source": [
    "## Bonus \n",
    "\n",
    "This problem is based on a paper that used a special method (SISSO) to generate and screen billions of possible algebraic features to see which ones correlated the best.\n",
    "\n",
    "Read the paper to find the tolerance factor $\\tau$, and use it as a single logistic regression feature. How accurate is your model compared to $\\tau$ on your test set?"
   ]
  },
  {
   "cell_type": "code",
   "execution_count": null,
   "id": "30f4f74d-02c4-46f7-a916-6a8024f94ff6",
   "metadata": {},
   "outputs": [],
   "source": []
  }
 ],
 "metadata": {
  "kernelspec": {
   "display_name": "Python 3 (ipykernel)",
   "language": "python",
   "name": "python3"
  },
  "language_info": {
   "codemirror_mode": {
    "name": "ipython",
    "version": 3
   },
   "file_extension": ".py",
   "mimetype": "text/x-python",
   "name": "python",
   "nbconvert_exporter": "python",
   "pygments_lexer": "ipython3",
   "version": "3.10.6"
  }
 },
 "nbformat": 4,
 "nbformat_minor": 5
}
